{
 "cells": [
  {
   "cell_type": "markdown",
   "metadata": {},
   "source": [
    "# gBizINFOの法人データを用いたスタートアップ企業の分析\n",
    "\n",
    "[gBizINFO REST API 仕様書](https://info.gbiz.go.jp/hojin/swagger-ui/index.html#/gBizINFO%20REST%20API/searchInfo)に記載されている内容を参考にして、gBizInfoのAPIを用いてデータを取得します。\n",
    "\n",
    "今回は、2019年から2023年に設立された企業情報を取得します。"
   ]
  },
  {
   "cell_type": "code",
   "execution_count": null,
   "metadata": {},
   "outputs": [],
   "source": [
    "# 環境変数とパス設定に用いるライブラリ\n",
    "import os\n",
    "from dotenv import load_dotenv\n",
    "from pathlib import Path\n",
    "\n",
    "# データ取得に用いるライブラリ\n",
    "from urllib.parse import urljoin\n",
    "import requests\n",
    "from tqdm.auto import tqdm\n",
    "import xml.etree.ElementTree as ET \n",
    "\n",
    "# データ操作に用いるライブラリ\n",
    "import time\n",
    "import pandas as pd"
   ]
  },
  {
   "cell_type": "code",
   "execution_count": null,
   "metadata": {},
   "outputs": [],
   "source": [
    "load_dotenv()\n",
    "api_token = os.getenv(\"gBizINFO_API_ACCESS_TOKEN\")\n",
    "\n",
    "current_dir = Path.cwd()\n",
    "data_path = (current_dir / \"data\" / \"ch12\").resolve()"
   ]
  },
  {
   "cell_type": "markdown",
   "metadata": {},
   "source": [
    "## gBizINFO API を用いた企業情報の検索"
   ]
  },
  {
   "cell_type": "code",
   "execution_count": null,
   "metadata": {},
   "outputs": [],
   "source": [
    "# 取得したアクセストークンを指定\n",
    "headers_gbiz = {\n",
    "    \"Accept\": \"application/json\",\n",
    "    \"X-hojinInfo-api-token\": api_token\n",
    "}\n",
    "url_hojin = \"https://info.gbiz.go.jp/hojin/v1/hojin\"\n",
    "founded_year = \",\".join(str(n) for n in range(2019, 2024))\n",
    "params_gbiz = {\n",
    "    \"founded_year\": founded_year,\n",
    "    \"limit\": \"5000\"\n",
    "}\n",
    "res_hojin = requests.get(url_hojin, params=params_gbiz, headers=headers_gbiz)\n",
    "out = res_hojin.json()\n",
    "gbiz_registered_firm = pd.json_normalize(out, record_path=[\"hojin-infos\"])"
   ]
  },
  {
   "cell_type": "code",
   "execution_count": null,
   "metadata": {},
   "outputs": [],
   "source": [
    "gbiz_registered_firm.head()"
   ]
  },
  {
   "cell_type": "markdown",
   "metadata": {},
   "source": [
    "## 法人番号からスタートアップ企業の数を都道府県ごとに取得する\n",
    "\n",
    "続いて、先程取得した法人番号を用いて、企業のその他の情報を取得します。"
   ]
  },
  {
   "cell_type": "code",
   "execution_count": null,
   "metadata": {},
   "outputs": [],
   "source": [
    "# 各法人のDataFrameを一時的に格納するためのリスト\n",
    "hojin_info_df = []\n",
    "for corp_num in tqdm(gbiz_registered_firm.corporate_number, desc=\"法人情報取得中\"):\n",
    "    temp_url = f\"https://info.gbiz.go.jp/hojin/v1/hojin/{corp_num}\"\n",
    "    try:\n",
    "        response = requests.get(temp_url, params=params_gbiz, headers=headers_gbiz)\n",
    "        response.raise_for_status()  # HTTPエラーのチェック\n",
    "        temp_df = pd.json_normalize(response.json()[\"hojin-infos\"])\n",
    "        # データフレームをリストに追加\n",
    "        hojin_info_df.append(temp_df)\n",
    "        \n",
    "    except requests.exceptions.RequestException as e:\n",
    "        print(f\"法人番号 {corp_num} の取得に失敗: {e}\")\n",
    "    except KeyError:\n",
    "        # \"hojin-infos\" というキーがJSON内に存在しない場合のエラー\n",
    "        print(f\"法人番号 {corp_num} のレスポンス形式が正しくありません。\")\n",
    "\n",
    "# ループ完了後、リストに格納された全てのDataFrameを一度に結合する\n",
    "if hojin_info_df:\n",
    "    gbiz_houjin_firm = pd.concat(hojin_info_df, ignore_index=True)\n",
    "else:\n",
    "    gbiz_houjin_firm = pd.DataFrame() # 1件も成功しなかった場合"
   ]
  },
  {
   "cell_type": "markdown",
   "metadata": {},
   "source": [
    "データの中身を確認します。代表取締役の名前や、住所情報などが取得出来ていることが確認出来ます。"
   ]
  },
  {
   "cell_type": "code",
   "execution_count": null,
   "metadata": {},
   "outputs": [],
   "source": [
    "gbiz_houjin_firm.head()"
   ]
  },
  {
   "cell_type": "markdown",
   "metadata": {},
   "source": [
    "データ同士を接合します。"
   ]
  },
  {
   "cell_type": "code",
   "execution_count": null,
   "metadata": {},
   "outputs": [],
   "source": [
    "gbiz_merged_df = gbiz_registered_firm.merge(\n",
    "    gbiz_houjin_firm, on='corporate_number' , suffixes=('', '_detail')\n",
    ")"
   ]
  },
  {
   "cell_type": "code",
   "execution_count": null,
   "metadata": {
    "scrolled": true
   },
   "outputs": [],
   "source": [
    "gbiz_merged_df.head()"
   ]
  },
  {
   "cell_type": "markdown",
   "metadata": {},
   "source": [
    "API ではなく、サポートサイトで配布するCSVデータを読み込む場合（1の方法）"
   ]
  },
  {
   "cell_type": "code",
   "execution_count": null,
   "metadata": {},
   "outputs": [],
   "source": [
    "gbiz_merged_df = pd.read_csv(\n",
    "    data_path / \"gbiz_merged_df.csv\",\n",
    "    index_col=0,\n",
    "    low_memory=False\n",
    ")"
   ]
  },
  {
   "cell_type": "markdown",
   "metadata": {},
   "source": [
    "APIではなく、ｇBizINFOサイトからダウンロードするZIPからファイルを読み込む場合（2の方法）"
   ]
  },
  {
   "cell_type": "code",
   "execution_count": null,
   "metadata": {},
   "outputs": [],
   "source": [
    "csv_df = pd.read_csv(\n",
    "    data_path / \"Kihonjoho_SJIS_yyyymmdd.zip\",  # (current_dir / \"data\" / \"ch11\").resolve() / \"Kihonjoho_SJIS_20250801.zip\",\n",
    "    encoding=\"shift_jis\",\n",
    "    low_memory=False,\n",
    "    usecols=[\"法人番号\", \"法人名\", \"郵便番号\", \"本社所在地\",\"ステータス\", \"設立年月日\", \"創業年\", \"最終更新日\"],\n",
    "    parse_dates=[\"設立年月日\", \"最終更新日\"],\n",
    ")\n",
    "trans_map = {\n",
    "    \"法人番号\": \"corporate_number\", \"法人名\": \"name\",\n",
    "     \"本社所在地\": \"location\", \"郵便番号\": \"postal_code\",\n",
    "     \"ステータス\": \"status\", \"最終更新日\": \"update_date\"\n",
    "}\n",
    "required_cols = list(trans_map.keys()) + [\"founded_year\"]\n",
    "founded_year_combined = csv_df[\"設立年月日\"].dt.year.fillna(csv_df[\"創業年\"]).astype(\"Int64\")\n",
    "founded_from_2019 = (csv_df[\"設立年月日\"].dt.year >= 2019) | (csv_df[\"創業年\"] >= 2019)\n",
    "founded_until_2023 = (csv_df[\"設立年月日\"].dt.year < 2024) | (csv_df[\"創業年\"] < 2024)\n",
    "gbiz_merged_df = (csv_df\n",
    "    .assign(**{\"founded_year\": founded_year_combined})\n",
    "    .loc[csv_df[\"法人名\"].notna() &\n",
    "        founded_from_2019 & founded_until_2023 &\n",
    "        (founded_year_combined.isna() | (founded_year_combined >= 2019)),\n",
    "        required_cols]\n",
    "    .rename(columns=trans_map)\n",
    ")"
   ]
  },
  {
   "cell_type": "code",
   "execution_count": null,
   "metadata": {},
   "outputs": [],
   "source": [
    "#gbiz_merged_df.to_csv(data_path / \"gbiz_merged_df.csv\", index=False)\n",
    "#gbiz_merged_df = pd.read_csv(data_path / \"gbiz_merged_df.csv\")"
   ]
  },
  {
   "cell_type": "markdown",
   "metadata": {},
   "source": [
    "## 取得したスタートアップ企業のデータを確認する\n",
    "\n",
    "さて、ここで都道府県ごとにどの程度スタートアップが存在するのかをテストしたいと思います。\n",
    "ここでは、正規表現を用いて先ほどの住所情報から都道府県名を取り出すことにします。"
   ]
  },
  {
   "cell_type": "code",
   "execution_count": null,
   "metadata": {},
   "outputs": [],
   "source": [
    "firms_with_prefecture = gbiz_merged_df.assign(**{\n",
    "    \"都道府県\": lambda df: df[\"location\"]\n",
    "        .str.extract(r'^(東京都|北海道|(?:京都|大阪)府|.{2,3}県)', expand=False)\n",
    "        .fillna(\"\")\n",
    "})"
   ]
  },
  {
   "cell_type": "code",
   "execution_count": null,
   "metadata": {},
   "outputs": [],
   "source": [
    "firms_with_prefecture[\"都道府県\"].unique()"
   ]
  },
  {
   "cell_type": "markdown",
   "metadata": {},
   "source": [
    "得られた都道府県の情報を用いて、過去4年に開業した企業の都道府県ごとの数について確認しましょう。"
   ]
  },
  {
   "cell_type": "code",
   "execution_count": null,
   "metadata": {},
   "outputs": [],
   "source": [
    "firms_with_prefecture.groupby('都道府県').size().sort_values(ascending=False)"
   ]
  },
  {
   "cell_type": "markdown",
   "metadata": {},
   "source": [
    "やはり、東京都にスタートアップが多く存在することがわかります。\n",
    "\n",
    "なお、これらのスタートアップがデータ取得の段階でも存在しているかどうかの確認をしたいと思います。ここでは、statusを用います。"
   ]
  },
  {
   "cell_type": "code",
   "execution_count": null,
   "metadata": {},
   "outputs": [],
   "source": [
    "firms_with_prefecture.groupby('status').size().sort_values(ascending=False)"
   ]
  },
  {
   "cell_type": "markdown",
   "metadata": {},
   "source": [
    "## スタートアップ企業の立地を地図上にプロットする\n",
    "\n",
    "- [シンプル ジオコーディング 実験](https://geocode.csis.u-tokyo.ac.jp/home/simple-geocoding/)\n",
    "- [シンプル ジオコーディング 実験 参加規約](https://geocode.csis.u-tokyo.ac.jp/home/simple-geocoding/simple-geocoding-tems-of-use/)\n",
    "\n",
    "\n",
    "緯度・経度の付与作業には、使用するインターネット環境や端末によっては、80分から100分程度の時間を要します。そのため、緯度・経度情報を付与したCSVデータをサポートサイト上で配布します（CSVデータの読み込みの方法は後述します）。\n",
    "\n",
    "CSVを用いる場合、以下のセルはスキップしてください。"
   ]
  },
  {
   "cell_type": "code",
   "execution_count": null,
   "metadata": {},
   "outputs": [],
   "source": [
    "# tqdmをpandasで使えるように初期化する\n",
    "tqdm.pandas(desc=\"ジオコーディング中...\")\n",
    "\n",
    "def geocode_address(address):\n",
    "    base_url = 'https://geocode.csis.u-tokyo.ac.jp/cgi-bin/simple_geocode.cgi?addr='\n",
    "    try:\n",
    "        # タイムアウトを設定し、無限に待機するのを防ぐ\n",
    "        response = requests.get(base_url + address, timeout=10)\n",
    "        response.raise_for_status()  \n",
    "        # レスポンスはXML形式のため、XMLとしてパースする\n",
    "        root = ET.fromstring(response.content)\n",
    "        # <candidate> タグが存在するかチェックする\n",
    "        candidate = root.find('candidate')\n",
    "        if candidate is not None:\n",
    "            # <longitude> と <latitude> タグから経度と緯度を取得する\n",
    "            lon = candidate.find('longitude').text\n",
    "            lat = candidate.find('latitude').text\n",
    "            # APIサーバーへの負荷を考慮し、1秒間待機させる\n",
    "            time.sleep(1)\n",
    "            # 経度と緯度をfloat型に変換して返す\n",
    "            return pd.Series([float(lon), float(lat)], index=['longitude', 'latitude'])\n",
    "        else:\n",
    "            return pd.Series([None, None], index=['longitude', 'latitude'])\n",
    "\n",
    "    except (requests.exceptions.RequestException, IndexError, KeyError) as e:\n",
    "        print(f\"住所 '{address}' の処理中にエラーが発生しました: {e}\")\n",
    "        return pd.Series([None, None])\n",
    "    \n",
    "# 元のDataFrameをコピーして、新しいDataFrame firms_with_prefecture_with_geocode を作成する\n",
    "firms_with_prefecture_with_geocode = firms_with_prefecture.copy()\n",
    "\n",
    "# 'location_x'列の各住所に対してジオコーディング関数を適用し、結果をfirms_with_prefecture_with_geocodeに新しい列として追加する\n",
    "# .progress_applyを使用すると進捗状況が表示される\n",
    "firms_with_prefecture_with_geocode[['longitude', 'latitude']] = (\n",
    "    firms_with_prefecture_with_geocode['location']\n",
    "    .progress_apply(geocode_address)\n",
    ")"
   ]
  },
  {
   "cell_type": "code",
   "execution_count": null,
   "metadata": {},
   "outputs": [],
   "source": [
    "# 結果を表示\n",
    "firms_with_prefecture_with_geocode.head()"
   ]
  },
  {
   "cell_type": "markdown",
   "metadata": {},
   "source": [
    "配布データを使用する場合はこちらを実行する"
   ]
  },
  {
   "cell_type": "code",
   "execution_count": null,
   "metadata": {},
   "outputs": [],
   "source": [
    "firms_with_prefecture_with_geocode.to_csv(data_path / \"gbizinfo_list.csv\", index=False)"
   ]
  },
  {
   "cell_type": "code",
   "execution_count": null,
   "metadata": {},
   "outputs": [],
   "source": [
    "firms_with_prefecture_with_geocode = pd.read_csv(\n",
    "    data_path / \"gbizinfo_list.csv\", index_col=0, low_memory=False\n",
    ")"
   ]
  },
  {
   "cell_type": "code",
   "execution_count": null,
   "metadata": {},
   "outputs": [],
   "source": [
    "firms_with_prefecture_with_geocode[['longitude', 'latitude']].head()"
   ]
  },
  {
   "cell_type": "code",
   "execution_count": null,
   "metadata": {},
   "outputs": [],
   "source": [
    "import folium\n",
    "# ヒートマップのプラグインをインポート\n",
    "from folium.plugins import HeatMap\n",
    "\n",
    "#NaNの場合値を除去し、latlng_dropna　に保存する\n",
    "latlng_dropna=firms_with_prefecture_with_geocode[['latitude', 'longitude']].dropna().values.tolist()\n",
    "\n",
    "# 東京駅の緯度と経度を直接指定\n",
    "# [緯度, 経度] の順でリストを作成する\n",
    "tokyo_station_coords = (35.681236, 139.767125)\n",
    "\n",
    "# 緯度・経度を指定して地図の中心を設定する\n",
    "tokyo_map = folium.Map(location=tokyo_station_coords, zoom_start=11)\n",
    "\n",
    "# 緯度・経度と場所情報をヒートマップとしてプロット\n",
    "HeatMap(latlng_dropna, radius=11, blur=10).add_to(tokyo_map)"
   ]
  },
  {
   "cell_type": "code",
   "execution_count": null,
   "metadata": {},
   "outputs": [],
   "source": [
    "tokyo_map"
   ]
  },
  {
   "cell_type": "code",
   "execution_count": null,
   "metadata": {},
   "outputs": [],
   "source": []
  }
 ],
 "metadata": {
  "kernelspec": {
   "display_name": "Python 3 (ipykernel)",
   "language": "python",
   "name": "python3"
  },
  "language_info": {
   "codemirror_mode": {
    "name": "ipython",
    "version": 3
   },
   "file_extension": ".py",
   "mimetype": "text/x-python",
   "name": "python",
   "nbconvert_exporter": "python",
   "pygments_lexer": "ipython3",
   "version": "3.12.10"
  }
 },
 "nbformat": 4,
 "nbformat_minor": 4
}
