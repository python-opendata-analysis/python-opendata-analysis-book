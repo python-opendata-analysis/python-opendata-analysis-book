{
 "cells": [
  {
   "cell_type": "markdown",
   "id": "807d9bd5",
   "metadata": {},
   "source": [
    "# オープンデータとデータ取得\n",
    "\n",
    "## オープンデータ\n",
    "\n",
    "### オープンデータとは\n",
    "\n",
    "### オープンデータの公開レベル\n",
    "\n",
    "#### RDFとLOD\n",
    "\n",
    "## データ取得\n",
    "\n",
    "### CSV等ファイルダウンロード\n"
   ]
  },
  {
   "cell_type": "code",
   "execution_count": null,
   "id": "71c3da79",
   "metadata": {},
   "outputs": [],
   "source": [
    "from pathlib import Path\n",
    "import pandas as pd\n",
    "current_dir = Path.cwd()\n",
    "data_path = (current_dir / \"data\" / \"ch09\").resolve()\n",
    "csv_data = pd.read_csv(data_path / \"EdinetcodeDlInfo.csv\", encoding=\"cp932\", skiprows=1)"
   ]
  },
  {
   "cell_type": "markdown",
   "id": "08fef3b3",
   "metadata": {},
   "source": [
    "### APIとPythonのRequestsライブラリ\n",
    "\n",
    "#### REST API\n",
    "\n",
    "#### Pythonライブラリのrequests"
   ]
  },
  {
   "cell_type": "code",
   "execution_count": null,
   "id": "ded65d3f",
   "metadata": {},
   "outputs": [],
   "source": [
    "import requests\n",
    "url = \"https://dashboard.e-stat.go.jp/api/1.0/Json/getData\"\n",
    "params = {\n",
    "    \"IndicatorCode\": \"0704010101000010000\", \n",
    "    \"TimeFrom\": \"20200100\",\n",
    "}\n",
    "res = requests.get(url=url, params=params)"
   ]
  },
  {
   "cell_type": "code",
   "execution_count": null,
   "id": "2f14a278",
   "metadata": {},
   "outputs": [],
   "source": [
    "res.status_code"
   ]
  },
  {
   "cell_type": "code",
   "execution_count": null,
   "id": "d851d413",
   "metadata": {},
   "outputs": [],
   "source": [
    "res.encoding"
   ]
  },
  {
   "cell_type": "code",
   "execution_count": null,
   "id": "369e4eaf",
   "metadata": {},
   "outputs": [],
   "source": [
    "res.text[:100]"
   ]
  },
  {
   "cell_type": "code",
   "execution_count": null,
   "id": "77f22deb",
   "metadata": {},
   "outputs": [],
   "source": [
    "json_data = res.json()\n",
    "json_data.keys()"
   ]
  },
  {
   "cell_type": "code",
   "execution_count": null,
   "id": "203a3a2e",
   "metadata": {},
   "outputs": [],
   "source": [
    "json_data[\"GET_STATS\"][\"STATISTICAL_DATA\"][\"DATA_INF\"][\"DATA_OBJ\"][:2]"
   ]
  },
  {
   "cell_type": "code",
   "execution_count": null,
   "id": "91afb4b0-dbc1-4934-b6bc-a234cff481dc",
   "metadata": {},
   "outputs": [],
   "source": [
    "with requests.Session() as session:\n",
    "    res = session.request(method=\"GET\", url=url, params=params)\n",
    "    print(res.json()[\"GET_STATS\"][\"STATISTICAL_DATA\"][\"DATA_INF\"][\"DATA_OBJ\"][:2])"
   ]
  },
  {
   "cell_type": "markdown",
   "id": "b4e8ce0f",
   "metadata": {},
   "source": [
    "#### APIキーの設定\n"
   ]
  },
  {
   "cell_type": "code",
   "execution_count": null,
   "id": "967d28ef",
   "metadata": {},
   "outputs": [],
   "source": [
    "api_key = \"ここにAPIキーを書く\"\n",
    "data_url = \"https://api.e-stat.go.jp/rest/3.0/app/json/getStatsData\"\n",
    "data_params = {\n",
    "    \"appId\": api_key,\n",
    "    \"statsDataId\": \"0003000795\",\n",
    "    \"limit\": 100,\n",
    "}\n",
    "data_res = requests.get(url=data_url, params=data_params)\n",
    "data_res.json()[\"GET_STATS_DATA\"][\"STATISTICAL_DATA\"][\"DATA_INF\"][\"VALUE\"]"
   ]
  },
  {
   "cell_type": "markdown",
   "id": "8dc36264",
   "metadata": {},
   "source": [
    "##### APIキーを環境変数に設定する\n"
   ]
  },
  {
   "cell_type": "code",
   "execution_count": null,
   "id": "46ca30f4",
   "metadata": {},
   "outputs": [],
   "source": [
    "import os\n",
    "api_key = os.getenv(\"ESTAT_APP_ID\")"
   ]
  },
  {
   "cell_type": "markdown",
   "id": "922a86e3",
   "metadata": {},
   "source": [
    "##### .envファイルに設定する\n"
   ]
  },
  {
   "cell_type": "code",
   "execution_count": null,
   "id": "0dbf173a",
   "metadata": {},
   "outputs": [],
   "source": [
    "!pip install python-dotenv"
   ]
  },
  {
   "cell_type": "code",
   "execution_count": null,
   "id": "1d93a5dd",
   "metadata": {},
   "outputs": [],
   "source": [
    "import os\n",
    "from dotenv import load_dotenv\n",
    "# .envファイルの内容を読み込む\n",
    "load_dotenv()\n",
    "# 環境変数からAPIキーを取得\n",
    "api_key = os.getenv(\"ESTAT_APP_ID\")"
   ]
  },
  {
   "cell_type": "markdown",
   "id": "4c812eec-c0c2-4707-95ad-12c2297bfcd9",
   "metadata": {},
   "source": [
    "##### ColabでAPIキーを設定する\n",
    "\n",
    "#### OpenAPIとSwagger\n",
    "\n",
    "#### LODとSPARQL\n"
   ]
  },
  {
   "cell_type": "code",
   "execution_count": null,
   "id": "37e222ab",
   "metadata": {},
   "outputs": [],
   "source": [
    "!pip install sparqlwrapper"
   ]
  },
  {
   "cell_type": "code",
   "execution_count": null,
   "id": "4e89e0ea",
   "metadata": {},
   "outputs": [],
   "source": [
    "from SPARQLWrapper import SPARQLWrapper, JSON\n",
    "SPARQL_ENDPOINT = \"http://data.e-stat.go.jp/lod/sparql/alldata/query\"\n",
    "sparql = SPARQLWrapper(SPARQL_ENDPOINT)"
   ]
  },
  {
   "cell_type": "code",
   "execution_count": null,
   "id": "58343f3c",
   "metadata": {},
   "outputs": [],
   "source": [
    "sparql.setReturnFormat(JSON)"
   ]
  },
  {
   "cell_type": "markdown",
   "id": "181d2aea-ffac-468c-bdef-5add5cc03e7a",
   "metadata": {},
   "source": [
    "年と人口のみを取得"
   ]
  },
  {
   "cell_type": "code",
   "execution_count": null,
   "id": "1d44cdfc",
   "metadata": {},
   "outputs": [],
   "source": [
    "sparql.setQuery(\"\"\"\n",
    "PREFIX rdfs: <http://www.w3.org/2000/01/rdf-schema#>\n",
    "PREFIX sdmx-dimension: <http://purl.org/linked-data/sdmx/2009/dimension#>\n",
    "PREFIX estat-measure: <http://data.e-stat.go.jp/lod/ontology/measure/>\n",
    "PREFIX cd-dimension: <http://data.e-stat.go.jp/lod/ontology/crossDomain/dimension/>\n",
    "PREFIX cd-code: <http://data.e-stat.go.jp/lod/ontology/crossDomain/code/>\n",
    "PREFIX g00200521-dimension-2010:<http://data.e-stat.go.jp/lod/ontology/g00200521/dimension/2010/>\n",
    "PREFIX g00200521-code-2010:<http://data.e-stat.go.jp/lod/ontology/g00200521/code/2010/>\n",
    "select  ?year ?population\n",
    "where {\n",
    "      ?s estat-measure:population ?population ;\n",
    "         sdmx-dimension:refArea / rdfs:label \"新宿区\"@ja ;\n",
    "         cd-dimension:timePeriod ?year ;\n",
    "         cd-dimension:sex cd-code:sex-all ;\n",
    "         cd-dimension:nationality cd-code:nationality-japan ;\n",
    "         g00200521-dimension-2010:area g00200521-code-2010:area-all ;\n",
    "         cd-dimension:age cd-code:age-all .\n",
    "}\n",
    "    \"\"\"\n",
    ")"
   ]
  },
  {
   "cell_type": "code",
   "execution_count": null,
   "id": "37987b72",
   "metadata": {},
   "outputs": [],
   "source": [
    "ret = sparql.queryAndConvert()\n",
    "ret"
   ]
  },
  {
   "cell_type": "markdown",
   "id": "6046d51a-f75c-4757-899b-30ffd37f268c",
   "metadata": {},
   "source": [
    "主語（?s）も含めて取得"
   ]
  },
  {
   "cell_type": "code",
   "execution_count": null,
   "id": "99a6055b-6df5-4d51-8ab0-452ae7475777",
   "metadata": {},
   "outputs": [],
   "source": [
    "sparql.setQuery(\"\"\"\n",
    "PREFIX rdfs: <http://www.w3.org/2000/01/rdf-schema#>\n",
    "PREFIX sdmx-dimension: <http://purl.org/linked-data/sdmx/2009/dimension#>\n",
    "PREFIX estat-measure: <http://data.e-stat.go.jp/lod/ontology/measure/>\n",
    "PREFIX cd-dimension: <http://data.e-stat.go.jp/lod/ontology/crossDomain/dimension/>\n",
    "PREFIX cd-code: <http://data.e-stat.go.jp/lod/ontology/crossDomain/code/>\n",
    "PREFIX g00200521-dimension-2010:<http://data.e-stat.go.jp/lod/ontology/g00200521/dimension/2010/>\n",
    "PREFIX g00200521-code-2010:<http://data.e-stat.go.jp/lod/ontology/g00200521/code/2010/>\n",
    "select  ?s ?year ?population\n",
    "where {\n",
    "      ?s estat-measure:population ?population ;\n",
    "         sdmx-dimension:refArea / rdfs:label \"新宿区\"@ja ;\n",
    "         cd-dimension:timePeriod ?year ;\n",
    "         cd-dimension:sex cd-code:sex-all ;\n",
    "         cd-dimension:nationality cd-code:nationality-japan ;\n",
    "         g00200521-dimension-2010:area g00200521-code-2010:area-all ;\n",
    "         cd-dimension:age cd-code:age-all .\n",
    "}\n",
    "    \"\"\"\n",
    ")\n",
    "ret = sparql.queryAndConvert()\n",
    "ret"
   ]
  },
  {
   "cell_type": "code",
   "execution_count": null,
   "id": "5d5c739b",
   "metadata": {},
   "outputs": [],
   "source": [
    "ret.keys()"
   ]
  },
  {
   "cell_type": "code",
   "execution_count": null,
   "id": "ab22a755-0e0b-4987-9e0a-c04d5d5a4f88",
   "metadata": {},
   "outputs": [],
   "source": [
    "ret[\"head\"]"
   ]
  },
  {
   "cell_type": "code",
   "execution_count": null,
   "id": "bfcc6728",
   "metadata": {},
   "outputs": [],
   "source": [
    "ret[\"results\"].keys()"
   ]
  },
  {
   "cell_type": "code",
   "execution_count": null,
   "id": "ffac55bf",
   "metadata": {},
   "outputs": [],
   "source": [
    "sparql_df = pd.json_normalize(ret, record_path=[\"results\", \"bindings\"])\n",
    "sparql_df"
   ]
  },
  {
   "cell_type": "code",
   "execution_count": null,
   "id": "6b7520c1-2ab5-4b9e-a0b1-4a1ae0a141c3",
   "metadata": {},
   "outputs": [],
   "source": [
    "sparql_df.columns = pd.MultiIndex.from_tuples([tuple(col.split(\".\")) for col in sparql_df.columns])\n",
    "sparql_df"
   ]
  },
  {
   "cell_type": "code",
   "execution_count": null,
   "id": "cda3e068",
   "metadata": {},
   "outputs": [],
   "source": []
  }
 ],
 "metadata": {
  "kernelspec": {
   "display_name": "Python 3 (ipykernel)",
   "language": "python",
   "name": "python3"
  },
  "language_info": {
   "codemirror_mode": {
    "name": "ipython",
    "version": 3
   },
   "file_extension": ".py",
   "mimetype": "text/x-python",
   "name": "python",
   "nbconvert_exporter": "python",
   "pygments_lexer": "ipython3",
   "version": "3.12.10"
  }
 },
 "nbformat": 4,
 "nbformat_minor": 5
}
