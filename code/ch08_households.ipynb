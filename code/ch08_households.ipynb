{
 "cells": [
  {
   "cell_type": "markdown",
   "id": "94289e98",
   "metadata": {},
   "source": [
    "# 家計・生活・労働データの取得・可視化・分析\n"
   ]
  },
  {
   "cell_type": "code",
   "execution_count": null,
   "id": "196953ff",
   "metadata": {},
   "outputs": [],
   "source": [
    "# 環境変数とパス設定に用いるライブラリ\n",
    "import os\n",
    "from dotenv import load_dotenv\n",
    "from pathlib import Path\n",
    "# データ取得に用いるライブラリ\n",
    "import json\n",
    "import requests\n",
    "# データ処理に用いるライブラリ\n",
    "import numpy as np\n",
    "import pandas as pd\n",
    "# 可視化に用いるライブラリ\n",
    "import plotly\n",
    "import plotly.graph_objs as go\n",
    "import plotly.express as px\n",
    "from plotly.subplots import make_subplots"
   ]
  },
  {
   "cell_type": "code",
   "execution_count": null,
   "id": "282e586e",
   "metadata": {},
   "outputs": [],
   "source": [
    "from estat import (\n",
    "    get_metainfo,\n",
    "    get_statsdata,\n",
    "    cleansing_statsdata,\n",
    "    colname_to_japanese,\n",
    "    create_hierarchy_dataframe\n",
    ")"
   ]
  },
  {
   "cell_type": "code",
   "execution_count": null,
   "id": "5f91d442",
   "metadata": {},
   "outputs": [],
   "source": [
    "load_dotenv()\n",
    "appId = os.getenv(\"ESTAT_APP_ID\")\n",
    "bls_api_key = os.getenv(\"BLS_API_KEY\")"
   ]
  },
  {
   "cell_type": "code",
   "execution_count": null,
   "id": "53bde718",
   "metadata": {},
   "outputs": [],
   "source": [
    "current_dir = Path.cwd()\n",
    "data_path = (current_dir / \"data\" / \"ch08\").resolve()"
   ]
  },
  {
   "cell_type": "markdown",
   "id": "4d87d1b3",
   "metadata": {},
   "source": [
    "## 家計に関する統計データ\n",
    "\n",
    "### 家計調査\n",
    "\n",
    "- [家計調査](https://www.stat.go.jp/data/kakei/)\n",
    "\n",
    "#### 家計収支の前年同月比と月次推移\n",
    "\n",
    "- [家計調査　収支項目分類](https://www.stat.go.jp/data/kakei/9.html)\n"
   ]
  },
  {
   "cell_type": "code",
   "execution_count": null,
   "id": "74c13c50",
   "metadata": {},
   "outputs": [],
   "source": [
    "monthly_statsDataId = \"0002070010\"\n",
    "monthly_meta = get_metainfo(appId, monthly_statsDataId)\n",
    "monthly_metadata = monthly_meta[\"GET_META_INFO\"][\"METADATA_INF\"]\n",
    "monthly_total_num = monthly_metadata[\"TABLE_INF\"][\"OVERALL_TOTAL_NUMBER\"]\n",
    "monthly_total_num"
   ]
  },
  {
   "cell_type": "code",
   "execution_count": null,
   "id": "504244e6-c831-4449-b064-8ba45161b386",
   "metadata": {},
   "outputs": [],
   "source": [
    "meta_cat01 = pd.DataFrame(\n",
    "    monthly_metadata[\"CLASS_INF\"][\"CLASS_OBJ\"][1][\"CLASS\"]\n",
    ")\n",
    "meta_cat01.iloc[55:65, :]  # 支払のcodeがわかる行を抽出しています"
   ]
  },
  {
   "cell_type": "code",
   "execution_count": null,
   "id": "cbbff550",
   "metadata": {},
   "outputs": [],
   "source": [
    "monthly_params = {\n",
    "    \"lvCat01\": \"4\",  # \"用途分類\"のlevelを\"4\"に絞る\n",
    "    \"cdCat02\": \"04\",  # \"世帯区分\"を\"二人以上の世帯のうち勤労者世帯（2000年～）\"に絞る\n",
    "    \"cdCat03\": \"A00\",  # \"世帯主の年齢階級\"を\"平均\"に絞る\n",
    "    \"cdTimeFrom\": \"2018000101\",  # \"時間軸（月次）\"を2018年以降に絞る\n",
    "}\n",
    "monthly_data = get_statsdata(appId, monthly_statsDataId, params=monthly_params)\n",
    "monthly_value = colname_to_japanese(cleansing_statsdata(monthly_data))\n",
    "monthly_value.columns"
   ]
  },
  {
   "cell_type": "code",
   "execution_count": null,
   "id": "4ffbd644-0dae-4077-9f7a-252c651f226d",
   "metadata": {},
   "outputs": [],
   "source": [
    "monthly_df = monthly_value.assign(**{\n",
    "    \"年\": monthly_value[\"時間軸（月次）コード\"].astype(int) // 1_000_000,\n",
    "    \"月\": monthly_value[\"時間軸（月次）コード\"].str[-2:].astype(int)\n",
    "})[[\"年\", \"月\", \"用途分類\", \"値\"]]"
   ]
  },
  {
   "cell_type": "markdown",
   "id": "3fbeb7e4",
   "metadata": {},
   "source": [
    "##### 前年同月比の折れ線グラフ\n",
    "\n"
   ]
  },
  {
   "cell_type": "code",
   "execution_count": null,
   "id": "edf6a97b",
   "metadata": {},
   "outputs": [],
   "source": [
    "# 2019年から2024年まで6年分の年範囲を作成\n",
    "year = 2024\n",
    "year_range = range(year - 5, year + 1)\n",
    "# 使用する色をPlotlyの定義済みカラーパレットから選択\n",
    "yoy_colors = px.colors.qualitative.Plotly[: len(year_range)]\n",
    "# X軸の目盛りテキスト用に\"1月\"から\"12月\"までの文字列を用意\n",
    "months = [f\"{mm}月\" for mm in range(1, 13)]\n",
    "# 使用する用途分類のリストを用意\n",
    "yoy_cats = [\"食料\", \"光熱・水道\", \"教養娯楽\", \"勤め先収入\"]\n",
    "# 2*2 のサブプロット用の行・列のペア\n",
    "row_col_pair = [(i, j) for i in range(1, 3) for j in range(1, 3)]\n",
    "# 2*2のサブプロットを作成\n",
    "yoy_fig = make_subplots(rows=2, cols=2, subplot_titles=yoy_cats)\n",
    "# 各年度ごとに各用途分類のトレースを追加\n",
    "for cat, (row, col) in zip(yoy_cats, row_col_pair):\n",
    "    for n, yyyy in enumerate(year_range):\n",
    "        # 指定した用途分類と年に対する条件を作成\n",
    "        yoy_cond = monthly_df[\"用途分類\"] == cat\n",
    "        yoy_cond &= monthly_df[\"年\"] == yyyy\n",
    "        # 最初の用途分類のトレースのみに凡例を表示\n",
    "        show_legend = True if (row == 1 and col == 1) else False\n",
    "        # 折れ線グラフのトレースをサブプロットに追加\n",
    "        yoy_fig.add_trace(\n",
    "            go.Scatter(\n",
    "                x=list(range(1, 13)),\n",
    "                y=monthly_df.loc[yoy_cond, \"値\"],\n",
    "                name=f\"{yyyy}年\",\n",
    "                marker={\"color\": yoy_colors[n]},\n",
    "                showlegend=show_legend,  # 最初のトレースのみ凡例を表示\n",
    "            ),\n",
    "            row=row, col=col,\n",
    "        )\n",
    "        # X軸とY軸の設定を更新\n",
    "        yoy_fig.update_xaxes(\n",
    "            tickvals=list(range(1, 13)),  # X軸の目盛り値。1月から12月までの数値\n",
    "            ticktext=months,  # X軸の目盛りテキスト。\"1月\"から\"12月\"までの文字列\n",
    "            row=row, col=col,\n",
    "        )\n",
    "        yoy_fig.update_yaxes(\n",
    "            tickformat=\",.0f\",\n",
    "            ticksuffix=\"円\",\n",
    "            row=row, col=col,\n",
    "        )\n",
    "yoy_fig.update_layout(width=1000, height=800,\n",
    "    legend={\n",
    "        \"orientation\": \"h\",  # \"h\" は水平(horizontal)を意味し、凡例の項目が水平方向に並ぶ\n",
    "        \"x\": 0.5,  # 0.5 はグラフの水平方向の中央\n",
    "        \"y\": -0.1,  # -0.1 は、グラフ領域外の下部(グラフの下端からさらに10%下)に凡例を配置\n",
    "        \"xanchor\": \"center\",  # 凡例の中央がxで指定された位置に配置\n",
    "        \"yanchor\": \"top\",  # 凡例の上端がyで指定された位置に配置\n",
    "    },\n",
    ")\n",
    "yoy_fig.show()"
   ]
  },
  {
   "cell_type": "markdown",
   "id": "6ac2fa3b",
   "metadata": {},
   "source": [
    "##### 月次推移とCOVID-19\n",
    "\n"
   ]
  },
  {
   "cell_type": "code",
   "execution_count": null,
   "id": "7122702e",
   "metadata": {},
   "outputs": [],
   "source": [
    "covid_path = (current_dir / \"data\" / \"ch07\").resolve() / \"severe_cases_daily.csv\"\n",
    "#covid_path = \"https://covid19.mhlw.go.jp/public/opendata/severe_cases_daily.csv\"\n",
    "daily_covid = pd.read_csv(\n",
    "    covid_path,\n",
    "    parse_dates=[\"Date\"],\n",
    ")\n",
    "monthly_covid = (daily_covid[[\"Date\", \"ALL\"]]\n",
    "    .rename(columns={\"ALL\": \"重症者数の推移\"})\n",
    "    .set_index(\"Date\")\n",
    "    .resample(\"MS\").sum()\n",
    "    .reset_index()\n",
    ")"
   ]
  },
  {
   "cell_type": "code",
   "execution_count": null,
   "id": "cf12f072",
   "metadata": {},
   "outputs": [],
   "source": [
    "# \"年\"列と\"月\"列から\"年月\"の日付型データを作成して新しい列に追加\n",
    "monthly_df = monthly_df.assign(**{\n",
    "    \"年月\": pd.to_datetime(\n",
    "        monthly_df[\"年\"].astype(str) + \"-\" + monthly_df[\"月\"].astype(str) + \"-01\"\n",
    "    )\n",
    "})\n",
    "# 可視化する用途分類をリストで指定\n",
    "cats = [\"光熱・水道\", \"教養娯楽\"]\n",
    "colors = px.colors.qualitative.Plotly\n",
    "# 1つのプロットに複数のy軸を持つサブプロットを作成\n",
    "monthly_fig = make_subplots(specs=[[{\"secondary_y\": True}]])\n",
    "# 用途分類ごとに処理を実行\n",
    "for n, cat in enumerate(cats):\n",
    "    # 指定した用途分類のデータを選択し、\"年月\"でソート\n",
    "    tmp_df = monthly_df[monthly_df[\"用途分類\"] == cat].sort_values(\"年月\")\n",
    "    # 選択した用途分類の平均値を計算\n",
    "    monthly_mean = tmp_df[\"値\"].mean()\n",
    "    # 折れ線グラフを追加\n",
    "    monthly_fig.add_trace(\n",
    "        go.Scatter(\n",
    "            x=tmp_df[\"年月\"],\n",
    "            y=tmp_df[\"値\"],\n",
    "            name=cat,\n",
    "            mode=\"lines+markers\",\n",
    "            marker={\"color\": colors[n]},\n",
    "        ),\n",
    "        secondary_y=False,  # このトレースは第一のY軸を使用\n",
    "    )\n",
    "    # 平均値のラインを追加\n",
    "    monthly_fig.add_trace(\n",
    "        go.Scatter(\n",
    "            x=[monthly_df[\"年月\"].min(), monthly_df[\"年月\"].max()],  # 全期間をカバー\n",
    "            y=[monthly_mean, monthly_mean],  # 平均値で固定\n",
    "            name=cat + \"(期間平均)\",\n",
    "            mode=\"lines\",\n",
    "            marker={\"color\": colors[n]},\n",
    "            opacity=0.5,  # 半透明で表示\n",
    "        ),\n",
    "        secondary_y=False,  # このトレースも第一のY軸を使用\n",
    "    )\n",
    "# COVID-19重症者数の棒グラフを追加\n",
    "monthly_fig.add_trace(\n",
    "    go.Bar(\n",
    "        x=monthly_covid[\"Date\"],\n",
    "        y=monthly_covid[\"重症者数の推移\"],\n",
    "        name=\"COVID-19重症者数\",\n",
    "        marker={\"color\": colors[len(cats)]},  # 新しい色を指定\n",
    "        opacity=0.5,  # 半透明で表示\n",
    "    ),\n",
    "    secondary_y=True,  # このトレースは第二のY軸を使用\n",
    ")\n",
    "monthly_fig.update_layout(width=1200, height=450, font={\"size\": 16},\n",
    "    xaxis={\"ticksuffix\": \"年\"},\n",
    "    yaxis={\"tickformat\": \",.0f\", \"ticksuffix\": \"円\"},\n",
    ")\n",
    "monthly_fig.update_yaxes(secondary_y=True, tickformat=\",.0f\", ticksuffix=\"人\")\n",
    "monthly_fig.show()"
   ]
  },
  {
   "cell_type": "markdown",
   "id": "b1f9fde0",
   "metadata": {},
   "source": [
    "#### 年齢ごと収支\n",
    "\n"
   ]
  },
  {
   "cell_type": "code",
   "execution_count": null,
   "id": "a0e0ac7a",
   "metadata": {},
   "outputs": [],
   "source": [
    "annual_statsDataId = \"0002070011\"\n",
    "annual_meta = get_metainfo(appId, annual_statsDataId)\n",
    "annual_metadata = annual_meta[\"GET_META_INFO\"][\"METADATA_INF\"]\n",
    "annual_total_num = annual_metadata[\"TABLE_INF\"][\"OVERALL_TOTAL_NUMBER\"]\n",
    "annual_total_num"
   ]
  },
  {
   "cell_type": "code",
   "execution_count": null,
   "id": "594098c4",
   "metadata": {},
   "outputs": [],
   "source": [
    "yyyy = 2024\n",
    "age_params = {\n",
    "    \"cdCat01\": \"009\",  # 用途分類を世帯主の年齢に絞る\n",
    "    \"cdCat02\": \"04\",  # 世帯区分を二人以上の世帯のうち勤労者世帯（2000年～）に絞る\n",
    "    \"cdTime\": f\"{yyyy}000000\",\n",
    "}\n",
    "age_data = get_statsdata(appId, annual_statsDataId, params=age_params)\n",
    "age_value = colname_to_japanese(cleansing_statsdata(age_data))\n",
    "age_cond = ~age_value[\"世帯主の年齢階級\"].isin([\"平均\", \"65歳以上\"])\n",
    "cols = [\"時間軸（年次）\", \"世帯主の年齢階級\", \"値\"]\n",
    "age_df = age_value.loc[age_cond, cols].rename(columns={\"値\": \"世帯主の年齢\"})\n",
    "age_df.head()"
   ]
  },
  {
   "cell_type": "code",
   "execution_count": null,
   "id": "677d2c1a",
   "metadata": {},
   "outputs": [],
   "source": [
    "#  世帯主の年齢階級ごとの家計項目のデータを取得するための関数を用意\n",
    "def get_filtered_statsdata(\n",
    "        app_id: str, stats_id: str, cat01: str, value_name: str\n",
    "    ) -> pd.DataFrame:\n",
    "    params = {\n",
    "        \"cdCat01\": cat01,\n",
    "        \"cdCat02\": \"04\",\n",
    "        \"cdTime\": f\"{yyyy}000000\",\n",
    "    }\n",
    "    data = get_statsdata(app_id, stats_id, params=params)\n",
    "    value = colname_to_japanese(cleansing_statsdata(data))\n",
    "    cols = [\"時間軸（年次）\", \"世帯主の年齢階級\", \"値\"]\n",
    "    df = value.loc[~value[\"世帯主の年齢階級\"].isin([\"平均\", \"65歳以上\"]), cols]\n",
    "    return df.rename(columns={\"値\": value_name})\n",
    "\n",
    "# 各家計項目のデータ取得\n",
    "income_df = get_filtered_statsdata(appId, annual_statsDataId, \"233\", \"可処分所得\")\n",
    "expenditure_df = get_filtered_statsdata(appId, annual_statsDataId, \"059\", \"消費支出\")\n",
    "surplus_df = get_filtered_statsdata(appId, annual_statsDataId, \"234\", \"黒字\")\n",
    "# 世帯主の年齢、可処分所得、消費支出のデータを結合\n",
    "on = [\"時間軸（年次）\", \"世帯主の年齢階級\"]\n",
    "fie_df = age_df.merge(income_df, on=on).merge(expenditure_df, on=on)\n",
    "fie_df.head()"
   ]
  },
  {
   "cell_type": "code",
   "execution_count": null,
   "id": "82ae62b8",
   "metadata": {},
   "outputs": [],
   "source": [
    "id_var = \"世帯主の年齢\"\n",
    "value_vars = [\"可処分所得\", \"消費支出\"]\n",
    "long_df = pd.melt(\n",
    "    fie_df[[id_var] + value_vars],\n",
    "    id_vars=id_var,\n",
    "    value_vars=value_vars,\n",
    "    var_name=\"収支\",\n",
    "    value_name=\"金額\",\n",
    ")"
   ]
  },
  {
   "cell_type": "code",
   "execution_count": null,
   "id": "fdad2c10",
   "metadata": {},
   "outputs": [],
   "source": [
    "# 可処分所得と消費支出の折れ線グラフ\n",
    "fie_fig = px.line(long_df, x=\"世帯主の年齢\", y=\"金額\", color=\"収支\", markers=True)\n",
    "# 黒字を棒グラフで追加\n",
    "fie_fig.add_trace(\n",
    "    go.Bar(x=age_df[\"世帯主の年齢\"], y=surplus_df[\"黒字\"], name=\"黒字\", width=2.0)\n",
    ")\n",
    "# レイアウトに追加\n",
    "fie_fig.update_layout(width=600, height=400, font={\"size\": 18},\n",
    "    yaxis={\"tickformat\": \",.0f\", \"ticksuffix\": \"円\", \"title\": None},\n",
    "    xaxis={\"ticksuffix\": \"歳\"},\n",
    ")\n",
    "fie_fig.show()"
   ]
  },
  {
   "cell_type": "markdown",
   "id": "a8c89358",
   "metadata": {},
   "source": [
    "#### 支出ツリーマップ"
   ]
  },
  {
   "cell_type": "code",
   "execution_count": null,
   "id": "fc54f876",
   "metadata": {},
   "outputs": [],
   "source": [
    "oneperson_statsDataId = \"0003000795\"\n",
    "oneperson_meta = get_metainfo(appId, oneperson_statsDataId)\n",
    "oneperson_metadata = oneperson_meta[\"GET_META_INFO\"][\"METADATA_INF\"]\n",
    "oneperson_total_num = oneperson_metadata[\"TABLE_INF\"][\"OVERALL_TOTAL_NUMBER\"]\n",
    "oneperson_total_num"
   ]
  },
  {
   "cell_type": "code",
   "execution_count": null,
   "id": "fb011c59",
   "metadata": {},
   "outputs": [],
   "source": [
    "oneperson_params = {\n",
    "    \"cdCat02\": \"22\",  # 世帯区分を（単身）勤労者世帯で絞る\n",
    "    \"cdCat03\": \"A00\",  # 世帯主の年齢階級を平均で絞る\n",
    "    \"cdCat04\": \"0\",  # 性別を男女平均で絞る\n",
    "    \"cdTimeFrom\": \"2024000000\",  # 時間軸（四半期）を2024以降で絞る\n",
    "    \"cdTimeTo\": \"2025000000\",  # 時間軸（四半期）を2025以前で絞る\n",
    "}\n",
    "oneperson_data = get_statsdata(appId, oneperson_statsDataId, params=oneperson_params)\n",
    "oneperson_value = colname_to_japanese(cleansing_statsdata(oneperson_data))\n",
    "oneperson_df = oneperson_value.loc[\n",
    "    oneperson_value[\"単位\"] == \"円\", [\"用途分類コード\", \"時間軸（四半期）コード\", \"値\"]\n",
    "]"
   ]
  },
  {
   "cell_type": "code",
   "execution_count": null,
   "id": "3767a530-1b29-4bc3-a329-a955ab93eb9c",
   "metadata": {},
   "outputs": [],
   "source": [
    "household_levels = create_hierarchy_dataframe(annual_meta, cat_key=1)\n",
    "household_levels.iloc[35:45, 5:]"
   ]
  },
  {
   "cell_type": "code",
   "execution_count": null,
   "id": "38c93c49",
   "metadata": {},
   "outputs": [],
   "source": [
    "merged_df = oneperson_df.merge(\n",
    "    household_levels, left_on=\"用途分類コード\", right_on=\"level6\", how=\"inner\"\n",
    ")"
   ]
  },
  {
   "cell_type": "code",
   "execution_count": null,
   "id": "6d25b53e",
   "metadata": {},
   "outputs": [],
   "source": [
    "oneperson_value.loc[\n",
    "    oneperson_value[\"用途分類\"].str.contains(\"再掲\"),\n",
    "    [\"用途分類コード\", \"用途分類\", \"用途分類階層レベル\"],\n",
    "].drop_duplicates()"
   ]
  },
  {
   "cell_type": "code",
   "execution_count": null,
   "id": "8d9b0857",
   "metadata": {},
   "outputs": [],
   "source": [
    "lv_cols = [f\"用途分類階層{i}\" for i in range(2, 8) if i != 3]\n",
    "# 受取018、可処分所得233、黒字234、繰越金216を除外\n",
    "tree_cond = ~merged_df[\"level1\"].isin([\"018\", \"233\", \"234\", \"216\"])\n",
    "# 実支出\"058\"に絞る\n",
    "tree_cond &= merged_df[\"level2\"] == \"058\"\n",
    "tree_cond &= ~merged_df[\"用途分類階層4\"].str.contains(\"再掲\")\n",
    "tree_df = merged_df.loc[tree_cond, lv_cols + [\"値\"]]\n",
    "tree_crosstab = (tree_df\n",
    "    .groupby(lv_cols)\n",
    "    .agg({\"値\": \"sum\"})\n",
    "    .reset_index()\n",
    ")\n",
    "tree_crosstab.head()"
   ]
  },
  {
   "cell_type": "code",
   "execution_count": null,
   "id": "1722bcd8",
   "metadata": {},
   "outputs": [],
   "source": [
    "tree_fig = px.treemap(tree_crosstab, path=lv_cols, values=\"値\")\n",
    "tree_fig.data[0].textinfo = \"label+value+percent root+percent parent\"\n",
    "tree_fig.show()"
   ]
  },
  {
   "cell_type": "markdown",
   "id": "6c146a6e",
   "metadata": {},
   "source": [
    "#### 家計資産・負債の可視化\n"
   ]
  },
  {
   "cell_type": "code",
   "execution_count": null,
   "id": "e9187027",
   "metadata": {},
   "outputs": [],
   "source": [
    "balance_statsDataId = \"0002210017\"\n",
    "balance_meta = get_metainfo(appId, balance_statsDataId)\n",
    "balance_metadata = balance_meta[\"GET_META_INFO\"][\"METADATA_INF\"]\n",
    "balance_total_num = balance_metadata[\"TABLE_INF\"][\"OVERALL_TOTAL_NUMBER\"]\n",
    "balance_total_num"
   ]
  },
  {
   "cell_type": "code",
   "execution_count": null,
   "id": "a4fab6b9",
   "metadata": {},
   "outputs": [],
   "source": [
    "balance_data = get_statsdata(appId, balance_statsDataId)\n",
    "balance_value = colname_to_japanese(cleansing_statsdata(balance_data))\n",
    "balance_value.columns"
   ]
  },
  {
   "cell_type": "code",
   "execution_count": null,
   "id": "18f108a6",
   "metadata": {},
   "outputs": [],
   "source": [
    "balance_value = balance_value.assign(**{\n",
    "    \"年\": balance_value[\"時間軸（四半期）コード\"].astype(int) // 1_000_000\n",
    "})\n",
    "balance_cond = balance_value[\"時間軸（四半期）\"] == \"2024年1～3月期\"\n",
    "balance_cond &= balance_value[\"単位\"] == \"万円\"\n",
    "balance_cond &= (\n",
    "    balance_value[\"世帯区分\"] == \"二人以上の世帯のうち勤労者世帯（2000年～）\"\n",
    ")\n",
    "balance_cond &= ~balance_value[\"世帯主の年齢階級\"].isin([\"59歳以下\", \"60歳以上\"])\n",
    "balance_df = balance_value.loc[\n",
    "    balance_cond, [\"世帯主の年齢階級\", \"貯蓄・負債コード\", \"値\"]\n",
    "]"
   ]
  },
  {
   "cell_type": "code",
   "execution_count": null,
   "id": "dcd510a4-c7f6-4dd2-ab58-60c5edce58e8",
   "metadata": {},
   "outputs": [],
   "source": [
    "balance_levels = create_hierarchy_dataframe(balance_meta, cat_key=1, level_to=3)"
   ]
  },
  {
   "cell_type": "code",
   "execution_count": null,
   "id": "a8483381",
   "metadata": {},
   "outputs": [],
   "source": [
    "merged_balance = balance_df.merge(\n",
    "    balance_levels, left_on=\"貯蓄・負債コード\", right_on=\"level3\", how=\"inner\"\n",
    ")\n",
    "balance_cols = [\"世帯主の年齢階級\", \"貯蓄・負債階層1\", \"貯蓄・負債階層3\"]\n",
    "balance_crosstab = (\n",
    "    merged_balance[balance_cols + [\"値\"]].groupby(balance_cols).sum().reset_index()\n",
    ")\n",
    "balance_crosstab.head()"
   ]
  },
  {
   "cell_type": "code",
   "execution_count": null,
   "id": "2e963a22",
   "metadata": {},
   "outputs": [],
   "source": [
    "# 後でグラフのX軸として使用する\n",
    "age_cats = np.sort(merged_balance[\"世帯主の年齢階級\"].unique())\n",
    "# グラフで貯蓄の各カテゴリごとにデータを分類して表示するために使用\n",
    "asset_cats = merged_balance.loc[\n",
    "    merged_balance[\"貯蓄・負債階層1\"] == \"012_貯蓄\", \"貯蓄・負債階層3\"\n",
    "].unique()\n",
    "# グラフで負債の各カテゴリごとにデータを分類して表示するために使用\n",
    "liability_cats = merged_balance.loc[\n",
    "    merged_balance[\"貯蓄・負債階層1\"] == \"028_負債\", \"貯蓄・負債階層3\"\n",
    "].unique()\n",
    "# 貯蓄カテゴリのデータを表示する棒グラフで使用。各カテゴリが異なる青系の色で表示\n",
    "asset_colors = plotly.colors.sequential.Blues[2 : len(asset_cats) + 2]\n",
    "# 負債カテゴリのデータを表示する棒グラフで使用。各カテゴリが異なる赤系の色で表示\n",
    "liability_colors = plotly.colors.sequential.OrRd[2 : len(liability_cats) + 2]\n",
    "print(\"年齢リスト: \", age_cats, \"\\n資産リスト: \", asset_cats, \"\\n負債リスト: \", liability_cats)"
   ]
  },
  {
   "cell_type": "code",
   "execution_count": null,
   "id": "3de4c425",
   "metadata": {},
   "outputs": [],
   "source": [
    "balance_fig = go.Figure()\n",
    "lv = \"貯蓄・負債階層3\"\n",
    "# 最初の資産カテゴリに対応する値を取得\n",
    "asset_val = balance_crosstab.loc[balance_crosstab[lv] == asset_cats[0], \"値\"]\n",
    "# 最初の資産カテゴリに対応する棒グラフを追加\n",
    "balance_fig.add_trace(go.Bar(\n",
    "    x=age_cats,\n",
    "    y=asset_val.values,\n",
    "    name=asset_cats[0],\n",
    "    marker_color=asset_colors[0],\n",
    "    offsetgroup=1,  # オフセットグループを1に設定して負債グループと区別\n",
    "))  \n",
    "# 最初の資産カテゴリの値を基準としてコピーし、積み上げの基準とする\n",
    "asset_stack = asset_val.copy().values\n",
    "# 最初の資産カテゴリを除く各資産カテゴリについてループ\n",
    "for i in range(len(asset_cats) - 1):\n",
    "    stack_values = balance_crosstab.loc[\n",
    "        balance_crosstab[lv] == asset_cats[i + 1], \"値\"\n",
    "    ].values\n",
    "    # 次(i+1)の資産カテゴリに対応する棒グラフを追加\n",
    "    balance_fig.add_trace(go.Bar(\n",
    "        x=age_cats,\n",
    "        y=stack_values,\n",
    "        name=asset_cats[i + 1],\n",
    "        marker_color=asset_colors[i + 1],\n",
    "        base=asset_stack,  # 前の資産カテゴリの値を基準にして積み上げ\n",
    "        offsetgroup=1,  # オフセットグループを1に設定\n",
    "    ))\n",
    "    # 積上値の更新。前のカテゴリの値にこのカテゴリの値を加算して、次の積上の基準にする\n",
    "    asset_stack += stack_values\n",
    "# 最初の負債カテゴリに対応する値を取得\n",
    "liability_val = balance_crosstab.loc[balance_crosstab[lv] == liability_cats[0], \"値\"]\n",
    "# 最初の負債カテゴリに対応する棒グラフを追加\n",
    "balance_fig.add_trace(go.Bar(\n",
    "    x=age_cats,\n",
    "    y=liability_val,\n",
    "    name=liability_cats[0],\n",
    "    marker_color=liability_colors[0],\n",
    "    offsetgroup=2,  # オフセットグループを1に設定して資産グループと区別\n",
    "))\n",
    "# 最初の負債カテゴリの値を基準としてコピーし、積み上げの基準とする\n",
    "liability_stack = liability_val.copy().values\n",
    "# 最初の負債カテゴリを除く各負債カテゴリについてループ\n",
    "for i in range(len(liability_cats) - 1):\n",
    "    stack_values = balance_crosstab.loc[\n",
    "        balance_crosstab[lv] == liability_cats[i + 1], \"値\"\n",
    "    ].values\n",
    "    # 次(i+1)の負債カテゴリに対応する棒グラフを追加\n",
    "    balance_fig.add_trace(go.Bar(\n",
    "        x=age_cats,\n",
    "        y=stack_values,\n",
    "        name=liability_cats[i + 1],\n",
    "        marker_color=liability_colors[i + 1],\n",
    "        base=liability_stack,\n",
    "        offsetgroup=2,\n",
    "    ))\n",
    "    # 積上値の更新。前のカテゴリの値にこのカテゴリの値を加算して、次の積上の基準にする\n",
    "    liability_stack += stack_values\n",
    "balance_fig.update_layout(\n",
    "    go.Layout(width=700, height=500, font={\"size\": 14},\n",
    "        barmode=\"group\",\n",
    "        yaxis={\"tickformat\": \".0f\", \"ticksuffix\": \"万円\"},\n",
    "    )\n",
    ")\n",
    "balance_fig.show()"
   ]
  },
  {
   "cell_type": "markdown",
   "id": "fe9f5c29",
   "metadata": {},
   "source": [
    "### 全国家計構造調査\n",
    "\n",
    "- [全国家計構造調査](https://www.stat.go.jp/data/zenkokukakei/2024/index.html)\n"
   ]
  },
  {
   "cell_type": "code",
   "execution_count": null,
   "id": "4c8b21f7",
   "metadata": {},
   "outputs": [],
   "source": [
    "ficw_statsDataId = \"0003424621\"\n",
    "ficw_meta = get_metainfo(appId, ficw_statsDataId)\n",
    "ficw_metadata = ficw_meta[\"GET_META_INFO\"][\"METADATA_INF\"]\n",
    "ficw_total_num = ficw_metadata[\"TABLE_INF\"][\"OVERALL_TOTAL_NUMBER\"]\n",
    "ficw_total_num"
   ]
  },
  {
   "cell_type": "code",
   "execution_count": null,
   "id": "42c659ef",
   "metadata": {},
   "outputs": [],
   "source": [
    "cat4 = pd.DataFrame(ficw_metadata[\"CLASS_INF\"][\"CLASS_OBJ\"][4][\"CLASS\"])\n",
    "cat4.iloc[380:390, :]"
   ]
  },
  {
   "cell_type": "markdown",
   "id": "b3703566",
   "metadata": {},
   "source": [
    "#### 年齢ごと収支\n"
   ]
  },
  {
   "cell_type": "code",
   "execution_count": null,
   "id": "3273112b-91a0-4756-a0ab-118d0ce003af",
   "metadata": {},
   "outputs": [],
   "source": [
    "# 世帯主の年齢階級32区分ごとの家計項目データ取得のための関数を用意\n",
    "def get_statsdata_by_cdCat04(\n",
    "        appId: str, statsDataId: str, cdCat04: str, name: str\n",
    "    ) -> pd.DataFrame:\n",
    "    params = {\n",
    "        \"cdCat01\": \"1\",  # 世帯の種類３区分を二人以上の世帯で絞る\n",
    "        \"cdCat02\": \"1\",  # 世帯区分４区分を勤労者世帯で絞る\n",
    "        \"cdCat03\": \"0\",  # 世帯主の性別３区分を平均で絞る\n",
    "        \"cdCat04\": cdCat04,\n",
    "    }\n",
    "    data = get_statsdata(appId, statsDataId, params=params)\n",
    "    value = colname_to_japanese(cleansing_statsdata(data))\n",
    "    cond = value[\"世帯主の年齢階級32区分\"].str.contains(\"５歳階級\")\n",
    "    df = value.loc[cond, [\"世帯主の年齢階級32区分\", \"値\"]]\n",
    "    return df.rename(columns={\"値\": name})\n",
    "# 可処分所得データの取得\n",
    "income_df = get_statsdata_by_cdCat04(appId, ficw_statsDataId, \"4\", \"可処分所得\")\n",
    "# 消費支出データの取得\n",
    "expenditure_df = get_statsdata_by_cdCat04(appId, ficw_statsDataId, \"2101\", \"消費支出\")\n",
    "# 両データを「世帯主の年齢階級32区分」で結合\n",
    "ficw_df = pd.merge(income_df, expenditure_df, on=\"世帯主の年齢階級32区分\")\n",
    "# データを整然データ形式に変換\n",
    "ficw_crosstab = (ficw_df\n",
    "    .set_index(\"世帯主の年齢階級32区分\")\n",
    "    .stack()\n",
    "    .reset_index()\n",
    "    .rename(columns={\"level_1\": \"収支\", 0: \"金額\"})\n",
    ")\n",
    "ficw_crosstab.head()"
   ]
  },
  {
   "cell_type": "code",
   "execution_count": null,
   "id": "f768b22a",
   "metadata": {},
   "outputs": [],
   "source": [
    "ficw_fig = px.line(ficw_crosstab, x=\"世帯主の年齢階級32区分\", y=\"金額\", color=\"収支\", markers=True)\n",
    "ficw_fig.update_layout(width=900, height=400, font={\"size\": 18},\n",
    "    xaxis={\"title\": None},\n",
    "    yaxis={\"tickformat\": \",.0f\", \"ticksuffix\": \"円\"})\n",
    "ficw_fig.show()"
   ]
  },
  {
   "cell_type": "markdown",
   "id": "99a403dc",
   "metadata": {},
   "source": [
    "## 生活に関する統計データ\n",
    "\n",
    "###  国民生活基礎調査\n",
    "\n",
    "- [国民生活基礎調査](https://www.mhlw.go.jp/toukei/list/20-21.html)\n"
   ]
  },
  {
   "cell_type": "code",
   "execution_count": null,
   "id": "7ebb1685",
   "metadata": {},
   "outputs": [],
   "source": [
    "living_statsDataId = \"0002042803\"\n",
    "living_meta = get_metainfo(appId, living_statsDataId)\n",
    "living_metadata = living_meta[\"GET_META_INFO\"][\"METADATA_INF\"]\n",
    "living_total_num = living_metadata[\"TABLE_INF\"][\"OVERALL_TOTAL_NUMBER\"]\n",
    "living_total_num"
   ]
  },
  {
   "cell_type": "code",
   "execution_count": null,
   "id": "91962e48",
   "metadata": {},
   "outputs": [],
   "source": [
    "living_data = get_statsdata(appId, living_statsDataId)\n",
    "living_value = colname_to_japanese(cleansing_statsdata(living_data))\n",
    "living_value.columns"
   ]
  },
  {
   "cell_type": "code",
   "execution_count": null,
   "id": "b3ba2356",
   "metadata": {},
   "outputs": [],
   "source": [
    "living_cols = [\"世帯類型_103\", \"所得金額階級_2015コード\", \"所得金額階級_2015\", \"値\"]\n",
    "living_cond = living_value[\"単位\"] != \"万円\"\n",
    "living_cond &= living_value[\"世帯類型_103\"].isin([\"総数\", \"高齢者世帯以外の世帯\"])\n",
    "living_cond &= living_value[\"所得金額階級_2015\"] != \"総数\"\n",
    "living_df = living_value.loc[living_cond, living_cols]\n",
    "living_df.head()"
   ]
  },
  {
   "cell_type": "code",
   "execution_count": null,
   "id": "39541306",
   "metadata": {},
   "outputs": [],
   "source": [
    "pivot_df = living_df.pivot(\n",
    "    columns=\"世帯類型_103\",\n",
    "    index=[\"所得金額階級_2015コード\", \"所得金額階級_2015\"],\n",
    "    values=\"値\",\n",
    ")\n",
    "# 所得金額階級の降順でソートし、各列について累積和を計算\n",
    "cumsum_df = pivot_df.sort_index(level=0, ascending=False).cumsum()\n",
    "# cumsum_dfをロングテーブル形式にし、パーセントのデータが入る列名を \"パーセント\" に変更\n",
    "icdf_df = cumsum_df.stack().reset_index().rename(columns={0: \"パーセント\"})"
   ]
  },
  {
   "cell_type": "code",
   "execution_count": null,
   "id": "1955ad83-8857-4ac0-8851-39bbb9ece238",
   "metadata": {},
   "outputs": [],
   "source": [
    "# 所得金額階級分布\n",
    "dist_fig = px.bar(\n",
    "    living_df, x=\"所得金額階級_2015\", y=\"値\", color=\"世帯類型_103\", barmode=\"group\"\n",
    ")\n",
    "dist_fig.update_layout(\n",
    "    yaxis={\"tickformat\": \".0f\", \"ticksuffix\": \"%\", \"title\": None},\n",
    "    legend_title_text=\"世帯類型\"\n",
    ")"
   ]
  },
  {
   "cell_type": "code",
   "execution_count": null,
   "id": "c96856a7-b0b8-44c8-9ef8-1d3032bb67bf",
   "metadata": {},
   "outputs": [],
   "source": [
    "# 所得金額階級の逆累積分布\n",
    "icdf_fig = px.bar(\n",
    "    icdf_df, x=\"所得金額階級_2015\", y=\"パーセント\", color=\"世帯類型_103\", barmode=\"group\"\n",
    ")\n",
    "icdf_fig.update_layout(\n",
    "    yaxis={\"tickformat\": \".0f\", \"ticksuffix\": \"%\", \"title\": None},\n",
    "    legend_title_text=\"世帯類型\"\n",
    ")"
   ]
  },
  {
   "cell_type": "code",
   "execution_count": null,
   "id": "e52cb87f",
   "metadata": {},
   "outputs": [],
   "source": [
    "# サブプロットを作成\n",
    "subplot_fig = make_subplots(rows=1, cols=2, subplot_titles=(\"所得金額分布\", \"逆累積分布\"))\n",
    "# 各グラフの trace を対応セルに追加\n",
    "for trace in dist_fig.data:\n",
    "    subplot_fig.add_trace(trace, row=1, col=1)\n",
    "for trace in icdf_fig.data:\n",
    "    trace.showlegend = False\n",
    "    subplot_fig.add_trace(trace, row=1, col=2)\n",
    "# 全体レイアウト調整\n",
    "subplot_fig.update_layout(width=1400, height=600, font={\"size\": 14}, \n",
    "    title_text=\"所得金額階級\", legend_title_text=\"世帯類型\")\n",
    "subplot_fig.update_xaxes(title_text=None, row=1, col=1)\n",
    "subplot_fig.update_yaxes(tickformat=\".0f\", ticksuffix=\"%\", title_text=None, row=1, col=1)\n",
    "subplot_fig.update_xaxes(title_text=None, row=1, col=2)\n",
    "subplot_fig.update_yaxes(tickformat=\".0f\", ticksuffix=\"%\", title_text=None, row=1, col=2)\n",
    "subplot_fig.show()"
   ]
  },
  {
   "cell_type": "markdown",
   "id": "74071430",
   "metadata": {},
   "source": [
    "### 社会生活基本調査と生活時間\n",
    "\n",
    "- [社会生活基本調査](https://www.stat.go.jp/data/shakai/2021/index.htm)\n"
   ]
  },
  {
   "cell_type": "code",
   "execution_count": null,
   "id": "138ce947",
   "metadata": {},
   "outputs": [],
   "source": [
    "timeuse_statsDataId = \"0003462382\"\n",
    "timeuse_meta = get_metainfo(appId, timeuse_statsDataId)\n",
    "timeuse_metadata = timeuse_meta[\"GET_META_INFO\"][\"METADATA_INF\"]\n",
    "timeuse_total_num = timeuse_metadata[\"TABLE_INF\"][\"OVERALL_TOTAL_NUMBER\"]\n",
    "timeuse_total_num"
   ]
  },
  {
   "cell_type": "code",
   "execution_count": null,
   "id": "0a1e9777-4cc8-4953-94d7-acc01a2e1a4d",
   "metadata": {},
   "outputs": [],
   "source": [
    "cat06_meta = pd.DataFrame(\n",
    "    timeuse_metadata[\"CLASS_INF\"][\"CLASS_OBJ\"][6][\"CLASS\"]\n",
    ")\n",
    "cat06_meta.head()"
   ]
  },
  {
   "cell_type": "markdown",
   "id": "196a4c33",
   "metadata": {},
   "source": [
    "#### 生活時間円グラフ"
   ]
  },
  {
   "cell_type": "code",
   "execution_count": null,
   "id": "bea3b5ff",
   "metadata": {},
   "outputs": [],
   "source": [
    "male_params = {\n",
    "    \"cdCat01\": \"1\",  # 曜日を\"1_週全体\"に絞る\n",
    "    \"cdCat02\": \"1\",  # 男女を\"1_男\"に絞る\n",
    "    \"cdCat03\": \"0\",  # ふだんの就業状態を\"0_総数\"に絞る\n",
    "    \"cdCat04\": \"0\",  # ふだんの健康状態を\"0_総数\"に絞る\n",
    "    \"cdCat05\": \"0\",  # 年齢を\"0_総数\"に絞る\n",
    "    \"lvCat06\": \"2\",  # 行動の種類をレベル2に絞る\n",
    "}\n",
    "male_data = get_statsdata(appId, timeuse_statsDataId, params=male_params)\n",
    "male_value = colname_to_japanese(cleansing_statsdata(male_data))\n",
    "male_df = male_value.loc[:, [\"行動の種類\", \"値\"]]\n",
    "male_df.head()"
   ]
  },
  {
   "cell_type": "code",
   "execution_count": null,
   "id": "7ff7c0d3-2a59-4972-81c3-d51b4aea1ceb",
   "metadata": {},
   "outputs": [],
   "source": [
    "male_hours = (male_df[\"値\"] / 60).astype(str).str[:3] + \"時間\"\n",
    "male_minutes = male_df[\"値\"].astype(int).astype(str) + \"分\"\n",
    "male_timeuse = male_minutes.mask(male_df[\"値\"] / 60 >= 1, male_hours)\n",
    "male_df = male_df.assign(**{\n",
    "    \"ラベル\": male_df[\"行動の種類\"].str[3:] + \":\" + male_timeuse\n",
    "})"
   ]
  },
  {
   "cell_type": "code",
   "execution_count": null,
   "id": "ac7675aa",
   "metadata": {},
   "outputs": [],
   "source": [
    "female_params = {\n",
    "    \"cdCat01\": \"1\",\n",
    "    \"cdCat02\": \"2\",  # 男女を\"2_女\"に絞る\n",
    "    \"cdCat03\": \"0\",\n",
    "    \"cdCat04\": \"0\",\n",
    "    \"cdCat05\": \"0\",\n",
    "    \"lvCat06\": \"2\",\n",
    "}\n",
    "female_data = get_statsdata(appId, timeuse_statsDataId, params=female_params)\n",
    "female_value = colname_to_japanese(cleansing_statsdata(female_data))\n",
    "female_df = female_value.loc[:, [\"行動の種類\", \"値\"]]\n",
    "female_hours = (female_df[\"値\"] / 60).astype(str).str[:3] + \"時間\"\n",
    "female_minutes = female_df[\"値\"].astype(int).astype(str) + \"分\"\n",
    "female_timeuse = female_minutes.mask(female_df[\"値\"] / 60 >= 1, female_hours)\n",
    "female_df = female_df.assign(**{\n",
    "    \"ラベル\": female_df[\"行動の種類\"].str[3:] + \":\" + female_timeuse\n",
    "})"
   ]
  },
  {
   "cell_type": "code",
   "execution_count": null,
   "id": "02804383",
   "metadata": {},
   "outputs": [],
   "source": [
    "pie_colors = px.colors.qualitative.Plotly + px.colors.qualitative.Pastel\n",
    "male_trace = go.Pie(\n",
    "    labels=male_df[\"ラベル\"],\n",
    "    values=male_df[\"値\"],\n",
    "    marker={\"colors\": pie_colors},  # カラーパレットをグラフの色として設定\n",
    "    textinfo=\"label\",  # 各セグメントにラベルを表示\n",
    "    sort=False,  # データのソートを行わない\n",
    "    rotation=0,  # グラフの回転を0度に設定\n",
    ")\n",
    "female_trace = go.Pie(\n",
    "    labels=female_df[\"ラベル\"],\n",
    "    values=female_df[\"値\"],\n",
    "    marker={\"colors\": pie_colors},\n",
    "    textinfo=\"label\",\n",
    "    sort=False,\n",
    "    rotation=0,\n",
    ")\n",
    "# 1行2列のサブプロットを作成し、各サブプロットに円グラフタイプを指定\n",
    "pie_fig = make_subplots(rows=1, cols=2,\n",
    "    specs=[[{\"type\": \"pie\"}, {\"type\": \"pie\"}]],  # 各サブプロットに円グラフタイプを指定\n",
    "    subplot_titles=(\"男性\", \"女性\"),  # 各サブプロットのタイトルを設定\n",
    "    horizontal_spacing=0.3,  # サブプロット間の水平方向の間隔を設定\n",
    ")  \n",
    "# 作成した男性データの円グラフを1列目に、女性データを2列目に配置\n",
    "pie_fig.add_trace(male_trace, row=1, col=1)\n",
    "pie_fig.add_trace(female_trace, row=1, col=2)\n",
    "# 全ての円グラフの描画方向を時計回りに設定\n",
    "pie_fig.update_traces(direction=\"clockwise\", selector={\"type\": \"pie\"})\n",
    "pie_fig.update_layout(width=1400, height=650, font={\"size\": 14},\n",
    "    showlegend=False\n",
    ")\n",
    "pie_fig.show()"
   ]
  },
  {
   "cell_type": "markdown",
   "id": "46bdf3e1",
   "metadata": {},
   "source": [
    "#### 生活時間サンバーストグラフ"
   ]
  },
  {
   "cell_type": "code",
   "execution_count": null,
   "id": "92d16cdc",
   "metadata": {},
   "outputs": [],
   "source": [
    "# \"0_総数\"、\"R1_(再掲)無償労働(国際比較)\"を除外\n",
    "cat06_cond = ~cat06_meta[\"@code\"].isin([\"0\", \"R1\"])\n",
    "# 階層1について\n",
    "lv_cond = cat06_meta[\"@code\"].str.len() == 1  # コードの長さが1のものを選択\n",
    "timeuse_levels = cat06_meta.loc[cat06_cond & lv_cond, [\"@code\"]]\n",
    "timeuse_levels = timeuse_levels.set_axis([\"level1\"], axis=1)  # 抽出した列の列名を \"level1\" に変更\n",
    "# 階層2,3についてループ処理\n",
    "for lv in range(2, 4):\n",
    "    lv_cond = cat06_meta[\"@code\"].str.len() == lv  # コードの長さがlvの条件を設定\n",
    "    child_code = cat06_meta.loc[cat06_cond & lv_cond, [\"@code\"]]\n",
    "    child_code.columns = [\"level\" + str(lv)]\n",
    "    # 抽出した列の列名をその階層のlevel名に変更\n",
    "    child_code[\"level\" + str(lv - 1)] = child_code[\"level\" + str(lv)].str[: (lv - 1)]\n",
    "    timeuse_levels = timeuse_levels.merge(\n",
    "        child_code, on=\"level\" + str(lv - 1), how=\"left\"\n",
    "    )  # 既存のlevelsデータフレームに新しく作成したchild_codeをマージ\n",
    "# レベル1から3までの各レベルでメタデータと結合し、行動の種類を列名に設定\n",
    "for lv in range(1, 4):\n",
    "    timeuse_levels = timeuse_levels.merge(\n",
    "        cat06_meta[[\"@code\", \"@name\"]],\n",
    "        left_on=\"level\" + str(lv),\n",
    "        right_on=\"@code\",\n",
    "        how=\"left\",\n",
    "    )\n",
    "    timeuse_levels = timeuse_levels.drop(\"@code\", axis=1).rename(\n",
    "        columns={\"@name\": \"行動の種類\" + str(lv)}\n",
    "    )\n",
    "# Nullを前方から補完\n",
    "timeuse_levels = timeuse_levels.ffill(axis=1)\n",
    "timeuse_levels.head()"
   ]
  },
  {
   "cell_type": "code",
   "execution_count": null,
   "id": "d61cdeb1",
   "metadata": {},
   "outputs": [],
   "source": [
    "timeuse_params = {\n",
    "    \"cdCat01\": \"1\",  # 曜日を1_週全体に絞る\n",
    "    \"cdCat02\": \"1\",  # 男女を1_男に絞る\n",
    "    \"cdCat03\": \"0\",  # ふだんの就業状態を'0_総数'に絞る\n",
    "    \"cdCat04\": \"0\",  # ふだんの健康状態を'0_総数'に絞る\n",
    "    \"cdCat05\": \"0\",  # 年齢を'0_総数'に絞る\n",
    "}\n",
    "timeuse_data = get_statsdata(appId, timeuse_statsDataId, params=timeuse_params)\n",
    "timeuse_value = colname_to_japanese(cleansing_statsdata(timeuse_data))"
   ]
  },
  {
   "cell_type": "code",
   "execution_count": null,
   "id": "cee9ee85",
   "metadata": {},
   "outputs": [],
   "source": [
    "act_list = [f\"行動の種類{i}\" for i in range(1, 4)]\n",
    "timeuse_df = timeuse_value.loc[\n",
    "    cat06_cond, [\"行動の種類コード\", \"行動の種類\", \"行動の種類階層レベル\", \"値\"]\n",
    "]\n",
    "lvmerged_timeuse = timeuse_df.merge(\n",
    "    timeuse_levels, left_on=\"行動の種類\", right_on=\"行動の種類3\", how=\"left\"\n",
    ")\n",
    "sunburst_df = lvmerged_timeuse.loc[lvmerged_timeuse[\"行動の種類3\"].notnull(), act_list + [\"値\"]]\n",
    "sunburst_df.head()"
   ]
  },
  {
   "cell_type": "code",
   "execution_count": null,
   "id": "7c1e00ac",
   "metadata": {},
   "outputs": [],
   "source": [
    "sunburst_fig = px.sunburst(sunburst_df, path=act_list, values=\"値\")\n",
    "# サンバースト図の各セグメントに、ラベルとそのセグメントが全体に占める割合を表示する設定を追加\n",
    "sunburst_fig.update_traces(textinfo=\"label+percent root\")\n",
    "sunburst_fig.show()"
   ]
  },
  {
   "cell_type": "markdown",
   "id": "ec833841",
   "metadata": {},
   "source": [
    "#### 生活時間エリアチャート\n"
   ]
  },
  {
   "cell_type": "code",
   "execution_count": null,
   "id": "ac480d37",
   "metadata": {},
   "outputs": [],
   "source": [
    "area_params = {\n",
    "    \"cdCat01\": \"1\",  # 曜日を\"1_週全体\"に絞る\n",
    "    \"cdCat02\": \"1\",  # 男女を\"1_男\"に絞る\n",
    "    \"cdCat03\": \"0\",  # ふだんの就業状態を\"0_総数\"に絞る\n",
    "    \"cdCat04\": \"0\",  # ふだんの健康状態を\"0_総数\"に絞る\n",
    "    \"lvCat06\": \"2\",  # 行動の種類をレベル2に絞る\n",
    "}\n",
    "area_data = get_statsdata(appId, timeuse_statsDataId, params=area_params)\n",
    "area_value = colname_to_japanese(cleansing_statsdata(area_data))\n",
    "# 年齢と行動の種類の重複して集計してしまう項目を除外\n",
    "area_cond = ~area_value[\"行動の種類コード\"].isin(\n",
    "    [\"0\", \"R1\"]\n",
    ")  # \"0_総数\"、\"R1_(再掲)無償労働(国際比較)\"を除外\n",
    "area_cond &= ~area_value[\"年齢\"].isin(\n",
    "    [\"0_総数\", \"R1_(再掲)35歳以上\", \"R2_(再掲)65歳以上\"]\n",
    ")\n",
    "area_df = area_value.loc[area_cond, [\"年齢\", \"行動の種類\", \"値\"]]\n",
    "# 時間を分に変換\n",
    "area_df = area_df.assign(**{\"時間\": area_df[\"値\"] / 60})\n",
    "area_df.head()"
   ]
  },
  {
   "cell_type": "code",
   "execution_count": null,
   "id": "e7d1f744",
   "metadata": {},
   "outputs": [],
   "source": [
    "area_colors = px.colors.qualitative.Plotly + px.colors.qualitative.Pastel\n",
    "area_fig = px.area(\n",
    "    area_df, x=\"年齢\", y=\"時間\", color=\"行動の種類\", color_discrete_sequence=area_colors\n",
    ")\n",
    "area_fig.update_layout(width=1000, height=650, font={\"size\": 14})\n",
    "area_fig.show()"
   ]
  },
  {
   "cell_type": "markdown",
   "id": "da48fdb1",
   "metadata": {},
   "source": [
    "## 労働に関する統計データ\n",
    "\n",
    "- [労働力調査](https://www.stat.go.jp/data/roudou/)\n",
    "- [就業構造基本調査](https://www.stat.go.jp/data/shugyou/2022/index.html)\n",
    "- [毎月勤労統計調査](https://www.mhlw.go.jp/toukei/list/30-1.html)\n",
    "- [賃金構造基本統計調査](https://www.mhlw.go.jp/toukei/list/chinginkouzou.html)\n",
    "- [労働統計局](https://www.bls.gov/)\n",
    "\n",
    "\n",
    "### 労働力調査と失業率\n",
    "\n",
    "- [労働力調査](https://www.stat.go.jp/data/roudou/index.html)\n",
    "- [労働力調査の解説](https://www.stat.go.jp/data/roudou/pdf/hndbk.pdf)\n",
    "- [就業構造基本調査](https://www.stat.go.jp/data/shugyou/2022/gaiyou.html)\n"
   ]
  },
  {
   "cell_type": "code",
   "execution_count": null,
   "id": "5480b333-46e8-4a49-be90-8af7f159943c",
   "metadata": {},
   "outputs": [],
   "source": [
    "labour_force_statsDataId = \"0003005865\" \n",
    "labour_meta = get_metainfo(appId, labour_force_statsDataId)\n",
    "labour_metadata = labour_meta[\"GET_META_INFO\"][\"METADATA_INF\"]\n",
    "labour_total_num = labour_metadata[\"TABLE_INF\"][\"OVERALL_TOTAL_NUMBER\"]\n",
    "labour_total_num"
   ]
  },
  {
   "cell_type": "code",
   "execution_count": null,
   "id": "8160fb47",
   "metadata": {},
   "outputs": [],
   "source": [
    "labour_data = get_statsdata(appId, labour_force_statsDataId)\n",
    "labour_value = colname_to_japanese(cleansing_statsdata(labour_data))\n",
    "labour_value.columns"
   ]
  },
  {
   "cell_type": "code",
   "execution_count": null,
   "id": "4e2a12a8",
   "metadata": {},
   "outputs": [],
   "source": [
    "labour_value = labour_value.assign(**{\n",
    "    \"年\": labour_value[\"時間軸（月次）コード\"].str[:4],\n",
    "    \"月\": labour_value[\"時間軸（月次）コード\"].str[-2:],\n",
    "    \"年月\": lambda df: pd.to_datetime(df[\"年\"] + \"-\" + df[\"月\"])\n",
    "})\n",
    "labour_cond = labour_value[\"就業状態\"] == \"完全失業者\"\n",
    "labour_cond &= labour_value[\"性別\"] == \"総数\"\n",
    "labour_df = labour_value.loc[labour_cond, [\"年月\", \"値\"]]"
   ]
  },
  {
   "cell_type": "markdown",
   "id": "f2381886",
   "metadata": {},
   "source": [
    "### 米国雇用統計\n",
    "\n",
    "- [労働統計局](https://www.bls.gov/)\n",
    "- [BLS Public Data API](https://www.bls.gov/developers/)\n",
    "- [registration page](https://www.bls.gov/developers/api_faqs.htm?#register1)\n",
    "- [Help & Tutorials](https://www.bls.gov/help/hlpforma.htm)\n",
    "- [Accessing the Public Data API with Python](https://www.bls.gov/developers/api_python.htm)\n",
    "\n"
   ]
  },
  {
   "cell_type": "code",
   "execution_count": null,
   "id": "a9b3a17d",
   "metadata": {},
   "outputs": [],
   "source": [
    "# BLS APIを使用してデータを取得する関数を定義\n",
    "def get_bls_data(\n",
    "        bls_api_key: str, series_id: str, start_year: int, end_year: int\n",
    "    ) -> pd.DataFrame:\n",
    "    bls_data_url = \"https://api.bls.gov/publicAPI/v2/timeseries/data/\"\n",
    "    bls_headers = {\"Content-Type\": \"application/json\"}\n",
    "    series_ids = [series_id]\n",
    "    bls_payload = {\n",
    "        \"registrationkey\": bls_api_key,\n",
    "        \"seriesid\": series_ids,\n",
    "        \"startyear\": start_year,\n",
    "        \"endyear\": end_year,\n",
    "        \"catalog\": True,  # データカタログを含める\n",
    "    }\n",
    "    bls_res = requests.post(bls_data_url, data=json.dumps(bls_payload), headers=bls_headers)\n",
    "    bls_json = bls_res.json()\n",
    "    return bls_json\n",
    "\n",
    "bls_json = get_bls_data(bls_api_key, \"LNS14000000\", 2000, 2010)"
   ]
  },
  {
   "cell_type": "code",
   "execution_count": null,
   "id": "71d38404-fa2e-4f35-b812-f16d6b93b234",
   "metadata": {},
   "outputs": [],
   "source": [
    "lns_data1 = pd.DataFrame(bls_json[\"Results\"][\"series\"][0][\"data\"])\n",
    "bls_json2 = get_bls_data(bls_api_key, \"LNS14000000\", 2011, 2024)\n",
    "lns_data2 = pd.DataFrame(bls_json2[\"Results\"][\"series\"][0][\"data\"])\n",
    "lns_data = pd.concat([lns_data1, lns_data2], ignore_index=True)\n",
    "lns_data.head()"
   ]
  },
  {
   "cell_type": "code",
   "execution_count": null,
   "id": "2113a450-2da0-443a-88a5-9c7d623fe471",
   "metadata": {},
   "outputs": [],
   "source": [
    "lns_df = lns_data.assign(\n",
    "    month=lns_data[\"period\"].str.extract(r\"M(\\d+)\").astype(int)\n",
    ").assign(\n",
    "    date=lambda df: pd.to_datetime(\n",
    "        df[\"year\"].astype(str) + \"-\" + df[\"month\"].astype(str) + \"-01\")\n",
    ").sort_values(by=\"date\")\n",
    "unrate = (lns_df[[\"date\", \"value\"]].copy()\n",
    "    .rename(columns={\"date\": \"年月\", \"value\": \"失業率\"})\n",
    "    .assign(**{\"国\": \"米国\"})\n",
    ")\n",
    "unrate.head()"
   ]
  },
  {
   "cell_type": "code",
   "execution_count": null,
   "id": "87973dc3",
   "metadata": {},
   "outputs": [],
   "source": [
    "unrate_jp = (labour_df\n",
    "    .rename(columns={\"値\": \"失業率\"})\n",
    "    .assign(**{\"国\": \"日本\"})\n",
    ")\n",
    "unrate_df = pd.concat([unrate_jp, unrate])"
   ]
  },
  {
   "cell_type": "code",
   "execution_count": null,
   "id": "6e468d58",
   "metadata": {},
   "outputs": [],
   "source": [
    "labour_fig = px.line(unrate_df, x=\"年月\", y=\"失業率\", color=\"国\")\n",
    "labour_fig.update_layout(width=900, height=500, font={\"size\": 18},\n",
    "    xaxis={\"ticksuffix\": \"年\"},\n",
    "    yaxis={\"ticksuffix\": \"%\"}\n",
    ")\n",
    "labour_fig.show()"
   ]
  },
  {
   "cell_type": "markdown",
   "id": "53298b0b",
   "metadata": {},
   "source": [
    "### 毎月勤労統計と賃金\n",
    "\n",
    "- [賃金構造基本調査](https://www.mhlw.go.jp/toukei/list/chinginkouzou.html)\n",
    "- [毎月勤労統計調査](https://www.e-stat.go.jp/stat-search?page=1&toukei=00450071)\n",
    "- [賃金構造基本統計調査と毎月勤労統計調査の相違](https://www.mhlw.go.jp/toukei/list/chinginkouzou_sankou_a.html)\n",
    "- [労働力調査と毎月勤労統計調査の相違](https://www.stat.go.jp/data/roudou/qa-1.html)\n",
    "- [毎月勤労統計調査全国調査で作成している指数等の解説](https://www.mhlw.go.jp/toukei/itiran/roudou/monthly/sisuu/sisuu_r04.html)\n",
    "- [毎月勤労統計調査を巡る不適切な取扱いに係る 事実関係とその評価等に関する報告書](https://www.mhlw.go.jp/content/10108000/000472506.pdf)\n",
    "- [毎月勤労統計調査を巡る不適切な取扱いに係る 事実関係とその評価等に関する追加報告書](https://www.soumu.go.jp/main_content/000605455.pdf)\n"
   ]
  },
  {
   "cell_type": "code",
   "execution_count": null,
   "id": "31a32092",
   "metadata": {},
   "outputs": [],
   "source": [
    "monthly_labour = pd.read_csv(data_path / \"hon-maikin-k-kicho.csv\", encoding=\"shift_jis\")\n",
    "monthly_labour.columns"
   ]
  },
  {
   "cell_type": "code",
   "execution_count": null,
   "id": "8253069f",
   "metadata": {},
   "outputs": [],
   "source": [
    "monthly_labour[\"種別\"].unique()"
   ]
  },
  {
   "cell_type": "code",
   "execution_count": null,
   "id": "7ce1f91a",
   "metadata": {},
   "outputs": [],
   "source": [
    "wage_cond = monthly_labour[\"年\"] >= 2019\n",
    "wage_cond &= monthly_labour[\"年\"] < 2025\n",
    "wage_cond &= monthly_labour[\"種別\"] == \"季節調整済指数伸び率（前月比）\"\n",
    "wage_cond &= monthly_labour[\"産業分類\"].str.startswith(\"TL\")\n",
    "wage_cond &= monthly_labour[\"規模\"] == \"T\"\n",
    "wage_cond &= monthly_labour[\"就業形態\"] == 0\n",
    "wage_ym = monthly_labour.loc[wage_cond, [\"年\", \"月\", \"現金給与総額\"]].assign(**{\n",
    "    \"年月\": lambda df: pd.to_datetime(df[\"年\"].astype(str) + \"-\" + df[\"月\"].astype(str))\n",
    "})\n",
    "wage_ym.tail()"
   ]
  },
  {
   "cell_type": "code",
   "execution_count": null,
   "id": "5ba74c68",
   "metadata": {},
   "outputs": [],
   "source": [
    "wage = wage_ym[[\"年月\", \"現金給与総額\"]].rename(columns={\"現金給与総額\": \"賃金上昇率\"})\n",
    "unemployment_rate = labour_df.rename(columns={\"値\": \"失業率\"})\n",
    "wp_df = wage.merge(unemployment_rate, on=\"年月\", how=\"inner\")"
   ]
  },
  {
   "cell_type": "code",
   "execution_count": null,
   "id": "faaabddb",
   "metadata": {},
   "outputs": [],
   "source": [
    "y = wage[\"年月\"].min().year\n",
    "m = wage[\"年月\"].min().month\n",
    "wpc_fig = px.scatter(wp_df.reset_index(), x=\"失業率\", y=\"賃金上昇率\", color=\"index\")\n",
    "wpc_fig.update_layout(\n",
    "    xaxis={\"ticksuffix\": \"%\"},\n",
    "    yaxis={\"ticksuffix\": \"%\"},\n",
    "    coloraxis={\"colorbar\": {\"title\": {\"text\": f\"経過月数({y}/{m}基準)\"}}},\n",
    ")\n",
    "wpc_fig.show()"
   ]
  },
  {
   "cell_type": "code",
   "execution_count": null,
   "id": "5cea6583-ccd5-4c35-995d-adfad2aa4c23",
   "metadata": {},
   "outputs": [],
   "source": []
  }
 ],
 "metadata": {
  "kernelspec": {
   "display_name": "Python 3 (ipykernel)",
   "language": "python",
   "name": "python3"
  },
  "language_info": {
   "codemirror_mode": {
    "name": "ipython",
    "version": 3
   },
   "file_extension": ".py",
   "mimetype": "text/x-python",
   "name": "python",
   "nbconvert_exporter": "python",
   "pygments_lexer": "ipython3",
   "version": "3.12.10"
  }
 },
 "nbformat": 4,
 "nbformat_minor": 5
}
