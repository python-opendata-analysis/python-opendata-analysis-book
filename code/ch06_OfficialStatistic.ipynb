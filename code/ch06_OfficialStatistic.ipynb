{
 "cells": [
  {
   "cell_type": "markdown",
   "id": "81afd6e9",
   "metadata": {},
   "source": [
    "# オープンデータ・経済統計・公的統計\n",
    "\n",
    "## 経済統計と公的統計とは\n",
    "\n",
    "## 世界の公的機関とオープンデータ\n",
    "\n",
    "## 日本の公的機関とオープンデータ\n",
    "\n",
    "## 日本の公的統計とe-Stat\n",
    "\n",
    "### e-Statとは\n",
    "\n",
    "### e-Stat API機能\n",
    "\n",
    "### e-Stat API登録とアプリケーションID取得\n",
    "\n",
    "### e-Stat APIをPythonで利用する\n"
   ]
  },
  {
   "cell_type": "code",
   "execution_count": null,
   "id": "bda3f675",
   "metadata": {},
   "outputs": [],
   "source": [
    "from urllib.parse import urljoin\n",
    "import requests\n",
    "import pandas as pd"
   ]
  },
  {
   "cell_type": "code",
   "execution_count": null,
   "id": "16af28cd",
   "metadata": {},
   "outputs": [],
   "source": [
    "import os\n",
    "from dotenv import load_dotenv\n",
    "load_dotenv()\n",
    "appId = os.getenv(\"ESTAT_APP_ID\")\n",
    "version = \"3.0\"\n",
    "base_url = f\"https://api.e-stat.go.jp/rest/{version}/\""
   ]
  },
  {
   "cell_type": "markdown",
   "id": "86be9104",
   "metadata": {},
   "source": [
    "#### 統計表情報を取得する"
   ]
  },
  {
   "cell_type": "code",
   "execution_count": null,
   "id": "293010e2-100f-480f-8fa1-796a32c5cb1b",
   "metadata": {},
   "outputs": [],
   "source": [
    "statslist_endpoint = \"app/json/getStatsList\"\n",
    "statslist_url = urljoin(base_url, statslist_endpoint)\n",
    "statslist_params = {\"appId\": appId, \"surveyYears\": 2020, \"limit\":100}\n",
    "statslist_res = requests.get(statslist_url, params=statslist_params)\n",
    "statslist_out = statslist_res.json()"
   ]
  },
  {
   "cell_type": "code",
   "execution_count": null,
   "id": "cf1dbff8",
   "metadata": {},
   "outputs": [],
   "source": [
    "table_inf = pd.json_normalize(statslist_out, \n",
    "    record_path=[\"GET_STATS_LIST\", \"DATALIST_INF\", \"TABLE_INF\"], \n",
    "    sep=\"_\"\n",
    ")\n",
    "table_inf.columns"
   ]
  },
  {
   "cell_type": "code",
   "execution_count": null,
   "id": "e0d9ada3",
   "metadata": {},
   "outputs": [],
   "source": [
    "table_inf[[\"@id\", \"TITLE_SPEC_TABLE_NAME\", \"TITLE_$\",\"OVERALL_TOTAL_NUMBER\"]].head()"
   ]
  },
  {
   "cell_type": "markdown",
   "id": "bbac25b9",
   "metadata": {},
   "source": [
    "#### メタ情報を取得する"
   ]
  },
  {
   "cell_type": "code",
   "execution_count": null,
   "id": "32d0ece9-1ab4-411a-a288-70bbc1923e1a",
   "metadata": {},
   "outputs": [],
   "source": [
    "statsDataId = \"0002070010\"\n",
    "meta_endpoint = \"app/json/getMetaInfo\"\n",
    "meta_url = urljoin(base_url, meta_endpoint)\n",
    "meta_params = {\"appId\": appId, \"statsDataId\": statsDataId}\n",
    "meta_res = requests.get(meta_url, params=meta_params)\n",
    "meta = meta_res.json()\n",
    "meta[\"GET_META_INFO\"][\"METADATA_INF\"][\"TABLE_INF\"].keys()"
   ]
  },
  {
   "cell_type": "code",
   "execution_count": null,
   "id": "67718206",
   "metadata": {},
   "outputs": [],
   "source": [
    "metadata = meta[\"GET_META_INFO\"][\"METADATA_INF\"]\n",
    "overall_total_number = metadata[\"TABLE_INF\"][\"OVERALL_TOTAL_NUMBER\"]\n",
    "overall_total_number"
   ]
  },
  {
   "cell_type": "code",
   "execution_count": null,
   "id": "26809579",
   "metadata": {},
   "outputs": [],
   "source": [
    "[[n, c[\"@id\"], c[\"@name\"]] for n, c in enumerate(metadata[\"CLASS_INF\"][\"CLASS_OBJ\"])]"
   ]
  },
  {
   "cell_type": "code",
   "execution_count": null,
   "id": "bc6d0986",
   "metadata": {},
   "outputs": [],
   "source": [
    "metadata[\"CLASS_INF\"][\"CLASS_OBJ\"][0][\"CLASS\"]"
   ]
  },
  {
   "cell_type": "code",
   "execution_count": null,
   "id": "22d786bc",
   "metadata": {},
   "outputs": [],
   "source": [
    "pd.DataFrame(metadata[\"CLASS_INF\"][\"CLASS_OBJ\"][1][\"CLASS\"]).iloc[15:25, :]"
   ]
  },
  {
   "cell_type": "code",
   "execution_count": null,
   "id": "d1bcd122",
   "metadata": {},
   "outputs": [],
   "source": [
    "pd.DataFrame(metadata[\"CLASS_INF\"][\"CLASS_OBJ\"][2][\"CLASS\"])"
   ]
  },
  {
   "cell_type": "code",
   "execution_count": null,
   "id": "217bd37f",
   "metadata": {},
   "outputs": [],
   "source": [
    "pd.DataFrame(metadata[\"CLASS_INF\"][\"CLASS_OBJ\"][3][\"CLASS\"]).head()"
   ]
  },
  {
   "cell_type": "code",
   "execution_count": null,
   "id": "0d85e9c6",
   "metadata": {},
   "outputs": [],
   "source": [
    "metadata[\"CLASS_INF\"][\"CLASS_OBJ\"][4][\"CLASS\"]"
   ]
  },
  {
   "cell_type": "code",
   "execution_count": null,
   "id": "78813f26",
   "metadata": {},
   "outputs": [],
   "source": [
    "pd.DataFrame(metadata[\"CLASS_INF\"][\"CLASS_OBJ\"][5][\"CLASS\"]).head()"
   ]
  },
  {
   "cell_type": "markdown",
   "id": "57700131",
   "metadata": {},
   "source": [
    "#### 統計データを取得する\n"
   ]
  },
  {
   "cell_type": "code",
   "execution_count": null,
   "id": "f76b0bee-adaa-4af1-889a-4a55e35c494c",
   "metadata": {},
   "outputs": [],
   "source": [
    "statsDataId = \"0002070010\"\n",
    "data_params = {\n",
    "    \"appId\": appId, \n",
    "    \"statsDataId\": statsDataId,\n",
    "    \"lvCat01\": \"4\",  # 用途分類を階層4で絞る\n",
    "    \"cdCat02\": \"04\",  # 世帯区分を二人以上の世帯のうち勤労者世帯（2000年～）で絞る\n",
    "    \"cdCat03\": \"A00\",  # 世帯主の年齢階級を平均で絞る\n",
    "    \"cdTimeFrom\": \"2020000101\",  # 2020年1月以降で絞る\n",
    "    \"cdTimeTo\": \"2022001212\",  #  2022年12月以前で絞る\n",
    "}"
   ]
  },
  {
   "cell_type": "markdown",
   "id": "2d87e320-72b5-4569-837a-ecbb7952eef1",
   "metadata": {},
   "source": [
    "##### CSVで取得する\n"
   ]
  },
  {
   "cell_type": "code",
   "execution_count": null,
   "id": "5a85f5f1-6d3f-4100-9a08-8eb82ff0dcf6",
   "metadata": {},
   "outputs": [],
   "source": [
    "from io import StringIO\n",
    "csv_data_endpoint = \"app/getSimpleStatsData\"\n",
    "csv_data_url = urljoin(base_url, csv_data_endpoint)\n",
    "csv_data_res = requests.get(csv_data_url, params=data_params)\n",
    "print(csv_data_res.text[:1000])"
   ]
  },
  {
   "cell_type": "code",
   "execution_count": null,
   "id": "2e0cba6f-47b7-4ead-a354-ba8de0b6afab",
   "metadata": {},
   "outputs": [],
   "source": [
    "pd.read_csv(StringIO(csv_data_res.text), skiprows=28).head()"
   ]
  },
  {
   "cell_type": "code",
   "execution_count": null,
   "id": "bb83ea94-3cb3-4de9-a4aa-f0a6fa7f50e1",
   "metadata": {},
   "outputs": [],
   "source": [
    "# 最初の[1]で2分割したリストの2つ目を指定し、[1:]で冒頭の改行\\nを除く\n",
    "pd.read_csv(StringIO(csv_data_res.text.split('\"VALUE\"')[1][1:])).head()"
   ]
  },
  {
   "cell_type": "markdown",
   "id": "194acea5-a96b-496c-bc5a-bf89f79d0390",
   "metadata": {},
   "source": [
    "##### JSONで取得する\n"
   ]
  },
  {
   "cell_type": "code",
   "execution_count": null,
   "id": "798ed66f",
   "metadata": {},
   "outputs": [],
   "source": [
    "data_endpoint = \"app/json/getStatsData\"\n",
    "data_url = urljoin(base_url, data_endpoint)\n",
    "data_res = requests.get(data_url, params=data_params)\n",
    "data = data_res.json()"
   ]
  },
  {
   "cell_type": "code",
   "execution_count": null,
   "id": "615c9a43",
   "metadata": {},
   "outputs": [],
   "source": [
    "value_df = pd.json_normalize(data, \n",
    "    record_path=[\"GET_STATS_DATA\", \"STATISTICAL_DATA\", \"DATA_INF\", \"VALUE\"]\n",
    ")\n",
    "value_df.head()"
   ]
  },
  {
   "cell_type": "code",
   "execution_count": null,
   "id": "7295e1f9",
   "metadata": {},
   "outputs": [],
   "source": [
    "value_df = value_df.rename(\n",
    "    columns=lambda col: col.lstrip(\"@\").replace(\"$\", \"value\")\n",
    ")"
   ]
  },
  {
   "cell_type": "code",
   "execution_count": null,
   "id": "9c216cf0",
   "metadata": {},
   "outputs": [],
   "source": [
    "note = data[\"GET_STATS_DATA\"][\"STATISTICAL_DATA\"][\"DATA_INF\"][\"NOTE\"]\n",
    "note"
   ]
  },
  {
   "cell_type": "code",
   "execution_count": null,
   "id": "a0cb7457",
   "metadata": {},
   "outputs": [],
   "source": [
    "import numpy as np\n",
    "note_char = [n[\"@char\"] for n in note]\n",
    "value_df = value_df.assign(**{\n",
    "    \"value\": lambda df: df[\"value\"]\n",
    "        .replace(note_char, np.nan)\n",
    "        .astype(float)\n",
    "})"
   ]
  },
  {
   "cell_type": "code",
   "execution_count": null,
   "id": "88da175d",
   "metadata": {},
   "outputs": [],
   "source": [
    "from typing import List, Dict, Union\n",
    "def missing_to_nan(\n",
    "        value: pd.DataFrame, \n",
    "        note: Union[Dict[str, str], List[Dict[str, str]]]\n",
    "    ) -> pd.DataFrame:\n",
    "    if isinstance(note, list):\n",
    "        note_char = [n[\"@char\"] for n in note]\n",
    "    elif isinstance(note, dict):\n",
    "        note_char = note[\"@char\"]\n",
    "    else:\n",
    "        return value\n",
    "    return value.assign(**{\n",
    "        \"value\": lambda df: df[\"value\"]\n",
    "            .replace(note_char, np.nan)\n",
    "            .astype(float)\n",
    "    })"
   ]
  },
  {
   "cell_type": "code",
   "execution_count": null,
   "id": "71e43fb1",
   "metadata": {},
   "outputs": [],
   "source": [
    "class_obj = data[\"GET_STATS_DATA\"][\"STATISTICAL_DATA\"][\"CLASS_INF\"][\"CLASS_OBJ\"]\n",
    "for co in class_obj:\n",
    "    class_entries  = co[\"CLASS\"]\n",
    "    # \"CLASS\"はlistとdictの場合があります\n",
    "    if isinstance(class_entries, list):\n",
    "        cls_df = pd.DataFrame(class_entries)\n",
    "    elif isinstance(class_entries, dict):\n",
    "        cls_df = pd.DataFrame(pd.Series(class_entries)).T\n",
    "    else:\n",
    "        print(\"Unexpected CLASS type:\", type(class_entries))\n",
    "        continue\n",
    "    cls_df = (cls_df\n",
    "        .set_index(\"@code\")\n",
    "        .rename(columns=lambda col: f\"{co['@name']}{col.lstrip('@')}\")\n",
    "    )\n",
    "    value_df = (value_df\n",
    "        .merge(cls_df, left_on=co[\"@id\"], right_index=True, how=\"left\")\n",
    "        .rename(columns={co[\"@id\"]: f\"{co['@name']}code\"})\n",
    "    )\n",
    "value_df.columns"
   ]
  },
  {
   "cell_type": "code",
   "execution_count": null,
   "id": "fcef1f95",
   "metadata": {},
   "outputs": [],
   "source": [
    "attr_map = {\"value\": \"値\", \"code\": \"コード\", \"name\": \"\", \"level\": \"階層レベル\", \n",
    "    \"unit\": \"単位\", \"parentCode\": \"親コード\", \"addInf\": \"追加情報\", \"tab\": \"表章項目\", \n",
    "    \"cat\": \"分類\", \"area\": \"地域\", \"time\": \"時間軸\", \"annotation\": \"注釈記号\"  \n",
    "}\n",
    "def _convert(c):\n",
    "    for k, v in attr_map.items():\n",
    "        if k in c:\n",
    "            return c.replace(k, v)\n",
    "    return c\n",
    "value_df = value_df.rename(columns=_convert)"
   ]
  },
  {
   "cell_type": "code",
   "execution_count": null,
   "id": "e8fd7bc3",
   "metadata": {},
   "outputs": [],
   "source": [
    "value_df.head(1).T"
   ]
  },
  {
   "cell_type": "markdown",
   "id": "a9b6f2d0",
   "metadata": {},
   "source": [
    "#### 関数を用意する\n"
   ]
  },
  {
   "cell_type": "code",
   "execution_count": null,
   "id": "569a50d0-f838-4f1c-bb46-8445b8eb131e",
   "metadata": {},
   "outputs": [],
   "source": [
    "from estat import (\n",
    "    get_metainfo, \n",
    "    get_statsdata, \n",
    "    cleansing_statsdata, \n",
    "    colname_to_japanese, \n",
    "    create_hierarchy_dataframe\n",
    ")"
   ]
  },
  {
   "cell_type": "code",
   "execution_count": null,
   "id": "8d475e43",
   "metadata": {},
   "outputs": [],
   "source": [
    "statsDataId = \"0002070010\"\n",
    "meta = get_metainfo(appId, statsDataId)\n",
    "medatdata = meta[\"GET_META_INFO\"][\"METADATA_INF\"]\n",
    "total_num = medatdata[\"TABLE_INF\"][\"OVERALL_TOTAL_NUMBER\"]\n",
    "total_num"
   ]
  },
  {
   "cell_type": "code",
   "execution_count": null,
   "id": "15d7cdcd-dee6-48fe-a658-10c0080efb6f",
   "metadata": {},
   "outputs": [],
   "source": [
    "data = get_statsdata(appId, statsDataId)\n",
    "data[\"GET_STATS_DATA\"][\"STATISTICAL_DATA\"][\"RESULT_INF\"][\"NEXT_KEY\"]"
   ]
  },
  {
   "cell_type": "code",
   "execution_count": null,
   "id": "e7b4d90c-388d-408b-af97-4ce35a1a5e88",
   "metadata": {},
   "outputs": [],
   "source": [
    "%%time\n",
    "dfs = []\n",
    "dfs.append(colname_to_japanese(cleansing_statsdata(data)))\n",
    "max_position = 500000\n",
    "while \"NEXT_KEY\" in data[\"GET_STATS_DATA\"][\"STATISTICAL_DATA\"][\"RESULT_INF\"]:\n",
    "    # 10万件を超える場合、次のデータを取得するための開始位置を取得\n",
    "    start_position = data[\"GET_STATS_DATA\"][\"STATISTICAL_DATA\"][\"RESULT_INF\"].get(\"NEXT_KEY\")\n",
    "    print(\"NEXT_KEY: \", start_position)\n",
    "    # 取得データが大きすぎる(max_iterationsを超える)場合は、取得の繰り返しを終了\n",
    "    if start_position > max_position:\n",
    "        break\n",
    "    # 次のデータを取得し、DataFrameのリストに追加\n",
    "    data = get_statsdata(appId, statsDataId, params={\"startPosition\": start_position})\n",
    "    dfs.append(colname_to_japanese(cleansing_statsdata(data)))\n",
    "    \n",
    "# 取得したDataFrameを結合\n",
    "df = pd.concat(dfs)\n",
    "df.shape"
   ]
  },
  {
   "cell_type": "markdown",
   "id": "f9637cef",
   "metadata": {},
   "source": [
    "### 統計Dashboard API\n"
   ]
  },
  {
   "cell_type": "code",
   "execution_count": null,
   "id": "eed38b36-d617-42cc-8bae-c43236175211",
   "metadata": {},
   "outputs": [],
   "source": [
    "indicator_url = \"https://dashboard.e-stat.go.jp/api/1.0/Json/getIndicatorInfo\"\n",
    "indicator_params = {\"StatName\": \"家計調査\"}\n",
    "indicator_res = requests.get(indicator_url, params=indicator_params)\n",
    "indicator = indicator_res.json()\n",
    "indicator_metadata = indicator[\"GET_META_INDICATOR_INF\"][\"METADATA_INF\"]\n",
    "indicator_classobj = indicator_metadata[\"CLASS_INF\"][\"CLASS_OBJ\"][0]\n",
    "print(indicator_classobj[\"@name\"], indicator_classobj[\"@code\"])"
   ]
  },
  {
   "cell_type": "code",
   "execution_count": null,
   "id": "a0bfd224-fb4c-4c62-8ac0-d3febe7406ad",
   "metadata": {},
   "outputs": [],
   "source": [
    "data_url = \"https://dashboard.e-stat.go.jp/api/1.0/Json/getData\"\n",
    "data_params = {\"IndicatorCode\": \"0704010101000010000\", \"TimeFrom\": \"20200100\"}\n",
    "data_res = requests.get(data_url, params=data_params)\n",
    "data = data_res.json()\n",
    "data[\"GET_STATS\"][\"STATISTICAL_DATA\"][\"DATA_INF\"][\"DATA_OBJ\"][:2]"
   ]
  },
  {
   "cell_type": "code",
   "execution_count": null,
   "id": "c8c29e18-2716-4eae-b224-2b942a6fd49c",
   "metadata": {},
   "outputs": [],
   "source": [
    "data_df = pd.DataFrame(\n",
    "    [d[\"VALUE\"] for d in data[\"GET_STATS\"][\"STATISTICAL_DATA\"][\"DATA_INF\"][\"DATA_OBJ\"]]\n",
    ")\n",
    "data_df = data_df.rename(\n",
    "    columns=lambda col: col.lstrip(\"@\").replace(\"$\", \"value\")\n",
    ")\n",
    "data_df.head()"
   ]
  },
  {
   "cell_type": "code",
   "execution_count": null,
   "id": "0e9ccedb-ac6d-4702-bfe4-1f2e5dfe471e",
   "metadata": {},
   "outputs": [],
   "source": [
    "region_url = \"https://dashboard.e-stat.go.jp/api/1.0/Json/getRegionInfo\"\n",
    "region_res = requests.get(region_url)\n",
    "region = region_res.json()\n",
    "region_dfs = []\n",
    "region_co = region[\"GET_META_REGION_INF\"][\"METADATA_INF\"][\"CLASS_INF\"][\"CLASS_OBJ\"]\n",
    "for c in region_co:\n",
    "    region_dfs += [pd.DataFrame(c[\"CLASS\"])]\n",
    "region_df = pd.concat(region_dfs)\n",
    "region_df = region_df.rename(\n",
    "    columns=lambda col: col.lstrip(\"@\").replace(\"name\", \"地域\")\n",
    ")\n",
    "region_df.tail()"
   ]
  },
  {
   "cell_type": "code",
   "execution_count": null,
   "id": "64621d46-6f79-4db8-8ff2-3c279e408b79",
   "metadata": {},
   "outputs": [],
   "source": [
    "data_df = data_df.merge(region_df[[\"regionCode\", \"地域\"]], on=\"regionCode\", how=\"left\")"
   ]
  },
  {
   "cell_type": "code",
   "execution_count": null,
   "id": "dce98fe6",
   "metadata": {},
   "outputs": [],
   "source": [
    "data_df = data_df.assign(**{\n",
    "    \"年\":  lambda df: df[\"time\"].astype(int) // 10000,\n",
    "    \"月\":  lambda df: df[\"time\"].str[4:6].astype(int),\n",
    "    \"年月\": lambda df: pd.to_datetime(\n",
    "        df[\"年\"].astype(str) + \"-\" +\n",
    "        df[\"月\"].astype(str) + \"-01\"\n",
    "    )\n",
    "})\n",
    "data_df.head()"
   ]
  },
  {
   "cell_type": "code",
   "execution_count": null,
   "id": "ef6f7fdc-3d30-4607-9ff0-b38164e97147",
   "metadata": {},
   "outputs": [],
   "source": [
    "socialevent_url = \"https://dashboard.e-stat.go.jp/api/1.0/Json/getSocialEventInfo\"\n",
    "socialevent_params = {\"TimeFrom\": \"20200100\"}\n",
    "socialevent_res = requests.get(socialevent_url, params=socialevent_params)\n",
    "socialevent = socialevent_res.json()\n",
    "socialevent_df = pd.json_normalize(socialevent, \n",
    "    record_path=[\"GET_META_SOCIAL_INFO\", \"METADATA_INF\", \"CLASS_INF\", \"CLASS_OBJ\"]\n",
    ")\n",
    "socialevent_df.drop(\"CLASS\", axis=1)"
   ]
  },
  {
   "cell_type": "code",
   "execution_count": null,
   "id": "ec06a24a-779c-4c38-a6cf-2d0bb6f8bb1a",
   "metadata": {},
   "outputs": [],
   "source": []
  }
 ],
 "metadata": {
  "kernelspec": {
   "display_name": "Python 3 (ipykernel)",
   "language": "python",
   "name": "python3"
  },
  "language_info": {
   "codemirror_mode": {
    "name": "ipython",
    "version": 3
   },
   "file_extension": ".py",
   "mimetype": "text/x-python",
   "name": "python",
   "nbconvert_exporter": "python",
   "pygments_lexer": "ipython3",
   "version": "3.12.10"
  }
 },
 "nbformat": 4,
 "nbformat_minor": 5
}
