{
 "cells": [
  {
   "cell_type": "markdown",
   "metadata": {},
   "source": [
    "# 人口データの取得・可視化・分析\n"
   ]
  },
  {
   "cell_type": "code",
   "execution_count": null,
   "metadata": {},
   "outputs": [],
   "source": [
    "# 環境変数とパス設定に用いるライブラリ\n",
    "import os\n",
    "from dotenv import load_dotenv\n",
    "from pathlib import Path\n",
    "# データ取得に用いるライブラリ\n",
    "import requests\n",
    "# データ処理に用いるライブラリ\n",
    "import numpy as np\n",
    "import pandas as pd\n",
    "# 可視化に用いるライブラリ\n",
    "import plotly\n",
    "import plotly.graph_objs as go\n",
    "import plotly.express as px\n",
    "from plotly.subplots import make_subplots"
   ]
  },
  {
   "cell_type": "code",
   "execution_count": null,
   "metadata": {},
   "outputs": [],
   "source": [
    "from estat import (\n",
    "    get_metainfo,\n",
    "    get_statsdata,\n",
    "    cleansing_statsdata,\n",
    "    colname_to_japanese,\n",
    ")"
   ]
  },
  {
   "cell_type": "code",
   "execution_count": null,
   "metadata": {},
   "outputs": [],
   "source": [
    "load_dotenv()\n",
    "appId = os.getenv(\"ESTAT_APP_ID\")"
   ]
  },
  {
   "cell_type": "code",
   "execution_count": null,
   "metadata": {},
   "outputs": [],
   "source": [
    "current_dir = Path.cwd()\n",
    "data_path = (current_dir / \"data\" / \"ch07\").resolve()"
   ]
  },
  {
   "cell_type": "markdown",
   "metadata": {},
   "source": [
    "## 人口と国勢調査\n",
    "\n",
    "- [国勢調査](https://www.e-stat.go.jp/statistics/00200521)\n",
    "- [令和2 年国勢調査（2020 年）の公表](https://www.stat.go.jp/data/kokusei/2020/pdf/schedule.pdf)\n"
   ]
  },
  {
   "cell_type": "code",
   "execution_count": null,
   "metadata": {},
   "outputs": [],
   "source": [
    "pop_statsDataId = \"0003410380\"\n",
    "pop_meta = get_metainfo(appId, pop_statsDataId)\n",
    "pop_metadata = pop_meta[\"GET_META_INFO\"][\"METADATA_INF\"]\n",
    "pop_total_num = pop_metadata[\"TABLE_INF\"][\"OVERALL_TOTAL_NUMBER\"]\n",
    "pop_total_num"
   ]
  },
  {
   "cell_type": "code",
   "execution_count": null,
   "metadata": {},
   "outputs": [],
   "source": [
    "pop_data = get_statsdata(appId, pop_statsDataId)\n",
    "pop_value = colname_to_japanese(cleansing_statsdata(pop_data))\n",
    "pop_value.columns"
   ]
  },
  {
   "cell_type": "markdown",
   "metadata": {},
   "source": [
    "### 人口ピラミッド\n"
   ]
  },
  {
   "cell_type": "code",
   "execution_count": null,
   "metadata": {},
   "outputs": [],
   "source": [
    "pop_value[\"男女_時系列\"].unique()"
   ]
  },
  {
   "cell_type": "code",
   "execution_count": null,
   "metadata": {},
   "outputs": [],
   "source": [
    "pyramid_cols = [\"年齢（５歳階級）_時系列コード\", \"年齢（５歳階級）_時系列\", \"男女_時系列\", \"値\"]\n",
    "pyramid_cond = pop_value[\"表章項目\"] == \"人口\"\n",
    "pyramid_cond &= pop_value[\"男女_時系列\"] != \"総数\"\n",
    "pyramid_cond &= pop_value[\"年齢（５歳階級）_時系列\"] != \"総数\"\n",
    "pyramid_cond &= ~ pop_value[\"年齢（５歳階級）_時系列\"].str.contains(\"再掲\")\n",
    "pyramid_cond &= pop_value[\"時間軸（調査年）\"] == \"2020年_不詳補完値\"\n",
    "pyramid_df = pop_value.loc[pyramid_cond, pyramid_cols]"
   ]
  },
  {
   "cell_type": "code",
   "execution_count": null,
   "metadata": {},
   "outputs": [],
   "source": [
    "pop_pyramid = pyramid_df.sort_values(\"年齢（５歳階級）_時系列コード\").assign(**\n",
    "    {\"人口\": pyramid_df[\"値\"].mask(pyramid_df[\"男女_時系列\"] == \"男\", -pyramid_df[\"値\"])}\n",
    ").rename(columns={\"年齢（５歳階級）_時系列\": \"年齢（５歳階級）\", \"男女_時系列\": \"性別\"})\n",
    "pop_pyramid.head()"
   ]
  },
  {
   "cell_type": "code",
   "execution_count": null,
   "metadata": {},
   "outputs": [],
   "source": [
    "pyramid_fig = px.bar(\n",
    "    pop_pyramid, \n",
    "    x=\"人口\", \n",
    "    y=\"年齢（５歳階級）\", \n",
    "    color=\"性別\", \n",
    "    orientation=\"h\"  # \"h\"は水平方向(横棒グラフ)\n",
    ")\n",
    "pyramid_fig.update_layout(width=900, height=600, font={\"size\": 14},\n",
    "    xaxis=go.layout.XAxis(\n",
    "       tickvals=[-4_000_000, -2_000_000, 0, 2_000_000, 4_000_000],\n",
    "       ticktext=[\"400万\",\"200万\", \"0\", \"200万\", \"400万\"],\n",
    "    ))\n",
    "pyramid_fig.show()"
   ]
  },
  {
   "cell_type": "markdown",
   "metadata": {},
   "source": [
    "### 人口推移"
   ]
  },
  {
   "cell_type": "code",
   "execution_count": null,
   "metadata": {},
   "outputs": [],
   "source": [
    "pop_cols = [\"時間軸（調査年）コード\", \"年齢（５歳階級）_時系列コード\", \"年齢（５歳階級）_時系列\", \"値\"]\n",
    "pop_cond = pop_value[\"表章項目\"] == \"人口\"\n",
    "pop_cond &= pop_value[\"男女_時系列\"] == \"総数\"\n",
    "pop_cond &= pop_value[\"年齢（５歳階級）_時系列\"] != \"総数\"\n",
    "pop_cond &= ~ pop_value[\"年齢（５歳階級）_時系列\"].str.contains(\"再掲\")\n",
    "pop_cond &= ~ pop_value[\"時間軸（調査年）\"].str.contains(\"不詳補完値\")\n",
    "pop_df = pop_value.loc[pop_cond, pop_cols]"
   ]
  },
  {
   "cell_type": "code",
   "execution_count": null,
   "metadata": {},
   "outputs": [],
   "source": [
    "pop_df = pop_df.assign(**{\n",
    "    \"年\": pop_df[\"時間軸（調査年）コード\"].astype(int) // 1_000_000,\n",
    "    \"年齢（５歳階級）\": pop_df[\"年齢（５歳階級）_時系列コード\"] + \"_\" + pop_df[\"年齢（５歳階級）_時系列\"]\n",
    "})"
   ]
  },
  {
   "cell_type": "code",
   "execution_count": null,
   "metadata": {},
   "outputs": [],
   "source": [
    "pop_colors = px.colors.sequential.dense[:3]\n",
    "pop_colors += px.colors.sequential.matter[:10]\n",
    "pop_colors += px.colors.sequential.deep[:11]\n",
    "pop_fig = px.bar(pop_df, x=\"年\", y=\"値\", color=\"年齢（５歳階級）\", color_discrete_sequence=pop_colors)\n",
    "pop_fig.update_layout(width=900, height=700, font={\"size\": 14},\n",
    "    xaxis={\"ticksuffix\": \"年\", \"title\": None},\n",
    "    yaxis={\"tickformat\": \",.0f\", \"ticksuffix\": \"人\", \"title\": None}\n",
    ")\n",
    "pop_fig.show()"
   ]
  },
  {
   "cell_type": "markdown",
   "metadata": {},
   "source": [
    "## 人口動態\n",
    "\n",
    "- [人口動態調査](https://www.mhlw.go.jp/toukei/list/81-1.html)\n",
    "- [公表](https://www.mhlw.go.jp/toukei/kouhyou/e-stat_81-1.xml)\n"
   ]
  },
  {
   "cell_type": "code",
   "execution_count": null,
   "metadata": {},
   "outputs": [],
   "source": [
    "vital_statsDataId = \"0003411561\"\n",
    "vital_meta = get_metainfo(appId, vital_statsDataId)\n",
    "vital_metadata = vital_meta[\"GET_META_INFO\"][\"METADATA_INF\"]\n",
    "vital_total_num = vital_metadata[\"TABLE_INF\"][\"OVERALL_TOTAL_NUMBER\"]\n",
    "vital_total_num"
   ]
  },
  {
   "cell_type": "code",
   "execution_count": null,
   "metadata": {},
   "outputs": [],
   "source": [
    "vital_data = get_statsdata(appId, vital_statsDataId)\n",
    "vital_value_df = colname_to_japanese(cleansing_statsdata(vital_data))\n",
    "vital_value_df.columns"
   ]
  },
  {
   "cell_type": "markdown",
   "metadata": {},
   "source": [
    "### 出生数と死亡数\n"
   ]
  },
  {
   "cell_type": "code",
   "execution_count": null,
   "metadata": {},
   "outputs": [],
   "source": [
    "vital_value = vital_value_df.assign(**{\n",
    "    \"年\": vital_value[\"時間軸(年次)コード\"].astype(int) // 1_000_000\n",
    "})\n",
    "vital_cond = vital_value[\"人口動態総覧\"].isin([\"出生数\", \"死亡数\"])\n",
    "vital_df = vital_value.loc[vital_cond, [\"年\", \"人口動態総覧\", \"値\"]]\n",
    "vital_df.head()"
   ]
  },
  {
   "cell_type": "code",
   "execution_count": null,
   "metadata": {},
   "outputs": [],
   "source": [
    "vital_delta = vital_value.loc[vital_value[\"人口動態総覧\"] == \"自然増減数\", [\"年\", \"値\"]]\n",
    "delta_pop = vital_delta.sort_values(\"年\").rename(columns={\"値\": \"自然増減数\"})"
   ]
  },
  {
   "cell_type": "code",
   "execution_count": null,
   "metadata": {},
   "outputs": [],
   "source": [
    "vital_fig = px.line(vital_df, x=\"年\", y=\"値\", color=\"人口動態総覧\", markers=True)\n",
    "vital_fig.add_bar(x=delta_pop[\"年\"], y=delta_pop[\"自然増減数\"], name=\"自然増減数\")\n",
    "vital_fig.update_layout(width=1200, height=650, font={\"size\": 24},\n",
    "    xaxis={\"ticksuffix\": \"年\", \"title\": None},\n",
    "    yaxis={\"tickformat\": \",.0f\", \"ticksuffix\": \"人\", \"title\": None}\n",
    ")\n",
    "vital_fig.show()"
   ]
  },
  {
   "cell_type": "markdown",
   "metadata": {},
   "source": [
    "### 合計特殊出生率\n",
    "\n",
    "-[人口置換水準](https://www.ipss.go.jp/syoushika/tohkei/Popular/Popular2020.asp?chap=0)\n"
   ]
  },
  {
   "cell_type": "code",
   "execution_count": null,
   "metadata": {},
   "outputs": [],
   "source": [
    "tfr_cond = vital_value[\"人口動態総覧\"] == \"合計特殊出生率\"\n",
    "tfr_cond &= vital_value[\"値\"].notna()\n",
    "tfr_df = vital_value.loc[tfr_cond, [\"年\", \"人口動態総覧\", \"値\"]]\n",
    "tfr_df.head()"
   ]
  },
  {
   "cell_type": "code",
   "execution_count": null,
   "metadata": {},
   "outputs": [],
   "source": [
    "tfr_fig = px.line(tfr_df, x=\"年\", y=\"値\", color=\"人口動態総覧\")\n",
    "tfr_fig.add_trace(go.Scatter(\n",
    "    x=[1947, 2021], \n",
    "    y=[2.07, 2.07],\n",
    "    mode=\"lines\", \n",
    "    line={\"dash\": \"dash\"},\n",
    "    name=\"人口置換水準\"))\n",
    "tfr_fig.update_layout(width=900, height=450, font={\"size\": 18},\n",
    "    xaxis={\"ticksuffix\": \"年\", \"title\": None},\n",
    "    yaxis= {\"ticksuffix\": \"人\", \"title\": None}\n",
    ")\n",
    "tfr_fig.show()"
   ]
  },
  {
   "cell_type": "markdown",
   "metadata": {},
   "source": [
    "### 婚姻件数と離婚件数\n"
   ]
  },
  {
   "cell_type": "code",
   "execution_count": null,
   "metadata": {},
   "outputs": [],
   "source": [
    "divorce_statsDataId = \"0003411864\"\n",
    "divorce_meta = get_metainfo(appId, divorce_statsDataId)\n",
    "divorce_metadata = divorce_meta[\"GET_META_INFO\"][\"METADATA_INF\"]\n",
    "divorce_total_num = divorce_metadata[\"TABLE_INF\"][\"OVERALL_TOTAL_NUMBER\"]\n",
    "divorce_total_num"
   ]
  },
  {
   "cell_type": "code",
   "execution_count": null,
   "metadata": {},
   "outputs": [],
   "source": [
    "divorce_data = get_statsdata(appId, divorce_statsDataId)\n",
    "divorce_value = colname_to_japanese(cleansing_statsdata(divorce_data))\n",
    "divorce_value.columns"
   ]
  },
  {
   "cell_type": "code",
   "execution_count": null,
   "metadata": {},
   "outputs": [],
   "source": [
    "divorce_cols = [\"時間軸(年次)コード\", \"同居期間コード\", \"同居期間\", \"値\"]\n",
    "divorce_cond = divorce_value[\"単位\"] == \"件\"\n",
    "divorce_cond &= ~divorce_value[\"同居期間\"].isin([\"離婚件数_総数\", \"離婚件数_5年未満\"])\n",
    "divorce_df = divorce_value.loc[divorce_cond, divorce_cols]"
   ]
  },
  {
   "cell_type": "code",
   "execution_count": null,
   "metadata": {},
   "outputs": [],
   "source": [
    "divorce_df = divorce_df.assign(**{\n",
    "    \"同居期間\": divorce_df[\"同居期間コード\"].str[-3:] + \"_\" + divorce_df[\"同居期間\"],\n",
    "    \"年\": divorce_df[\"時間軸(年次)コード\"].astype(int) // 1_000_000\n",
    "})"
   ]
  },
  {
   "cell_type": "code",
   "execution_count": null,
   "metadata": {},
   "outputs": [],
   "source": [
    "marriage_cond = vital_value[\"人口動態総覧\"].isin([\"婚姻件数\", \"離婚件数\"])\n",
    "marriage_cond &= vital_value[\"年\"] >= 1947\n",
    "marriage_df = vital_value.loc[marriage_cond, [\"年\", \"人口動態総覧\", \"値\"]]\n",
    "pivot_df = marriage_df.pivot(columns=\"人口動態総覧\", index=\"年\", values=\"値\")\n",
    "pivot_df.head()"
   ]
  },
  {
   "cell_type": "code",
   "execution_count": null,
   "metadata": {},
   "outputs": [],
   "source": [
    "# サブプロットの作成\n",
    "marriage_fig = make_subplots(rows=1, cols=2, subplot_titles=(\"婚姻・離婚件数\", \"離婚内訳\"))\n",
    "# 左側の婚姻・離婚件数グラフ\n",
    "marriage_fig.add_trace(go.Scatter(\n",
    "    x=pivot_df.index, \n",
    "    y=pivot_df[\"婚姻件数\"],\n",
    "    mode=\"lines\", \n",
    "    name=\"婚姻件数\"\n",
    "), row=1, col=1)\n",
    "marriage_fig.add_trace(go.Scatter(\n",
    "    x=pivot_df.index, \n",
    "    y=pivot_df[\"離婚件数\"],\n",
    "    mode=\"lines\", \n",
    "    name=\"離婚件数\"\n",
    "), row=1, col=1)\n",
    "# 右側の離婚内訳エリアグラフ(matterのカラーが不足するので一つカラーコード追加)\n",
    "divorce_colors = px.colors.sequential.matter + [\"#EF553B\"]\n",
    "for n, t in enumerate(divorce_df[\"同居期間\"].unique()):\n",
    "    df_filtered = divorce_df[divorce_df[\"同居期間\"] == t]\n",
    "    marriage_fig.add_trace(go.Scatter(\n",
    "        x=df_filtered[\"年\"], \n",
    "        y=df_filtered[\"値\"],\n",
    "        name=t, \n",
    "        marker={\"color\": divorce_colors[n]},\n",
    "        stackgroup=\"divorcegroup\"\n",
    "    ), row=1, col=2)\n",
    "marriage_fig.update_layout(width=1200, height=550, font={\"size\": 14})\n",
    "# 左側グラフのX軸とY軸の設定\n",
    "marriage_fig.update_xaxes(ticksuffix=\"年\", row=1, col=1)\n",
    "marriage_fig.update_yaxes(tickformat=\",\", ticksuffix=\"人\", row=1, col=1)\n",
    "# 右側グラフのX軸とY軸の設定\n",
    "marriage_fig.update_xaxes(ticksuffix=\"年\", row=1, col=2)\n",
    "marriage_fig.update_yaxes(tickformat=\",\", ticksuffix=\"人\", row=1, col=2)\n",
    "marriage_fig.show()"
   ]
  },
  {
   "cell_type": "markdown",
   "metadata": {},
   "source": [
    "## 人口推計\n",
    "\n",
    "- [人口推計](https://www.stat.go.jp/data/jinsui/index.html)\n",
    "- [公表](https://www.stat.go.jp/data/kouhyou/e-stat_jinsui.xml)\n"
   ]
  },
  {
   "cell_type": "code",
   "execution_count": null,
   "metadata": {},
   "outputs": [],
   "source": [
    "pop_estimates_statsDataId = \"0003448228\"\n",
    "estimates_meta = get_metainfo(appId, pop_estimates_statsDataId)\n",
    "estimates_metadata = estimates_meta[\"GET_META_INFO\"][\"METADATA_INF\"]\n",
    "estimates_total_num = estimates_metadata[\"TABLE_INF\"][\"OVERALL_TOTAL_NUMBER\"]\n",
    "estimates_total_num"
   ]
  },
  {
   "cell_type": "code",
   "execution_count": null,
   "metadata": {},
   "outputs": [],
   "source": [
    "estimates_data = get_statsdata(appId, pop_estimates_statsDataId)\n",
    "estimates_value = colname_to_japanese(cleansing_statsdata(estimates_data))\n",
    "estimates_value.columns"
   ]
  },
  {
   "cell_type": "code",
   "execution_count": null,
   "metadata": {},
   "outputs": [],
   "source": [
    "estimates_cols = [\"男女別・性比\", \"年齢各歳コード\", \"年齢各歳\", \"値\"]\n",
    "estimates_cond = estimates_value[\"男女別・性比\"].isin([\"男\", \"女\"])\n",
    "estimates_cond &= estimates_value[\"人口\"] == \"総人口\"\n",
    "estimates_cond &= estimates_value[\"時間軸（年月日現在）\"] == \"2024年10月1日現在\"\n",
    "estimates_cond &= estimates_value[\"年齢各歳\"] != \"総数\"\n",
    "estimates_df = estimates_value.loc[estimates_cond, estimates_cols]"
   ]
  },
  {
   "cell_type": "code",
   "execution_count": null,
   "metadata": {},
   "outputs": [],
   "source": [
    "estimates_df = estimates_df.assign(**{\n",
    "    \"人口\": estimates_df[\"値\"].mask(estimates_df[\"男女別・性比\"] == \"男\", -estimates_df[\"値\"]),\n",
    "    \"年齢\": estimates_df[\"年齢各歳コード\"].str[-3:].astype(int) - 1\n",
    "})"
   ]
  },
  {
   "cell_type": "code",
   "execution_count": null,
   "metadata": {},
   "outputs": [],
   "source": [
    "estimates_fig = px.bar(estimates_df, x=\"人口\", y=\"年齢\", color=\"男女別・性比\", orientation=\"h\")\n",
    "estimates_fig.update_layout(width=1000, height=450, font={\"size\": 18},\n",
    "    xaxis=go.layout.XAxis(\n",
    "       tickvals=[-1000, -500, 0, 500, 1000],\n",
    "       ticktext=[\"1000千\",\"500千\", \"0\", \"500千\", \"1000千\"],\n",
    "    ),\n",
    "    yaxis={\"ticksuffix\": \"歳\", \"title\": None}\n",
    ")\n",
    "estimates_fig.show()"
   ]
  },
  {
   "cell_type": "markdown",
   "metadata": {},
   "source": [
    "## 将来推計人口\n",
    "\n",
    "- [国立社会保障・人口問題研究](https://www.ipss.go.jp/)\n",
    "- [国立社会保障・人口問題研究所のサイトの「将来推計人口・世帯数」のページ](https://www.ipss.go.jp/syoushika/tohkei/Mainmenu.asp)\n",
    "- [著作権・リンク許可について](https://www.ipss.go.jp/site-ad/link/anlink.html)\n",
    "- [openpyxl](https://openpyxl.readthedocs.io/en/stable/)\n"
   ]
  },
  {
   "cell_type": "code",
   "execution_count": null,
   "metadata": {},
   "outputs": [],
   "source": [
    "#!pip install openpyxl"
   ]
  },
  {
   "cell_type": "code",
   "execution_count": null,
   "metadata": {},
   "outputs": [],
   "source": [
    "pop_projections_df = pd.read_excel(data_path / \"1-1.xlsx\", header=[0, 1], skiprows=2, skipfooter=2)"
   ]
  },
  {
   "cell_type": "code",
   "execution_count": null,
   "metadata": {},
   "outputs": [],
   "source": [
    "url_path = \"https://www.ipss.go.jp/pp-zenkoku/j/zenkoku2023/db_zenkoku2023/s_tables/1-1.xlsx\"\n",
    "#pop_projections_df = pd.read_excel(url_path, header=[0, 1], skiprows=2, skipfooter=2)\n",
    "pop_projections_df.head()"
   ]
  },
  {
   "cell_type": "code",
   "execution_count": null,
   "metadata": {},
   "outputs": [],
   "source": [
    "pop_projections_df = pop_projections_df.set_axis(\n",
    "    [(i + j.replace(\"Unnamed: 0_level_1\", \"和暦\").replace(\"Unnamed: 1_level_1\", \"西暦\"))\n",
    "      .replace(\"　\", \"\")\n",
    "      for i, j in pop_projections_df.columns],\n",
    "    axis=1\n",
    ")"
   ]
  },
  {
   "cell_type": "code",
   "execution_count": null,
   "metadata": {},
   "outputs": [],
   "source": [
    "value_vars = [\"人口（1,000人）0～14歳\", \"人口（1,000人）15～64歳\", \"人口（1,000人）65歳以上\"]\n",
    "pop_tidy_df = pd.melt(\n",
    "    pop_projections_df, \n",
    "    id_vars=\"年次西暦\", \n",
    "    value_vars=value_vars, \n",
    "    var_name=\"年齢\", \n",
    "    value_name=\"人口\"\n",
    ")\n",
    "pop_tidy_df.tail()"
   ]
  },
  {
   "cell_type": "code",
   "execution_count": null,
   "metadata": {},
   "outputs": [],
   "source": [
    "pop_totals = pop_tidy_df[[\"年次西暦\", \"人口\"]].groupby(\"年次西暦\").sum().reset_index()\n",
    "totals_per_10year = pop_totals.loc[pop_totals[\"年次西暦\"] % 10 == 0]\n",
    "annotations = (totals_per_10year[\"人口\"] // 1000).map(lambda x: f\"{x:.0f}百万\")"
   ]
  },
  {
   "cell_type": "code",
   "execution_count": null,
   "metadata": {},
   "outputs": [],
   "source": [
    "pop_projections_fig = px.bar(pop_tidy_df, x=\"年次西暦\", y=\"人口\", color=\"年齢\")\n",
    "pop_projections_fig.add_trace(go.Scatter(\n",
    "    x=totals_per_10year[\"年次西暦\"],\n",
    "    y=totals_per_10year[\"人口\"] + 5000,\n",
    "    text=annotations,\n",
    "    mode=\"text\",\n",
    "    showlegend=False\n",
    "))\n",
    "pop_projections_fig.update_layout(width=1000, height=400, font={\"size\": 18},\n",
    "    xaxis={\"ticksuffix\": \"年\", \"title\": None},\n",
    "    yaxis={\"tickformat\": \",.0f\", \"ticksuffix\": \"千人\"},\n",
    ")\n",
    "pop_projections_fig.show()"
   ]
  },
  {
   "cell_type": "markdown",
   "metadata": {},
   "source": [
    "## 世界の人口\n",
    "\n",
    "- [World Population Prospects](https://population.un.org/wpp/)\n",
    "- [World Population Prospects サイト 人口のグラフ](https://population.un.org/wpp/graphs)\n",
    "- [download](https://population.un.org/wpp/downloads?folder=Standard%20Projections&group=CSV%20format)\n",
    "- [国際標準化機構](https://www.iso.org/iso-3166-country-codes.html)\n"
   ]
  },
  {
   "cell_type": "code",
   "execution_count": null,
   "metadata": {},
   "outputs": [],
   "source": [
    "world_pop = pd.read_csv(data_path / \"WPP2024_TotalPopulationBySex.csv\", low_memory=False)\n",
    "world_pop.columns"
   ]
  },
  {
   "cell_type": "code",
   "execution_count": null,
   "metadata": {},
   "outputs": [],
   "source": [
    "world_pop[\"ISO3_code\"].unique()[-10:]"
   ]
  },
  {
   "cell_type": "code",
   "execution_count": null,
   "metadata": {},
   "outputs": [],
   "source": [
    "world_pop_cond = world_pop[\"ISO3_code\"].notna()\n",
    "world_pop_cond &= world_pop[\"Variant\"] == \"Medium\"\n",
    "pop_med = world_pop[world_pop_cond]\n",
    "pop_med.iloc[:5, np.r_[0:5, len(pop_med.columns)-5:len(pop_med.columns)]]"
   ]
  },
  {
   "cell_type": "code",
   "execution_count": null,
   "metadata": {},
   "outputs": [],
   "source": [
    "pop_med[\"Location\"].nunique()"
   ]
  },
  {
   "cell_type": "markdown",
   "metadata": {},
   "source": [
    "### 将来人口推移\n"
   ]
  },
  {
   "cell_type": "code",
   "execution_count": null,
   "metadata": {},
   "outputs": [],
   "source": [
    "pop2020 =  pop_med.loc[pop_med[\"Time\"]==2020, [\"ISO3_code\", \"Location\", \"PopTotal\"]]\n",
    "pop2020 = pop2020.assign(**{\"Rank2020\": pop2020[\"PopTotal\"].rank(ascending=False)})\n",
    "pop_rank = pop2020.nlargest(20, \"PopTotal\")"
   ]
  },
  {
   "cell_type": "code",
   "execution_count": null,
   "metadata": {},
   "outputs": [],
   "source": [
    "sorted_df = pop_rank.sort_values(\"PopTotal\")\n",
    "pop_bar_fig = go.Figure(go.Bar(\n",
    "    x=sorted_df[\"PopTotal\"], \n",
    "    y=sorted_df[\"Location\"],\n",
    "    text=sorted_df[\"PopTotal\"].astype(int), \n",
    "    textposition=\"outside\",\n",
    "    orientation=\"h\",\n",
    "))\n",
    "max_value = max(sorted_df[\"PopTotal\"]) * 1.2  # 最大値の120%までx軸を拡張する\n",
    "pop_bar_fig.update_layout(width=800, height=600, font={\"size\": 14},\n",
    "    xaxis={\n",
    "        \"tickformat\": \",.0f\", \n",
    "        \"ticksuffix\": \"千人\",\n",
    "        \"title\": \"人口\", \n",
    "        \"range\": [0, max_value]  # x軸の範囲を手動で設定\n",
    "    },\n",
    "    yaxis_title=\"国\",\n",
    "    margin={\"l\": 100, \"r\": 50}\n",
    ")\n",
    "pop_bar_fig.show()"
   ]
  },
  {
   "cell_type": "code",
   "execution_count": null,
   "metadata": {},
   "outputs": [],
   "source": [
    "pop_top20 = pop_med.merge(pop_rank[[\"Location\", \"Rank2020\"]], on=\"Location\", how=\"inner\")\n",
    "pop_top20.sort_values([\"Rank2020\", \"Time\"], inplace=True)\n",
    "pop_colors = plotly.colors.qualitative.Plotly + plotly.colors.qualitative.Set3\n",
    "pop_line_fig = px.line(\n",
    "    pop_top20, \n",
    "    x=\"Time\", \n",
    "    y=\"PopTotal\",\n",
    "    color=\"Location\", \n",
    "    color_discrete_sequence=pop_colors\n",
    ")\n",
    "pop_line_fig.update_layout(width=900, height=700, font={\"size\": 16},\n",
    "    xaxis={\"ticksuffix\": \"年\", \"title\": None},\n",
    "    yaxis={\"tickformat\": \",.0f\", \"ticksuffix\": \"千人\", \"title\": None}\n",
    ")\n",
    "pop_line_fig.show()"
   ]
  },
  {
   "cell_type": "markdown",
   "metadata": {},
   "source": [
    "### 人口の世界地図"
   ]
  },
  {
   "cell_type": "code",
   "execution_count": null,
   "metadata": {},
   "outputs": [],
   "source": [
    "choropleth_fig = px.choropleth(\n",
    "    pop2020, \n",
    "    color=\"PopTotal\",\n",
    "    locations=\"ISO3_code\", # 位置を ISO 3166-1 alpha-3 形式で指定\n",
    "    hover_name=\"Location\")  # ホバーツールのタイトル\n",
    "choropleth_fig.show()"
   ]
  },
  {
   "cell_type": "code",
   "execution_count": null,
   "metadata": {},
   "outputs": [],
   "source": [
    "pop_geo_fig = px.scatter_geo(\n",
    "    pop_med, \n",
    "    size=\"PopTotal\",  # 要素のサイズ\n",
    "    locations=\"ISO3_code\",  # 位置を ISO 3166-1 alpha-3 形式で指定\n",
    "    hover_name=\"Location\",  # ホバーツールのタイトル\n",
    "    animation_frame=\"Time\")  # アニメーション\n",
    "pop_geo_fig.show()"
   ]
  },
  {
   "cell_type": "markdown",
   "metadata": {},
   "source": [
    "## 生命表と寿命\n",
    "\n",
    "- [生命表](https://www.mhlw.go.jp/toukei/list/list54-57.html)\n",
    "- [公表](https://www.mhlw.go.jp/toukei/kouhyou/e-stat_55-18.xml)\n",
    "- [標準生命表](https://www.actuaries.jp/lib/standard-life-table/)\n",
    "\n",
    "### 完全生命表と簡易生命表\n"
   ]
  },
  {
   "cell_type": "code",
   "execution_count": null,
   "metadata": {},
   "outputs": [],
   "source": [
    "life_table_statsDataId = \"0003109570\" \n",
    "life_meta = get_metainfo(appId, life_table_statsDataId)\n",
    "life_metadata = life_meta[\"GET_META_INFO\"][\"METADATA_INF\"]\n",
    "life_total_num = life_metadata[\"TABLE_INF\"][\"OVERALL_TOTAL_NUMBER\"]\n",
    "life_total_num"
   ]
  },
  {
   "cell_type": "code",
   "execution_count": null,
   "metadata": {},
   "outputs": [],
   "source": [
    "life_data = get_statsdata(appId, life_table_statsDataId)\n",
    "life_value = colname_to_japanese(cleansing_statsdata(life_data))\n",
    "life_value.columns"
   ]
  },
  {
   "cell_type": "code",
   "execution_count": null,
   "metadata": {},
   "outputs": [],
   "source": [
    "life_cols = [\"表章項目\", \"性別\", \"年齢区分（完全生命表）\", \"値\"]\n",
    "life_df = life_value.loc[life_value[\"時間軸（年次）\"]==\"2015年\", life_cols]"
   ]
  },
  {
   "cell_type": "code",
   "execution_count": null,
   "metadata": {},
   "outputs": [],
   "source": [
    "life_df = life_df.assign(**{\n",
    "    \"年齢\": life_df[\"年齢区分（完全生命表）\"].str[:-1].astype(int),\n",
    "    \"週月年\": life_df[\"年齢区分（完全生命表）\"].str[-1]\n",
    "})\n",
    "life_df = life_df.loc[life_df[\"週月年\"]==\"年\", [\"表章項目\", \"性別\", \"年齢\", \"値\"]]"
   ]
  },
  {
   "cell_type": "code",
   "execution_count": null,
   "metadata": {},
   "outputs": [],
   "source": [
    "pivot_df = life_df.pivot(columns=\"表章項目\", index=[\"性別\", \"年齢\"], values=\"値\")\n",
    "pivot_df = (pivot_df\n",
    "    .set_axis([c.replace(\"\\u3000\", \"\") for c in pivot_df.columns], axis=1)\n",
    "    .reset_index()\n",
    ")\n",
    "pivot_df.head()"
   ]
  },
  {
   "cell_type": "code",
   "execution_count": null,
   "metadata": {},
   "outputs": [],
   "source": [
    "def calc_leb(df, gender):\n",
    "    return df.loc[\n",
    "        (df[\"年齢\"]==0)&(df[\"性別\"]==gender), \"平均余命(ex)\"\n",
    "    ].iat[0]\n",
    "lifespan_male = calc_leb(pivot_df, \"男\")\n",
    "lifespan_female = calc_leb(pivot_df, \"女\")\n",
    "print(\"男:\", lifespan_male, \", 女:\", lifespan_female)"
   ]
  },
  {
   "cell_type": "code",
   "execution_count": null,
   "metadata": {},
   "outputs": [],
   "source": [
    "def calc_med_lifespan(df, gender):\n",
    "    data = df[df[\"性別\"] == gender].sort_values(\"年齢\")\n",
    "    half = data[\"生存数(lx)\"].iloc[0] / 2\n",
    "    # 厳密な計算ではありません\n",
    "    return data[data[\"生存数(lx)\"] < half][\"年齢\"].iloc[0]\n",
    "print(\"男:\", calc_med_lifespan(pivot_df, \"男\"), \", 女:\", calc_med_lifespan(pivot_df, \"女\"))"
   ]
  },
  {
   "cell_type": "code",
   "execution_count": null,
   "metadata": {},
   "outputs": [],
   "source": [
    "ndx = pivot_df[[\"性別\", \"年齢\", \"死亡数(ndx)\"]]\n",
    "male_ndx = ndx.loc[ndx[\"性別\"]==\"男\"]\n",
    "female_ndx = ndx.loc[ndx[\"性別\"]==\"女\"]\n",
    "life_fig = go.Figure(data=[\n",
    "    go.Bar(x=male_ndx[\"年齢\"], y=male_ndx[\"死亡数(ndx)\"], name=\"男性\"),\n",
    "    go.Bar(x=female_ndx[\"年齢\"], y=female_ndx[\"死亡数(ndx)\"], name=\"女性\")\n",
    "])\n",
    "life_fig.add_trace(go.Scatter(\n",
    "    x=[lifespan_male, lifespan_male], \n",
    "    y=[0, 5000],\n",
    "    name=\"男性平均寿命\", \n",
    "    mode=\"lines\", line={\"dash\": \"dash\"},\n",
    "    marker_color=px.colors.qualitative.Plotly[0]))\n",
    "life_fig.add_trace(go.Scatter(\n",
    "    x=[lifespan_female, lifespan_female], \n",
    "    y=[0, 5000],\n",
    "    name=\"女性平均寿命\", \n",
    "    mode=\"lines\", line={\"dash\": \"dash\"},\n",
    "    marker_color=px.colors.qualitative.Plotly[1]))\n",
    "life_fig.update_layout(width=800, height=450, font={\"size\": 18},\n",
    "    xaxis={\"ticksuffix\": \"歳\", \"title\": None},\n",
    "    yaxis={\"tickformat\": \",.0f\", \"ticksuffix\": \"人\", \"title\": None},\n",
    "    title=\"10万人あたり死亡数\", \n",
    "    barmode=\"group\"\n",
    ")\n",
    "life_fig.show()"
   ]
  },
  {
   "cell_type": "markdown",
   "metadata": {},
   "source": [
    "### 世界の平均寿命・健康寿命\n",
    "\n",
    "- [GHO](https://www.who.int/data/gho)\n",
    "- [OData API](https://www.who.int/data/gho/info/gho-odata-api)\n",
    "- [Terms and conditions for WHO datasets](https://data.who.int/about/data/terms-and-conditions)\n"
   ]
  },
  {
   "cell_type": "code",
   "execution_count": null,
   "metadata": {},
   "outputs": [],
   "source": [
    "base_url = \"https://ghoapi.azureedge.net/api/\"\n",
    "contain_name = \"Life expectancy\"\n",
    "contain_params = {\"$filter\": f\"contains(IndicatorName,'{contain_name}')\"}\n",
    "indicator_contain_res = requests.get(base_url + \"Indicator\", params=contain_params)\n",
    "indicator_contain_res.json()"
   ]
  },
  {
   "cell_type": "code",
   "execution_count": null,
   "metadata": {},
   "outputs": [],
   "source": [
    "eq_name = \"Life expectancy at birth (years)\"\n",
    "eq_params = {\"$filter\": f\"IndicatorName eq '{eq_name}'\"}\n",
    "indicator_eq_res = requests.get(base_url + \"Indicator\", params=eq_params)\n",
    "indicator_eq_res.json()"
   ]
  },
  {
   "cell_type": "code",
   "execution_count": null,
   "metadata": {},
   "outputs": [],
   "source": [
    "lifeexp_res = requests.get(base_url + \"WHOSIS_000001\")\n",
    "lifeexp_value = pd.json_normalize(lifeexp_res.json(), record_path=[\"value\"])\n",
    "lifeexp_value.columns"
   ]
  },
  {
   "cell_type": "code",
   "execution_count": null,
   "metadata": {},
   "outputs": [],
   "source": [
    "lifeexp_cond = lifeexp_value[\"TimeDim\"] == 2020\n",
    "lifeexp_cond &= lifeexp_value[\"Dim1\"] == \"SEX_BTSX\"\n",
    "lifeexp_df = lifeexp_value.loc[lifeexp_cond, [\"Dim1\", \"SpatialDim\", \"NumericValue\"]]\n",
    "lifeexp_df.head()"
   ]
  },
  {
   "cell_type": "code",
   "execution_count": null,
   "metadata": {},
   "outputs": [],
   "source": [
    "country_df = pop2020.merge(lifeexp_df, left_on=\"ISO3_code\", right_on=\"SpatialDim\", how=\"inner\")\n",
    "top30_df = country_df.nlargest(30, \"PopTotal\").loc[:, [\"Location\", \"PopTotal\", \"NumericValue\"]]"
   ]
  },
  {
   "cell_type": "code",
   "execution_count": null,
   "metadata": {},
   "outputs": [],
   "source": [
    "lifeexp_fig = px.scatter(\n",
    "    x=top30_df[\"PopTotal\"], \n",
    "    y=top30_df[\"NumericValue\"], \n",
    "    text=top30_df[\"Location\"]\n",
    ")\n",
    "lifeexp_fig.update_traces(textposition=\"bottom right\")\n",
    "lifeexp_fig.update_layout(width=800, height=600, font={\"size\": 14},\n",
    "    xaxis={\n",
    "        \"tickformat\": \",.0f\", \n",
    "        \"ticksuffix\": \"千人\", \n",
    "        \"title\": \"人口\", \n",
    "        \"range\": [0, top30_df[\"PopTotal\"].max() * 1.1]\n",
    "    },\n",
    "    yaxis={\"ticksuffix\": \"歳\", \"title\": \"平均寿命\"}\n",
    ")\n",
    "lifeexp_fig.show()"
   ]
  },
  {
   "cell_type": "code",
   "execution_count": null,
   "metadata": {},
   "outputs": [],
   "source": [
    "contain_healthy = \"Healthy\"\n",
    "healthy_params = {\"$filter\": f\"contains(IndicatorName,'{contain_name}')\"}\n",
    "healthy_res = requests.get(base_url + \"Indicator\", params=contain_params)\n",
    "healthy_res.json()"
   ]
  },
  {
   "cell_type": "code",
   "execution_count": null,
   "metadata": {},
   "outputs": [],
   "source": [
    "hale_res = requests.get(base_url + \"WHOSIS_000002\")\n",
    "hale_value = pd.json_normalize(hale_res.json(), record_path=[\"value\"])\n",
    "cond = hale_value[\"TimeDim\"] == 2020\n",
    "cond &= hale_value[\"Dim1\"] != \"BTSX\"\n",
    "hale_df = hale_value.loc[cond, [\"Dim1\", \"SpatialDim\", \"NumericValue\"]]\n",
    "hale_df.head()"
   ]
  },
  {
   "cell_type": "markdown",
   "metadata": {},
   "source": [
    "\n",
    "- [保健指標評価研究所]((https://www.healthdata.org/))\n",
    "- [ihme_data](https://ghdx.healthdata.org/ihme_data)\n",
    "- [terms-and-conditions](https://www.healthdata.org/data-tools-practices/data-practices/terms-and-conditions)\n"
   ]
  },
  {
   "cell_type": "markdown",
   "metadata": {},
   "source": [
    "## 疾病と感染症\n",
    "\n",
    "### 人口動態と死因の国際疾病分類\n",
    "\n",
    "- [International\n",
    "Statistical Classification of Diseases and Related Health Problems：ICD](https://www.mhlw.go.jp/toukei/sippei/)\n",
    "\n",
    "#### 死因年次推移\n"
   ]
  },
  {
   "cell_type": "code",
   "execution_count": null,
   "metadata": {},
   "outputs": [],
   "source": [
    "disease_statsDataId = \"0003411656\"\n",
    "disease_meta = get_metainfo(appId, disease_statsDataId)\n",
    "disease_metadata = disease_meta[\"GET_META_INFO\"][\"METADATA_INF\"]\n",
    "disease_total_num = disease_metadata[\"TABLE_INF\"][\"OVERALL_TOTAL_NUMBER\"]\n",
    "disease_total_num"
   ]
  },
  {
   "cell_type": "code",
   "execution_count": null,
   "metadata": {},
   "outputs": [],
   "source": [
    "disease_data = get_statsdata(appId, disease_statsDataId)\n",
    "disease_value = colname_to_japanese(cleansing_statsdata(disease_data))\n",
    "disease_value.columns"
   ]
  },
  {
   "cell_type": "code",
   "execution_count": null,
   "metadata": {},
   "outputs": [],
   "source": [
    "disease_cond = disease_value[\"死因年次推移分類\"] != \"総数\"\n",
    "disease_cond &= disease_value[\"単位\"] == \"人口10万対\"\n",
    "disease_cond &= disease_value[\"性別\"] == \"総数\"\n",
    "disease_df = disease_value.loc[\n",
    "    disease_cond, [\"死因年次推移分類\", \"時間軸(年次)コード\", \"値\"]\n",
    "].sort_values([\"時間軸(年次)コード\", \"死因年次推移分類\"])\n",
    "disease_df = disease_df.assign(**{\n",
    "    \"年\": disease_df[\"時間軸(年次)コード\"].astype(int) // 1_000_000\n",
    "})\n",
    "disease_df.head()"
   ]
  },
  {
   "cell_type": "code",
   "execution_count": null,
   "metadata": {},
   "outputs": [],
   "source": [
    "disease_colors = px.colors.qualitative.Plotly + px.colors.qualitative.Set3\n",
    "disease_fig = px.line(disease_df, x=\"年\", y=\"値\",\n",
    "    color=\"死因年次推移分類\", color_discrete_sequence=disease_colors)\n",
    "disease_fig.update_layout(width=900, height=600, font={\"size\": 16},\n",
    "    xaxis={\"ticksuffix\": \"年\", \"title\": None},\n",
    "    yaxis={\"ticksuffix\": \"人\", \"tickformat\": \",.0f\", \"title\": \"人口10万対\"}\n",
    ")\n",
    "disease_fig.show()"
   ]
  },
  {
   "cell_type": "markdown",
   "metadata": {},
   "source": [
    "#### 年齢ごと死因\n"
   ]
  },
  {
   "cell_type": "code",
   "execution_count": null,
   "metadata": {},
   "outputs": [],
   "source": [
    "icd_statsDataId = \"0003411691\"\n",
    "icd_meta = get_metainfo(appId, icd_statsDataId)\n",
    "icd_metadata = icd_meta[\"GET_META_INFO\"][\"METADATA_INF\"]\n",
    "icd_total_num = icd_metadata[\"TABLE_INF\"][\"OVERALL_TOTAL_NUMBER\"]\n",
    "icd_total_num"
   ]
  },
  {
   "cell_type": "code",
   "execution_count": null,
   "metadata": {},
   "outputs": [],
   "source": [
    "%%time\n",
    "icd_statsDataIds = [\"0003411691\", \"0003411692\", \"0003411693\", \"0004018620\"]\n",
    "icd_params = {\"lvCat03\": \"3\", \"cdTime\": \"2023000000\"}\n",
    "cat = \"死因基本分類\"\n",
    "icd_dfs = []\n",
    "for n, sdi in enumerate(icd_statsDataIds):\n",
    "    print(sdi, \"取得開始\")\n",
    "    icd_data = get_statsdata(appId, sdi, params=icd_params)\n",
    "    icd_value = colname_to_japanese(cleansing_statsdata(icd_data))\n",
    "    icd_cols = [\"年齢(5歳階級)\", \"性別\", f\"死因基本分類_{n+1}\", \"値\"]\n",
    "    icd_cond = icd_value[\"性別\"] != \"総数\"\n",
    "    icd_cond &= ~icd_value[\"年齢(5歳階級)\"].isin([\"総数\", \"不詳\"])\n",
    "    icd_df = icd_value.loc[icd_cond, icd_cols].rename(columns={f\"{cat}_{n+1}\": cat})\n",
    "    icd_dfs += [icd_df]\n",
    "icd = pd.concat(icd_dfs)\n",
    "icd.head()"
   ]
  },
  {
   "cell_type": "code",
   "execution_count": null,
   "metadata": {},
   "outputs": [],
   "source": [
    "age_dict = {\n",
    "    \"0～4歳\": [\"0～4歳\"],\n",
    "    \"5～9歳\": [\"5～9歳\"],\n",
    "    \"10～19歳\": [\"10～14歳\", \"15～19歳\"],\n",
    "    \"20～29歳\": [\"20～24歳\", \"25～29歳\"],\n",
    "    \"30～39歳\": [\"30～34歳\", \"35～39歳\"],\n",
    "    \"40～49歳\": [\"40～44歳\", \"45～49歳\"],\n",
    "    \"50～69歳\": [\"50～54歳\", \"55～59歳\", \"60～64歳\", \"65～69歳\"],\n",
    "    \"70～89歳\": [\"70～74歳\", \"75～79歳\", \"80～84歳\", \"85～89歳\"],\n",
    "    \"90～歳\": [\"90～94歳\", \"95～99歳\", \"100歳以上\"],\n",
    "}"
   ]
  },
  {
   "cell_type": "code",
   "execution_count": null,
   "metadata": {},
   "outputs": [],
   "source": [
    "def top_causes_by_age(icd, age_dict, cat, sex, top_n=5):\n",
    "    death_cause = []\n",
    "    for age_label, age_list in age_dict.items():\n",
    "        cond = icd[\"年齢(5歳階級)\"].isin(age_list) & (icd[\"性別\"] == sex)\n",
    "        icd_rank = (icd\n",
    "            .loc[cond, [cat, \"値\"]]\n",
    "            .groupby(cat, as_index=False).sum()\n",
    "            .sort_values(\"値\", ascending=False)\n",
    "        )\n",
    "        top = icd_rank[cat].head(top_n).reset_index(drop=True)\n",
    "        top.name = age_label\n",
    "        death_cause.append(top)\n",
    "    return pd.concat(death_cause, axis=1)\n",
    "top_causes_by_age(icd, age_dict, cat, sex=\"男\")"
   ]
  },
  {
   "cell_type": "code",
   "execution_count": null,
   "metadata": {},
   "outputs": [],
   "source": [
    "top_causes_by_age(icd, age_dict, cat, sex=\"女\")"
   ]
  },
  {
   "cell_type": "markdown",
   "metadata": {},
   "source": [
    "### COVID-19\n",
    "\n",
    "\n",
    "#### 厚生労働省のCOVID-19データ\n",
    "\n",
    "- [厚生労働省のCOVID-19 のオープンデータのサイト](https://www.mhlw.go.jp/stf/covid-19/open-data.html)\n"
   ]
  },
  {
   "cell_type": "code",
   "execution_count": null,
   "metadata": {},
   "outputs": [],
   "source": [
    "covid_path = data_path / \"severe_cases_daily.csv\"\n",
    "#covid_path = \"https://covid19.mhlw.go.jp/public/opendata/severe_cases_daily.csv\"\n",
    "covid_df = pd.read_csv(covid_path, parse_dates=[\"Date\"])\n",
    "covid_tidy = (covid_df[[\"Date\", \"ALL\"]]\n",
    "    .rename(columns={\"ALL\": \"重症者数の推移\"})\n",
    "    .set_index(\"Date\")\n",
    "    .resample(\"MS\").sum()\n",
    "    .reset_index()\n",
    ")\n",
    "covid_tidy.head()"
   ]
  },
  {
   "cell_type": "markdown",
   "metadata": {},
   "source": [
    "#### WHOのCOVID-19データ\n",
    "\n",
    "- [WHO のサイト](https://data.who.int/dashboards/covid19/data)\n"
   ]
  },
  {
   "cell_type": "code",
   "execution_count": null,
   "metadata": {},
   "outputs": [],
   "source": [
    "csvname = \"WHO-COVID-19-global-daily-data.csv\"\n",
    "who_covid_data = pd.read_csv(data_path / csvname, parse_dates=[\"Date_reported\"])\n",
    "who_covid_data.head()"
   ]
  },
  {
   "cell_type": "code",
   "execution_count": null,
   "metadata": {},
   "outputs": [],
   "source": [
    "max_deaths = (who_covid_data\n",
    "    .sort_values(\"Date_reported\")[[\"Country\", \"Cumulative_deaths\"]]\n",
    "    .groupby(\"Country\").last()\n",
    "    .reset_index()\n",
    ")\n",
    "rank_deaths = max_deaths.nlargest(25, \"Cumulative_deaths\")\n",
    "who_covid_daily = rank_deaths.merge(who_covid_data, on=\"Country\", suffixes=(\"_rank\", \"\"))\n",
    "who_covid_monthly = (who_covid_daily[[\"Date_reported\", \"Country\", \"New_deaths\"]]\n",
    "    .groupby([pd.Grouper(key=\"Date_reported\", freq=\"ME\"), \"Country\"]).sum()\n",
    "    .reset_index()\n",
    ")"
   ]
  },
  {
   "cell_type": "code",
   "execution_count": null,
   "metadata": {},
   "outputs": [],
   "source": [
    "covid_fig = px.line(who_covid_monthly, x=\"Date_reported\", y=\"New_deaths\", \n",
    "    color=\"Country\", color_discrete_sequence=px.colors.qualitative.Alphabet)\n",
    "covid_fig.update_layout(width=1200, height=800, font={\"size\": 16},\n",
    "    xaxis={\"ticksuffix\": \"年\"},\n",
    "    yaxis={\"tickformat\": \",.0f\", \"ticksuffix\": \"人\"}\n",
    ")\n",
    "covid_fig.show()"
   ]
  },
  {
   "cell_type": "code",
   "execution_count": null,
   "metadata": {},
   "outputs": [],
   "source": []
  }
 ],
 "metadata": {
  "kernelspec": {
   "display_name": "Python 3 (ipykernel)",
   "language": "python",
   "name": "python3"
  },
  "language_info": {
   "codemirror_mode": {
    "name": "ipython",
    "version": 3
   },
   "file_extension": ".py",
   "mimetype": "text/x-python",
   "name": "python",
   "nbconvert_exporter": "python",
   "pygments_lexer": "ipython3",
   "version": "3.12.10"
  },
  "widgets": {
   "application/vnd.jupyter.widget-state+json": {
    "state": {},
    "version_major": 2,
    "version_minor": 0
   }
  }
 },
 "nbformat": 4,
 "nbformat_minor": 4
}
