{
 "cells": [
  {
   "cell_type": "markdown",
   "id": "81afd6e9",
   "metadata": {},
   "source": [
    "# オープンデータ・経済統計・公的統計\n",
    "\n",
    "## 経済統計と公的統計とは\n",
    "\n",
    "[統計法](https://www.soumu.go.jp/toukei_toukatsu/index/seido/1-1n.htm)\n",
    "\n",
    "## 世界の公的機関とオープンデータ\n",
    "\n",
    "### 国際連合のデータ\n",
    "\n",
    "- [国際連合](https://www.un.org/en/)\n",
    "- [国際連合 加盟国一覧](https://www.unic.or.jp/info/un/un_organization/member_nations/)\n",
    "- [国際連合 専門機関および関連機関](https://www.unic.or.jp/info/un/unsystem/specialized_agencies/)\n",
    "- [UNdata](http://data.un.org/Default.aspx)\n",
    "- [国連経済社会局人口部](https://www.un.org/development/desa/pd/)\n",
    "- [World Population Prospects](https://population.un.org/wpp/)\n",
    "- [World Population Prospects Download Files](https://population.un.org/wpp/downloads)\n",
    "\n",
    "### Data CommonsとUN Data Commons for the SDGs\n",
    "\n",
    "- [Data Commons](https://datacommons.org/)\n",
    "- [Data Commons API](https://docs.datacommons.org/api/)\n",
    "- [UN Data Commons for the SDGs](https://unstats.un.org/UNSDWebsite/undatacommons/sdgs)\n",
    "\n",
    "### 世界銀行のデータ\n",
    "\n",
    "- [世界銀行](https://www.worldbank.org/)\n",
    "- [World Bank Open Data](https://data.worldbank.org/)\n",
    "- [DataBank](https://databank.worldbank.org/)\n",
    "- [World Bank Data Catalog](https://datacatalog.worldbank.org/)\n",
    "- [World Bank API](https://datahelpdesk.worldbank.org/knowledgebase/topics/125589-developer-information)\n",
    "\n",
    "### 国際通貨基金（I MF）のデータ\n",
    "\n",
    "- [国際通貨基金](https://www.imf.org/ja/Home)\n",
    "- [IMF DATA](https://www.imf.org/en/Data)\n",
    "\n",
    "### 世界保健機関（WHO）のデータ\n",
    "\n",
    "- [世界保健機関](https://www.who.int/)\n",
    "- [data.who.int](https://data.who.int/)\n",
    "- [WHO のData ページ](https://www.who.int/data)\n",
    "- [COVID-19 のダッシュボード](https://covid19.who.int/)\n",
    "\n",
    "### 世界貿易機関（WTO）のデータ\n",
    "\n",
    "- [世界貿易機関](https://www.wto.org/)\n",
    "- [WTO Data](https://data.wto.org/en)\n",
    "- [WTO Stats ポータルサイト](https://stats.wto.org/)\n",
    "\n",
    "### 経済協力開発機構（OECD）のデータ\n",
    "\n",
    "- [経済協力開発機構](https://www.oecd.org/)\n",
    "- [OECD Data](https://data.oecd.org/)\n",
    "\n",
    "### 欧州連合（EU）のEurostat\n",
    "\n",
    "- [欧州連合](https://european-union.europa.eu/index_en)\n",
    "- [Eurostat](https://ec.europa.eu/eurostat)\n",
    "- [Eurostat のDataサイト](https://ec.europa.eu/eurostat/web/main/data)\n",
    "\n",
    "### 米国統計局のデータ\n",
    "\n",
    "- [商務省](https://www.commerce.gov/)\n",
    "- [国勢調査局](https://www.census.gov/)\n",
    "- [経済分析局](https://www.bea.gov/)\n",
    "- [USCB API](https://www.census.gov/data.html)\n",
    "- [BEA API](https://www.bea.gov/tools)\n",
    "- [Commerce Data Hub](https://data.commerce.gov/)\n",
    "- [労働統計局](https://www.bls.gov/)\n",
    "- [BLS Public Data API](https://www.bls.gov/developers/home.htm)\n",
    "\n",
    "### 米国FRBのFRED\n",
    "\n",
    "- [連邦準備制度理事会](https://www.federalreserve.gov/)\n",
    "- [セントルイス連邦準備銀行](https://www.stlouisfed.org/)\n",
    "- [FRED](https://fred.stlouisfed.org/)\n",
    "\n",
    "## 日本の公的機関とオープンデータ\n",
    "\n",
    "### 政府統計の総合窓口e-Stat\n",
    "\n",
    "- [政府統計の総合窓口e-Stat](https://www.e-stat.go.jp/)\n",
    "- [総務省統計局](https://www.stat.go.jp/)\n",
    "\n",
    "### 金融・市場データ\n",
    "\n",
    "- [日本銀行の時系列統計データ検索サイト](https://www.stat-search.boj.or.jp/index.html)\n",
    "- [EDINET](https://disclosure2.edinet-fsa.go.jp/WEEK0010.aspx)\n",
    "- [J-Quants](https://jpx-jquants.com/)\n",
    "- [投信総合検索ライブラリー](https://toushin-lib.fwg.ne.jp/FdsWeb/)\n",
    "\n",
    "### 法人・産業データ\n",
    "\n",
    "- [法人番号公表サイト](https://www.houjin-bangou.nta.go.jp/)\n",
    "- [EDINET](https://disclosure2.edinet-fsa.go.jp/weee0010.aspx)\n",
    "- [日本年金機構](https://www.nenkin.go.jp/index.html)\n",
    "- [厚生年金保険・健康保険適用事業所検索システム](https://www2.nenkin.go.jp/do/search_section/)\n",
    "- [gBizINFO](https://info.gbiz.go.jp/)\n",
    "- [gBizINFO の出典元](https://info.gbiz.go.jp/resource/index.html)\n",
    "- [gBizINFO API](https://info.gbiz.go.jp/api/index.html)\n",
    "\n",
    "### 地理・気象データ\n",
    "\n",
    "- [国土交通省](https://www.mlit.go.jp/)\n",
    "- [国土数値情報ダウンロードサイト](https://nlftp.mlit.go.jp/)\n",
    "- [国土交通省のGIS](https://nlftp.mlit.go.jp/kokjo/inspect/landclassification/download.html)\n",
    "- [e-Stat GIS](https://www.e-stat.go.jp/gis)\n",
    "- [不動産情報ライブラリ](https://www.reinfolib.mlit.go.jp/)\n",
    "- [不動産情報ライブラリ API](https://www.reinfolib.mlit.go.jp/help/apiManual/)\n",
    "- [国土地理院](https://www.gsi.go.jp/)\n",
    "- [地理院地図](https://maps.gsi.go.jp/)\n",
    "- [国土地理院 GitHub アカウント](https://github.com/gsi-cyberjapan)\n",
    "- [地理院地図 GitHub リポジトリ](https://github.com/gsi-cyberjapan/gsimaps)\n",
    "- [東京大学空間情報科学研究センター](https://www.csis.u-tokyo.ac.jp/)\n",
    "- [シンプルジオコーディング](https://geocode.csis.u-tokyo.ac.jp/home/simple-geocoding/)\n",
    "- [地理院地図とシンプルジオコーディング](https://github.com/gsi-cyberjapan/gsimaps/issues/29)\n",
    "- [気象庁](https://www.jma.go.jp/jma/index.html)\n",
    "- [気象庁の数値データページへのリンク集](https://www.jma.go.jp/jma/menu/arcdata.html)\n",
    "- [郵便番号・デジタルアドレスAPI](https://guide-biz.da.pf.japanpost.jp/api/)\n",
    "\n",
    "### 地方のデータとRESAS\n",
    "\n",
    "- [地域経済分析システムRESAS](https://resas.go.jp/)\n",
    "- [東京都オープンデータカタログサイト](https://portal.data.metro.tokyo.lg.jp/)\n",
    "- [e-Govポータル データベースサイト一覧](https://data.e-gov.go.jp/info/databasesite)\n",
    "\n",
    "### デジタル庁のe-GovポータルとJapan Dashboard\n",
    "\n",
    "- [e-Gov ポータル](https://www.e-gov.go.jp/)\n",
    "- [デジタル庁](https://www.digital.go.jp/)\n",
    "- [e-Gov ポータル 統計に関するページ](https://www.e-gov.go.jp/about-government/statistics.html)\n",
    "- [Japan Dashboard](https://www.digital.go.jp/resources/japandashboard)\n",
    "\n",
    "## 日本の公的統計とe-Stat\n",
    "\n",
    "### e-Statとは\n",
    "\n",
    "- [政府統計の総合窓口 e-Stat](https://www.e-stat.go.jp/)\n",
    "- [総務省統計局](https://www.stat.go.jp/)\n",
    "- [独立行政法人統計センター](https://www.nstac.go.jp/)\n",
    "- [利用ガイドのページ](https://www.e-stat.go.jp/usageguide)\n",
    "- [統計ダッシュボード](https://dashboard.e-stat.go.jp/)\n",
    "- [ユーザ登録](https://www.e-stat.go.jp/mypage/user/preregister/)\n",
    "\n",
    "### e-Stat API機能\n",
    "\n",
    "- [e-Stat API機能](https://www.e-stat.go.jp/api/)\n",
    "\n",
    "### e-Stat API登録とアプリケーションID取得\n",
    "\n",
    "- [政府統計の総合窓口(e-Stat)API 機能利用規約](https://www.e-stat.go.jp/api/terms-of-use)\n",
    "- [マイページへのログイン画面](https://www.e-stat.go.jp/mypage/login)\n",
    "\n",
    "### e-Stat APIをPythonで利用する\n"
   ]
  },
  {
   "cell_type": "code",
   "execution_count": null,
   "id": "bda3f675",
   "metadata": {},
   "outputs": [],
   "source": [
    "from urllib.parse import urljoin\n",
    "import requests\n",
    "import pandas as pd"
   ]
  },
  {
   "cell_type": "code",
   "execution_count": null,
   "id": "16af28cd",
   "metadata": {},
   "outputs": [],
   "source": [
    "import os\n",
    "from dotenv import load_dotenv\n",
    "load_dotenv()\n",
    "appId = os.getenv(\"ESTAT_APP_ID\")\n",
    "version = \"3.0\"\n",
    "base_url = f\"https://api.e-stat.go.jp/rest/{version}/\""
   ]
  },
  {
   "cell_type": "markdown",
   "id": "86be9104",
   "metadata": {},
   "source": [
    "#### 統計表情報を取得する"
   ]
  },
  {
   "cell_type": "code",
   "execution_count": null,
   "id": "293010e2-100f-480f-8fa1-796a32c5cb1b",
   "metadata": {},
   "outputs": [],
   "source": [
    "statslist_endpoint = \"app/json/getStatsList\"\n",
    "statslist_url = urljoin(base_url, statslist_endpoint)\n",
    "statslist_params = {\"appId\": appId, \"surveyYears\": 2020, \"limit\":100}\n",
    "statslist_res = requests.get(statslist_url, params=statslist_params)\n",
    "statslist_out = statslist_res.json()"
   ]
  },
  {
   "cell_type": "code",
   "execution_count": null,
   "id": "c99ba256-6a44-4353-b7f9-b8bb591e32b3",
   "metadata": {},
   "outputs": [],
   "source": [
    "statslist_out.keys()"
   ]
  },
  {
   "cell_type": "code",
   "execution_count": null,
   "id": "1a020156-f3c3-48a2-bac9-1a04aba87afc",
   "metadata": {},
   "outputs": [],
   "source": [
    "statslist_out[\"GET_STATS_LIST\"].keys()"
   ]
  },
  {
   "cell_type": "code",
   "execution_count": null,
   "id": "8927a86f-f607-46b3-ab11-1cf639a26b68",
   "metadata": {},
   "outputs": [],
   "source": [
    "statslist_out[\"GET_STATS_LIST\"][\"DATALIST_INF\"].keys()"
   ]
  },
  {
   "cell_type": "code",
   "execution_count": null,
   "id": "cf1dbff8",
   "metadata": {},
   "outputs": [],
   "source": [
    "table_inf = pd.json_normalize(statslist_out, \n",
    "    record_path=[\"GET_STATS_LIST\", \"DATALIST_INF\", \"TABLE_INF\"], \n",
    "    sep=\"_\"\n",
    ")\n",
    "table_inf.columns"
   ]
  },
  {
   "cell_type": "code",
   "execution_count": null,
   "id": "7515cd8f-0ab1-470d-9913-916acedeff28",
   "metadata": {},
   "outputs": [],
   "source": [
    "table_inf[[\"@id\", \"TITLE_SPEC_TABLE_NAME\", \"TITLE_$\", \"OVERALL_TOTAL_NUMBER\"]].head()"
   ]
  },
  {
   "cell_type": "markdown",
   "id": "a900ac02-e9f2-46ad-843b-7d6edc0dcc88",
   "metadata": {},
   "source": [
    "https://www.e-stat.go.jp/api/api-dev/faq#q_5_7"
   ]
  },
  {
   "cell_type": "markdown",
   "id": "bbac25b9",
   "metadata": {},
   "source": [
    "#### メタ情報を取得する"
   ]
  },
  {
   "cell_type": "code",
   "execution_count": null,
   "id": "32d0ece9-1ab4-411a-a288-70bbc1923e1a",
   "metadata": {},
   "outputs": [],
   "source": [
    "statsDataId = \"0002070010\"\n",
    "meta_endpoint = \"app/json/getMetaInfo\"\n",
    "meta_url = urljoin(base_url, meta_endpoint)\n",
    "meta_params = {\"appId\": appId, \"statsDataId\": statsDataId}\n",
    "meta_res = requests.get(meta_url, params=meta_params)\n",
    "meta = meta_res.json()\n",
    "meta[\"GET_META_INFO\"][\"METADATA_INF\"][\"TABLE_INF\"].keys()"
   ]
  },
  {
   "cell_type": "code",
   "execution_count": null,
   "id": "946858f2-f920-4419-b0d8-f4944eeeb7f5",
   "metadata": {},
   "outputs": [],
   "source": [
    "meta.keys()"
   ]
  },
  {
   "cell_type": "code",
   "execution_count": null,
   "id": "ef21610d-215e-4e63-843f-461c2515faf2",
   "metadata": {},
   "outputs": [],
   "source": [
    "meta[\"GET_META_INFO\"].keys()"
   ]
  },
  {
   "cell_type": "code",
   "execution_count": null,
   "id": "f2cd3b63-960e-4a8e-999d-7a48853c3aeb",
   "metadata": {},
   "outputs": [],
   "source": [
    "meta[\"GET_META_INFO\"][\"METADATA_INF\"].keys()"
   ]
  },
  {
   "cell_type": "code",
   "execution_count": null,
   "id": "a450a5ba-5e01-4af1-ab98-6d9ea6f82453",
   "metadata": {},
   "outputs": [],
   "source": [
    "meta[\"GET_META_INFO\"][\"METADATA_INF\"][\"CLASS_INF\"].keys()"
   ]
  },
  {
   "cell_type": "code",
   "execution_count": null,
   "id": "e49ee947-47af-4dff-a78d-b273a9a409e7",
   "metadata": {},
   "outputs": [],
   "source": [
    "meta[\"GET_META_INFO\"][\"METADATA_INF\"][\"CLASS_INF\"][\"CLASS_OBJ\"][0].keys()"
   ]
  },
  {
   "cell_type": "code",
   "execution_count": null,
   "id": "67718206",
   "metadata": {},
   "outputs": [],
   "source": [
    "metadata = meta[\"GET_META_INFO\"][\"METADATA_INF\"]\n",
    "overall_total_number = metadata[\"TABLE_INF\"][\"OVERALL_TOTAL_NUMBER\"]\n",
    "overall_total_number"
   ]
  },
  {
   "cell_type": "code",
   "execution_count": null,
   "id": "26809579",
   "metadata": {},
   "outputs": [],
   "source": [
    "[[n, c[\"@id\"], c[\"@name\"]] for n, c in enumerate(metadata[\"CLASS_INF\"][\"CLASS_OBJ\"])]"
   ]
  },
  {
   "cell_type": "code",
   "execution_count": null,
   "id": "bc6d0986",
   "metadata": {},
   "outputs": [],
   "source": [
    "metadata[\"CLASS_INF\"][\"CLASS_OBJ\"][0][\"CLASS\"]"
   ]
  },
  {
   "cell_type": "code",
   "execution_count": null,
   "id": "22d786bc",
   "metadata": {},
   "outputs": [],
   "source": [
    "pd.DataFrame(metadata[\"CLASS_INF\"][\"CLASS_OBJ\"][1][\"CLASS\"]).iloc[15:25, :]"
   ]
  },
  {
   "cell_type": "code",
   "execution_count": null,
   "id": "d1bcd122",
   "metadata": {},
   "outputs": [],
   "source": [
    "pd.DataFrame(metadata[\"CLASS_INF\"][\"CLASS_OBJ\"][2][\"CLASS\"])"
   ]
  },
  {
   "cell_type": "code",
   "execution_count": null,
   "id": "217bd37f",
   "metadata": {},
   "outputs": [],
   "source": [
    "pd.DataFrame(metadata[\"CLASS_INF\"][\"CLASS_OBJ\"][3][\"CLASS\"]).head()"
   ]
  },
  {
   "cell_type": "code",
   "execution_count": null,
   "id": "0d85e9c6",
   "metadata": {},
   "outputs": [],
   "source": [
    "metadata[\"CLASS_INF\"][\"CLASS_OBJ\"][4][\"CLASS\"]"
   ]
  },
  {
   "cell_type": "code",
   "execution_count": null,
   "id": "78813f26",
   "metadata": {},
   "outputs": [],
   "source": [
    "pd.DataFrame(metadata[\"CLASS_INF\"][\"CLASS_OBJ\"][5][\"CLASS\"]).head()"
   ]
  },
  {
   "cell_type": "markdown",
   "id": "57700131",
   "metadata": {},
   "source": [
    "#### 統計データを取得する\n"
   ]
  },
  {
   "cell_type": "code",
   "execution_count": null,
   "id": "f76b0bee-adaa-4af1-889a-4a55e35c494c",
   "metadata": {},
   "outputs": [],
   "source": [
    "statsDataId = \"0002070010\"\n",
    "data_params = {\n",
    "    \"appId\": appId, \n",
    "    \"statsDataId\": statsDataId,\n",
    "    \"lvCat01\": \"4\",  # 用途分類を階層4で絞る\n",
    "    \"cdCat02\": \"04\",  # 世帯区分を二人以上の世帯のうち勤労者世帯（2000年～）で絞る\n",
    "    \"cdCat03\": \"A00\",  # 世帯主の年齢階級を平均で絞る\n",
    "    \"cdTimeFrom\": \"2020000101\",  # 2020年1月以降で絞る\n",
    "    \"cdTimeTo\": \"2022001212\",  #  2022年12月以前で絞る\n",
    "}"
   ]
  },
  {
   "cell_type": "markdown",
   "id": "2d87e320-72b5-4569-837a-ecbb7952eef1",
   "metadata": {},
   "source": [
    "##### CSVで取得する\n"
   ]
  },
  {
   "cell_type": "code",
   "execution_count": null,
   "id": "5a85f5f1-6d3f-4100-9a08-8eb82ff0dcf6",
   "metadata": {},
   "outputs": [],
   "source": [
    "from io import StringIO\n",
    "csv_data_endpoint = \"app/getSimpleStatsData\"\n",
    "csv_data_url = urljoin(base_url, csv_data_endpoint)\n",
    "csv_data_res = requests.get(csv_data_url, params=data_params)\n",
    "print(csv_data_res.text[:1000])"
   ]
  },
  {
   "cell_type": "code",
   "execution_count": null,
   "id": "2e0cba6f-47b7-4ead-a354-ba8de0b6afab",
   "metadata": {},
   "outputs": [],
   "source": [
    "pd.read_csv(StringIO(csv_data_res.text), skiprows=28).head()"
   ]
  },
  {
   "cell_type": "code",
   "execution_count": null,
   "id": "bb83ea94-3cb3-4de9-a4aa-f0a6fa7f50e1",
   "metadata": {},
   "outputs": [],
   "source": [
    "# 最初の[1]で2分割したリストの2つ目を指定し、[1:]で冒頭の改行\\nを除く\n",
    "pd.read_csv(StringIO(csv_data_res.text.split('\"VALUE\"')[1][1:])).head()"
   ]
  },
  {
   "cell_type": "markdown",
   "id": "194acea5-a96b-496c-bc5a-bf89f79d0390",
   "metadata": {},
   "source": [
    "##### JSONで取得する\n"
   ]
  },
  {
   "cell_type": "code",
   "execution_count": null,
   "id": "798ed66f",
   "metadata": {},
   "outputs": [],
   "source": [
    "data_endpoint = \"app/json/getStatsData\"\n",
    "data_url = urljoin(base_url, data_endpoint)\n",
    "data_res = requests.get(data_url, params=data_params)\n",
    "data = data_res.json()"
   ]
  },
  {
   "cell_type": "code",
   "execution_count": null,
   "id": "de64f49a-66db-48dd-864c-fd84898eb074",
   "metadata": {},
   "outputs": [],
   "source": [
    "data.keys()"
   ]
  },
  {
   "cell_type": "code",
   "execution_count": null,
   "id": "6f67833c-eae3-4b17-bbfa-aa5bbb2df60e",
   "metadata": {},
   "outputs": [],
   "source": [
    "data[\"GET_STATS_DATA\"].keys()"
   ]
  },
  {
   "cell_type": "code",
   "execution_count": null,
   "id": "34be36fd-ec55-4727-83f3-3ba96b453784",
   "metadata": {},
   "outputs": [],
   "source": [
    "data[\"GET_STATS_DATA\"][\"STATISTICAL_DATA\"].keys()"
   ]
  },
  {
   "cell_type": "code",
   "execution_count": null,
   "id": "5168974b-eb37-4df4-b317-7b47b5435e34",
   "metadata": {},
   "outputs": [],
   "source": [
    "data[\"GET_STATS_DATA\"][\"STATISTICAL_DATA\"][\"CLASS_INF\"].keys()"
   ]
  },
  {
   "cell_type": "code",
   "execution_count": null,
   "id": "b76c415d-773a-463b-87ae-905b4b9c86b9",
   "metadata": {},
   "outputs": [],
   "source": [
    "data[\"GET_STATS_DATA\"][\"STATISTICAL_DATA\"][\"CLASS_INF\"][\"CLASS_OBJ\"][0].keys()"
   ]
  },
  {
   "cell_type": "code",
   "execution_count": null,
   "id": "b5c5f2ea-1476-4dba-850b-8d2dd556d62a",
   "metadata": {},
   "outputs": [],
   "source": [
    "data[\"GET_STATS_DATA\"][\"STATISTICAL_DATA\"][\"DATA_INF\"].keys()"
   ]
  },
  {
   "cell_type": "code",
   "execution_count": null,
   "id": "615c9a43",
   "metadata": {},
   "outputs": [],
   "source": [
    "value_df = pd.json_normalize(data, \n",
    "    record_path=[\"GET_STATS_DATA\", \"STATISTICAL_DATA\", \"DATA_INF\", \"VALUE\"]\n",
    ")\n",
    "value_df.head()"
   ]
  },
  {
   "cell_type": "code",
   "execution_count": null,
   "id": "7295e1f9",
   "metadata": {},
   "outputs": [],
   "source": [
    "value_df = value_df.rename(\n",
    "    columns=lambda col: col.lstrip(\"@\").replace(\"$\", \"value\")\n",
    ")"
   ]
  },
  {
   "cell_type": "code",
   "execution_count": null,
   "id": "9c216cf0",
   "metadata": {},
   "outputs": [],
   "source": [
    "note = data[\"GET_STATS_DATA\"][\"STATISTICAL_DATA\"][\"DATA_INF\"][\"NOTE\"]\n",
    "note"
   ]
  },
  {
   "cell_type": "code",
   "execution_count": null,
   "id": "a0cb7457",
   "metadata": {},
   "outputs": [],
   "source": [
    "import numpy as np\n",
    "note_char = [n[\"@char\"] for n in note]\n",
    "value_df = value_df.assign(**{\n",
    "    \"value\": lambda df: df[\"value\"]\n",
    "        .replace(note_char, np.nan)\n",
    "        .astype(float)\n",
    "})"
   ]
  },
  {
   "cell_type": "code",
   "execution_count": null,
   "id": "88da175d",
   "metadata": {},
   "outputs": [],
   "source": [
    "from typing import List, Dict, Union\n",
    "def missing_to_nan(\n",
    "        value: pd.DataFrame, \n",
    "        note: Union[Dict[str, str], List[Dict[str, str]]]\n",
    "    ) -> pd.DataFrame:\n",
    "    if isinstance(note, list):\n",
    "        note_char = [n[\"@char\"] for n in note]\n",
    "    elif isinstance(note, dict):\n",
    "        note_char = note[\"@char\"]\n",
    "    else:\n",
    "        print(f\"引数noteの型は辞書またはリスト。noteの型: {type(note)}\")\n",
    "        return value\n",
    "    return value.assign(**{\n",
    "        \"value\": lambda df: df[\"value\"]\n",
    "            .replace(note_char, np.nan)\n",
    "            .astype(float)\n",
    "    })"
   ]
  },
  {
   "cell_type": "code",
   "execution_count": null,
   "id": "71e43fb1",
   "metadata": {},
   "outputs": [],
   "source": [
    "class_obj = data[\"GET_STATS_DATA\"][\"STATISTICAL_DATA\"][\"CLASS_INF\"][\"CLASS_OBJ\"]\n",
    "for co in class_obj:\n",
    "    class_entries  = co[\"CLASS\"]\n",
    "    # \"CLASS\"はlistとdictの場合があります\n",
    "    if isinstance(class_entries, list):\n",
    "        cls_df = pd.DataFrame(class_entries)\n",
    "    elif isinstance(class_entries, dict):\n",
    "        cls_df = pd.DataFrame(pd.Series(class_entries)).T\n",
    "    else:\n",
    "        print(\"想定外のCLASS の型:\", type(class_entries), \"\\nCLASS の値: \", class_entries)\n",
    "        continue\n",
    "    cls_df = (cls_df\n",
    "        .set_index(\"@code\")\n",
    "        .rename(columns=lambda col: f\"{co['@name']}{col.lstrip('@')}\")\n",
    "    )\n",
    "    value_df = (value_df\n",
    "        .merge(cls_df, left_on=co[\"@id\"], right_index=True, how=\"left\")\n",
    "        .rename(columns={co[\"@id\"]: f\"{co['@name']}code\"})\n",
    "    )\n",
    "value_df.columns"
   ]
  },
  {
   "cell_type": "code",
   "execution_count": null,
   "id": "fcef1f95",
   "metadata": {},
   "outputs": [],
   "source": [
    "attr_map = {\"value\": \"値\", \"code\": \"コード\", \"name\": \"\", \"level\": \"階層レベル\", \n",
    "    \"unit\": \"単位\", \"parentCode\": \"親コード\", \"addInf\": \"追加情報\", \"tab\": \"表章項目\", \n",
    "    \"cat\": \"分類\", \"area\": \"地域\", \"time\": \"時間軸\", \"annotation\": \"注釈記号\"  \n",
    "}\n",
    "def _convert(c):\n",
    "    for k, v in attr_map.items():\n",
    "        if k in c:\n",
    "            return c.replace(k, v)\n",
    "    return c\n",
    "value_df = value_df.rename(columns=_convert)"
   ]
  },
  {
   "cell_type": "code",
   "execution_count": null,
   "id": "e8fd7bc3",
   "metadata": {},
   "outputs": [],
   "source": [
    "value_df.head(1).T"
   ]
  },
  {
   "cell_type": "markdown",
   "id": "a9b6f2d0",
   "metadata": {},
   "source": [
    "#### 関数を用意する\n"
   ]
  },
  {
   "cell_type": "code",
   "execution_count": null,
   "id": "569a50d0-f838-4f1c-bb46-8445b8eb131e",
   "metadata": {},
   "outputs": [],
   "source": [
    "from estat import (\n",
    "    get_metainfo, \n",
    "    get_statsdata, \n",
    "    cleansing_statsdata, \n",
    "    colname_to_japanese, \n",
    "    create_hierarchy_dataframe\n",
    ")"
   ]
  },
  {
   "cell_type": "code",
   "execution_count": null,
   "id": "8d475e43",
   "metadata": {},
   "outputs": [],
   "source": [
    "statsDataId = \"0002070010\"\n",
    "meta = get_metainfo(appId, statsDataId)\n",
    "medatdata = meta[\"GET_META_INFO\"][\"METADATA_INF\"]\n",
    "total_num = medatdata[\"TABLE_INF\"][\"OVERALL_TOTAL_NUMBER\"]\n",
    "total_num"
   ]
  },
  {
   "cell_type": "code",
   "execution_count": null,
   "id": "15d7cdcd-dee6-48fe-a658-10c0080efb6f",
   "metadata": {},
   "outputs": [],
   "source": [
    "%%time\n",
    "data = get_statsdata(appId, statsDataId)\n",
    "data[\"GET_STATS_DATA\"][\"STATISTICAL_DATA\"][\"RESULT_INF\"][\"NEXT_KEY\"]"
   ]
  },
  {
   "cell_type": "code",
   "execution_count": null,
   "id": "e7b4d90c-388d-408b-af97-4ce35a1a5e88",
   "metadata": {},
   "outputs": [],
   "source": [
    "%%time\n",
    "dfs = []\n",
    "dfs.append(colname_to_japanese(cleansing_statsdata(data)))\n",
    "max_position = 500000\n",
    "while \"NEXT_KEY\" in data[\"GET_STATS_DATA\"][\"STATISTICAL_DATA\"][\"RESULT_INF\"]:\n",
    "    # 10万件を超える場合、次のデータを取得するための開始位置を取得\n",
    "    start_position = data[\"GET_STATS_DATA\"][\"STATISTICAL_DATA\"][\"RESULT_INF\"].get(\"NEXT_KEY\")\n",
    "    print(\"NEXT_KEY: \", start_position)\n",
    "    # 取得データが大きすぎる(max_iterationsを超える)場合は、取得の繰り返しを終了\n",
    "    if start_position > max_position:\n",
    "        break\n",
    "    # 次のデータを取得し、DataFrameのリストに追加\n",
    "    data = get_statsdata(appId, statsDataId, params={\"startPosition\": start_position})\n",
    "    dfs.append(colname_to_japanese(cleansing_statsdata(data)))\n",
    "    \n",
    "# 取得したDataFrameを結合\n",
    "df = pd.concat(dfs)\n",
    "df.shape"
   ]
  },
  {
   "cell_type": "markdown",
   "id": "f9637cef",
   "metadata": {},
   "source": [
    "### 統計Dashboard API\n",
    "\n",
    "- [e-Stat 統計ダッシュボード](https://dashboard.e-stat.go.jp/)\n",
    "- [統計ダッシュボードWebAPI](https://dashboard.e-stat.go.jp/static/api)\n",
    "- [利用規約](https://dashboard.e-stat.go.jp/static/terms)\n"
   ]
  },
  {
   "cell_type": "code",
   "execution_count": null,
   "id": "eed38b36-d617-42cc-8bae-c43236175211",
   "metadata": {},
   "outputs": [],
   "source": [
    "indicator_url = \"https://dashboard.e-stat.go.jp/api/1.0/Json/getIndicatorInfo\"\n",
    "indicator_params = {\"StatName\": \"家計調査\"}\n",
    "indicator_res = requests.get(indicator_url, params=indicator_params)\n",
    "indicator = indicator_res.json()\n",
    "indicator_metadata = indicator[\"GET_META_INDICATOR_INF\"][\"METADATA_INF\"]\n",
    "indicator_classobj = indicator_metadata[\"CLASS_INF\"][\"CLASS_OBJ\"][0]\n",
    "print(indicator_classobj[\"@name\"], indicator_classobj[\"@code\"])"
   ]
  },
  {
   "cell_type": "code",
   "execution_count": null,
   "id": "a0bfd224-fb4c-4c62-8ac0-d3febe7406ad",
   "metadata": {},
   "outputs": [],
   "source": [
    "data_url = \"https://dashboard.e-stat.go.jp/api/1.0/Json/getData\"\n",
    "data_params = {\"IndicatorCode\": \"0704010101000010000\", \"TimeFrom\": \"20200100\"}\n",
    "data_res = requests.get(data_url, params=data_params)\n",
    "data = data_res.json()\n",
    "data[\"GET_STATS\"][\"STATISTICAL_DATA\"][\"DATA_INF\"][\"DATA_OBJ\"][:2]"
   ]
  },
  {
   "cell_type": "code",
   "execution_count": null,
   "id": "c8c29e18-2716-4eae-b224-2b942a6fd49c",
   "metadata": {},
   "outputs": [],
   "source": [
    "data_df = pd.DataFrame(\n",
    "    [d[\"VALUE\"] for d in data[\"GET_STATS\"][\"STATISTICAL_DATA\"][\"DATA_INF\"][\"DATA_OBJ\"]]\n",
    ")\n",
    "data_df = data_df.rename(\n",
    "    columns=lambda col: col.lstrip(\"@\").replace(\"$\", \"value\")\n",
    ")\n",
    "data_df.head()"
   ]
  },
  {
   "cell_type": "code",
   "execution_count": null,
   "id": "0e9ccedb-ac6d-4702-bfe4-1f2e5dfe471e",
   "metadata": {},
   "outputs": [],
   "source": [
    "region_url = \"https://dashboard.e-stat.go.jp/api/1.0/Json/getRegionInfo\"\n",
    "region_res = requests.get(region_url)\n",
    "region = region_res.json()\n",
    "region_dfs = []\n",
    "region_co = region[\"GET_META_REGION_INF\"][\"METADATA_INF\"][\"CLASS_INF\"][\"CLASS_OBJ\"]\n",
    "for c in region_co:\n",
    "    region_dfs += [pd.DataFrame(c[\"CLASS\"])]\n",
    "region_df = pd.concat(region_dfs)\n",
    "region_df = region_df.rename(\n",
    "    columns=lambda col: col.lstrip(\"@\").replace(\"name\", \"地域\")\n",
    ")\n",
    "region_df.tail()"
   ]
  },
  {
   "cell_type": "code",
   "execution_count": null,
   "id": "64621d46-6f79-4db8-8ff2-3c279e408b79",
   "metadata": {},
   "outputs": [],
   "source": [
    "data_df = data_df.merge(region_df[[\"regionCode\", \"地域\"]], on=\"regionCode\", how=\"left\")"
   ]
  },
  {
   "cell_type": "code",
   "execution_count": null,
   "id": "dce98fe6",
   "metadata": {},
   "outputs": [],
   "source": [
    "data_df = data_df.assign(**{\n",
    "    \"年\":  lambda df: df[\"time\"].astype(int) // 10000,\n",
    "    \"月\":  lambda df: df[\"time\"].str[4:6].astype(int),\n",
    "    \"年月\": lambda df: pd.to_datetime(\n",
    "        df[\"年\"].astype(str) + \"-\" +\n",
    "        df[\"月\"].astype(str) + \"-01\"\n",
    "    )\n",
    "})\n",
    "data_df.head()"
   ]
  },
  {
   "cell_type": "code",
   "execution_count": null,
   "id": "ef6f7fdc-3d30-4607-9ff0-b38164e97147",
   "metadata": {},
   "outputs": [],
   "source": [
    "socialevent_url = \"https://dashboard.e-stat.go.jp/api/1.0/Json/getSocialEventInfo\"\n",
    "socialevent_params = {\"TimeFrom\": \"20200100\"}\n",
    "socialevent_res = requests.get(socialevent_url, params=socialevent_params)\n",
    "socialevent = socialevent_res.json()\n",
    "socialevent_df = pd.json_normalize(socialevent, \n",
    "    record_path=[\"GET_META_SOCIAL_INFO\", \"METADATA_INF\", \"CLASS_INF\", \"CLASS_OBJ\"]\n",
    ")\n",
    "socialevent_df.drop(\"CLASS\", axis=1)"
   ]
  },
  {
   "cell_type": "code",
   "execution_count": null,
   "id": "ec06a24a-779c-4c38-a6cf-2d0bb6f8bb1a",
   "metadata": {},
   "outputs": [],
   "source": []
  }
 ],
 "metadata": {
  "kernelspec": {
   "display_name": "Python 3 (ipykernel)",
   "language": "python",
   "name": "python3"
  },
  "language_info": {
   "codemirror_mode": {
    "name": "ipython",
    "version": 3
   },
   "file_extension": ".py",
   "mimetype": "text/x-python",
   "name": "python",
   "nbconvert_exporter": "python",
   "pygments_lexer": "ipython3",
   "version": "3.12.10"
  }
 },
 "nbformat": 4,
 "nbformat_minor": 5
}
