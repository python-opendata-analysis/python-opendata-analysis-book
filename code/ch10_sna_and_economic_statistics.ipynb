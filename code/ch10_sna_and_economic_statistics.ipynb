{
 "cells": [
  {
   "cell_type": "markdown",
   "metadata": {},
   "source": [
    "# 国民経済計算・長期経済統計の取得と可視化\n"
   ]
  },
  {
   "cell_type": "code",
   "execution_count": null,
   "metadata": {},
   "outputs": [],
   "source": [
    "# 環境変数とパス設定に用いるライブラリ\n",
    "import os\n",
    "from dotenv import load_dotenv\n",
    "from pathlib import Path\n",
    "# データ取得に用いるライブラリ\n",
    "import json\n",
    "import requests\n",
    "# 前処理に用いるライブラリ\n",
    "import lxml\n",
    "import html5lib\n",
    "import openpyxl\n",
    "import pandas as pd\n",
    "# 可視化に用いるライブラリ\n",
    "import plotly\n",
    "import plotly.graph_objs as go\n",
    "import plotly.express as px\n",
    "from plotly.subplots import make_subplots"
   ]
  },
  {
   "cell_type": "code",
   "execution_count": null,
   "metadata": {},
   "outputs": [],
   "source": [
    "from estat import (\n",
    "    get_metainfo,\n",
    "    get_statsdata,\n",
    "    cleansing_statsdata,\n",
    "    colname_to_japanese,\n",
    ")"
   ]
  },
  {
   "cell_type": "code",
   "execution_count": null,
   "metadata": {},
   "outputs": [],
   "source": [
    "load_dotenv()\n",
    "appId = os.getenv(\"ESTAT_APP_ID\")\n",
    "FRED_API_KEY = os.getenv(\"FRED_API_KEY\")"
   ]
  },
  {
   "cell_type": "code",
   "execution_count": null,
   "metadata": {},
   "outputs": [],
   "source": [
    "current_dir = Path.cwd()\n",
    "data_path = (current_dir / \"data\" / \"ch10\").resolve()"
   ]
  },
  {
   "cell_type": "markdown",
   "metadata": {},
   "source": [
    "## 国民経済計算とGDP\n",
    "\n",
    "### 日本のGDP\n"
   ]
  },
  {
   "cell_type": "code",
   "execution_count": null,
   "metadata": {},
   "outputs": [],
   "source": [
    "gdp_statsDataId = \"0003109741\"\n",
    "gdp_meta = get_metainfo(appId, gdp_statsDataId)\n",
    "gdp_metadata = gdp_meta[\"GET_META_INFO\"][\"METADATA_INF\"]\n",
    "gdp_total_num = gdp_metadata[\"TABLE_INF\"][\"OVERALL_TOTAL_NUMBER\"]\n",
    "gdp_total_num"
   ]
  },
  {
   "cell_type": "code",
   "execution_count": null,
   "metadata": {},
   "outputs": [],
   "source": [
    "gdp_data = get_statsdata(appId, gdp_statsDataId)\n",
    "gdp_value = colname_to_japanese(cleansing_statsdata(gdp_data))\n",
    "gdp_value.columns"
   ]
  },
  {
   "cell_type": "code",
   "execution_count": null,
   "metadata": {},
   "outputs": [],
   "source": [
    "gdp_value = gdp_value.assign(**{\n",
    "    \"年\": gdp_value[\"時間軸（四半期）コード\"].str[:4],\n",
    "    \"月\": gdp_value[\"時間軸（四半期）コード\"].str[-2:],\n",
    "}).assign(**{\n",
    "    \"年月\": lambda df: pd.to_datetime(df[\"年\"] + \"-\" + df[\"月\"] + \"-01\"),\n",
    "    \"系列名\": lambda df: df[\"国内総生産_名目原系列コード\"]\n",
    "    + \"_\"\n",
    "    + df[\"国内総生産_名目原系列\"],\n",
    "})"
   ]
  },
  {
   "cell_type": "code",
   "execution_count": null,
   "metadata": {},
   "outputs": [],
   "source": [
    "gdp_value.loc[gdp_value[\"時間軸（四半期）コード\"]==\"2023001012\", [\"系列名\", \"値\"]]"
   ]
  },
  {
   "cell_type": "code",
   "execution_count": null,
   "metadata": {},
   "outputs": [],
   "source": [
    "sectors = [\"12_民間最終消費支出\", \"22_財貨・サービス_輸出\", \"23_財貨・サービス_輸入\",\n",
    "    \"29_<参考>民間需要\", \"30_<参考>公的需要\"]\n",
    "gdp_cond = gdp_value[\"系列名\"].isin(sectors)\n",
    "gdp_cond &= gdp_value[\"年\"].astype(int) <= 2024  # 年の期間を絞る\n",
    "gdp_long_df = gdp_value.loc[gdp_cond, [\"年月\", \"系列名\", \"値\"]]\n",
    "gdp_wide_df = gdp_long_df.pivot(columns=\"系列名\", index=\"年月\", values=\"値\")\n",
    "# 家計消費支出と企業投資を計算\n",
    "# 公的需要、企業投資、家計消費支出の順に並ぶよう便宜的に33,34の系列番号を採番\n",
    "gdp_wide_df = gdp_wide_df.assign(**{\n",
    "    \"23_財貨・サービス_輸入\": -gdp_wide_df[\"23_財貨・サービス_輸入\"],  # 輸入はマイナスに変換\n",
    "    \"29_投資\": gdp_wide_df[\"29_<参考>民間需要\"] - gdp_wide_df[\"12_民間最終消費支出\"]\n",
    "})\n",
    "gdp_cols = [\"22_財貨・サービス_輸出\", \"23_財貨・サービス_輸入\", \n",
    "    \"12_民間最終消費支出\", \"29_投資\", \"30_<参考>公的需要\"]\n",
    "gdp_df = gdp_wide_df[gdp_cols]\n",
    "# 年次(Year End)形式に変換。なお、四半期で可視化する場合は以下のコードは不要\n",
    "gdp_df = gdp_df[gdp_cols].groupby(pd.Grouper(freq=\"YE\")).sum()\n",
    "gdp_df.tail()"
   ]
  },
  {
   "cell_type": "code",
   "execution_count": null,
   "metadata": {},
   "outputs": [],
   "source": [
    "# 整然データ形式に変換\n",
    "gdp_tidy_df = gdp_df.stack().reset_index().rename(columns={0: \"値\"})\n",
    "# GDP合計を計算\n",
    "gdp = gdp_df.sum(axis=1)\n",
    "gdp_fig = go.Figure()\n",
    "# 各GDPの内訳を棒グラフで追加\n",
    "for c in gdp_cols:\n",
    "    gdp_fig.add_trace(go.Bar(\n",
    "        x=gdp_tidy_df.loc[gdp_tidy_df[\"系列名\"] == c, \"年月\"],\n",
    "        y=gdp_tidy_df.loc[gdp_tidy_df[\"系列名\"] == c, \"値\"],\n",
    "        name=c\n",
    "    ))\n",
    "# GDP合計を折れ線グラフで追加\n",
    "gdp_fig.add_trace(go.Scatter(x=gdp.index, y=gdp, name=\"GDP\", mode=\"lines+markers\"))\n",
    "# y軸と棒の積み上げのレイアウトを調整\n",
    "gdp_fig.update_layout(width=1000, height=600, font={\"size\": 18},\n",
    "    xaxis={\"ticksuffix\": \"年\"},\n",
    "    yaxis={\"tickformat\": \",.0f\", \"ticksuffix\": \"(十億円)\"},\n",
    "    barmode=\"relative\",  # 輸入はマイナスのためrelativeで積み上げ\n",
    ")\n",
    "gdp_fig.show()"
   ]
  },
  {
   "cell_type": "markdown",
   "metadata": {},
   "source": [
    "### 世界のGDP\n",
    "\n",
    "#### 世界銀行のGDPデータ\n"
   ]
  },
  {
   "cell_type": "code",
   "execution_count": null,
   "metadata": {},
   "outputs": [],
   "source": [
    "wb_api_url = \"https://api.worldbank.org/v2\"\n",
    "indicators_url = f\"{wb_api_url}/indicators\"\n",
    "indicators_params = {\"per_page\": 50000, \"format\": \"json\"}\n",
    "indicators_res = requests.get(indicators_url, indicators_params)\n",
    "indicators_json = indicators_res.json()\n",
    "indicators_data = indicators_json[1]\n",
    "indicators_df = pd.DataFrame(indicators_data)\n",
    "name_match = r\"gdp.*US\\$\"\n",
    "wb_cond = indicators_df[\"name\"].str.contains(name_match, case=False)\n",
    "wb_cond &= indicators_df[\"sourceNote\"] != \"\"\n",
    "indicators_df.loc[wb_cond, [\"id\", \"name\", \"sourceNote\"]].tail()"
   ]
  },
  {
   "cell_type": "code",
   "execution_count": null,
   "metadata": {},
   "outputs": [],
   "source": [
    "indicator = \"NY.GDP.MKTP.CD\"\n",
    "countries_list = [\"US\", \"CN\", \"JP\", \"IN\", \"GB\", \"DE\", \"FR\"\n",
    "    , \"CA\", \"RU\", \"KR\", \"IT\", \"AU\", \"BR\", \"MX\", \"ID\"]\n",
    "countries = \";\".join(countries_list)\n",
    "wb_url = f\"{wb_api_url}/countries/{countries}/indicators/{indicator}\"\n",
    "wb_start = 2005\n",
    "wb_end = 2024\n",
    "wb_date = f\"{wb_start}:{wb_end}\"\n",
    "wb_params = {\n",
    "    \"date\": wb_date,\n",
    "    \"per_page\": \"25000\",\n",
    "    \"format\": \"json\",\n",
    "}\n",
    "wb_res = requests.get(wb_url, wb_params)\n",
    "wb_json = wb_res.json()\n",
    "wb_df = pd.DataFrame(wb_json[1])\n",
    "wb_df = wb_df.assign(**{\n",
    "    \"indicator_id\": [x[\"id\"] for x in wb_df[\"indicator\"]],\n",
    "    \"indicator_value\": [x[\"value\"] for x in wb_df[\"indicator\"]],\n",
    "    \"country_id\": [x[\"id\"] for x in wb_df[\"country\"]],\n",
    "    \"国\": [x[\"value\"] for x in wb_df[\"country\"]],\n",
    "    \"年\": wb_df[\"date\"].astype(int),\n",
    "    \"GDP\": wb_df[\"value\"] // 1_000_000_000  # 10億単位に変換\n",
    "})\n",
    "wb_df.iloc[-5:, 2:]"
   ]
  },
  {
   "cell_type": "code",
   "execution_count": null,
   "metadata": {},
   "outputs": [],
   "source": [
    "wb_colors = px.colors.qualitative.Plotly + px.colors.qualitative.Set3\n",
    "wb_fig = px.line(\n",
    "    wb_df, x=\"年\", y=\"GDP\", color=\"国\", color_discrete_sequence=wb_colors\n",
    ")\n",
    "wb_fig.update_layout(width=900, height=650, font={\"size\": 18},\n",
    "    xaxis={\"ticksuffix\": \"年\", \"title\": None},\n",
    "    yaxis={\"tickformat\": \",.0f\", \"ticksuffix\": \"十億ドル\", \"title\": None},\n",
    ")\n",
    "wb_fig.show()"
   ]
  },
  {
   "cell_type": "markdown",
   "metadata": {},
   "source": [
    "#### GapminderのGDPデータ\n"
   ]
  },
  {
   "cell_type": "code",
   "execution_count": null,
   "metadata": {},
   "outputs": [],
   "source": [
    "gapminder_df = px.data.gapminder()\n",
    "gapminder_df.head()"
   ]
  },
  {
   "cell_type": "code",
   "execution_count": null,
   "metadata": {},
   "outputs": [],
   "source": [
    "gapminder_fig = px.scatter(gapminder_df,\n",
    "    x=\"gdpPercap\", \n",
    "    y=\"lifeExp\",\n",
    "    color=\"continent\", \n",
    "    size=\"pop\",\n",
    "    animation_frame=\"year\",\n",
    "    animation_group=\"country\",\n",
    "    hover_name=\"country\",\n",
    "    log_x=True,\n",
    "    size_max=55,\n",
    "    range_x=[100, 100_000],\n",
    "    range_y=[25, 90],\n",
    ")\n",
    "gapminder_fig.show()"
   ]
  },
  {
   "cell_type": "markdown",
   "metadata": {},
   "source": [
    "## 物価とインフレ率\n",
    "\n",
    "### 日本の物価とインフレ率\n"
   ]
  },
  {
   "cell_type": "code",
   "execution_count": null,
   "metadata": {},
   "outputs": [],
   "source": [
    "cpi_statsDataId = \"0003427113\"\n",
    "cpi_meta = get_metainfo(appId, cpi_statsDataId)\n",
    "cpi_metadata = cpi_meta[\"GET_META_INFO\"][\"METADATA_INF\"]\n",
    "cpi_total_num = cpi_metadata[\"TABLE_INF\"][\"OVERALL_TOTAL_NUMBER\"]\n",
    "cpi_total_num"
   ]
  },
  {
   "cell_type": "code",
   "execution_count": null,
   "metadata": {},
   "outputs": [],
   "source": [
    "cpi_params = {\"cdCat01\": \"0001\", \"cdArea\": \"00000\", \"cdTimeFrom\": \"1970000101\"}\n",
    "cpi_data = get_statsdata(appId, cpi_statsDataId, params=cpi_params)\n",
    "cpi_value = colname_to_japanese(cleansing_statsdata(cpi_data))\n",
    "cpi_value.columns"
   ]
  },
  {
   "cell_type": "code",
   "execution_count": null,
   "metadata": {},
   "outputs": [],
   "source": [
    "cpi_value = cpi_value.assign(**{\n",
    "    \"年\": cpi_value[\"時間軸（年・月）コード\"].str[:4],\n",
    "    \"月\": cpi_value[\"時間軸（年・月）コード\"].str[-2:]  # 年・年度の'00'が存在\n",
    "})\n",
    "# 時間軸（年・月）階層レベルは年月\n",
    "cpi_cond = cpi_value[\"表章項目\"] == \"指数\"\n",
    "cpi_cond &= cpi_value[\"時間軸（年・月）階層レベル\"] == \"4\"  # 月次\n",
    "cpi_df_monthly = cpi_value.loc[cpi_cond]\n",
    "# 年月の列を作成\n",
    "cpi_df_monthly = cpi_df_monthly.assign(**{\n",
    "    \"年月\": pd.to_datetime(cpi_df_monthly[\"年\"] + \"-\" + cpi_df_monthly[\"月\"] + \"-01\")\n",
    "})\n",
    "cpi = cpi_df_monthly[[\"年月\", \"2020年基準品目\", \"値\"]]\n",
    "cpi.head()"
   ]
  },
  {
   "cell_type": "code",
   "execution_count": null,
   "metadata": {},
   "outputs": [],
   "source": [
    "inflation_cond = cpi_value[\"表章項目\"] == \"前月比・前年比・前年度比\"\n",
    "inflation_cond &= cpi_value[\"時間軸（年・月）階層レベル\"] == \"1\"\n",
    "inflation_rate = cpi_value.loc[inflation_cond, [\"年\", \"2020年基準品目\", \"値\"]]\n",
    "inflation_rate = inflation_rate.assign(**{\n",
    "    \"年\": inflation_rate[\"年\"].astype(int),\n",
    "    \"値\": inflation_rate[\"値\"] / 100\n",
    "})"
   ]
  },
  {
   "cell_type": "code",
   "execution_count": null,
   "metadata": {},
   "outputs": [],
   "source": [
    "# サブプロットの描画領域を作成\n",
    "cpi_fig = make_subplots(\n",
    "    rows=1, cols=2, subplot_titles=(\"物価(2020基準品目)\", \"インフレ率(2020基準品目)\")\n",
    ")\n",
    "# CPIの折れ線グラフを描画領域に追加\n",
    "cpi_fig.add_trace(\n",
    "    go.Scatter(x=cpi[\"年月\"], y=cpi[\"値\"], mode=\"lines\", name=\"物価\"), row=1, col=1\n",
    ")\n",
    "# インフレ率の折れ線グラフを描画領域に追加\n",
    "cpi_fig.add_trace(\n",
    "    go.Scatter(\n",
    "        x=inflation_rate[\"年\"], y=inflation_rate[\"値\"], mode=\"lines\", name=\"インフレ率\"\n",
    "    ),\n",
    "    row=1,\n",
    "    col=2,\n",
    ")\n",
    "# X軸とグラフのレイアウト調整\n",
    "cpi_fig.update_xaxes(ticksuffix=\"年\", row=1)\n",
    "cpi_fig.update_layout(width=900, height=500, font={\"size\": 18})\n",
    "cpi_fig.show()"
   ]
  },
  {
   "cell_type": "markdown",
   "metadata": {},
   "source": [
    "### 米国の物価とインフレ率\n"
   ]
  },
  {
   "cell_type": "code",
   "execution_count": null,
   "metadata": {},
   "outputs": [],
   "source": [
    "fred_url = \"https://api.stlouisfed.org/fred/series/observations\"\n",
    "observation_start = \"1980-01-01\"\n",
    "observation_end = \"2024-12-31\"\n",
    "fred_params = {\n",
    "    \"api_key\": FRED_API_KEY,\n",
    "    \"file_type\": \"json\",\n",
    "    \"observation_start\": observation_start,\n",
    "    \"observation_end\": observation_end,\n",
    "    \"frequency\": \"m\",  # Monthly\n",
    "    \"aggregation_method\": \"eop\",  # End of period\n",
    "    \"series_id\": \"CPIAUCNS\"\n",
    "}\n",
    "fred_res = requests.get(fred_url, params=fred_params)\n",
    "us_cpi = pd.DataFrame(fred_res.json()[\"observations\"]).assign(**{\n",
    "    \"date\": lambda df: pd.to_datetime(df[\"date\"]),\n",
    "    \"value\": lambda df: pd.to_numeric(df[\"value\"], errors=\"coerce\"),\n",
    "})\n",
    "us_cpi"
   ]
  },
  {
   "cell_type": "code",
   "execution_count": null,
   "metadata": {},
   "outputs": [],
   "source": [
    "bls_headers = {\"Content-type\": \"application/json\"}\n",
    "bls_data = json.dumps(\n",
    "    {\"seriesid\": [\"CUSR0000SA0\"], \"startyear\": \"2020\", \"endyear\": \"2024\"}\n",
    ")\n",
    "bls_res = requests.post(\n",
    "    \"https://api.bls.gov/publicAPI/v2/timeseries/data/\",\n",
    "    data=bls_data,\n",
    "    headers=bls_headers,\n",
    ")\n",
    "bls_json = json.loads(bls_res.text)\n",
    "bls_cpi = pd.DataFrame(bls_json[\"Results\"][\"series\"][0][\"data\"])\n",
    "bls_cpi.head()"
   ]
  },
  {
   "cell_type": "code",
   "execution_count": null,
   "metadata": {},
   "outputs": [],
   "source": [
    "jpus_fred_param = fred_params.copy()\n",
    "jpus_fred_param[\"series_id\"] = \"DEXJPUS\"\n",
    "jpus_fred_res = requests.get(fred_url, params=jpus_fred_param)\n",
    "dexjpus = pd.DataFrame(jpus_fred_res.json()[\"observations\"]).assign(**{\n",
    "    \"date\": lambda df: pd.to_datetime(df[\"date\"]),\n",
    "    \"value\": lambda df: pd.to_numeric(df[\"value\"], errors=\"coerce\"),\n",
    "})\n",
    "dexjpus"
   ]
  },
  {
   "cell_type": "code",
   "execution_count": null,
   "metadata": {},
   "outputs": [],
   "source": [
    "us_cpi = us_cpi.assign(**{\"指標\": \"米国の物価\"})\n",
    "dexjpus = dexjpus.assign(**{\"指標\": \"ドル円レート\"})\n",
    "fred_df = pd.concat([us_cpi, dexjpus])[[\"date\", \"value\", \"指標\"]]\n",
    "fred_wide = fred_df.pivot(columns=\"指標\", index=\"date\", values=\"value\")\n",
    "cpi_jp = cpi.rename(columns={\"値\": \"日本の物価\"})[[\"年月\", \"日本の物価\"]].set_index(\"年月\")\n",
    "merged_cpi = (fred_wide\n",
    "    .merge(cpi_jp, left_index=True, right_index=True, how=\"inner\")\n",
    "    .rename_axis(\"年月\")\n",
    ")\n",
    "initial_rate = merged_cpi[\"ドル円レート\"].iloc[0]\n",
    "initial_ratio = merged_cpi[\"日本の物価\"].iloc[0] / merged_cpi[\"米国の物価\"].iloc[0]\n",
    "ppp_df = merged_cpi.assign(**{\n",
    "    \"購買力平価\": merged_cpi[\"日本の物価\"] / merged_cpi[\"米国の物価\"]\n",
    "                * (initial_rate / initial_ratio)\n",
    "})\n",
    "ppp_df.tail()"
   ]
  },
  {
   "cell_type": "code",
   "execution_count": null,
   "metadata": {},
   "outputs": [],
   "source": [
    "value_vars = [\"ドル円レート\", \"購買力平価\"]\n",
    "ppp_tidy = pd.melt(ppp_df[value_vars],\n",
    "    value_vars=value_vars,\n",
    "    var_name=\"レート\",\n",
    "    value_name=\"円/ドル\",\n",
    "    ignore_index=False,\n",
    ").reset_index()\n",
    "ppp_fig = px.line(ppp_tidy, x=\"年月\", y=\"円/ドル\", color=\"レート\")\n",
    "ppp_fig.update_layout(width=900, height=500, font={\"size\": 18},\n",
    "    xaxis={\"ticksuffix\": \"年\", \"title\": None},\n",
    ")\n",
    "ppp_fig.show()"
   ]
  },
  {
   "cell_type": "markdown",
   "metadata": {},
   "source": [
    "### 【コードのみ】状態空間モデル"
   ]
  },
  {
   "cell_type": "code",
   "execution_count": null,
   "metadata": {},
   "outputs": [],
   "source": [
    "!uv pip install statsmodels"
   ]
  },
  {
   "cell_type": "code",
   "execution_count": null,
   "metadata": {},
   "outputs": [],
   "source": [
    "import statsmodels.api as sm"
   ]
  },
  {
   "cell_type": "code",
   "execution_count": null,
   "metadata": {},
   "outputs": [],
   "source": [
    "local_level_model_season = sm.tsa.UnobservedComponents(\n",
    "    endog=us_cpi[\"value\"], \n",
    "    level=True, \n",
    "    stochastic_level=True,\n",
    "    trend=True,\n",
    "    stochastic_trend=True,\n",
    "    seasonal=12,\n",
    "    stochastic_seasonal=True\n",
    ")\n",
    "res_local_level_season = local_level_model_season.fit()\n",
    "#print(res_local_level_season.summary())\n",
    "fig_local_level_season = res_local_level_season.plot_components()"
   ]
  },
  {
   "cell_type": "code",
   "execution_count": null,
   "metadata": {},
   "outputs": [],
   "source": [
    "trend = pd.Series(res_local_level_season.trend['smoothed'], index=us_cpi[\"date\"]).reset_index()\n",
    "trend.columns = [\"date\", \"trend\"]\n",
    "trend_fig = px.line(trend, x=\"date\", y=\"trend\")\n",
    "trend_fig.show()"
   ]
  },
  {
   "cell_type": "code",
   "execution_count": null,
   "metadata": {},
   "outputs": [],
   "source": []
  },
  {
   "cell_type": "markdown",
   "metadata": {},
   "source": [
    "## 経済指数\n",
    "\n",
    "### 景気動向指数\n"
   ]
  },
  {
   "cell_type": "code",
   "execution_count": null,
   "metadata": {},
   "outputs": [],
   "source": [
    "di_statsDataId = \"0003446461\"\n",
    "di_meta = get_metainfo(appId, di_statsDataId)\n",
    "di_metadata = di_meta[\"GET_META_INFO\"][\"METADATA_INF\"]\n",
    "di_total_num = di_metadata[\"TABLE_INF\"][\"OVERALL_TOTAL_NUMBER\"]\n",
    "di_total_num"
   ]
  },
  {
   "cell_type": "code",
   "execution_count": null,
   "metadata": {},
   "outputs": [],
   "source": [
    "di_data = get_statsdata(appId, di_statsDataId)\n",
    "di_value = colname_to_japanese(cleansing_statsdata(di_data))\n",
    "di_value.columns"
   ]
  },
  {
   "cell_type": "code",
   "execution_count": null,
   "metadata": {},
   "outputs": [],
   "source": [
    "di_value = di_value.assign(**{\n",
    "    \"年\": di_value[\"時間軸(月次)コード\"].str[:4],\n",
    "    \"月\": di_value[\"時間軸(月次)コード\"].str[-2:],\n",
    "}).assign(**{\n",
    "    \"年月\": lambda df: pd.to_datetime(\n",
    "        df[\"年\"].astype(str) + df[\"月\"].astype(str), format=\"%Y%m\"\n",
    "    )\n",
    "})\n",
    "di_cols = [\"年月\", \"先行指数・一致指数・遅行指数\", \"値\"]\n",
    "di_df = di_value.loc[di_value[\"表章項目\"] == \"CI指数\", di_cols]"
   ]
  },
  {
   "cell_type": "code",
   "execution_count": null,
   "metadata": {},
   "outputs": [],
   "source": [
    "di_fig = px.line(di_df, x=\"年月\", y=\"値\", color=\"先行指数・一致指数・遅行指数\")\n",
    "di_fig.update_layout(width=900, height=500, font={\"size\": 18},\n",
    "    xaxis={\"ticksuffix\": \"年\", \"title\": None}, \n",
    "    yaxis={\"title\": None}\n",
    ")\n",
    "di_fig.show()"
   ]
  },
  {
   "cell_type": "markdown",
   "metadata": {},
   "source": [
    "### 鉱工業指数・第3次産業指数\n"
   ]
  },
  {
   "cell_type": "code",
   "execution_count": null,
   "metadata": {},
   "outputs": [],
   "source": [
    "!pip install openpyxl"
   ]
  },
  {
   "cell_type": "code",
   "execution_count": null,
   "metadata": {},
   "outputs": [],
   "source": [
    "file_name = \"b2020_202506s.xlsx\"\n",
    "workbook = openpyxl.load_workbook(data_path / file_name)\n",
    "sheet_names = workbook.sheetnames\n",
    "print(\"シート数: \", len(sheet_names), \"\\nシート一覧: \", sheet_names)\n",
    "workbook.close()"
   ]
  },
  {
   "cell_type": "code",
   "execution_count": null,
   "metadata": {},
   "outputs": [],
   "source": [
    "iip_dfs = []\n",
    "for n in range(32):  # 事前に確認したシート数\n",
    "    # Excelのn番目のシートをデータフレームで読み込み\n",
    "    # 日本語のヘッダーと値の始まる直前の行(7)をheaderに指定\n",
    "    iip_xls = pd.read_excel(\n",
    "        data_path / file_name, sheet_name=n, header=[0, 2, 4, 6, 7], engine=\"openpyxl\"\n",
    "    ).dropna(how=\"all\")\n",
    "    new_col = iip_xls.columns[1][0]\n",
    "    print(f\"{n+1}シート目: \", new_col)\n",
    "    # colの1行目は「鉱工業」等の産業、最後の行は英語行のため除外し、\"_\"つないだ新しい列名に変換\n",
    "    iip_xls.columns = [\n",
    "        \"_\".join([str(c) for c in col[1:-1] if \"Unnamed\" not in c])\n",
    "        for col in iip_xls.columns\n",
    "    ]\n",
    "    iip_xls[\"産業\"] = new_col\n",
    "    iip_dfs.append(iip_xls)\n",
    "iip_df = pd.concat(iip_dfs)\n",
    "iip_df.iloc[3:8, :5]"
   ]
  },
  {
   "cell_type": "code",
   "execution_count": null,
   "metadata": {},
   "outputs": [],
   "source": [
    "iip_df = iip_df.assign(**{\n",
    "    \"時間軸コード\": iip_df[\"時間軸コード\"].astype(int).astype(str),\n",
    "}).assign(**{\n",
    "    \"年\": lambda df: df[\"時間軸コード\"].str[:4],\n",
    "    \"月\": lambda df: df[\"時間軸コード\"].str[-2:]\n",
    "})\n",
    "iip_cond = (iip_df[\"月\"]!=\"00\") & (iip_df[\"時間軸コード\"].str[-4:-2]==iip_df[\"月\"])\n",
    "iip_cols = [\"年\", \"月\", \"産業\", \"生産_季節調整済指数_指数値\"]\n",
    "iip = iip_df.loc[iip_cond, iip_cols]\n",
    "iip = iip.assign(**{\"年月\": iip[\"年\"] + iip[\"月\"]})"
   ]
  },
  {
   "cell_type": "code",
   "execution_count": null,
   "metadata": {},
   "outputs": [],
   "source": [
    "iip_cols = [\"産業\", \"生産_季節調整済指数_指数値\", \"年月\"]\n",
    "yy = iip[\"年\"].max()\n",
    "mm = iip[iip[\"年\"] == yy][\"月\"].max()\n",
    "slope_df = iip.loc[iip[\"年月\"].str[-2:] == mm, iip_cols]\n",
    "industries = sorted(slope_df[\"産業\"].unique())\n",
    "colors = px.colors.qualitative.Plotly + px.colors.qualitative.Dark24\n",
    "industry_color_map = {industry: color for industry, color in zip(industries, colors)}\n",
    "\n",
    "iip_fig = px.line(slope_df,\n",
    "    x=\"年月\",\n",
    "    y=\"生産_季節調整済指数_指数値\",\n",
    "    color=\"産業\",\n",
    "    color_discrete_map=industry_color_map,\n",
    "    markers=True,\n",
    ")\n",
    "\n",
    "for industry in industries:\n",
    "    value = slope_df[(slope_df[\"産業\"] == industry) & (slope_df[\"年月\"] == f\"{yy}{mm}\")]\n",
    "    iip_fig.add_annotation(\n",
    "        x=1.05,\n",
    "        y=value[\"生産_季節調整済指数_指数値\"].values[0],\n",
    "        text=industry,\n",
    "        showarrow=False,\n",
    "        xanchor=\"left\",\n",
    "        yanchor=\"middle\",\n",
    "        font={\"size\": 10, \"color\": industry_color_map[industry]},\n",
    "    )\n",
    "\n",
    "iip_fig.update_layout(width=800, height=1000, font={\"size\": 18},\n",
    "    xaxis={\"title\": None},\n",
    "    yaxis={\"title\": None},\n",
    "    showlegend=False,\n",
    "    title={\"text\": \"鉱工業指数スロープチャート\", \"x\": 0.5, \"xanchor\": \"center\"},\n",
    ")\n",
    "iip_fig.show()"
   ]
  },
  {
   "cell_type": "markdown",
   "metadata": {},
   "source": [
    "## 貿易統計"
   ]
  },
  {
   "cell_type": "code",
   "execution_count": null,
   "metadata": {},
   "outputs": [],
   "source": [
    "ts_statsDataId = \"0003313965\"\n",
    "ts_meta = get_metainfo(appId, ts_statsDataId)\n",
    "ts_metadata = ts_meta[\"GET_META_INFO\"][\"METADATA_INF\"]\n",
    "ts_total_num = ts_metadata[\"TABLE_INF\"][\"OVERALL_TOTAL_NUMBER\"]\n",
    "ts_total_num"
   ]
  },
  {
   "cell_type": "code",
   "execution_count": null,
   "metadata": {},
   "outputs": [],
   "source": [
    "!uv pip install lxml html5lib"
   ]
  },
  {
   "cell_type": "code",
   "execution_count": null,
   "metadata": {
    "scrolled": true
   },
   "outputs": [],
   "source": [
    "html_path = \"https://www.customs.go.jp/tariff/2025_04_01/data/print_j_10.htm\"\n",
    "hs_df = pd.read_html(html_path, na_values=\"\", encoding=\"cp932\")[2]\n",
    "col_lv0, col_lv1 = \"統計番号Statisticalcode\", \"番号H.S.code\"\n",
    "prefix = \"関税率Tariffrate\"\n",
    "tariff_suffixes = [\"基本General\", \"暫定Temporary\", \"WTO協定WTO\", \n",
    "    \"特恵GSP\", \"特別特恵LDC\", \"日米貿易協定US\"]\n",
    "tariff_cols = [\"統計品目番号\", f\"{col_lv0}{col_lv1}\", col_lv0, \"品名Description\"] + \\\n",
    "    [f\"{prefix}{s}\" for s in tariff_suffixes] + \\\n",
    "    [\"関税率（経済連携協定）Tariffrate(EPA)RCEP(中国)\"]\n",
    "hs_rice_us = (hs_df.set_axis([\n",
    "    (c0 if c0 == c1 else c0 + ('' if str(c1).startswith('Unnamed') else str(c1)))\n",
    "    .replace(\" \", \"\").replace(\"◆1\", \"\")\n",
    "    for c0, c1 in hs_df.columns], axis=1)\n",
    "    .assign(**{\"統計品目番号\": lambda df: (\n",
    "        df[f\"{col_lv0}{col_lv1}\"].ffill().astype(str) + \n",
    "        df[col_lv0].fillna(\"\").astype(str)\n",
    "    ).str.replace(\".\", \"\")})\n",
    "    [tariff_cols].iloc[65:75, :])\n",
    "hs_rice_us"
   ]
  },
  {
   "cell_type": "code",
   "execution_count": null,
   "metadata": {},
   "outputs": [],
   "source": [
    "na_csv_path = \"https://www.customs.go.jp/toukei/suii/html/data/d42ca003.csv\"\n",
    "na_df = pd.read_csv(na_csv_path, header=[2, 3], encoding=\"cp932\")\n",
    "na_df.columns = [(\"\" if \"Unnamed\" in j else j) + i for i, j in na_df.columns]\n",
    "na_df.head().T"
   ]
  },
  {
   "cell_type": "code",
   "execution_count": null,
   "metadata": {},
   "outputs": [],
   "source": [
    "area_dict = {\n",
    "    \"アジア\": \"d42ca001\",\n",
    "    \"太平洋\": \"d42ca002\",\n",
    "    \"北米\": \"d42ca003\",\n",
    "    \"中南米\": \"d42ca004\",\n",
    "    \"西欧\": \"d42ca005\",\n",
    "    \"中東欧・ロシア等\": \"d42ca006\",\n",
    "    \"中東\": \"d42ca007\",\n",
    "    \"アフリカ\": \"d42ca008\",\n",
    "    \"特殊地域\": \"d42ca009\",\n",
    "}\n",
    "def format_columns_assign_area(df, area):\n",
    "    return df.set_axis(\n",
    "        [(\"\" if \"Unnamed\" in j else j) + i for i, j in df.columns],\n",
    "        axis=1\n",
    "    ).assign(**{\"地域\": [area] * len(df)})\n",
    "trade_dfs = []\n",
    "for k in area_dict:\n",
    "    filename = area_dict[k]\n",
    "    na_csv_path = f\"https://www.customs.go.jp/toukei/suii/html/data/{filename}.csv\"\n",
    "    tmp_df = pd.read_csv(na_csv_path, header=[2, 3], encoding=\"cp932\").pipe(\n",
    "        lambda df: format_columns_assign_area(df, k)\n",
    "    )\n",
    "    #tmp_df.to_csv(f\"ch10_輸出入額_{k}.csv\")\n",
    "    trade_dfs.append(tmp_df[[\"Years\", \"Exp-Total\", \"Imp-Total\", \"地域\"]])\n",
    "trade_df = pd.concat(trade_dfs)\n",
    "trade_df.head()"
   ]
  },
  {
   "cell_type": "code",
   "execution_count": null,
   "metadata": {},
   "outputs": [],
   "source": [
    "trade_df[\"Imp-Total\"] = -trade_df[\"Imp-Total\"]\n",
    "trade_tidy = pd.melt(trade_df,\n",
    "    id_vars=[\"Years\", \"地域\"],\n",
    "    value_vars=[\"Exp-Total\", \"Imp-Total\"],\n",
    "    var_name=\"輸出・輸入\",\n",
    "    value_name=\"輸出入額\",\n",
    ")\n",
    "trade_tidy = trade_tidy.assign(**{\n",
    "    \"輸出入額\": trade_tidy[\"輸出入額\"] / 1_000_000,\n",
    "    \"地域輸出入\": trade_tidy[\"地域\"] + trade_tidy[\"輸出・輸入\"]\n",
    "})"
   ]
  },
  {
   "cell_type": "code",
   "execution_count": null,
   "metadata": {},
   "outputs": [],
   "source": [
    "trade_fig = px.line(\n",
    "    trade_tidy, x=\"Years\", y=\"輸出入額\", line_group=\"地域輸出入\", color=\"地域\"\n",
    ")\n",
    "trade_fig.update_layout(width=900, height=500, font={\"size\": 18},\n",
    "    xaxis={\"ticksuffix\": \"年\", \"title\": None},\n",
    "    yaxis={\"tickformat\": \",.0f\", \"ticksuffix\": \"百万円\", \"title\": None},\n",
    "    title={\"text\": \"輸出額(プラス)と輸入額(マイナス)\", \"x\": 0.5, \"xanchor\": \"center\"},\n",
    ")\n",
    "trade_fig.show()"
   ]
  },
  {
   "cell_type": "markdown",
   "metadata": {},
   "source": [
    "## 国際収支統計\n"
   ]
  },
  {
   "cell_type": "code",
   "execution_count": null,
   "metadata": {},
   "outputs": [],
   "source": [
    "# URLから直接読み込みも可能\n",
    "bp_path = (\n",
    "    \"https://www.mof.go.jp/policy/international_policy/reference/balance_of_payments/\"\n",
    "    \"bp_trend/bpnet/sbp/s-1/6s-1-1.csv\"\n",
    ")\n",
    "# エンコーディングはcp932としCSVファイルを読み込む\n",
    "bp_trend = pd.read_csv(bp_path, skiprows=24, header=list(range(9)), encoding=\"cp932\", thousands=\",\")\n",
    "# 読み込んだデータフレームの列名がマルチインデックスのためシングルインデックスの列名を変換\n",
    "bp_trend = bp_trend.set_axis(\n",
    "    [\"（暦年）\", \"半期\", \"西暦\", \"half-year\",\n",
    "    \"経常収支\", \"貿易・サービス収支\", \"貿易収支\", \"輸出\", \"輸入\", \"サービス収支\",\n",
    "    \"第一次所得収支\", \"第二次所得収支\", \"資本移転等収支\", \n",
    "    \"金融収支\", \"直接投資\", \"証券投資\", \"金融派生商品\", \"その他投資\",\n",
    "    \"外貨準備\", \"誤差脱漏\"],\n",
    "    axis=1,\n",
    ")\n",
    "# 西暦は「2022C.Y.」形式で半期ごとにNullがあるためffillで補完し、整数型に変換\n",
    "bp_trend = bp_trend.assign(**{\n",
    "    \"西暦\": bp_trend[\"西暦\"].ffill().str.replace(\"C.Y.\", \"\").str[:4].astype(int)\n",
    "})\n",
    "# 西暦ごとに集計するため、不要な列を削除\n",
    "bop_df = bp_trend.drop([\"（暦年）\", \"半期\", \"half-year\"], axis=1)\n",
    "# 西暦ごとに各収支金額を合計\n",
    "bop = bop_df.groupby(\"西暦\").sum()\n",
    "bop.tail().T"
   ]
  },
  {
   "cell_type": "code",
   "execution_count": null,
   "metadata": {},
   "outputs": [],
   "source": [
    "bop_fig = make_subplots()\n",
    "# 棒グラフと折れ線グラフに追加するデータカラム名を用意\n",
    "bar_traces = [\"貿易収支\", \"サービス収支\", \"第一次所得収支\", \"第二次所得収支\"]\n",
    "scatter_traces = [\"経常収支\", \"金融収支\", \"資本移転等収支\"]\n",
    "# 棒グラフを追加\n",
    "for n, col in enumerate(bar_traces):\n",
    "    bop_fig.add_trace(go.Bar(\n",
    "        x=bop.index,\n",
    "        y=bop[col],\n",
    "        name=col,\n",
    "        marker_color=px.colors.qualitative.Set3[n],\n",
    "    ))\n",
    "# 折れ線グラフを追加\n",
    "for n, col in enumerate(scatter_traces):\n",
    "    bop_fig.add_trace(go.Scatter(\n",
    "        x=bop.index,\n",
    "        y=bop[col],\n",
    "        name=col,\n",
    "        mode=\"lines+markers\",\n",
    "        line={\"color\": px.colors.qualitative.Plotly[n]},\n",
    "    ))\n",
    "bop_fig.update_layout(width=1000, height=600, font={\"size\": 18},\n",
    "    barmode=\"relative\",\n",
    "    xaxis={\"ticksuffix\": \"年\", \"title\": None},\n",
    "    yaxis={\"tickformat\": \",.0f\", \"ticksuffix\": \"百万円\", \"title\": None},\n",
    ")\n",
    "bop_fig.show()"
   ]
  },
  {
   "cell_type": "code",
   "execution_count": null,
   "metadata": {},
   "outputs": [],
   "source": []
  }
 ],
 "metadata": {
  "kernelspec": {
   "display_name": "Python 3 (ipykernel)",
   "language": "python",
   "name": "python3"
  },
  "language_info": {
   "codemirror_mode": {
    "name": "ipython",
    "version": 3
   },
   "file_extension": ".py",
   "mimetype": "text/x-python",
   "name": "python",
   "nbconvert_exporter": "python",
   "pygments_lexer": "ipython3",
   "version": "3.12.10"
  },
  "widgets": {
   "application/vnd.jupyter.widget-state+json": {
    "state": {},
    "version_major": 2,
    "version_minor": 0
   }
  }
 },
 "nbformat": 4,
 "nbformat_minor": 4
}
