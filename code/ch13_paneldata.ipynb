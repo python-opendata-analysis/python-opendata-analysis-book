{
 "cells": [
  {
   "cell_type": "markdown",
   "id": "2feb94d3-d151-476e-93f6-b6a08d104ab3",
   "metadata": {},
   "source": [
    "# 13章 e-Statを用いたふるさと納税のパネルデータ分析"
   ]
  },
  {
   "cell_type": "code",
   "execution_count": null,
   "id": "d86820c2-3f8a-4cc8-8fe9-68bc9a995f21",
   "metadata": {},
   "outputs": [],
   "source": [
    "# 環境変数とパス設定に用いるライブラリ\n",
    "import os\n",
    "from dotenv import load_dotenv\n",
    "# データ取得に用いるライブラリ\n",
    "import time\n",
    "import requests\n",
    "# データ操作に用いるライブラリ\n",
    "import json\n",
    "import pandas as pd\n",
    "# 可視化に用いるライブラリ\n",
    "import plotly\n",
    "import plotly.express as px\n",
    "from plotly.subplots import make_subplots"
   ]
  },
  {
   "cell_type": "code",
   "execution_count": null,
   "id": "42cbf1be-4391-416a-b9e4-c1cd62cfbcfa",
   "metadata": {},
   "outputs": [],
   "source": [
    "from estat import (\n",
    "    get_metainfo,\n",
    "    get_statsdata,\n",
    "    cleansing_statsdata,\n",
    "    colname_to_japanese,\n",
    "    create_hierarchy_dataframe,\n",
    ")"
   ]
  },
  {
   "cell_type": "code",
   "execution_count": null,
   "id": "cd4a2e8a-7ead-4113-814a-2fa8032b4347",
   "metadata": {},
   "outputs": [],
   "source": [
    "load_dotenv()\n",
    "appId = os.getenv(\"ESTAT_APP_ID\")"
   ]
  },
  {
   "cell_type": "markdown",
   "id": "58824a97-6e78-429f-bd75-d5ba7c8e211f",
   "metadata": {},
   "source": [
    "## 東京都品川区はふるさと納税でどの程度税収を失ったのか"
   ]
  },
  {
   "cell_type": "code",
   "execution_count": null,
   "id": "a766dd83-d2a7-4b7e-84f8-7a2a1a1bbc62",
   "metadata": {},
   "outputs": [],
   "source": [
    "# APIのエンドポイントURL\n",
    "url = \"https://service.api.metro.tokyo.lg.jp/api/t131091d0000000061-1fdc35f717b0500d770cc805d6402a0a-0/json?limit=5\"\n",
    "# リクエストヘッダー\n",
    "headers = {\n",
    "    \"accept\": \"application/json\",\n",
    "    \"Content-Type\": \"application/json\"\n",
    "}\n",
    "# 空のデータ（curlの -d '{}' に相当）\n",
    "data = {}\n",
    "# POSTリクエストを送信\n",
    "response = requests.post(url, headers=headers, data=json.dumps(data))\n",
    "# ステータスコードが200（成功）かどうかを確認\n",
    "if response.status_code == 200:\n",
    "    # JSONデータを取得\n",
    "    result = response.json()\n",
    "    # 取得したデータを出力\n",
    "    print(json.dumps(result, indent=4, ensure_ascii=False))\n",
    "else:\n",
    "    print(f\"APIリクエストに失敗しました。ステータスコード: {response.status_code}\")"
   ]
  },
  {
   "cell_type": "code",
   "execution_count": null,
   "id": "5e83a117-21ae-4eac-8447-e9bceca155f8",
   "metadata": {},
   "outputs": [],
   "source": [
    "pd.json_normalize(result, record_path=[\"hits\"]).drop(columns=\"row\")"
   ]
  },
  {
   "cell_type": "markdown",
   "id": "0b8e20fe-8fc6-46aa-bb73-108cf3e6c791",
   "metadata": {},
   "source": [
    "## 市区町村ごとの税収をe-Statで取得する\n",
    "\n",
    "## データの前処理"
   ]
  },
  {
   "cell_type": "code",
   "execution_count": null,
   "id": "ac3863e9-8385-43d9-824e-afa5cf9fce26",
   "metadata": {},
   "outputs": [],
   "source": [
    "statsDataId = \"0003172921\"\n",
    "meta = get_metainfo(appId, statsDataId)\n",
    "metadata = meta[\"GET_META_INFO\"][\"METADATA_INF\"]\n",
    "total_num = metadata[\"TABLE_INF\"][\"OVERALL_TOTAL_NUMBER\"]\n",
    "total_num"
   ]
  },
  {
   "cell_type": "code",
   "execution_count": null,
   "id": "113a172e-7655-4897-8a71-ebf519ad3984",
   "metadata": {},
   "outputs": [],
   "source": [
    "# 取得するデータのstatsDataId を指定する\n",
    "statsDataId = \"0003172921\"\n",
    "\n",
    "# 全データを格納するリスト\n",
    "all_data = []\n",
    "\n",
    "# 初回リクエスト\n",
    "data = get_statsdata(appId, statsDataId)\n",
    "value = colname_to_japanese(cleansing_statsdata(data))\n",
    "all_data.append(value)\n",
    "\n",
    "# \"NEXT_KEY\" が存在する限りループしてデータを取得\n",
    "while \"NEXT_KEY\" in data[\"GET_STATS_DATA\"][\"STATISTICAL_DATA\"][\"RESULT_INF\"]:\n",
    "    # NEXT_KEY を設定\n",
    "    next_key = data[\"GET_STATS_DATA\"][\"STATISTICAL_DATA\"][\"RESULT_INF\"][\"NEXT_KEY\"]\n",
    "    print(next_key)\n",
    "    # 次のリクエスト送信\n",
    "    data = get_statsdata(appId, statsDataId, params={\"startPosition\": next_key})\n",
    "    # 次のデータを取得してリストに追加\n",
    "    value = colname_to_japanese(cleansing_statsdata(data))\n",
    "    all_data.append(value)\n",
    "    time.sleep(2)\n",
    "\n",
    "chihou_zaisei_df = pd.concat(all_data)"
   ]
  },
  {
   "cell_type": "code",
   "execution_count": null,
   "id": "0f2d4634-cfbb-414f-9a4b-6871d38c30d7",
   "metadata": {},
   "outputs": [],
   "source": [
    "chihou_zaisei_df"
   ]
  },
  {
   "cell_type": "code",
   "execution_count": null,
   "id": "60179503-c5f9-4726-a0fc-6247be3fc774",
   "metadata": {},
   "outputs": [],
   "source": [
    "# \" 団体名( 市町村分) コード\" の内容の先頭2 文字が \"13\" の場合に \"tokyo\" 列に1 を付与する\n",
    "# データの接合用に、\" 市区町村コード\" を別の列に保存する\n",
    "# さらに、\" 時間軸( 年度次)\" から数字部分を取り出す\n",
    "chihou_zaisei_df = chihou_zaisei_df.assign(**{\n",
    "    \"tokyo\": chihou_zaisei_df[\"団体名(市町村分)コード\"].apply(\n",
    "    lambda x: 1 if x.startswith(\"13\") else 0),\n",
    "    \"市区町村コード\": chihou_zaisei_df[\"団体名(市町村分)コード\"],\n",
    "    \"年\": chihou_zaisei_df[\"時間軸(年度次)\"].str.extract(r\"(\\d+)\", expand=False)\n",
    "})"
   ]
  },
  {
   "cell_type": "code",
   "execution_count": null,
   "id": "9e539d87-7208-4fc9-87b9-348507d64312",
   "metadata": {},
   "outputs": [],
   "source": [
    "# \" 年\" と \" 決算収支\" でグループ化し、\" 値\" のメディアン( 中央値) を計算\n",
    "chihou_zaisei_df.groupby([\"年\", \"決算収支\"])[\"値\"].median().reset_index()"
   ]
  },
  {
   "cell_type": "markdown",
   "id": "3fda1f8b-702f-46ef-898f-e28cbebaf3ed",
   "metadata": {},
   "source": [
    "## データの可視化"
   ]
  },
  {
   "cell_type": "code",
   "execution_count": null,
   "id": "60becc32-69d1-4a50-a484-2a7a45bceabc",
   "metadata": {},
   "outputs": [],
   "source": [
    "revenue_a = chihou_zaisei_df.loc[\n",
    "    chihou_zaisei_df[\"決算収支\"] == \"歳入総額(A)\", [\"年\", \"値\"]\n",
    "]\n",
    "fig_a = px.box(revenue_a, x=\"年\", y=\"値\")\n",
    "fig_a.update_layout(\n",
    "    title=\"年ごとの歳入総額(A) の推移\",\n",
    "    yaxis=dict(title=\" 値（千円; 対数表示）\"),\n",
    ")\n",
    "fig_a.update_xaxes(categoryorder=\"category ascending\")\n",
    "fig_a.update_yaxes(type=\"log\")\n",
    "fig_a.update_layout(width=1000, height=500, font={\"size\": 18})\n",
    "fig_a.show()"
   ]
  },
  {
   "cell_type": "code",
   "execution_count": null,
   "id": "91586e13-da21-4507-910c-54ba392001f4",
   "metadata": {},
   "outputs": [],
   "source": [
    "expenditure_b = chihou_zaisei_df.loc[\n",
    "    chihou_zaisei_df[\"決算収支\"] == \"歳出総額(B)\", [\"年\", \"値\"]\n",
    "]\n",
    "fig_b = px.box(expenditure_b, x=\"年\", y=\"値\")\n",
    "fig_b.update_layout(\n",
    "    title=\"年ごとの歳出総額(B) の推移\",\n",
    "    yaxis=dict(title=\" 値（千円; 対数表示）\"),\n",
    ")\n",
    "fig_b.update_xaxes(categoryorder=\"category ascending\")\n",
    "fig_b.update_yaxes(type=\"log\")\n",
    "fig_b.update_layout(width=1000, height=500, font={\"size\": 18})\n",
    "fig_b.show()"
   ]
  },
  {
   "cell_type": "code",
   "execution_count": null,
   "id": "83326c74-3d09-4974-a7da-9e339cf9aa9f",
   "metadata": {},
   "outputs": [],
   "source": [
    "# \" 年\" と \" 決算収支\" および \"tokyo\" フラグでグループ化し、\" 値\" のメディアンを計算\n",
    "tokyo_chihou_df = chihou_zaisei_df.groupby([\"年\", \"決算収支\", \"tokyo\"])[\"値\"].median().reset_index()"
   ]
  },
  {
   "cell_type": "code",
   "execution_count": null,
   "id": "adb2f797-1cb5-4ff9-986f-c427dc70236e",
   "metadata": {},
   "outputs": [],
   "source": [
    "tokyo_chihou_df"
   ]
  },
  {
   "cell_type": "code",
   "execution_count": null,
   "id": "88cbe129-b8bb-4959-9dfc-8f39e35d62ce",
   "metadata": {},
   "outputs": [],
   "source": [
    "# 東京都と東京都以外でデータを区分する\n",
    "chihou_sainyu = chihou_zaisei_df[(chihou_zaisei_df[\"決算収支\"] == \"歳入総額(A)\") & (chihou_zaisei_df[\"tokyo\"] == 0)].copy()\n",
    "tokyo_sainyu = chihou_zaisei_df[(chihou_zaisei_df[\"決算収支\"] == \"歳入総額(A)\") & (chihou_zaisei_df[\"tokyo\"] == 1)].copy()"
   ]
  },
  {
   "cell_type": "code",
   "execution_count": null,
   "id": "a446cae1-d8ca-436a-8c7c-b08c8a411afa",
   "metadata": {},
   "outputs": [],
   "source": [
    "# サブプロットを作成 (縦に2つのプロット)\n",
    "subplot_fig = make_subplots(rows=2, cols=1, \n",
    "    subplot_titles=(\n",
    "        \"東京都以外の年ごとの歳入総額(A) 分布 (Boxプロット)\", \n",
    "        \"東京都の年ごとの歳入総額(A) 分布 (Boxプロット)\"\n",
    "    )\n",
    ")\n",
    "\n",
    "# 東京都以外の箱ひげ図を作成\n",
    "box_fig0 = px.box(\n",
    "    chihou_sainyu[[\"年\", \"値\"]].sort_values(\"年\"), \n",
    "    x=\"年\", \n",
    "    y=\"値\", \n",
    ")\n",
    "\n",
    "# 東京都の箱ひげ図を作成\n",
    "box_fig1 = px.box(\n",
    "    tokyo_sainyu[[\"年\", \"値\"]].sort_values(\"年\"), \n",
    "    x=\"年\", \n",
    "    y=\"値\", \n",
    ")\n",
    "\n",
    "# 作成した箱ひげ図をサブプロットに追加\n",
    "for trace in box_fig0.data:\n",
    "    subplot_fig.add_trace(trace, row=1, col=1)\n",
    "\n",
    "for trace in box_fig1.data:\n",
    "    subplot_fig.add_trace(trace, row=2, col=1)\n",
    "\n",
    "# レイアウトの更新\n",
    "subplot_fig.update_layout(\n",
    "    width=1000, height=800, font={\"size\": 18},\n",
    "    xaxis={\"ticksuffix\": \"年\"}, xaxis2={\"ticksuffix\": \"年\"},\n",
    "    showlegend=False\n",
    ")\n",
    "# 各サブプロットのY軸をログスケールに設定\n",
    "subplot_fig.update_yaxes(type=\"log\", row=1, col=1)\n",
    "subplot_fig.update_yaxes(type=\"log\", row=2, col=1)\n",
    "# グラフを表示\n",
    "subplot_fig.show()"
   ]
  },
  {
   "cell_type": "markdown",
   "id": "e0ff5cee-eaf9-4e8b-b32b-0a2187d69ba2",
   "metadata": {},
   "source": [
    "## パネル固定効果モデルによるふるさと納税制度による効果の推定"
   ]
  },
  {
   "cell_type": "code",
   "execution_count": null,
   "id": "66f85440-f881-4a87-9a09-d0550965db21",
   "metadata": {},
   "outputs": [],
   "source": [
    "# ダミー変数の作成\n",
    "chihou_zaisei_df = chihou_zaisei_df.assign(**{\"furusato_dummy\": (chihou_zaisei_df[\"年\"] >= \"2009\").astype(int)})"
   ]
  },
  {
   "cell_type": "code",
   "execution_count": null,
   "id": "55ff3b04-89e6-4959-aeeb-e5948459ced5",
   "metadata": {},
   "outputs": [],
   "source": [
    "statsDataId = \"0000020203\"\n",
    "meta = get_metainfo(appId, statsDataId)\n",
    "metadata = meta[\"GET_META_INFO\"][\"METADATA_INF\"]\n",
    "total_num = metadata[\"TABLE_INF\"][\"OVERALL_TOTAL_NUMBER\"]\n",
    "total_num"
   ]
  },
  {
   "cell_type": "code",
   "execution_count": null,
   "id": "adccc71f-852e-4262-8a55-3ce25c04f555",
   "metadata": {},
   "outputs": [],
   "source": [
    "# 全データを格納するリスト\n",
    "all_data = []\n",
    "\n",
    "# 初回リクエスト\n",
    "data = get_statsdata(appId, statsDataId)\n",
    "value = colname_to_japanese(cleansing_statsdata(data))\n",
    "all_data.append(value)\n",
    "\n",
    "# 'NEXT_KEY' が存在する限りループしてデータを取得\n",
    "while 'NEXT_KEY' in data['GET_STATS_DATA']['STATISTICAL_DATA']['RESULT_INF']:\n",
    "    # NEXT_KEY を設定\n",
    "    next_key = data['GET_STATS_DATA']['STATISTICAL_DATA']['RESULT_INF']['NEXT_KEY']\n",
    "    print(next_key)\n",
    "    \n",
    "    # 次のリクエスト送信\n",
    "    data = get_statsdata(appId, statsDataId, params={\"startPosition\": next_key})\n",
    "    \n",
    "    # 次のデータを取得してリストに追加\n",
    "    value = colname_to_japanese(cleansing_statsdata(data))\n",
    "    all_data.append(value)\n",
    "\n",
    "taxpayer_df = pd.concat(all_data)\n",
    "taxpayer_df"
   ]
  },
  {
   "cell_type": "code",
   "execution_count": null,
   "id": "f997c3dc-bff9-4a05-8481-9f23490236aa",
   "metadata": {},
   "outputs": [],
   "source": [
    "# 納税義務者数のみを取り出す\n",
    "taxpayer_df_filtered = taxpayer_df.loc[taxpayer_df[\"Ｃ　経済基盤\"] == \"C120120_納税義務者数（所得割）\"].copy()"
   ]
  },
  {
   "cell_type": "code",
   "execution_count": null,
   "id": "e12c9983-1564-4a8d-935b-933d97247fa6",
   "metadata": {},
   "outputs": [],
   "source": [
    "taxpayer_df_filtered"
   ]
  },
  {
   "cell_type": "code",
   "execution_count": null,
   "id": "f51858ff-2ccc-4643-bd04-7cec3e83eb2e",
   "metadata": {},
   "outputs": [],
   "source": [
    "# 数字部分を取り出す\n",
    "# \" 地域\" 列から市区町村名を抽出して新しい列 \" 市区町村\" を作成\n",
    "taxpayer_df_filtered = taxpayer_df_filtered.assign(**{\n",
    "    \"年\": taxpayer_df_filtered[\"調査年\"].str.extract(r\"(\\d+)\", expand=False),\n",
    "    \"市区町村\": taxpayer_df_filtered[\"地域\"].str.split(\" \").str[1]\n",
    "})"
   ]
  },
  {
   "cell_type": "code",
   "execution_count": null,
   "id": "6e9885c2-7c49-4951-8077-2939676fd3a4",
   "metadata": {},
   "outputs": [],
   "source": [
    "# rename メソッド を用いてtaxpayer_df_filtered の \" 地域コード\" 列を \" 市区町村コード\" に変更する\n",
    "taxpayer_df_filtered = taxpayer_df_filtered.rename(columns={\"地域コード\": \"市区町村コード\"})\n",
    "# 年をint 型にする\n",
    "chihou_zaisei_df = chihou_zaisei_df.assign(**{\"年\": chihou_zaisei_df[\"年\"].astype(int)})\n",
    "taxpayer_df_filtered[\"年\"] = taxpayer_df_filtered[\"年\"].astype(int)"
   ]
  },
  {
   "cell_type": "code",
   "execution_count": null,
   "id": "3c6291d7-eb74-44c8-acbe-fad677f92667",
   "metadata": {},
   "outputs": [],
   "source": [
    "chihou_zaisei_df.head()"
   ]
  },
  {
   "cell_type": "code",
   "execution_count": null,
   "id": "920c6eb2-80f4-4c9f-8f92-02f02a147bef",
   "metadata": {},
   "outputs": [],
   "source": [
    "#chihou_zaisei_df.to_csv(\"chihou_zaisei_df.csv\", index=False)\n",
    "#chihou_zaisei_df = pd.read_csv(\"chihou_zaisei_df.csv\")\n",
    "#taxpayer_df_filtered.to_csv(\"taxpayer_df_filtered.csv\", index=False)\n",
    "#taxpayer_df_filtered = pd.read_csv(\"taxpayer_df_filtered.csv\", dtype={\"市区町村コード\": str})"
   ]
  },
  {
   "cell_type": "code",
   "execution_count": null,
   "id": "981ab343-b7c6-457c-8d1a-818895fc47d7",
   "metadata": {},
   "outputs": [],
   "source": [
    "# \" 年\" と\" 市区町村名\" でマージ\n",
    "merged_df = pd.merge(chihou_zaisei_df, taxpayer_df_filtered,on=[\"年\", \"市区町村コード\"], how=\"left\", suffixes=(\"\", \"_taxpayer\"))"
   ]
  },
  {
   "cell_type": "code",
   "execution_count": null,
   "id": "5b529e03-fd7f-4185-82b8-396c8fa27b42",
   "metadata": {},
   "outputs": [],
   "source": [
    "merged_df"
   ]
  },
  {
   "cell_type": "code",
   "execution_count": null,
   "id": "6e0983a4-da33-4e71-a491-ff62e5fa4d7b",
   "metadata": {},
   "outputs": [],
   "source": [
    "features_df = (\n",
    "    merged_df\n",
    "    .assign(**{\n",
    "        \"year\": merged_df[\"年\"].astype(int),\n",
    "        \"furusatotokyo\": (\n",
    "            (merged_df[\"furusato_dummy\"] == 1) & (merged_df[\"tokyo\"] == 1)\n",
    "    ).astype(int),\n",
    "        \"納税義務者数\": merged_df[\"値_taxpayer\"].replace(\"-\", pd.NA)\n",
    "    })\n",
    "    .rename(columns={\"値\": \"歳入総額\"})\n",
    "    .dropna()\n",
    "    .reset_index(drop=True)\n",
    ")"
   ]
  },
  {
   "cell_type": "code",
   "execution_count": null,
   "id": "f7dda7e7-1b93-42ca-83f2-5dea4d1404ed",
   "metadata": {},
   "outputs": [],
   "source": [
    "# データを \" 市区町村コード\" と \"year\" で2 階層のマルチインデックスに設定する\n",
    "features_df = features_df.set_index([\"市区町村コード\", \"year\"])"
   ]
  },
  {
   "cell_type": "code",
   "execution_count": null,
   "id": "cc1252c2-5721-44a6-909c-1b383f66f18e",
   "metadata": {},
   "outputs": [],
   "source": [
    "features_df"
   ]
  },
  {
   "cell_type": "code",
   "execution_count": null,
   "id": "9cabd775-59f1-4f19-ba11-f2464534a52c",
   "metadata": {},
   "outputs": [],
   "source": [
    "features_df.to_csv(\"features_df.csv\")\n",
    "#features_df = pd.read_csv(\"features_df.csv\")"
   ]
  },
  {
   "cell_type": "code",
   "execution_count": null,
   "id": "0ce7e66e-f6c2-46f5-95de-2496c8171409",
   "metadata": {},
   "outputs": [],
   "source": [
    "# インデックスのレベル（階層）名\n",
    "print(f\" インデックスのレベル名: {features_df.index.names}\")\n",
    "\n",
    "# 第1レベル \"市区町村コード\" のユニークな数\n",
    "num_entities_from_index = features_df.index.get_level_values(\"市区町村コード\").nunique()\n",
    "print(f\"市区町村数: {num_entities_from_index}\")\n",
    "\n",
    "# 第2レベル \"year\" のユニークな数\n",
    "num_time_from_index = features_df.index.get_level_values(\"year\").nunique()\n",
    "print(f\"カバー年数: {num_time_from_index}\")"
   ]
  },
  {
   "cell_type": "code",
   "execution_count": null,
   "id": "83a633cc-719f-45ab-b2b7-d2ee9137dcfc",
   "metadata": {},
   "outputs": [],
   "source": [
    "!pip install linearmodels"
   ]
  },
  {
   "cell_type": "code",
   "execution_count": null,
   "id": "f9e4c1f0-2b71-4d7d-a858-6eae99142f18",
   "metadata": {},
   "outputs": [],
   "source": [
    "import statsmodels.api as sm\n",
    "from linearmodels.panel import PanelOLS\n",
    "\n",
    "# 説明変数リストを作成する\n",
    "# ここでは、説明変数として「ふるさと納税ダミー」と「ふるさと納税x 東京都ダミー」、\n",
    "# それから \" 納税義務者数\" を用いる\n",
    "exog_vars = [\"furusato_dummy\", \"furusatotokyo\", \"納税義務者数\"]\n",
    "\n",
    "# 説明変数に定数項を追加する\n",
    "exog_data = features_df[exog_vars]\n",
    "exog_data = sm.add_constant(exog_data)\n",
    "\n",
    "# 被説明変数は歳入総額を用いる\n",
    "endog_data = features_df[\"歳入総額\"]\n",
    "\n",
    "# exog_data と endog_data のデータ長を確認する\n",
    "print(\"Length of exog_data:\", len(exog_data))\n",
    "print(\"Length of endog_data:\", len(endog_data))\n",
    "\n",
    "# exog_data とendog_data のインデックスが一致していることを確認する\n",
    "print(\"Index of exog_data:\", exog_data.index.names)\n",
    "print(\"Index of endog_data:\", endog_data.index.names)\n",
    "\n",
    "# exog_data とendog_data のデータ確認する\n",
    "print(\"exog_data の列名:\", exog_data.columns)\n",
    "print(\"exog_data の形状:\", exog_data.shape)\n",
    "print(\"endog_data の形状:\", endog_data.shape)\n",
    "\n",
    "# fixed effect（市区町村の固定効果）で分析する\n",
    "mod = PanelOLS(endog_data, exog_data, entity_effects=True)\n",
    "\n",
    "# モデルの結果を表示する\n",
    "fe_res = mod.fit()\n",
    "print(fe_res)"
   ]
  },
  {
   "cell_type": "code",
   "execution_count": null,
   "id": "2f65e539-dd4d-449a-bf0c-418a4de2bd1f",
   "metadata": {},
   "outputs": [],
   "source": [
    "formula_fe2 = \"歳入総額 ~ furusatotokyo + 納税義務者数 + 1 + TimeEffects + EntityEffects\"\n",
    "result_fe2 = PanelOLS.from_formula(formula_fe2, data=features_df).fit()\n",
    "print(result_fe2)"
   ]
  },
  {
   "cell_type": "markdown",
   "id": "53fc98b3-7a98-4338-ac10-80aabf723566",
   "metadata": {},
   "source": [
    "# 【ここからは本に載せていない部分】\n",
    "\n",
    "## 変動効果モデル"
   ]
  },
  {
   "cell_type": "code",
   "execution_count": null,
   "id": "adea8d94-3f8b-45d6-b341-2664dc20b8fb",
   "metadata": {},
   "outputs": [],
   "source": [
    "from linearmodels.panel import RandomEffects\n",
    "\n",
    "# 説明変数リストを作成する\n",
    "# ここでは、説明変数として「ふるさと納税ダミー」と「ふるさと納税x 東京都ダミー」、\n",
    "# それから \" 納税義務者数\" を用いる\n",
    "exog_vars = [\"furusato_dummy\", \"furusatotokyo\", \"納税義務者数\"]\n",
    "\n",
    "# 説明変数に定数項を追加する\n",
    "exog_data = features_df[exog_vars]\n",
    "exog_data = sm.add_constant(exog_data)\n",
    "\n",
    "# 被説明変数は歳入総額を用いる\n",
    "endog_data = features_df[\"歳入総額\"]\n",
    "\n",
    "# exog_data と endog_data のデータ長を確認する\n",
    "print(\"Length of exog_data:\", len(exog_data))\n",
    "print(\"Length of endog_data:\", len(endog_data))\n",
    "\n",
    "# exog_data とendog_data のインデックスが一致していることを確認する\n",
    "print(\"Index of exog_data:\", exog_data.index.names)\n",
    "print(\"Index of endog_data:\", endog_data.index.names)\n",
    "\n",
    "# exog_data とendog_data のデータ確認する\n",
    "print(\"exog_data の列名:\", exog_data.columns)\n",
    "print(\"exog_data の形状:\", exog_data.shape)\n",
    "print(\"endog_data の形状:\", endog_data.shape)\n",
    "\n",
    "# fixed effect（市区町村の固定効果）で分析する\n",
    "mod2 = RandomEffects(endog_data, exog_data)\n",
    "\n",
    "# モデルの結果を表示する\n",
    "re_res = mod2.fit()\n",
    "print(re_res)"
   ]
  },
  {
   "cell_type": "markdown",
   "id": "c8c4e348-f97a-4b1b-bdf9-37160592ff0a",
   "metadata": {},
   "source": [
    "## モデルの比較"
   ]
  },
  {
   "cell_type": "code",
   "execution_count": null,
   "id": "5dadf0f5-b7af-4126-8d4b-a799fb7c0bd8",
   "metadata": {},
   "outputs": [],
   "source": [
    "from linearmodels.panel import compare\n",
    "print(compare({'FE':fe_res,'FE2': result_fe2, 'RE':re_res}))"
   ]
  },
  {
   "cell_type": "markdown",
   "id": "0bf4b830-32a7-4e91-bd97-d336052f763a",
   "metadata": {},
   "source": [
    "## ハウスマン検定"
   ]
  },
  {
   "cell_type": "code",
   "execution_count": null,
   "id": "e266e7ec-e134-44e5-9e4a-53e8389cb552",
   "metadata": {},
   "outputs": [],
   "source": [
    "import numpy as np\n",
    "from scipy import stats\n",
    "\n",
    "# ハウスマン検定（Hausman Test）の実行 ---\n",
    "# FEモデルとREモデルのどちらが適切かを統計的に判断する\n",
    "#\n",
    "# 帰無仮説 (H0): REモデルが適切（個体効果と説明変数は相関しない）\n",
    "# 対立仮説 (H1): FEモデルが適切（個体効果と説明変数は相関している）\n",
    "\n",
    "def hausman_test(fe_results, re_results):\n",
    "    \"\"\"\n",
    "    固定効果モデルとランダム効果モデルのハウスマン検定を計算する\n",
    "\n",
    "    Parameters:\n",
    "    - fe_results: 固定効果モデルの推定結果 (linearmodels)\n",
    "    - re_results: ランダム効果モデルの推定結果 (linearmodels)\n",
    "\n",
    "    Returns:\n",
    "    - chi2: カイ二乗統計量\n",
    "    - df: 自由度\n",
    "    - p_value: p値\n",
    "    \"\"\"\n",
    "    # FEとREで共通して推定されるパラメータを取得\n",
    "    # FEでは時間不変な変数は除外されるため\n",
    "    common_params = list(set(fe_results.params.index) & set(re_results.params.index))\n",
    "\n",
    "    # 共通パラメータの係数と共分散行列を抽出\n",
    "    b_fe = fe_results.params[common_params]\n",
    "    b_re = re_results.params[common_params]\n",
    "    cov_fe = fe_results.cov.loc[common_params, common_params]\n",
    "    cov_re = re_results.cov.loc[common_params, common_params]\n",
    "\n",
    "    # 係数の差と共分散行列の差を計算\n",
    "    b_diff = b_fe - b_re\n",
    "    cov_diff = cov_fe - cov_re\n",
    "\n",
    "    # ハウスマン検定統計量を計算\n",
    "    # H = (b_fe - b_re)' * inv(Cov(b_fe) - Cov(b_re)) * (b_fe - b_re)\n",
    "    try:\n",
    "        inv_cov_diff = np.linalg.inv(cov_diff)\n",
    "    except np.linalg.LinAlgError:\n",
    "        # 行列が特異（singular）で逆行列を計算できない場合\n",
    "        print(\"Warning: Covariance matrix difference is singular. Hausman test cannot be performed.\")\n",
    "        return np.nan, np.nan, np.nan\n",
    "\n",
    "    chi2_stat = b_diff.T @ inv_cov_diff @ b_diff\n",
    "\n",
    "    # p値を計算\n",
    "    df = len(common_params)\n",
    "    p_value = 1 - stats.chi2.cdf(chi2_stat, df)\n",
    "\n",
    "    return chi2_stat, df, p_value\n",
    "\n",
    "# 検定を実行し、結果を表示\n",
    "chi2, df, p_value = hausman_test(fe_res, re_res)\n",
    "\n",
    "print(\"\\n### Hausman Test for FE vs. RE ###\")\n",
    "print(f\"Chi-squared statistic: {chi2:.4f}\")\n",
    "print(f\"Degrees of freedom: {df}\")\n",
    "print(f\"P-value: {p_value:.4f}\")\n",
    "\n",
    "# --- 検定結果を解釈する ---\n",
    "print(\"\\n--- Interpretation of Hausman Test ---\")\n",
    "if p_value < 0.05:\n",
    "    print(\"P-value is less than 0.05. We reject the null hypothesis.\")\n",
    "    print(\"Conclusion: The individual-specific effects are likely correlated with the regressors.\")\n",
    "    print(\"Therefore, the Fixed-Effects (FE) model is the more appropriate choice for this analysis.\")\n",
    "else:\n",
    "    print(\"P-value is not less than 0.05. We fail to reject the null hypothesis.\")\n",
    "    print(\"Conclusion: There is no statistical evidence that individual-specific effects are correlated with the regressors.\")\n",
    "    print(\"Therefore, the more efficient Random-Effects (RE) model is preferred.\")"
   ]
  },
  {
   "cell_type": "markdown",
   "id": "02403abc-8ad5-41b7-8565-275f32b8f743",
   "metadata": {},
   "source": [
    "## 被説明変数を歳入総額の変化率にして計算する"
   ]
  },
  {
   "cell_type": "code",
   "execution_count": null,
   "id": "4d0a8c52-f9ed-4ec3-8609-332bc768a6bd",
   "metadata": {},
   "outputs": [],
   "source": [
    "# 「値」の前年の値をシフトして取得\n",
    "features_df['lagged_歳入総額'] = features_df.groupby(level=0)['歳入総額'].shift(1)\n",
    "# 値の昨年との変化率を計算\n",
    "features_df['change_rate'] = (features_df['歳入総額'] - features_df['lagged_歳入総額'])/features_df['lagged_歳入総額']\n",
    "\n",
    "# inf と -inf を NaN に置換する\n",
    "features_df.replace([np.inf, -np.inf], np.nan, inplace=True)\n",
    "\n",
    "# 'change_rate'列がNaNである行（infから変換されたものも含む）を削除する\n",
    "features_df2 = features_df.dropna(subset=['change_rate'])\n",
    "\n",
    "formula_fe3 = 'change_rate ~ furusatotokyo + 納税義務者数 + 1 +  EntityEffects'\n",
    "result_fe3 = PanelOLS.from_formula(formula_fe3, data=features_df2).fit()\n",
    "print(result_fe3)"
   ]
  },
  {
   "cell_type": "code",
   "execution_count": null,
   "id": "633bd174-5a8c-4d53-aacc-9a817a465294",
   "metadata": {},
   "outputs": [],
   "source": [
    "formula_fe4 = 'change_rate ~ furusatotokyo + 納税義務者数 + 1 + TimeEffects + EntityEffects'\n",
    "result_fe4 = PanelOLS.from_formula(formula_fe4, data=features_df2).fit()\n",
    "print(result_fe4)"
   ]
  },
  {
   "cell_type": "code",
   "execution_count": null,
   "id": "ad3e9083-5ee0-4492-947d-22c98bee5df8",
   "metadata": {},
   "outputs": [],
   "source": []
  }
 ],
 "metadata": {
  "kernelspec": {
   "display_name": "Python 3 (ipykernel)",
   "language": "python",
   "name": "python3"
  },
  "language_info": {
   "codemirror_mode": {
    "name": "ipython",
    "version": 3
   },
   "file_extension": ".py",
   "mimetype": "text/x-python",
   "name": "python",
   "nbconvert_exporter": "python",
   "pygments_lexer": "ipython3",
   "version": "3.12.10"
  }
 },
 "nbformat": 4,
 "nbformat_minor": 5
}
