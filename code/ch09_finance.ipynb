{
 "cells": [
  {
   "cell_type": "markdown",
   "metadata": {},
   "source": [
    "# 金融・市場データの取得・可視化・分析\n",
    "\n"
   ]
  },
  {
   "cell_type": "code",
   "execution_count": null,
   "metadata": {},
   "outputs": [],
   "source": [
    "#!pip install seaborn"
   ]
  },
  {
   "cell_type": "code",
   "execution_count": null,
   "metadata": {},
   "outputs": [],
   "source": [
    "# 環境変数とパス設定に用いるライブラリ\n",
    "import os\n",
    "from dotenv import load_dotenv\n",
    "from pathlib import Path\n",
    "# データ取得で用いるライブラリ\n",
    "import json\n",
    "import time\n",
    "from urllib.parse import urljoin, urlencode\n",
    "import requests\n",
    "# データ処理に用いるライブラリ\n",
    "import numpy as np\n",
    "import pandas as pd\n",
    "# 可視化に用いるライブラリ\n",
    "import plotly\n",
    "import plotly.graph_objs as go\n",
    "import plotly.express as px\n",
    "import seaborn as sns"
   ]
  },
  {
   "cell_type": "code",
   "execution_count": null,
   "metadata": {},
   "outputs": [],
   "source": [
    "load_dotenv()\n",
    "FRED_API_KEY = os.getenv(\"FRED_API_KEY\")\n",
    "J_QUANTS_MAILADDRESS = os.getenv(\"J_QUANTS_MAILADDRESS\")  # J-Quantsサインインのメールアドレス\n",
    "J_QUANTS_PASSWORD = os.getenv(\"J_QUANTS_PASSWORD\")  # J-Quantsサインインのパスワード"
   ]
  },
  {
   "cell_type": "code",
   "execution_count": null,
   "metadata": {},
   "outputs": [],
   "source": [
    "current_dir = Path.cwd()\n",
    "data_path = (current_dir / \"data\" / \"ch09\").resolve()"
   ]
  },
  {
   "cell_type": "markdown",
   "metadata": {},
   "source": [
    "## 債券と金利\n",
    "\n",
    "### 国債の残高と長期金利\n",
    "\n",
    "- [国債](https://www.mof.go.jp/jgbs/index.html)\n",
    "- [「統計表一覧（国債及び借入金並びに政府保証債務現在高）」のサイト](https://www.mof.go.jp/jgbs/reference/gbb/data.htm)\n",
    "- [日本銀行の「時系列統計データ 検索サイト」](https://www.stat-search.boj.or.jp/)\n",
    "- [「国債金利情報」のサイト](https://www.mof.go.jp/jgbs/reference/interest_rate/index.htm)\n",
    "- [算出方法](https://www.mof.go.jp/jgbs/reference/interest_rate/outline.pdf)\n",
    "\n",
    "#### 国債の残高\n",
    "\n",
    "- [「統計表一覧（国債及び借入金並びに政府保証債務現在高）」のサイト](https://www.mof.go.jp/jgbs/reference/gbb/data.htm)"
   ]
  },
  {
   "cell_type": "code",
   "execution_count": null,
   "metadata": {},
   "outputs": [],
   "source": [
    "bond_boj = pd.read_csv(\n",
    "    data_path / \"nme_政府債務合計_国債_内国債_暦年.csv\",\n",
    "    encoding=\"shift_jis\",\n",
    "    header=1, \n",
    ").rename(columns={\"系列名称\": \"年\", \"＿種類別内訳/国債/内国債\": \"国債残高\"})\n",
    "bond_boj.tail()"
   ]
  },
  {
   "cell_type": "markdown",
   "metadata": {},
   "source": [
    "#### 長期金利とイールド・カーブ\n"
   ]
  },
  {
   "cell_type": "code",
   "execution_count": null,
   "metadata": {},
   "outputs": [],
   "source": [
    "mof_url = \"https://www.mof.go.jp/jgbs/reference/interest_rate/\"\n",
    "csv_url = urljoin(mof_url, \"jgbcm.csv\")\n",
    "all_csv_url = urljoin(mof_url, \"data/jgbcm_all.csv\")\n",
    "#jgbcm_mof = pd.read_csv(csv_url, encoding=\"cp932\", skiprows=1, index_col=0, na_values=\"-\")  # サイトから直接読み込む\n",
    "jgbcm_mof = pd.read_csv(data_path / \"jgbcm.csv\", encoding=\"cp932\", skiprows=1, index_col=0, na_values=\"-\")  # ダウンロードして読み込む\n",
    "#jgbcm_all = pd.read_csv(all_csv_url, encoding=\"cp932\", skiprows=1, index_col=0, na_values=\"-\")  # サイトから直接読み込む\n",
    "jgbcm_all = pd.read_csv(data_path / \"jgbcm_all.csv\", encoding=\"cp932\", skiprows=1, index_col=0, na_values=\"-\")  # ダウンロードして読み込む\n",
    "jgbcm_concatenated = pd.concat([jgbcm_all, jgbcm_mof]).dropna(axis=\"index\", how=\"all\")\n",
    "jgbcm_concatenated.index[:5], jgbcm_concatenated.index[5000:5005], jgbcm_concatenated.index[-5:]"
   ]
  },
  {
   "cell_type": "code",
   "execution_count": null,
   "metadata": {},
   "outputs": [],
   "source": [
    "era_offsets = {\"S\": 1925, \"H\": 1988, \"R\": 2018}\n",
    "ref_date_df = jgbcm_concatenated.index.to_series().str.extract(\n",
    "    r\"(?P<era>[SHR])(?P<year>\\d+)\\.(?P<month>\\d+)\\.(?P<day>\\d+)\",\n",
    "    expand=True,\n",
    ")\n",
    "ce_index = pd.to_datetime({\n",
    "    \"year\": ref_date_df[\"year\"].astype(int) + ref_date_df[\"era\"].map(era_offsets),\n",
    "    \"month\": ref_date_df[\"month\"].astype(int),\n",
    "    \"day\": ref_date_df[\"day\"].astype(int)\n",
    "})\n",
    "ce_index.name = jgbcm_concatenated.index.name\n",
    "interest_rate = jgbcm_concatenated.copy().set_index(ce_index)\n",
    "interest_rate"
   ]
  },
  {
   "cell_type": "code",
   "execution_count": null,
   "metadata": {},
   "outputs": [],
   "source": [
    "# 各年の最終日の金利でテーブルを年次に整形\n",
    "interest_rate_annual = interest_rate.resample(\"YE\").last()\n",
    "cond_yield = interest_rate_annual.index >= \"2007-01-01\"\n",
    "cond_yield &= interest_rate_annual.index < \"2025-01-01\"\n",
    "yield_data = (interest_rate_annual.loc[cond_yield]\n",
    "    .stack()\n",
    "    .reset_index()\n",
    "    .rename(columns={\"level_1\": \"maturity\", 0: \"rate\"})\n",
    "    .assign(**{\n",
    "        \"年\": lambda df: df[\"基準日\"].dt.strftime(\"%Y\"),\n",
    "        \"年限\": lambda df: df[\"maturity\"].str.replace(\"年\", \"\").astype(int),\n",
    "        \"金利\": lambda df: df[\"rate\"].astype(float),\n",
    "    })\n",
    ")\n",
    "yield_data.tail()"
   ]
  },
  {
   "cell_type": "code",
   "execution_count": null,
   "metadata": {},
   "outputs": [],
   "source": [
    "colors = px.colors.sequential.YlGn[::-1] + px.colors.sequential.Reds\n",
    "yield_fig = px.line(yield_data,\n",
    "    x=\"年限\",\n",
    "    y=\"金利\",\n",
    "    color=\"年\",\n",
    "    color_discrete_sequence=colors,\n",
    "    markers=True,\n",
    ")\n",
    "yield_fig.update_layout(width=900, height=700, font={\"size\": 18},\n",
    "    xaxis={\"ticksuffix\": \"年\"},\n",
    "    yaxis={\"ticksuffix\": \"%\"},\n",
    ")\n",
    "yield_fig.show()"
   ]
  },
  {
   "cell_type": "markdown",
   "metadata": {},
   "source": [
    "- [国債金利情報](https://www.mof.go.jp/jgbs/reference/interest_rate/index.htm)"
   ]
  },
  {
   "cell_type": "markdown",
   "metadata": {},
   "source": [
    "### 短期金利\n",
    "\n",
    "- [日本銀行の「時系列統計データ 検索サイト」](https://www.stat-search.boj.or.jp/index.html)\n",
    "- [「主要時系列統計データ表」のページ](https://www.stat-search.boj.or.jp/ssi/mtshtml/fm02_m_1.html)\n"
   ]
  },
  {
   "cell_type": "code",
   "execution_count": null,
   "metadata": {},
   "outputs": [],
   "source": [
    "jp_rate = pd.read_csv(data_path / \"fm02_m_1.csv\",\n",
    "    encoding=\"cp932\",\n",
    "    skiprows=9,\n",
    "    names=[\"date\", \"無担保コールレートO/N月平均金利\"],\n",
    "    usecols=[0, 2],\n",
    "    parse_dates=[\"date\"],\n",
    "    date_format=\"%Y/%m\",\n",
    "    index_col=\"date\",\n",
    ")\n",
    "jp_rate.tail()"
   ]
  },
  {
   "cell_type": "markdown",
   "metadata": {},
   "source": [
    "### FRBとFFレート\n",
    "\n",
    "- [FRED](https://fred.stlouisfed.org/)\n",
    "- [FRED API](https://fred.stlouisfed.org/docs/api/fred/)\n",
    "- [API利用規約](https://fred.stlouisfed.org/docs/api/terms_of_use.html)\n",
    "- [プライバシーポリシー](https://www.stlouisfed.org/about-us/privacy-policy/online-notice)\n",
    "- [FRED Graph](https://fred.stlouisfed.org/graph/?g=mQy7)\n",
    "\n",
    "#### FREDのFFレート\n",
    "\n",
    "- [FRED API の仕様](https://fred.stlouisfed.org/docs/api/fred/series_observations.html)\n"
   ]
  },
  {
   "cell_type": "code",
   "execution_count": null,
   "metadata": {},
   "outputs": [],
   "source": [
    "fred_url = \"https://api.stlouisfed.org/fred/series/observations\"\n",
    "series_mapping = {\n",
    "    \"DFF\": \"実効FF金利\",\n",
    "    \"DFEDTARU\": \"上限金利\",\n",
    "    \"DFEDTARL\": \"下限金利\",\n",
    "}\n",
    "observation_start = \"2007-01-01\"\n",
    "observation_end = \"2024-12-31\"\n",
    "base_fred_params = {\n",
    "    \"api_key\": FRED_API_KEY,\n",
    "    \"file_type\": \"json\",\n",
    "    \"observation_start\": observation_start,\n",
    "    \"observation_end\": observation_end,\n",
    "    \"frequency\": \"m\",  # Monthly\n",
    "    \"aggregation_method\": \"eop\",  # End of period\n",
    "}\n",
    "fred_dfs = []\n",
    "for series_id, rate_name in series_mapping.items():\n",
    "    fred_params = base_fred_params.copy()\n",
    "    fred_params[\"series_id\"] = series_id\n",
    "    fred_res = requests.get(fred_url, params=fred_params)\n",
    "    fred_df = pd.DataFrame(fred_res.json()[\"observations\"]).assign(**{\n",
    "        \"date\": lambda df: pd.to_datetime(df[\"date\"]),\n",
    "        \"value\": lambda df: pd.to_numeric(df[\"value\"], errors=\"coerce\"),\n",
    "        \"金利種類\": rate_name,\n",
    "    })\n",
    "    fred_dfs.append(fred_df)\n",
    "    time.sleep(5)\n",
    "ffrate = pd.concat(fred_dfs)\n",
    "ffrate"
   ]
  },
  {
   "cell_type": "code",
   "execution_count": null,
   "metadata": {},
   "outputs": [],
   "source": [
    "#ffrate.to_csv(data_path / \"ch09_fred_ffrate.csv\")"
   ]
  },
  {
   "cell_type": "code",
   "execution_count": null,
   "metadata": {},
   "outputs": [],
   "source": [
    "fred_id = \"DFF\"\n",
    "fredgraph_df = pd.read_csv(f\"https://fred.stlouisfed.org/graph/fredgraph.csv?id={fred_id}\")"
   ]
  },
  {
   "cell_type": "code",
   "execution_count": null,
   "metadata": {},
   "outputs": [],
   "source": [
    "#fredgraph_df.to_csv(data_path / \"ch09_fred_fredgraph_df.csv\")"
   ]
  },
  {
   "cell_type": "code",
   "execution_count": null,
   "metadata": {},
   "outputs": [],
   "source": [
    "ff_fig = px.line(ffrate, x=\"date\", y=\"value\", color=\"金利種類\")\n",
    "ff_fig.update_layout(width=900, height=450, font={\"size\": 18},\n",
    "    xaxis={\"ticksuffix\": \"年\", \"title\": None},\n",
    "    yaxis={\"ticksuffix\": \"%\", \"title\": None},\n",
    ")\n",
    "ff_fig.show()"
   ]
  },
  {
   "cell_type": "markdown",
   "metadata": {},
   "source": [
    "#### 日米金利\n"
   ]
  },
  {
   "cell_type": "code",
   "execution_count": null,
   "metadata": {},
   "outputs": [],
   "source": [
    "fedfunds_params = base_fred_params.copy()\n",
    "fedfunds_params[\"series_id\"] = \"FEDFUNDS\"  # 月次\n",
    "fedfunds_params[\"observation_start\"] = \"1985-01-01\"\n",
    "fedfunds_res = requests.get(fred_url, params=fedfunds_params)\n",
    "fedfunds_df = pd.DataFrame(fedfunds_res.json()[\"observations\"]).assign(**{\n",
    "    \"date\": lambda df: pd.to_datetime(df[\"date\"]),\n",
    "    \"米国\": lambda df: pd.to_numeric(df[\"value\"], errors=\"coerce\"),\n",
    "})[[\"date\", \"米国\"]]\n",
    "fedfunds_df"
   ]
  },
  {
   "cell_type": "code",
   "execution_count": null,
   "metadata": {},
   "outputs": [],
   "source": [
    "rate_merged = fedfunds_df.merge(\n",
    "    jp_rate, left_on=\"date\", right_index=True, how=\"left\"\n",
    ").rename(columns={\"無担保コールレートO/N月平均金利\": \"日本\"})\n",
    "rate_tidy = pd.melt(rate_merged,\n",
    "    id_vars=[\"date\"],\n",
    "    value_vars=[\"米国\", \"日本\"],\n",
    "    var_name=\"国\",\n",
    "    value_name=\"利率\",\n",
    "    ignore_index=False,\n",
    ").reset_index()\n",
    "rate_fig = px.line(rate_tidy, x=\"date\", y=\"利率\", color=\"国\")\n",
    "rate_fig.update_layout(width=900, height=450, font={\"size\": 18},\n",
    "    xaxis={\"ticksuffix\": \"年\", \"title\": None},\n",
    "    yaxis={\"ticksuffix\": \"%\"},\n",
    ")\n",
    "rate_fig.show()"
   ]
  },
  {
   "cell_type": "markdown",
   "metadata": {},
   "source": [
    "## 外国為替\n",
    "\n",
    "- [名目実効為替レート](https://www.boj.or.jp/statistics/outline/exp/exrate02.htm)\n",
    "- [実効為替レート](https://www.bis.org/statistics/eer.htm)\n",
    "\n",
    "### FREDの為替データ\n",
    "\n",
    "- [FRED のサイト](https://fred.stlouisfed.org/)\n"
   ]
  },
  {
   "cell_type": "code",
   "execution_count": null,
   "metadata": {},
   "outputs": [],
   "source": [
    "fx_params = base_fred_params.copy()\n",
    "fx_params[\"series_id\"] = \"DEXJPUS\"\n",
    "fx_params[\"observation_start\"] = \"1985-01-01\"\n",
    "fx_params[\"observation_end\"] = \"2024-12-31\"\n",
    "fx_res = requests.get(fred_url, params=fx_params)\n",
    "fx_df = pd.DataFrame(fx_res.json()[\"observations\"]).assign(**{\n",
    "    \"date\": lambda df: pd.to_datetime(df[\"date\"]),\n",
    "    \"value\": lambda df: pd.to_numeric(df[\"value\"], errors=\"coerce\"),\n",
    "})[[\"date\", \"value\"]]"
   ]
  },
  {
   "cell_type": "code",
   "execution_count": null,
   "metadata": {},
   "outputs": [],
   "source": [
    "#fx_df.to_csv(data_path / \"ch09_fred_fx.csv\")\n",
    "#fx_df = pd.read_csv(data_path / \"ch09_fred_fx.csv\", index_col=0)"
   ]
  },
  {
   "cell_type": "code",
   "execution_count": null,
   "metadata": {},
   "outputs": [],
   "source": [
    "# 日米金利差を計算\n",
    "rate_wide = rate_merged.assign(**{\"金利差\": rate_merged[\"米国\"] - rate_merged[\"日本\"]})\n",
    "parity_fig = go.Figure()\n",
    "# ドル円レートのデータを追加\n",
    "parity_fig.add_trace(\n",
    "    go.Scatter(x=fx_df[\"date\"], y=fx_df[\"value\"], name=\"USD/JPY\", marker_color=\"blue\")\n",
    ")\n",
    "# 右側のy軸に金利差のデータを追加\n",
    "parity_fig.add_trace(go.Scatter(\n",
    "    x=rate_wide[\"date\"],\n",
    "    y=rate_wide[\"金利差\"],\n",
    "    name=\"金利差\",\n",
    "    marker_color=\"red\",\n",
    "    yaxis=\"y2\",\n",
    "))\n",
    "parity_fig.update_layout(width=900, height=450, font={\"size\": 18},\n",
    "    xaxis={\"ticksuffix\": \"年\", \"title\": None}, \n",
    "    yaxis={\"title\": \"為替レート(円)\"},\n",
    "    yaxis2={\"title\": \"金利差(%)\", \"overlaying\": \"y\", \"side\": \"right\"}\n",
    ")\n",
    "parity_fig.show()"
   ]
  },
  {
   "cell_type": "markdown",
   "metadata": {},
   "source": [
    "### 国際決済銀行の為替データ\n",
    "\n",
    "- [国際決済銀行](https://www.bis.org/)\n",
    "- [BIS statistics](https://www.bis.org/statistics/index.htm)\n",
    "- [BIS Data Portal](https://data.bis.org/)\n",
    "- [BIS SDMX service API](https://www.bis.org/statistics/sdmx_techspec.htm)\n",
    "- [BIS SDMX RESTful API](https://stats.bis.org/api-doc/v2/#/)\n",
    "- [Bulk downloads](https://data.bis.org/bulkdownload)\n",
    "- [二国間為替レート：bilateral exchange rates](https://data.bis.org/topics/XRU)\n"
   ]
  },
  {
   "cell_type": "code",
   "execution_count": null,
   "metadata": {},
   "outputs": [],
   "source": [
    "# Timespanを2015-01-01から2024-12-31に絞る\n",
    "start_period = \"2015-01-01\"\n",
    "end_period = \"2024-12-31\"\n",
    "# Frequencyを月次に絞る\n",
    "frequency = \"M\"\n",
    "# Currencyを米ドル、ユーロ(エリアはドイツ)、日本円、英国ポンド、豪ドル、カナダドルに絞る\n",
    "currency_list = [\"US\", \"DE\", \"JP\", \"GB\", \"AU\", \"CA\"]\n",
    "# COLLECTION IndicatorをEnd of Periodに絞る\n",
    "collection_indicator = \"E\"\n",
    "# Request URLを作成してCSVを読み込み\n",
    "currency = \"+\".join(currency_list)\n",
    "bis_base_url = \"https://stats.bis.org/api/v2/data/dataflow/BIS/WS_XRU/1.0/\"\n",
    "bis_endpoint = f\"{frequency}.{currency}..{collection_indicator}\"\n",
    "bis_endpoint_url = urljoin(bis_base_url, bis_endpoint)\n",
    "bis_params = {\"startPeriod\": start_period, \"endPeriod\": end_period, \"format\": \"csv\"}\n",
    "bis_request_url = urljoin(bis_endpoint_url, \"?\" + urlencode(bis_params))\n",
    "usecols = [\"FREQ\", \"REF_AREA\", \"CURRENCY\", \"COLLECTION\", \"TIME_PERIOD\", \"OBS_VALUE\"]\n",
    "bis_fx_df = pd.read_csv(\n",
    "    bis_request_url, usecols=usecols, parse_dates=[\"TIME_PERIOD\"], date_format=\"%Y-%m\"\n",
    ")\n",
    "bis_fx_df"
   ]
  },
  {
   "cell_type": "code",
   "execution_count": null,
   "metadata": {},
   "outputs": [],
   "source": [
    "#bis_fx_df.to_csv(data_path / \"ch09_bis_fx.csv\")\n",
    "#bis_fx_df = pd.read_csv(data_path / \"ch09_bis_fx.csv\", index_col=0)"
   ]
  },
  {
   "cell_type": "code",
   "execution_count": null,
   "metadata": {},
   "outputs": [],
   "source": [
    "fx_wide = (bis_fx_df[[\"TIME_PERIOD\", \"CURRENCY\", \"OBS_VALUE\"]]\n",
    "    .set_index([\"TIME_PERIOD\", \"CURRENCY\"])\n",
    "    .unstack()\n",
    ")\n",
    "fx_change = fx_wide / fx_wide.iloc[0, :]\n",
    "fx_tidy = (fx_change\n",
    "    .stack(future_stack=True)\n",
    "    .reset_index()\n",
    "    .rename(columns={\"CURRENCY\": \"通貨\", \"OBS_VALUE\": \"実効為替レート\"})\n",
    ")\n",
    "fx_fig = px.line(\n",
    "    fx_tidy, x=\"TIME_PERIOD\", y=\"実効為替レート\", color=\"通貨\", width=800, height=450\n",
    ")\n",
    "fx_fig.update_layout(font={\"size\": 18},\n",
    "    xaxis={\"ticksuffix\": \"年\", \"title\": None},\n",
    ")\n",
    "fx_fig.show()"
   ]
  },
  {
   "cell_type": "markdown",
   "metadata": {},
   "source": [
    "## マネー\n",
    "\n",
    "### マネーストック\n",
    "\n",
    "#### 日本銀行と日本のマネーストック\n"
   ]
  },
  {
   "cell_type": "code",
   "execution_count": null,
   "metadata": {},
   "outputs": [],
   "source": [
    "money_boj = pd.read_csv(data_path / \"md02_m_1.csv\", encoding=\"shift_jis\", header=3)\n",
    "money_boj.iloc[:10, [0] + list(range(7, 11))]"
   ]
  },
  {
   "cell_type": "code",
   "execution_count": null,
   "metadata": {},
   "outputs": [],
   "source": [
    "moneystock = money_boj.loc[5:, :]\n",
    "moneystock = moneystock.assign(**{\n",
    "    \"年月\": pd.to_datetime(moneystock[\"系列名称\"], format=\"%Y/%m\"),\n",
    "    \"年\": moneystock[\"系列名称\"].str[:4].astype(int),\n",
    "    \"マネーストック\": moneystock[\"Ｍ２／平／マネーストック\"].astype(float)\n",
    "})\n",
    "# 期末に絞る\n",
    "cond_m2 = moneystock[\"年月\"].dt.month == 12\n",
    "cond_m2 &= moneystock[\"年\"] > 2004\n",
    "m2 = moneystock.loc[cond_m2, [\"年\", \"マネーストック\"]]\n",
    "# 国債残高と結合\n",
    "bond_m2 = bond_boj.merge(m2, on=\"年\")[[\"年\", \"国債残高\", \"マネーストック\"]]\n",
    "bond_m2.tail()"
   ]
  },
  {
   "cell_type": "code",
   "execution_count": null,
   "metadata": {},
   "outputs": [],
   "source": [
    "# 整然データ形式に変換\n",
    "m2_tidy = pd.melt(bond_m2,\n",
    "    id_vars=\"年\",\n",
    "    value_vars=[\"国債残高\", \"マネーストック\"],\n",
    "    var_name=\"残高\",\n",
    "    value_name=\"金額(兆円)\",\n",
    ")\n",
    "# 兆円単位に変換\n",
    "m2_tidy = m2_tidy.assign(**{\"金額(兆円)\": m2_tidy[\"金額(兆円)\"] / 10000})\n",
    "# 棒グラフで可視化\n",
    "m2_fig = px.bar(m2_tidy, x=\"年\", y=\"金額(兆円)\", color=\"残高\", barmode=\"group\")\n",
    "m2_fig.update_layout(width=900, height=450, font={\"size\": 18},\n",
    "    xaxis={\"ticksuffix\": \"年\", \"title\": None},\n",
    "    yaxis={\"tickformat\": \".0f\", \"ticksuffix\": \"兆円\", \"title\": None},\n",
    ")\n",
    "m2_fig.show()"
   ]
  },
  {
   "cell_type": "markdown",
   "metadata": {},
   "source": [
    "#### FRBと米国のマネーストック\n",
    "\n",
    "- [FRED](https://fred.stlouisfed.org/)\n"
   ]
  },
  {
   "cell_type": "code",
   "execution_count": null,
   "metadata": {},
   "outputs": [],
   "source": [
    "m2_params = base_fred_params.copy()\n",
    "m2_params[\"observation_start\"] = \"1990-01-01\"\n",
    "m2_params[\"observation_end\"] = \"2024-12-31\"\n",
    "m2_params[\"frequency\"] = \"a\"  # Annual\n",
    "m2_series_mapping = {\n",
    "    \"M2SL\": \"M2(マネーストック)\",\n",
    "    \"GDP\": \"名目GDP\",\n",
    "}\n",
    "m2_fred_dfs = []\n",
    "for series_id, series_name in m2_series_mapping.items():\n",
    "    fred_params = m2_params.copy()\n",
    "    fred_params[\"series_id\"] = series_id\n",
    "    fred_res = requests.get(fred_url, params=fred_params)\n",
    "    fred_df = pd.DataFrame(fred_res.json()[\"observations\"]).assign(**{\n",
    "        \"日付\": lambda df: pd.to_datetime(df[\"date\"]),\n",
    "        \"value\": lambda df: pd.to_numeric(df[\"value\"], errors=\"coerce\"),\n",
    "        \"系列名\": series_name,\n",
    "    })\n",
    "    m2_fred_dfs.append(fred_df)\n",
    "m2_fred_df = pd.concat(m2_fred_dfs)\n",
    "m2_gdp_pivot = m2_fred_df.pivot_table(values=\"value\", index=\"日付\", columns=\"系列名\")\n",
    "m2_gdp = m2_gdp_pivot.assign(**{\n",
    "    \"m2velocity\": m2_gdp_pivot[\"名目GDP\"] / m2_gdp_pivot[\"M2(マネーストック)\"],\n",
    "    \"marshall_k\": m2_gdp_pivot[\"M2(マネーストック)\"] / m2_gdp_pivot[\"名目GDP\"]\n",
    "})\n",
    "m2_gdp.tail()"
   ]
  },
  {
   "cell_type": "code",
   "execution_count": null,
   "metadata": {},
   "outputs": [],
   "source": [
    "m2_gdp_tidy = m2_fred_df[[\"日付\", \"系列名\", \"value\"]]\n",
    "m2_gdp_fig = px.line(m2_gdp_tidy, x=\"日付\", y=\"value\", color=\"系列名\")\n",
    "m2_gdp_fig.update_layout(width=900, height=450, font={\"size\": 18},\n",
    "    xaxis={\"ticksuffix\": \"年\", \"title\": None},\n",
    "    yaxis={\"tickformat\": \",.0f\", \"ticksuffix\": \"十億ドル\", \"title\": None}\n",
    ")\n",
    "m2_gdp_fig.show()"
   ]
  },
  {
   "cell_type": "markdown",
   "metadata": {},
   "source": [
    "### 資金循環統計\n",
    "\n",
    "- [資金循環統計サイト](https://www.boj.or.jp/statistics/sj/index.htm)\n"
   ]
  },
  {
   "cell_type": "code",
   "execution_count": null,
   "metadata": {},
   "outputs": [],
   "source": [
    "cols_boj = [\n",
    "    \"系列名称\",\n",
    "    \"負債・資金過不足／中央銀行／フロー\",\n",
    "    \"負債・資金過不足／預金取扱機関／フロー\",\n",
    "    \"負債・資金過不足／民間非金融法人企業／フロー\",\n",
    "    \"負債・資金過不足／一般政府／フロー\",\n",
    "    \"負債・資金過不足／うち公的年金／フロー\",\n",
    "    \"負債・資金過不足／家計／フロー\",\n",
    "    \"負債・資金過不足／海外／フロー\",\n",
    "]\n",
    "fund_flow_df = pd.read_csv(data_path / \"nme_資金循環_資金過不足_年度.csv\",\n",
    "    header=1,\n",
    "    encoding=\"shift_jis\",\n",
    "    usecols=cols_boj,\n",
    ")\n",
    "fund_flow_df.head(3).T"
   ]
  },
  {
   "cell_type": "code",
   "execution_count": null,
   "metadata": {},
   "outputs": [],
   "source": [
    "fund_flow_tidy = (fund_flow_df\n",
    "    .set_index(\"系列名称\")\n",
    "    .stack()\n",
    "    .reset_index()\n",
    "    .rename(columns={\"level_1\": \"部門\", 0: \"資金過不足\"})\n",
    ")\n",
    "fund_flow_tidy = fund_flow_tidy.assign(**{\n",
    "    \"部門\": lambda df: df[\"部門\"].str.split(\"／\", expand=True).iloc[:, 1]\n",
    "})\n",
    "fund_flow_fig = px.line(\n",
    "    fund_flow_tidy, x=\"系列名称\", y=\"資金過不足\", color=\"部門\", title=\"資金過不足\"\n",
    ")\n",
    "fund_flow_fig.update_layout(width=900, height=450, font={\"size\": 18},\n",
    "    xaxis={\"ticksuffix\": \"年\", \"title\": None},\n",
    "    yaxis={\"tickformat\": \",.0f\", \"ticksuffix\": \"億円\", \"title\": None},\n",
    ")\n",
    "fund_flow_fig.show()"
   ]
  },
  {
   "cell_type": "markdown",
   "metadata": {},
   "source": [
    "## 株式と株価\n",
    "\n",
    "- [日本取引所グループ](https://www.jpx.co.jp/)\n",
    "- [ニューヨーク証券取引所](https://www.nyse.com/index)\n",
    "- [NYSE American](https://www.nyse.com/markets/nyse-mkt)\n",
    "- [TOPIX](https://www.jpx.co.jp/markets/indices/topix/)\n",
    "- [日経平均株価](https://indexes.nikkei.co.jp/nkave/index/profile?idx=nk225)\n",
    "\n",
    "### 有価証券報告書データと金融庁のEDINET\n",
    "\n",
    "- [EDINET（Electronic Disclosure for Investors Network）閲覧サイト](https://disclosure2.edinet-fsa.go.jp/week0010.aspx)\n",
    "- [XBRL Japan](https://www.xbrl.or.jp/)\n",
    "- [Arelle](https://arelle.org/arelle/)\n",
    "- [arellerelease](https://arelle.readthedocs.io/en/2.23.4/)\n",
    "- [EDINET の利用規約](https://disclosure2dl.edinet-fsa.go.jp/guide/static/disclosure/WZEK0030.html)\n",
    "- [XBRL 作成ガイドライン](https://www.fsa.go.jp/search/20231211.html)\n",
    "\n",
    "#### 資本金別企業数\n"
   ]
  },
  {
   "cell_type": "code",
   "execution_count": null,
   "metadata": {},
   "outputs": [],
   "source": [
    "edi_info = pd.read_csv(data_path / \"EdinetcodeDlInfo.csv\", encoding=\"cp932\", skiprows=1)\n",
    "edi_info.head(3).T"
   ]
  },
  {
   "cell_type": "code",
   "execution_count": null,
   "metadata": {},
   "outputs": [],
   "source": [
    "cond_edi = edi_info[\"提出者種別\"] == \"内国法人・組合\"\n",
    "cond_edi &= edi_info[\"上場区分\"] == \"上場\"\n",
    "edi_df = edi_info.loc[cond_edi]\n",
    "edi_df = edi_df.assign(**{\n",
    "    \"資本金区分\": (edi_df[\"資本金\"].apply(np.log10).astype(int)+1).astype(str) + \"桁(百万円)\"\n",
    "})\n",
    "cols_edi = [\"資本金区分\", \"提出者業種\"]\n",
    "edi_crosstab = (edi_df[cols_edi]\n",
    "    .groupby(cols_edi, dropna=False, as_index=False)\n",
    "    .size()\n",
    "    .rename(columns={\"提出者業種\": \"業種\", \"size\": \"企業数\"})\n",
    ")\n",
    "edi_crosstab"
   ]
  },
  {
   "cell_type": "code",
   "execution_count": null,
   "metadata": {},
   "outputs": [],
   "source": [
    "edi_fig = px.bar(edi_crosstab,\n",
    "    x=\"業種\",\n",
    "    y=\"企業数\",\n",
    "    color=\"資本金区分\",\n",
    "    color_discrete_sequence=plotly.colors.sequential.Mint,\n",
    ")\n",
    "edi_fig.update_layout(width=1000, height=600, font={\"size\": 18})\n",
    "edi_fig.show()"
   ]
  },
  {
   "cell_type": "markdown",
   "metadata": {},
   "source": [
    "#### 損益計算書ウォーターフォールチャート\n",
    "\n",
    "- [トヨタ自動車の有価証券報告書のPDF](https://global.toyota/jp/ir/library/securities-report/)\n"
   ]
  },
  {
   "cell_type": "code",
   "execution_count": null,
   "metadata": {},
   "outputs": [],
   "source": [
    "ufo_edi = pd.read_csv(data_path / \"jpcrp_トヨタ自動車_202403.csv\", \n",
    "    encoding=\"utf-16\", sep=\"\\t\", na_values={\"値\": \"－\"})\n",
    "ufo_edi.columns"
   ]
  },
  {
   "cell_type": "code",
   "execution_count": null,
   "metadata": {},
   "outputs": [],
   "source": [
    "cond_pl = ufo_edi[\"相対年度\"] == \"当期\"\n",
    "cond_pl &= ufo_edi[\"連結・個別\"] == \"個別\"\n",
    "cond_pl &= ufo_edi[\"コンテキストID\"] == \"CurrentYearDuration_NonConsolidatedMember\"\n",
    "pl_df = ufo_edi.loc[cond_pl, [\"要素ID\", \"項目名\", \"単位\", \"値\"]]\n",
    "pl_df.iloc[10:19, :]"
   ]
  },
  {
   "cell_type": "code",
   "execution_count": null,
   "metadata": {},
   "outputs": [],
   "source": [
    "# 「（」以下の「△」などの項目を除外する\n",
    "pl_df = pl_df.assign(**{\"item\": pl_df[\"項目名\"].str.replace(\"（.*\", \"\", regex=True)})\n",
    "pl_df = pl_df.assign(**{\"value\": pl_df[\"値\"].fillna(0).astype(int)})\n",
    "pl_data = [\n",
    "    [\"売上高\", \"relative\", 1],\n",
    "    [\"売上原価\", \"relative\", -1],\n",
    "    [\"売上総利益又は売上総損失\", \"total\", 1],\n",
    "    [\"販売費及び一般管理費\", \"relative\", -1],\n",
    "    [\"営業利益又は営業損失\", \"total\", 1],\n",
    "    [\"営業外収益\", \"relative\", 1],\n",
    "    [\"営業外費用\", \"relative\", -1],\n",
    "    [\"経常利益又は経常損失\", \"total\", 1],\n",
    "    [\"法人税等\", \"relative\", -1],\n",
    "    [\"当期純利益又は当期純損失\", \"total\", 1],\n",
    "]\n",
    "statements, measures, signs = zip(*pl_data)\n",
    "waterfall_data = pd.DataFrame(pl_data, columns=[\"statement\", \"measure\", \"sign\"])\n",
    "# 各PL項目に表示する金額テキストは、\n",
    "# 各項目名で抽出した\"value\"は1000000で除算して100万円単位にする\n",
    "waterfall_data = waterfall_data.assign(**{\"value\": waterfall_data[\"statement\"].apply(\n",
    "        lambda label: pl_df.set_index(\"item\").loc[label, \"value\"] // 1_000_000\n",
    "    ) * waterfall_data[\"sign\"]\n",
    "})\n",
    "waterfall_data"
   ]
  },
  {
   "cell_type": "code",
   "execution_count": null,
   "metadata": {},
   "outputs": [],
   "source": [
    "waterfall_fig = go.Figure(go.Waterfall(\n",
    "    x=statements,\n",
    "    y=waterfall_data[\"value\"],\n",
    "    measure=measures,  # 各棒の計測タイプを指定\n",
    "    text=waterfall_data[\"value\"].astype(str), \n",
    "    textposition=\"outside\"  # テキストを棒の外側に配置\n",
    "))\n",
    "# レイアウトでy軸の範囲を0円から売上より少し大きい金額までに設定\n",
    "waterfall_fig.update_layout(width=900, height=450,\n",
    "    yaxis={\n",
    "        \"tickformat\": \",.0f\",\n",
    "        \"ticksuffix\": \"百万円\",\n",
    "        \"title\": None,\n",
    "        \"range\": [\n",
    "            0,\n",
    "            int(waterfall_data.set_index(\"statement\").at[\"売上高\", \"value\"])\n",
    "            * 1.15,\n",
    "        ],\n",
    "    },\n",
    ")\n",
    "waterfall_fig.show()"
   ]
  },
  {
   "cell_type": "markdown",
   "metadata": {},
   "source": [
    "#### 貸借対照表\n",
    "\n",
    "- [2024年版EDINETタクソノミの公表について](https://www.fsa.go.jp/search/20231211.html)\n"
   ]
  },
  {
   "cell_type": "code",
   "execution_count": null,
   "metadata": {},
   "outputs": [],
   "source": [
    "cond_bs = ufo_edi[\"項目名\"].isin([\"固定資産\", \"流動資産\", \"純資産\", \"固定負債\", \"流動負債\"])\n",
    "cond_bs &= ufo_edi[\"相対年度\"].isin([\"前期末\", \"当期末\"])\n",
    "cond_bs &= ufo_edi[\"連結・個別\"] == \"個別\"\n",
    "cond_bs &= ufo_edi[\"コンテキストID\"].isin([\"CurrentYearInstant_NonConsolidatedMember\", \n",
    "    \"Prior1YearInstant_NonConsolidatedMember\"])\n",
    "balance = ufo_edi.loc[cond_bs].drop_duplicates()\n",
    "# 金額を百万単位に変換\n",
    "balance = balance.assign(**{\"value\": balance[\"値\"].replace(\"－\", \"0\").astype(int) // 1_000_000})"
   ]
  },
  {
   "cell_type": "code",
   "execution_count": null,
   "metadata": {},
   "outputs": [],
   "source": [
    "# 相対年度、項目名、値の列に絞ったテーブルを作成\n",
    "bs_df = balance.pivot(index=\"相対年度\", columns=\"項目名\", values=\"value\")\n",
    "# 前期と当期の差額\n",
    "diff_val = (bs_df.loc[\"当期末\", \"流動資産\"] + bs_df.loc[\"当期末\", \"固定資産\"]) - (\n",
    "    bs_df.loc[\"前期末\", \"流動資産\"] + bs_df.loc[\"前期末\", \"固定資産\"]\n",
    ")\n",
    "# グラフ設定のための定数を用意\n",
    "bar_width = 0.4  # 棒の幅の設定用\n",
    "xpos = {\"前期末\": 0, \"当期末\": 1}  # 棒のx軸の位置設定用\n",
    "cols_bs = [\"固定資産\", \"流動資産\", \"純資産\", \"固定負債\", \"流動負債\"]\n",
    "# 資産が青系、負債が赤系、純資産が緑になるように色を設定\n",
    "bs_colors = {\n",
    "    \"固定資産\": \"#1f77b4\",\n",
    "    \"流動資産\": \"#aec7e8\",\n",
    "    \"純資産\": \"#2ca02c\",\n",
    "    \"固定負債\": \"#d62728\",\n",
    "    \"流動負債\": \"#ff9896\",\n",
    "}\n",
    "# 資産側(左)と負債・純資産側(右)に分ける\n",
    "offsetgrps = {\"固定資産\": 0, \"流動資産\": 0, \"純資産\": 1, \"固定負債\": 1, \"流動負債\": 1}\n",
    "# 積上棒グラフの開始位置に使用\n",
    "base_dict = {\n",
    "    \"流動資産\": bs_df[\"固定資産\"],\n",
    "    \"固定負債\": bs_df[\"純資産\"],\n",
    "    \"流動負債\": bs_df[\"純資産\"] + bs_df[\"固定負債\"],\n",
    "}\n",
    "# グラフ描画領域の作成\n",
    "bs_fig = go.Figure()\n",
    "# 各棒グラフの追加\n",
    "for col in cols_bs:\n",
    "    base = base_dict[col] if col in base_dict else None\n",
    "    bs_fig.add_trace(go.Bar(\n",
    "        name=col,\n",
    "        x=[xpos[i] for i in bs_df.index],  # 棒のx軸の位置\n",
    "        y=bs_df[col],  # 棒の底辺からの高さ\n",
    "        marker_color=bs_colors[col],  # 棒の色\n",
    "        offsetgroup=offsetgrps[col],  # ズレを同じグループ内で揃える\n",
    "        base=base,  # 棒の底辺の開始位置\n",
    "        width=bar_width,  # 棒の幅\n",
    "        text=[f\"{col}:{val}百万円\" for val in bs_df[col]],  # 棒に表示するテキスト\n",
    "        textposition=\"inside\",  # テキストの位置を棒の内側に設定\n",
    "        showlegend=False,  # 凡例を表示しない\n",
    "    ))\n",
    "# 前期と当期の変化を明示する線を追加\n",
    "bs_fig.add_trace(go.Scatter(\n",
    "    x=[0 + bar_width, 1 - bar_width],\n",
    "    y=bs_df[\"流動資産\"] + bs_df[\"固定資産\"],\n",
    "    line={\"color\": \"black\", \"width\": 4, \"dash\": \"dash\"},\n",
    "    mode=\"lines\",\n",
    "    showlegend=False,\n",
    "))\n",
    "# レイアウトの更新\n",
    "bs_fig.update_layout(width=1000, height=500,\n",
    "    barmode=\"group\",\n",
    "    # x軸の0と1の値の位置にそれぞれ\"前期末\"と\"当期末\"というテキストを設定\n",
    "    xaxis={\"tickvals\": [0, 1], \"ticktext\": [\"前期末\", \"当期末\"]},\n",
    "    yaxis={\"tickformat\": \",.0f\", \"ticksuffix\": \"百万円\"},\n",
    "    # 前期と当期の差額の金額をアノテーションを用いて表示\n",
    "    annotations=[\n",
    "        {\n",
    "            \"x\": (xpos[\"前期末\"] + xpos[\"当期末\"]) / 2,\n",
    "            \"y\": (bs_df.loc[\"当期末\", \"流動資産\"] + bs_df.loc[\"当期末\", \"固定資産\"])\n",
    "            * 1.1,\n",
    "            \"text\": str(diff_val) + \"百万円\",\n",
    "            \"font\": {\"size\": 15},\n",
    "            \"showarrow\": False,  # アノテーションを指す矢印を表示しない\n",
    "        }\n",
    "    ],\n",
    ")\n",
    "bs_fig.show()"
   ]
  },
  {
   "cell_type": "markdown",
   "metadata": {},
   "source": [
    "### 株価と日本取引所(JPX)のJ-Quants\n",
    "\n",
    "- [J-Quants API](https://jpx-jquants.com/)\n",
    "- [API 仕様](https://jpx.gitbook.io/j-quants-ja/api-reference)\n",
    "- [サービス利用規約](https://jpx-jquants.com/termsofservice)\n",
    "\n",
    "#### J-Quants\n"
   ]
  },
  {
   "cell_type": "code",
   "execution_count": null,
   "metadata": {},
   "outputs": [],
   "source": [
    "jq_payload = {\"mailaddress\": J_QUANTS_MAILADDRESS, \"password\": J_QUANTS_PASSWORD}\n",
    "refresh_url = \"https://api.jquants.com/v1/token/auth_user\"\n",
    "res_refresh = requests.post(refresh_url, data=json.dumps(jq_payload))\n",
    "REFRESH_TOKEN = res_refresh.json()[\"refreshToken\"]"
   ]
  },
  {
   "cell_type": "code",
   "execution_count": null,
   "metadata": {},
   "outputs": [],
   "source": [
    "id_url = f\"https://api.jquants.com/v1/token/auth_refresh?refreshtoken={REFRESH_TOKEN}\"\n",
    "res_id = requests.post(id_url)\n",
    "id_token = res_id.json()[\"idToken\"]"
   ]
  },
  {
   "cell_type": "code",
   "execution_count": null,
   "metadata": {},
   "outputs": [],
   "source": [
    "jq_url = \"https://api.jquants.com/v1/prices/daily_quotes\"\n",
    "jq_headers = {\"Authorization\": f\"Bearer {id_token}\"}\n",
    "# 過去2年分の12週間遅延に合わせて日付を設定してください\n",
    "#jq_params = {\"code\": \"3994\", \"from\": \"20231201\", \"to\": \"20250630\"}\n",
    "jq_params = {\"code\": \"3994\", \"from\": \"ここを設定\", \"to\": \"ここを設定\"}\n",
    "res_quotes = requests.get(jq_url, params=jq_params, headers=jq_headers)"
   ]
  },
  {
   "cell_type": "code",
   "execution_count": null,
   "metadata": {},
   "outputs": [],
   "source": [
    "price_df = pd.json_normalize(res_quotes.json(), record_path=[\"daily_quotes\"])\n",
    "price_df.columns"
   ]
  },
  {
   "cell_type": "code",
   "execution_count": null,
   "metadata": {},
   "outputs": [],
   "source": [
    "#price_df.to_csv(\"ch09_jquants_price.csv\")"
   ]
  },
  {
   "cell_type": "markdown",
   "metadata": {},
   "source": [
    "#### 株価とローソク足\n"
   ]
  },
  {
   "cell_type": "code",
   "execution_count": null,
   "metadata": {},
   "outputs": [],
   "source": [
    "ohlc_fig = go.Figure(data=go.Ohlc(\n",
    "    x=price_df[\"Date\"],\n",
    "    open=price_df[\"Open\"],\n",
    "    high=price_df[\"High\"],\n",
    "    low=price_df[\"Low\"],\n",
    "    close=price_df[\"Close\"],\n",
    "))\n",
    "ohlc_fig.update_layout(width=900, height=450, font={\"size\": 18},\n",
    "    xaxis={\"tickformat\": \"%Y-%m\"},\n",
    "    yaxis={\"tickformat\": \",.0f\", \"ticksuffix\": \"円\"},\n",
    ")\n",
    "ohlc_fig.show()"
   ]
  },
  {
   "cell_type": "markdown",
   "metadata": {},
   "source": [
    "### 米国株の株価\n",
    "\n",
    "- [YahooFinance](https://finance.yahoo.com/)\n",
    "- [Stooq](https://stooq.com/)\n",
    "- [Quandl](https://data.nasdaq.com/publishers/QDL)\n",
    "- [Alpha Vantage](https://www.alphavantage.co/)\n",
    "- [pandas-datareader](https://pandas-datareader.readthedocs.io/en/latest/)\n",
    "\n",
    "## 金融市場の指数\n",
    "\n",
    "### 株価指数\n",
    "\n",
    "- [TOPIX（東証株価指数）](https://www.jpx.co.jp/markets/indices/topix/)\n",
    "- [TOPIXの見直し](https://www.jpx.co.jp/markets/indices/revisions-indices/index.html)\n",
    "- [東証指数算出要領](https://www.jpx.co.jp/markets/indices/line-up/files/cal2_30_topix.pdf)\n",
    "- [日経平均株価](https://indexes.nikkei.co.jp/nkave/index/profile?idx=nk225)\n",
    "- [S&P 500（Standard & Poorʼs 500 Stock Index）](https://www.spglobal.com/spdji/jp/indices/equity/sp-500/#overview)\n",
    "- [S&P ダウ・ジョーンズ・インデックス](https://www.spglobal.com/spdji/jp/)\n",
    "- [S&P 米国株価指数 メソドロジー](https://www.spglobal.com/spdji/jp/documents/methodologies/methodology-sp-us-indices-japanese.pdf)\n",
    "- [ダウ・ジョーンズ工業株価平均（Dow Jones Industrial Average：DJIA）](https://www.spglobal.com/spdji/jp/indices/equity/dow-jones-industrial-average/)\n",
    "- [NASDAQ 総合指数（NASDAQ Composit Index）](https://www.nasdaq.com/solutions/global-indexes/nasdaq-composite)\n",
    "- [NASDAQ Global Index Data Service（GIDS）](https://www.nasdaq.com/solutions/global-indexes/data/gids)\n",
    "- [CRSP US トータル・マーケット・インデックス](https://www.crsp.org/indexes/crsp-u-s-total-market-index/)\n",
    "- [Center for Research in Security Prices](https://www.crsp.org/)\n",
    "- [Wilshire 5000 トータル・マーケット・インデックス](https://www.wilshireindexes.com/products/ft-wilshire-5000-index-series)\n",
    "- [Wilshire Associates](https://www.wilshireindexes.com/)\n",
    "- [FRED Will Remove Wilshire Index Data on June 3, 2024](https://news.research.stlouisfed.org/2024/04/fred-will-remove-wilshire-index-data-on-june-3-2024/)\n",
    "- [MSCI](https://www.msci.com/home)\n",
    "- [FTSE グローバル・オールキャップ・インデックス](https://www.ftserussell.com/ja/products/indices/geisac)\n",
    "- [FTSEグループ](https://www.lseg.com/en/ftse-russell)\n"
   ]
  },
  {
   "cell_type": "code",
   "execution_count": null,
   "metadata": {},
   "outputs": [],
   "source": [
    "fred_url = \"https://api.stlouisfed.org/fred/series/observations\"\n",
    "series_list = [\"SP500\", \"DJIA\", \"NASDAQCOM\"]\n",
    "stock_observation_start = \"2016-01-01\"  # 過去10年以内の日付\n",
    "stock_observation_end = \"2025-06-30\"\n",
    "base_fred_stock_params = {\n",
    "    \"api_key\": FRED_API_KEY,\n",
    "    \"file_type\": \"json\",\n",
    "    \"observation_start\": stock_observation_start,\n",
    "    \"observation_end\": stock_observation_end,\n",
    "    \"frequency\": \"m\",  # Monthly\n",
    "    \"aggregation_method\": \"eop\",  # End of period\n",
    "}\n",
    "fred_stock_dfs = []\n",
    "for series_id in series_list:\n",
    "    fred_params = base_fred_stock_params.copy()\n",
    "    fred_params[\"series_id\"] = series_id\n",
    "    fred_res = requests.get(fred_url, params=fred_params)\n",
    "    fred_df = pd.DataFrame(fred_res.json()[\"observations\"]).assign(**{\n",
    "        \"日付\": lambda df: pd.to_datetime(df[\"date\"]),\n",
    "        \"value\": lambda df: pd.to_numeric(df[\"value\"], errors=\"coerce\"),\n",
    "        \"Index\": series_id,\n",
    "    })\n",
    "    fred_stock_dfs.append(fred_df)\n",
    "    time.sleep(5)\n",
    "us_stock = pd.concat(fred_stock_dfs)"
   ]
  },
  {
   "cell_type": "code",
   "execution_count": null,
   "metadata": {},
   "outputs": [],
   "source": [
    "us_ts = us_stock.pivot_table(\n",
    "    index=\"日付\",\n",
    "    columns=\"Index\",\n",
    "    values=\"value\",\n",
    ").dropna(axis=0, how=\"any\")\n",
    "monthly_ts = us_ts.resample(\"ME\").last()  # Month End(月末)\n",
    "monthly_pct = monthly_ts.pct_change().dropna()\n",
    "sns.heatmap(monthly_pct.corr(), square=True, annot=True)"
   ]
  },
  {
   "cell_type": "code",
   "execution_count": null,
   "metadata": {},
   "outputs": [],
   "source": [
    "ts_wide = us_ts / us_ts.iloc[0, :]\n",
    "ts_melt = pd.melt(ts_wide, \n",
    "    value_vars=series_list, \n",
    "    var_name=\"指数\", \n",
    "    value_name=\"リターン\", \n",
    "    ignore_index=False\n",
    ")\n",
    "ts_tidy = ts_melt.reset_index()\n",
    "us_stock_fig = px.line(ts_tidy, x=\"日付\", y=\"リターン\", color=\"指数\")\n",
    "us_stock_fig.update_layout(width=900, height=450, font={\"size\": 18},\n",
    "    xaxis={\"ticksuffix\": \"年\"},\n",
    ")\n",
    "us_stock_fig.show()"
   ]
  },
  {
   "cell_type": "markdown",
   "metadata": {},
   "source": [
    "### 株価指数以外の金融市場の指数\n",
    "\n",
    "- [NOMURA-BPI](http://qr.nomura.co.jp/jp/bpi/index.html)\n",
    "- [FTSE 世界国債インデックス](https://www.ftserussell.com/ja/products/indices/world-government-bond-index)\n",
    "\n",
    "### 投資信託のデータと金融市場の指数\n",
    "\n",
    "- [投資信託協会](https://www.toushin.or.jp/index.html)\n",
    "- [投信総合検索ライブラリー](https://toushin-lib.fwg.ne.jp/FdsWeb/)\n"
   ]
  },
  {
   "cell_type": "code",
   "execution_count": null,
   "metadata": {},
   "outputs": [],
   "source": []
  }
 ],
 "metadata": {
  "kernelspec": {
   "display_name": "Python 3 (ipykernel)",
   "language": "python",
   "name": "python3"
  },
  "language_info": {
   "codemirror_mode": {
    "name": "ipython",
    "version": 3
   },
   "file_extension": ".py",
   "mimetype": "text/x-python",
   "name": "python",
   "nbconvert_exporter": "python",
   "pygments_lexer": "ipython3",
   "version": "3.12.10"
  },
  "widgets": {
   "application/vnd.jupyter.widget-state+json": {
    "state": {},
    "version_major": 2,
    "version_minor": 0
   }
  }
 },
 "nbformat": 4,
 "nbformat_minor": 4
}
