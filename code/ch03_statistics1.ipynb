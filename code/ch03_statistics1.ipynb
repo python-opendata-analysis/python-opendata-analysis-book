{
 "cells": [
  {
   "cell_type": "markdown",
   "metadata": {},
   "source": [
    "# 統計の基礎\n"
   ]
  },
  {
   "cell_type": "code",
   "execution_count": null,
   "metadata": {},
   "outputs": [],
   "source": [
    "import pandas as pd\n",
    "df = pd.DataFrame([\n",
    "    [\"いちごストア株式会社\", \"A4491\", \"上場\", \"小売業\", 50, 250],\n",
    "    [\"メガハード株式会社\", \"A3547\", \"上場\", \"製造業\", 50, 300],\n",
    "    [\"百聞半導体株式会社\", \"A2704\", \"上場\", \"製造業\", 20, 180],\n",
    "    [\"五十音サーチ株式会社\", \"A8008\", \"上場\", \"小売業\", 30, 200],\n",
    "    [\"利根川通販株式会社\", \"A4342\", \"上場\", \"小売業\", 100, 240],\n",
    "    [\"超手本株式会社\", \"A3674\", \"上場\", \"サービス業\", 20, 150],\n",
    "    [\"源内自動車株式会社\", \"A7514\", None, \"製造業\", 10, 100],\n",
    "    [\"クローズサピエンス合同会社\", \"A0941\", None, \"サービス業\", None, 120],\n",
    "    [\"富価自動車株式会社\", \"J7203\", \"上場\", \"製造業\", 60, 120],\n",
    "    [\"ハード通信株式会社\", \"J9984\", \"上場\", \"サービス業\", 15, 50],\n",
    "    [\"株式会社財前\", \"J3994\", None, \"サービス業\", None, 30]\n",
    "    ], columns=[\"会社名\", \"会社コード\", \"上場区分\", \"業種\", \"従業員数\", \"資本金\"]\n",
    ")"
   ]
  },
  {
   "cell_type": "code",
   "execution_count": null,
   "metadata": {},
   "outputs": [],
   "source": [
    "df"
   ]
  },
  {
   "cell_type": "markdown",
   "metadata": {},
   "source": [
    "## 変数の種類\n",
    "\n",
    "### 量的変数と質的変数\n",
    "\n",
    "### ディメンジョンとメジャー\n",
    "\n",
    "## 度数分布とヒストグラム\n"
   ]
  },
  {
   "cell_type": "code",
   "execution_count": null,
   "metadata": {},
   "outputs": [],
   "source": [
    "s = df[\"資本金\"]\n",
    "freq_dist = (s\n",
    "    .value_counts(bins=range(0, 501, 100), sort=False)\n",
    "    .reset_index()\n",
    "    .rename(columns={\"index\": \"資本金階級\", \"資本金\": \"度数\"})\n",
    ")\n",
    "freq_dist"
   ]
  },
  {
   "cell_type": "code",
   "execution_count": null,
   "metadata": {},
   "outputs": [],
   "source": [
    "s.hist(bins=range(0, 501, 100))"
   ]
  },
  {
   "cell_type": "markdown",
   "metadata": {},
   "source": [
    "## 要約統計量\n"
   ]
  },
  {
   "cell_type": "code",
   "execution_count": null,
   "metadata": {},
   "outputs": [],
   "source": [
    "df[\"従業員数\"].size"
   ]
  },
  {
   "cell_type": "code",
   "execution_count": null,
   "metadata": {},
   "outputs": [],
   "source": [
    "df[\"従業員数\"].count()"
   ]
  },
  {
   "cell_type": "code",
   "execution_count": null,
   "metadata": {},
   "outputs": [],
   "source": [
    "df[\"従業員数\"].nunique()"
   ]
  },
  {
   "cell_type": "code",
   "execution_count": null,
   "metadata": {},
   "outputs": [],
   "source": [
    "df[\"資本金\"].sum()"
   ]
  },
  {
   "cell_type": "code",
   "execution_count": null,
   "metadata": {},
   "outputs": [],
   "source": [
    "df[\"資本金\"].mean()"
   ]
  },
  {
   "cell_type": "code",
   "execution_count": null,
   "metadata": {},
   "outputs": [],
   "source": [
    "df[\"資本金\"].max(), df[\"資本金\"].min()"
   ]
  },
  {
   "cell_type": "code",
   "execution_count": null,
   "metadata": {},
   "outputs": [],
   "source": [
    "df[\"資本金\"].median()"
   ]
  },
  {
   "cell_type": "code",
   "execution_count": null,
   "metadata": {},
   "outputs": [],
   "source": [
    "df[\"資本金\"].quantile(0.25)"
   ]
  },
  {
   "cell_type": "code",
   "execution_count": null,
   "metadata": {},
   "outputs": [],
   "source": [
    "df[\"資本金\"].mode()"
   ]
  },
  {
   "cell_type": "code",
   "execution_count": null,
   "metadata": {},
   "outputs": [],
   "source": [
    "df[\"資本金\"].var()"
   ]
  },
  {
   "cell_type": "code",
   "execution_count": null,
   "metadata": {},
   "outputs": [],
   "source": [
    "df[\"資本金\"].std()"
   ]
  },
  {
   "cell_type": "code",
   "execution_count": null,
   "metadata": {},
   "outputs": [],
   "source": [
    "df.describe()"
   ]
  },
  {
   "cell_type": "markdown",
   "metadata": {},
   "source": [
    "## 量的変数と質的変数の変換\n",
    "\n",
    "### 離散化\n"
   ]
  },
  {
   "cell_type": "code",
   "execution_count": null,
   "metadata": {},
   "outputs": [],
   "source": [
    "df = df.assign(**{\n",
    "    \"資本金区分\": pd.cut(df[\"資本金\"], bins=3, right=False),\n",
    "    \"資本金区分等頻度離散化\": pd.qcut(df[\"資本金\"], q=3)\n",
    "})\n",
    "df[[\"資本金\", \"資本金区分\", \"資本金区分等頻度離散化\"]]"
   ]
  },
  {
   "cell_type": "markdown",
   "metadata": {},
   "source": [
    "### ダミー変数"
   ]
  },
  {
   "cell_type": "code",
   "execution_count": null,
   "metadata": {},
   "outputs": [],
   "source": [
    "pd.get_dummies(df[\"業種\"], dtype=int).head(5)"
   ]
  },
  {
   "cell_type": "code",
   "execution_count": null,
   "metadata": {},
   "outputs": [],
   "source": [
    "df.assign(**{\"小売業フラグ\": (df[\"業種\"] == \"小売業\").astype(int)}).iloc[:5, [-1]]"
   ]
  },
  {
   "cell_type": "markdown",
   "metadata": {},
   "source": [
    "## クロス集計\n"
   ]
  },
  {
   "cell_type": "code",
   "execution_count": null,
   "metadata": {},
   "outputs": [],
   "source": [
    "cols = [\"資本金区分\", \"上場区分\"]\n",
    "df[cols].groupby(cols, dropna=False, observed=False).size().reset_index(name=\"度数\")"
   ]
  },
  {
   "cell_type": "code",
   "execution_count": null,
   "metadata": {},
   "outputs": [],
   "source": [
    "df[cols + [\"従業員数\"]].groupby(cols, dropna=False, observed=False).mean().reset_index()"
   ]
  },
  {
   "cell_type": "code",
   "execution_count": null,
   "metadata": {},
   "outputs": [],
   "source": [
    "df[cols + [\"従業員数\"]].groupby(cols, dropna=False, observed=False).count().reset_index()"
   ]
  },
  {
   "cell_type": "code",
   "execution_count": null,
   "metadata": {},
   "outputs": [],
   "source": [
    "table = df.fillna(value={\"上場区分\": \"非上場\"})\n",
    "pd.pivot_table(table, \n",
    "    values=\"従業員数\", \n",
    "    index=\"資本金区分\", \n",
    "    columns=\"上場区分\", \n",
    "    aggfunc=\"mean\", \n",
    "    observed=False\n",
    ")"
   ]
  },
  {
   "cell_type": "code",
   "execution_count": null,
   "metadata": {},
   "outputs": [],
   "source": [
    "pd.crosstab(\n",
    "    index=table[\"資本金区分\"], \n",
    "    columns=table[\"上場区分\"], \n",
    "    values=table[\"従業員数\"], \n",
    "    aggfunc=\"mean\"\n",
    ")"
   ]
  },
  {
   "cell_type": "markdown",
   "metadata": {},
   "source": [
    "## 2変量の統計\n"
   ]
  },
  {
   "cell_type": "code",
   "execution_count": null,
   "metadata": {},
   "outputs": [],
   "source": [
    "df_eng = df[[\"資本金\", \"従業員数\"]].rename(columns={\"資本金\": \"capital\", \"従業員数\": \"num of employees\"})\n",
    "df_eng.plot.scatter(x=\"capital\", y=\"num of employees\")"
   ]
  },
  {
   "cell_type": "code",
   "execution_count": null,
   "metadata": {},
   "outputs": [],
   "source": [
    "!pip install seaborn"
   ]
  },
  {
   "cell_type": "code",
   "execution_count": null,
   "metadata": {},
   "outputs": [],
   "source": [
    "import seaborn as sns\n",
    "df = df.assign(**{\"従業員区分\": pd.cut(df[\"従業員数\"], bins=3, right=False)})\n",
    "heat_df = (df[[\"資本金区分\", \"従業員区分\"]]\n",
    "    .rename(columns={\"資本金区分\": \"capital\", \"従業員区分\": \"num of employees\"})\n",
    ")\n",
    "heat_crosstab = heat_df.pivot_table(\n",
    "    index=\"capital\", \n",
    "    columns=\"num of employees\", \n",
    "    aggfunc=\"size\", \n",
    "    observed=False\n",
    ")\n",
    "sns.heatmap(heat_crosstab, square=True, annot=True)"
   ]
  },
  {
   "cell_type": "code",
   "execution_count": null,
   "metadata": {},
   "outputs": [],
   "source": [
    "sns.heatmap(df_eng.corr(), square=True, annot=True)"
   ]
  },
  {
   "cell_type": "markdown",
   "metadata": {},
   "source": [
    "## 調査統計と経済統計\n",
    "\n",
    "### 全数調査と標本調査\n",
    "\n",
    "### 実質値と名目値\n",
    "\n",
    "### 季節調整\n"
   ]
  }
 ],
 "metadata": {
  "kernelspec": {
   "display_name": "Python 3 (ipykernel)",
   "language": "python",
   "name": "python3"
  },
  "language_info": {
   "codemirror_mode": {
    "name": "ipython",
    "version": 3
   },
   "file_extension": ".py",
   "mimetype": "text/x-python",
   "name": "python",
   "nbconvert_exporter": "python",
   "pygments_lexer": "ipython3",
   "version": "3.12.10"
  },
  "widgets": {
   "application/vnd.jupyter.widget-state+json": {
    "state": {},
    "version_major": 2,
    "version_minor": 0
   }
  }
 },
 "nbformat": 4,
 "nbformat_minor": 4
}
