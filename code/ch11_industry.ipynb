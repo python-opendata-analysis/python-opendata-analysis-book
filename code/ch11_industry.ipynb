{
 "cells": [
  {
   "cell_type": "markdown",
   "metadata": {},
   "source": [
    "# 法人・産業データの取得・可視化・分析"
   ]
  },
  {
   "cell_type": "code",
   "execution_count": null,
   "metadata": {},
   "outputs": [],
   "source": [
    "# 環境変数とパス設定に用いるライブラリ\n",
    "import os\n",
    "from dotenv import load_dotenv\n",
    "from pathlib import Path\n",
    "# データ取得に用いるライブラリ\n",
    "from io import StringIO\n",
    "import requests\n",
    "# データ操作に用いるライブラリ\n",
    "import numpy as np\n",
    "import pandas as pd\n",
    "import openpyxl\n",
    "# 可視化に用いるライブラリ\n",
    "import plotly\n",
    "import plotly.graph_objs as go\n",
    "import plotly.express as px\n",
    "from plotly.subplots import make_subplots"
   ]
  },
  {
   "cell_type": "code",
   "execution_count": null,
   "metadata": {},
   "outputs": [],
   "source": [
    "from estat import (\n",
    "    get_metainfo,\n",
    "    get_statsdata,\n",
    "    cleansing_statsdata,\n",
    "    colname_to_japanese,\n",
    "    create_hierarchy_dataframe,\n",
    ")"
   ]
  },
  {
   "cell_type": "code",
   "execution_count": null,
   "metadata": {},
   "outputs": [],
   "source": [
    "load_dotenv()\n",
    "appId = os.getenv(\"ESTAT_APP_ID\")\n",
    "NTA_APP_ID = os.getenv(\"NTA_APP_ID\")\n",
    "api_token = os.getenv(\"gBizINFO_API_ACCESS_TOKEN\")"
   ]
  },
  {
   "cell_type": "code",
   "execution_count": null,
   "metadata": {},
   "outputs": [],
   "source": [
    "current_dir = Path.cwd()\n",
    "data_path = (current_dir / \"data\" / \"ch11\").resolve()"
   ]
  },
  {
   "cell_type": "markdown",
   "metadata": {},
   "source": [
    "## 法人・企業・会社のデータ\n",
    "\n",
    "- [法人番号公表サイト](https://www.houjin-bangou.nta.go.jp/)\n",
    "- [日本年金機構](https://www.nenkin.go.jp/index.html)\n",
    "- [厚生年金・健康保険 適用事業所検索システム](https://www2.nenkin.go.jp/do/search_section/)\n",
    "- [EDINET 閲覧サイト](https://disclosure2.edinet-fsa.go.jp/week0010.aspx)\n",
    "- [gBizINFO](https://info.gbiz.go.jp/)\n",
    "- [法人企業統計調査](https://www.mof.go.jp/pri/reference/ssc/index.htm)\n",
    "- [経済センサス](https://www.stat.go.jp/data/e-census/index.html)\n",
    "- [事業所母集団データベース研究会](https://www.stat.go.jp/info/kenkyu/jsdb/index.html)\n",
    "- [経済構造実態調査](https://www.stat.go.jp/data/kkj/index.html)\n",
    "- [個人企業経済調査](https://www.stat.go.jp/data/kojinke/index.html)\n"
   ]
  },
  {
   "cell_type": "markdown",
   "metadata": {},
   "source": [
    "## 経済センサス\n",
    "\n",
    "- [公表](https://www.stat.go.jp/data/kouhyou/e-stat_e-census2019.xml)\n",
    "- [用語](https://www.stat.go.jp/data/e-census/2019/yougo.html)\n",
    "- [中小企業基本法](https://www.chusho.meti.go.jp/soshiki/teigi.html)\n",
    "- [賃金構造基本統計調査](https://www.mhlw.go.jp/toukei/itiran/roudou/chingin/kouzou/z2021/yougo.html)\n",
    "\n",
    "### 産業・組織形態・雇用者規模別企業等数\n"
   ]
  },
  {
   "cell_type": "code",
   "execution_count": null,
   "metadata": {},
   "outputs": [],
   "source": [
    "census_statsDataId = \"0004006260\"  # 令和3年経済センサス\n",
    "census_meta = get_metainfo(appId, census_statsDataId)\n",
    "census_metadata = census_meta[\"GET_META_INFO\"][\"METADATA_INF\"]\n",
    "census_total_num = census_metadata[\"TABLE_INF\"][\"OVERALL_TOTAL_NUMBER\"]\n",
    "census_total_num"
   ]
  },
  {
   "cell_type": "code",
   "execution_count": null,
   "metadata": {},
   "outputs": [],
   "source": [
    "census_params = {\"cdTab\": \"201-2021\"}\n",
    "census_data = get_statsdata(appId, census_statsDataId, params=census_params)\n",
    "census_value = colname_to_japanese(cleansing_statsdata(census_data))\n",
    "census_value.columns"
   ]
  },
  {
   "cell_type": "code",
   "execution_count": null,
   "metadata": {},
   "outputs": [],
   "source": [
    "census_cond = census_value[\"企業産業中分類\"] != \"全産業（S_公務を除く）\"\n",
    "census_cond &= census_value[\"経営組織\"] != \"総数\"\n",
    "census_cond &= census_value[\"企業常用雇用者規模\"] != \"総数\"\n",
    "census_cols = [\n",
    "    \"企業産業中分類コード\", \"企業産業中分類\",\n",
    "    \"経営組織コード\", \"経営組織\",\n",
    "    \"企業常用雇用者規模コード\", \"企業常用雇用者規模\",\n",
    "    \"値\",\n",
    "]\n",
    "census_df = census_value.loc[census_cond, census_cols]\n",
    "census_df.head()"
   ]
  },
  {
   "cell_type": "code",
   "execution_count": null,
   "metadata": {},
   "outputs": [],
   "source": [
    "level_cat01 = create_hierarchy_dataframe(census_meta, 1)\n",
    "level_cat01.head()"
   ]
  },
  {
   "cell_type": "code",
   "execution_count": null,
   "metadata": {},
   "outputs": [],
   "source": [
    "level_cat02 = create_hierarchy_dataframe(census_meta, 2)\n",
    "level_cat02"
   ]
  },
  {
   "cell_type": "code",
   "execution_count": null,
   "metadata": {},
   "outputs": [],
   "source": [
    "lv01_df = level_cat01[[\"level4\"] + [f\"企業産業中分類階層{i}\" for i in range(1, 5)]]\n",
    "lv02_df = level_cat02[[\"level2\", \"経営組織階層1\", \"経営組織階層2\"]].drop_duplicates()\n",
    "corp_df = (census_df\n",
    "    .merge(lv01_df, left_on=\"企業産業中分類コード\", right_on=\"level4\", how=\"inner\")\n",
    "    .merge(lv02_df, left_on=\"経営組織コード\", right_on=\"level2\", how=\"inner\")\n",
    ")"
   ]
  },
  {
   "cell_type": "code",
   "execution_count": null,
   "metadata": {},
   "outputs": [],
   "source": [
    "corp_df[\"値\"].sum()"
   ]
  },
  {
   "cell_type": "code",
   "execution_count": null,
   "metadata": {},
   "outputs": [],
   "source": [
    "corp_df = corp_df.assign(**{\n",
    "    \"雇用者規模\": corp_df[\"企業常用雇用者規模コード\"] + \"_\" + corp_df[\"企業常用雇用者規模\"]\n",
    "})\n",
    "org_df = corp_df[[\"経営組織\", \"雇用者規模\", \"値\"]]\n",
    "org_crosstab = org_df.groupby([\"経営組織\", \"雇用者規模\"]).sum().reset_index()\n",
    "org_tidy = org_crosstab.rename(columns={\"値\": \"企業等数\"})\n",
    "# 産業ごとの合計値をグラフ上にテキストとして表示するアノテーション用のデータを用意\n",
    "org_annotasion = (\n",
    "    org_tidy[[\"経営組織\", \"企業等数\"]].groupby(\"経営組織\").sum().astype(int)\n",
    ")"
   ]
  },
  {
   "cell_type": "code",
   "execution_count": null,
   "metadata": {},
   "outputs": [],
   "source": [
    "algae_colors = plotly.colors.sequential.algae\n",
    "# Y軸について、最大値の110%を設定して余裕を持たせる\n",
    "y_max = org_annotasion[\"企業等数\"].max() * 1.2\n",
    "census_fig = px.bar(\n",
    "    org_tidy,\n",
    "    x=\"経営組織\",\n",
    "    y=\"企業等数\",\n",
    "    color=\"雇用者規模\",\n",
    "    color_discrete_sequence=algae_colors,\n",
    ")\n",
    "# 経営組織ごとの合計値をグラフ上にテキストとして表示するためScatterを利用\n",
    "census_fig.add_trace(go.Scatter(\n",
    "    x=org_annotasion.index,\n",
    "    y=org_annotasion[\"企業等数\"],\n",
    "    text=org_annotasion[\"企業等数\"],  # テキストとして表示する内容を設定\n",
    "    mode=\"text\",  # 描画モードをテキストのみに設定\n",
    "    textposition=\"top center\",  # テキストの表示位置を各点の上部中央に設定\n",
    "    textfont={\"size\": 18},\n",
    "    texttemplate=\"%{y:,.0f}社\",  # 表示するテキストのフォーマットをカンマ区切り整数として表示\n",
    "    showlegend=False,  # 凡例を表示しないように設定\n",
    "))\n",
    "census_fig.update_layout(width=800, height=500, font={\"size\": 18},\n",
    "    yaxis={\"tickformat\": \",.0f\", \"ticksuffix\": \"社\", \"range\": [0, y_max]},\n",
    ")\n",
    "census_fig.show()"
   ]
  },
  {
   "cell_type": "code",
   "execution_count": null,
   "metadata": {},
   "outputs": [],
   "source": [
    "cols = [\"企業産業中分類階層2\", \"雇用者規模\", \"値\"]\n",
    "industry_df = corp_df.loc[corp_df[\"経営組織\"] == \"会社企業\", cols]\n",
    "industry_crosstab = (\n",
    "    industry_df.groupby([\"企業産業中分類階層2\", \"雇用者規模\"]).sum().reset_index()\n",
    ")\n",
    "industry_tidy = industry_crosstab.rename(\n",
    "    columns={\"企業産業中分類階層2\": \"産業\", \"値\": \"企業等数\"}\n",
    ")\n",
    "# 産業ごとの合計値をグラフ上にテキストとして表示するアノテーション用のデータを用意\n",
    "industry_annotasion = (\n",
    "    industry_tidy[[\"産業\", \"企業等数\"]].groupby(\"産業\").sum().astype(int)\n",
    ")"
   ]
  },
  {
   "cell_type": "code",
   "execution_count": null,
   "metadata": {},
   "outputs": [],
   "source": [
    "# 産業ごとの雇用者規模積み上げ企業数の棒グラフを作成\n",
    "industry_fig = px.bar(\n",
    "    industry_tidy,\n",
    "    x=\"産業\",\n",
    "    y=\"企業等数\",\n",
    "    color=\"雇用者規模\",\n",
    "    color_discrete_sequence=algae_colors,\n",
    ")\n",
    "# 産業ごとの合計値をグラフ上にテキストとして表示するためScatterを利用\n",
    "industry_fig.add_trace(go.Scatter(\n",
    "    x=industry_annotasion.index,\n",
    "    y=industry_annotasion[\"企業等数\"],\n",
    "    text=industry_annotasion[\"企業等数\"],  # テキストとして表示する内容を設定\n",
    "    mode=\"text\",  # 描画モードをテキストのみに設定\n",
    "    textposition=\"top center\",  # テキストの表示位置を各点の上部中央に設定\n",
    "    textfont={\"size\": 10},\n",
    "    texttemplate=\"%{y:,.0f}\",  # 表示するテキストのフォーマットをカンマ区切り整数として表示\n",
    "    showlegend=False,  # 凡例を表示しないように設定\n",
    "))\n",
    "industry_fig.update_layout(width=1200, height=650, font={\"size\": 18},\n",
    "    yaxis={\"tickformat\": \",.0f\", \"ticksuffix\": \"社\"},\n",
    ")\n",
    "industry_fig.show()"
   ]
  },
  {
   "cell_type": "markdown",
   "metadata": {},
   "source": [
    "### 産業ツリーマップ\n"
   ]
  },
  {
   "cell_type": "code",
   "execution_count": null,
   "metadata": {},
   "outputs": [],
   "source": [
    "lvcols = [f\"企業産業中分類階層{i}\" for i in range(1, 5)]\n",
    "tree_df = corp_df.loc[corp_df[\"経営組織\"] == \"会社企業\", lvcols + [\"値\"]]\n",
    "tree_crosstab = tree_df.groupby(lvcols).sum().reset_index()\n",
    "tree_tidy = tree_crosstab.rename(columns={\"値\": \"企業等数\"})\n",
    "tree_tidy.head()"
   ]
  },
  {
   "cell_type": "code",
   "execution_count": null,
   "metadata": {},
   "outputs": [],
   "source": [
    "# Plotly Expressのカラーパレットから「Pastel」と「Set1」を結合して、新しいカラー配列を作成\n",
    "qualitative_colors = px.colors.qualitative.Set1 + px.colors.qualitative.Pastel\n",
    "# 産業カテゴリごとにカラーコードを割り当てる辞書を作成\n",
    "industry_lv2 = tree_tidy[\"企業産業中分類階層2\"].unique()\n",
    "color_lv2_dict = {\n",
    "    i: j for i, j in zip(industry_lv2, qualitative_colors[: len(industry_lv2)])\n",
    "}\n",
    "# 辞書に未定義のカテゴリ\"(?)\"があった場合に使う色として配列の次の色を使用\n",
    "color_lv2_dict.update({\"(?)\": qualitative_colors[len(industry_lv2)]})\n",
    "# ツリーマップを用意しツリーマップの最上位の背景色を \"lightgrey\"に設定\n",
    "treemap_fig = px.treemap(\n",
    "    tree_tidy, path=lvcols, values=\"企業等数\", color=\"企業産業中分類階層2\"\n",
    ")\n",
    "treemap_fig.update_traces(root_color=\"lightgrey\")\n",
    "# 各セクションのラベル、値、全体に対する百分率、親セクションに対する百分率のテキスト\n",
    "# を表示するよう設定\n",
    "treemap_fig.data[0].textinfo = \"label+value+percent root+percent parent\"\n",
    "# ツリーマップの各セクションの色を、先に作成した辞書color_lv2_dictに基づいて設定\n",
    "treemap_fig.data[0].marker[\"colors\"] = [\n",
    "    color_lv2_dict[i[0]] for i in treemap_fig.data[0][\"customdata\"]\n",
    "]\n",
    "treemap_fig.show()"
   ]
  },
  {
   "cell_type": "markdown",
   "metadata": {},
   "source": [
    "## 法人企業統計\n",
    "\n",
    "- [法人企業統計](https://www.mof.go.jp/pri/reference/ssc/index.htm)\n",
    "\n",
    "### 業種・資本期規模別の資産合計\n",
    "\n",
    "- [財務省の業種分類のPDF](https://www.mof.go.jp/pri/reference/ssc/summary/gyosyu.pdf)\n"
   ]
  },
  {
   "cell_type": "code",
   "execution_count": null,
   "metadata": {},
   "outputs": [],
   "source": [
    "ssc_statsDataId = \"0003060791\"\n",
    "ssc_meta = get_metainfo(appId, ssc_statsDataId)\n",
    "ssc_metadata = ssc_meta[\"GET_META_INFO\"][\"METADATA_INF\"]\n",
    "ssc_total_num = ssc_metadata[\"TABLE_INF\"][\"OVERALL_TOTAL_NUMBER\"]\n",
    "ssc_total_num"
   ]
  },
  {
   "cell_type": "code",
   "execution_count": null,
   "metadata": {},
   "outputs": [],
   "source": [
    "ssc_cat01 = pd.DataFrame(\n",
    "    ssc_meta[\"GET_META_INFO\"][\"METADATA_INF\"][\"CLASS_INF\"][\"CLASS_OBJ\"][0][\"CLASS\"]\n",
    ")\n",
    "ssc_cats = [\n",
    "    \"資産合計(当期末)\",\n",
    "    \"売上高(当期末)\",\n",
    "    \"営業利益(当期末)\",\n",
    "    \"経常利益(当期末)\",\n",
    "    \"当期純利益(当期末)\",\n",
    "]\n",
    "ssc_meta_cond = ssc_cat01[\"@name\"].isin(ssc_cats)\n",
    "ssc_cat01[ssc_meta_cond]"
   ]
  },
  {
   "cell_type": "code",
   "execution_count": null,
   "metadata": {},
   "outputs": [],
   "source": [
    "ssc_levels_str = \"\"\"level1,level2,level3,level4,level5\n",
    "104,108,109,109,109\\n104,108,110,110,110\\n104,108,112,112,112\n",
    "104,108,113,113,113\\n104,108,114,114,114\\n104,108,115,115,115\n",
    "104,108,116,116,116\\n104,108,117,117,117\\n104,108,118,118,118\n",
    "104,108,119,119,119\\n104,108,120,120,120\\n104,108,154,154,154\n",
    "104,108,121,121,121\\n104,108,124,124,124\\n104,108,122,122,122\n",
    "104,108,145,145,145\\n104,108,146,123,123\\n104,108,146,125,125\n",
    "104,108,126,126,126\\n104,144,105,101,101\\n104,144,105,103,103\n",
    "104,144,106,106,106\\n104,144,107,107,107\\n104,144,135,135,135\n",
    "104,144,136,136,136\\n104,144,142,142,142\\n104,144,134,131,131\n",
    "104,144,134,132,132\\n104,144,134,133,133\\n104,144,129,127,127\n",
    "104,144,129,128,128\\n104,144,155,130,130\\n104,144,155,149,150\n",
    "104,144,155,149,151\\n104,144,137,156,139\\n104,144,137,156,148\n",
    "104,144,137,157,140\\n104,144,137,157,141\\n104,144,137,161,138\n",
    "104,144,137,161,158\\n104,144,137,161,159\\n104,144,137,153,153\n",
    "104,144,137,152,152\\n104,144,137,160,160\\n104,144,137,143,143\"\"\"\n",
    "industry_levels = pd.read_csv(StringIO(ssc_levels_str)).astype(str)"
   ]
  },
  {
   "cell_type": "code",
   "execution_count": null,
   "metadata": {},
   "outputs": [],
   "source": [
    "ssc_cat02 = pd.DataFrame(\n",
    "    ssc_meta[\"GET_META_INFO\"][\"METADATA_INF\"][\"CLASS_INF\"][\"CLASS_OBJ\"][1][\"CLASS\"]\n",
    ")\n",
    "ssc_cat02 = ssc_cat02.assign(**{\"業種\": ssc_cat02[\"@code\"] + \"_\" + ssc_cat02[\"@name\"]})\n",
    "for lv in industry_levels.columns:\n",
    "    industry_levels = (industry_levels\n",
    "        .merge(ssc_cat02[[\"@code\", \"業種\"]], left_on=lv, right_on=\"@code\", how=\"left\")\n",
    "        .rename(columns={\"業種\": \"業種\" + lv})\n",
    "        .drop(\"@code\", axis=1)\n",
    "    )\n",
    "industry_levels.tail(6)"
   ]
  },
  {
   "cell_type": "code",
   "execution_count": null,
   "metadata": {},
   "outputs": [],
   "source": [
    "ssc_params = {\n",
    "    \"cdCat01\": \"022\",  # 調査項目 (金融業、保険業以外の業種)を資産合計に絞る\n",
    "    \"cdTimeFrom\": \"20000\"  # 2000年以降に絞る\n",
    "}\n",
    "asset_data = get_statsdata(appId, ssc_statsDataId, params=ssc_params)\n",
    "asset_value = colname_to_japanese(cleansing_statsdata(asset_data))\n",
    "asset_value.columns"
   ]
  },
  {
   "cell_type": "code",
   "execution_count": null,
   "metadata": {},
   "outputs": [],
   "source": [
    "asset_value = asset_value.assign(**{\n",
    "    \"業種\": asset_value[\"業種 (金融業、保険業以外の業種)コード\"]\n",
    "    + \"_\" + asset_value[\"業種 (金融業、保険業以外の業種)\"],\n",
    "    \"規模\": asset_value[\"規模 (金融業、保険業以外の業種)コード\"]\n",
    "    + \"_\" + asset_value[\"規模 (金融業、保険業以外の業種)\"],\n",
    "    \"年\": asset_value[\"年  期コード\"].str[:4],\n",
    "})\n",
    "asset_sizes = [\n",
    "    \"25_10億円以上\",\n",
    "    \"24_1億円以上 - 10億円未満\",\n",
    "    \"21_5千万円以上 - 1億円未満\",\n",
    "    \"20_2千万円以上 - 5千万円未満\",\n",
    "    \"17_1千万円以上 - 2千万円未満\",\n",
    "]\n",
    "ssc_cond = asset_value[\"規模\"].isin(asset_sizes)\n",
    "ssc_cond &= asset_value[\"年\"] == \"2022\"\n",
    "asset_df = asset_value.loc[ssc_cond, [\"業種\", \"規模\", \"値\"]].merge(\n",
    "    industry_levels, left_on=\"業種\", right_on=\"業種level5\", how=\"inner\"\n",
    ")\n",
    "asset_df.head()"
   ]
  },
  {
   "cell_type": "code",
   "execution_count": null,
   "metadata": {},
   "outputs": [],
   "source": [
    "algae_ssc = plotly.colors.sequential.algae[: len(asset_sizes)][::-1]\n",
    "ssc_fig = px.bar(\n",
    "    asset_df, x=\"業種\", y=\"値\", color=\"規模\", color_discrete_sequence=algae_ssc\n",
    ")\n",
    "ssc_fig.update_layout(width=1200, height=600, font={\"size\": 14},\n",
    "    xaxis={\"title\": None},\n",
    "    yaxis={\"tickformat\": \",.0f\", \"ticksuffix\": \"百万円\", \"title\": \"資産合計\"},\n",
    "    legend={\"orientation\": \"h\", \"x\": -0.05, \"y\": 1.15, \"yanchor\": \"bottom\"},\n",
    ")\n",
    "ssc_fig.show()"
   ]
  },
  {
   "cell_type": "markdown",
   "metadata": {},
   "source": [
    "### 売上高・営業利益・経常利益・当期純利益の推移\n",
    "\n",
    "\n"
   ]
  },
  {
   "cell_type": "code",
   "execution_count": null,
   "metadata": {},
   "outputs": [],
   "source": [
    "# 売上高のデータ取得\n",
    "sales_params = {\n",
    "    \"cdCat01\": \"045\",  # 調査項目 (金融業、保険業以外の業種)を売上高に絞る\n",
    "    \"cdCat02\": \"104\",  # 業種 (金融業、保険業以外の業種)を全産業（除く金融保険業）に絞る\n",
    "    \"cdTimeFrom\": \"20000\",  # 2000年以降に絞る\n",
    "}\n",
    "sales_data = get_statsdata(appId, ssc_statsDataId, params=sales_params)\n",
    "sales_value = colname_to_japanese(cleansing_statsdata(sales_data))\n",
    "# 営業利益のデータ取得\n",
    "operating_params = {\n",
    "    \"cdCat01\": \"048\",  # 調査項目 (金融業、保険業以外の業種)を営業利益に絞る\n",
    "    \"cdCat02\": \"104\",  # 業種 (金融業、保険業以外の業種)を全産業（除く金融保険業）に絞る\n",
    "    \"cdTimeFrom\": \"20000\",  # 2000年以降に絞る\n",
    "}\n",
    "operating_data = get_statsdata(appId, ssc_statsDataId, params=operating_params)\n",
    "operating_value = colname_to_japanese(cleansing_statsdata(operating_data))\n",
    "# 経常利益のデータ取得\n",
    "ordinary_params = {\n",
    "    \"cdCat01\": \"051\",  # 調査項目 (金融業、保険業以外の業種)を経常利益に絞る\n",
    "    \"cdCat02\": \"104\",  # 業種 (金融業、保険業以外の業種)を全産業（除く金融保険業）に絞る\n",
    "    \"cdTimeFrom\": \"20000\",  # 2000年以降に絞る\n",
    "}\n",
    "ordinary_data = get_statsdata(appId, ssc_statsDataId, params=ordinary_params)\n",
    "ordinary_value = colname_to_japanese(cleansing_statsdata(ordinary_data))\n",
    "# 当期純利益のデータ取得\n",
    "netincome_params = {\n",
    "    \"cdCat01\": \"056\",  # 調査項目 (金融業、保険業以外の業種)を当期純利益に絞る\n",
    "    \"cdCat02\": \"104\",  # 業種 (金融業、保険業以外の業種)を全産業（除く金融保険業）に絞る\n",
    "    \"cdTimeFrom\": \"20000\",  # 2000年以降に絞る\n",
    "}\n",
    "netincome_data = get_statsdata(appId, ssc_statsDataId, params=netincome_params)\n",
    "netincome_value = colname_to_japanese(cleansing_statsdata(netincome_data))"
   ]
  },
  {
   "cell_type": "code",
   "execution_count": null,
   "metadata": {},
   "outputs": [],
   "source": [
    "ssc_value = pd.concat(\n",
    "    [sales_value, operating_value, ordinary_value, netincome_value]\n",
    ").rename(columns={\"調査項目 (金融業、保険業以外の業種)\": \"項目\"})\n",
    "ssc_value = ssc_value.assign(**{\n",
    "    \"規模\": ssc_value[\"規模 (金融業、保険業以外の業種)コード\"]\n",
    "    + \"_\" + ssc_value[\"規模 (金融業、保険業以外の業種)\"],\n",
    "    \"年\": ssc_value[\"年  期コード\"].str[:4],\n",
    "})\n",
    "size_cond = ssc_value[\"規模\"].isin(asset_sizes)\n",
    "ssc_df = ssc_value.loc[size_cond, [\"年\", \"規模\", \"項目\", \"値\"]]\n",
    "ssc_df.head()"
   ]
  },
  {
   "cell_type": "code",
   "execution_count": null,
   "metadata": {},
   "outputs": [],
   "source": [
    "pl_cats = [\n",
    "    \"売上高(当期末)\",\n",
    "    \"営業利益(当期末)\",\n",
    "    \"経常利益(当期末)\",\n",
    "    \"当期純利益(当期末)\",\n",
    "]\n",
    "# 規模の色のリストを作成\n",
    "algae_mof = plotly.colors.sequential.algae[: len(asset_sizes)][::-1]\n",
    "# 2*2のサブプロットを持つ図を作成し、各サブプロットにカテゴリ名をタイトルとして設定\n",
    "subplot_fig = make_subplots(rows=2, cols=2, subplot_titles=pl_cats)\n",
    "# 各カテゴリごとにサブプロットにプロットする\n",
    "for i, pl_cat in enumerate(pl_cats):\n",
    "    row, col = i // 2 + 1, i % 2 + 1  # サブプロットの行と列の位置を計算\n",
    "    cat_cond = ssc_df[\"項目\"] == pl_cat  # 現在のカテゴリに一致するデータの条件フィルタ\n",
    "    # 現在のフィルタ条件に一致するデータから「規模」のユニークな値を取得\n",
    "    unique_sizes = ssc_df.loc[cat_cond, \"規模\"].unique().tolist()  \n",
    "    # 現在のフィルタ条件に一致するデータから「年」のユニークな値を取得\n",
    "    unique_years = ssc_df.loc[cat_cond, \"年\"].unique()\n",
    "    # 凡例を一度だけ表示するためのフラグを設定\n",
    "    legend_added = {s: False for s in unique_sizes}\n",
    "    # 年ごとのループ\n",
    "    for year in unique_years:\n",
    "        # 規模ごとのループ\n",
    "        for size in unique_sizes:\n",
    "            # 特定の年、規模、カテゴリに一致するデータの条件フィルタ\n",
    "            size_cond = (ssc_df[\"年\"] == year) & (ssc_df[\"規模\"] == size) & cat_cond\n",
    "            # 条件に一致するデータの「値」を合計し、100万で割って兆円単位に変換\n",
    "            bar_height = ssc_df.loc[size_cond, \"値\"].sum() / 1_000_000\n",
    "            # 色のインデックスを規模のリストのインデックスから決定（5色で循環させる）\n",
    "            color_index = unique_sizes.index(size)\n",
    "            # 最初のサブプロットで各規模の最初のデータのみ凡例を表示\n",
    "            show_legend = not legend_added[size] and row == 1 and col == 1\n",
    "            # 棒グラフのトレースを図に追加\n",
    "            subplot_fig.add_trace(go.Bar(\n",
    "                x=[year],  # X軸の値として年を設定\n",
    "                y=[bar_height],  # Y軸の値として、計算された合計値（兆円単位）を設定\n",
    "                name=size,  # 各バーの名前として「規模」を設定\n",
    "                # バーの色を指定されたインデックスの色で設定\n",
    "                marker={\"color\": algae_mof[color_index]}, \n",
    "                showlegend=show_legend,  # 凡例の表示有無フラグ\n",
    "            ), row=row, col=col)  # このバーを配置するサブプロットの行と列を指定\n",
    "            # 凡例を表示した場合、その規模は凡例表示済みとしてフラグを更新\n",
    "            if show_legend:\n",
    "                legend_added[size] = True\n",
    "\n",
    "subplot_fig.update_xaxes(ticksuffix=\"年\")\n",
    "subplot_fig.update_yaxes(tickformat=\",\", ticksuffix=\"兆円\")\n",
    "subplot_fig.update_layout(width=1000, height=800, \n",
    "    barmode=\"stack\",\n",
    "    legend={\n",
    "        \"orientation\": \"h\",\n",
    "        \"x\": 0.5,\n",
    "        \"xanchor\": \"center\",\n",
    "        \"y\": 1.1,\n",
    "        \"yanchor\": \"bottom\",\n",
    "    },\n",
    ")\n",
    "subplot_fig.show()"
   ]
  },
  {
   "cell_type": "markdown",
   "metadata": {},
   "source": [
    "## 国税庁の法人番号公表サイト\n",
    "\n",
    "- [法人番号公表サイト](https://www.houjin-bangou.nta.go.jp/)\n",
    "- [「基本３情報ダウンロード」のページ](https://www.houjin-bangou.nta.go.jp/download/)\n",
    "- [法人番号システム Web-API](https://www.houjin-bangou.nta.go.jp/webapi/)\n",
    "- [適格請求書発行事業者公表サイト](https://www.invoice-kohyo.nta.go.jp/index.html)\n",
    "- [公表情報ダウンロード](https://www.invoice-kohyo.nta.go.jp/download/index.html)\n",
    "- [適格請求書発行事業者公表システム Web-API](https://www.invoice-kohyo.nta.go.jp/web-api/index.html)\n",
    "\n",
    "### CSV形式でデータをダウンロードする\n"
   ]
  },
  {
   "cell_type": "code",
   "execution_count": null,
   "metadata": {},
   "outputs": [],
   "source": [
    "nta_cols = [\"一連番号\", \"法人番号\", \"処理区分\", \"訂正区分\", \"更新年月日\", \"変更年月日\", \n",
    "    \"商号又は名称\", \"商号又は名称イメージID\", \"法人種別\", \"国内所在地（都道府県）\", \n",
    "    \"国内所在地（市区町村）\", \"国内所在地（丁目番地等）\", \"国内所在地イメージID\", \n",
    "    \"都道府県コード\", \"市区町村コード\", \"郵便番号\", \"国外所在地\", \"国外所在地イメージID\", \n",
    "    \"登記記録の閉鎖等年月日\", \"登記記録の閉鎖等の事由\", \"承継先法人番号\", \"変更事由の詳細\", \n",
    "    \"法人番号指定年月日\", \"最新履歴\",  \"商号又は名称（英語表記）\", \n",
    "    \"国内所在地（都道府県）(英語表記）\", \"国内所在地（市区町村丁目番地等）（英語表記）\", \n",
    "    \"国外所在地（英語表記）\", \"フリガナ\", \"検索対象除外\"]"
   ]
  },
  {
   "cell_type": "code",
   "execution_count": null,
   "metadata": {},
   "outputs": [],
   "source": [
    "%%time\n",
    "nta_ymd = \"20250731\"  # ここを変更。なおディレクトリ内に複数日付ファイルがなければ空白文字列\"\"も可\n",
    "csv_files = list(data_path.glob(f\"13_tokyo_all_{nta_ymd}*.csv\"))\n",
    "dfs = []\n",
    "for file in csv_files:\n",
    "    df = pd.read_csv(file, names=nta_cols, encoding=\"shift_jis\")\n",
    "    dfs.append(df)\n",
    "nta_df = pd.concat(dfs)\n",
    "nta_df.shape"
   ]
  },
  {
   "cell_type": "code",
   "execution_count": null,
   "metadata": {},
   "outputs": [],
   "source": [
    "nta_cond = nta_df[\"検索対象除外\"] == 0\n",
    "nta_cond &= nta_df[\"登記記録の閉鎖等年月日\"].isna()\n",
    "houjin_df = nta_df[nta_cond]\n",
    "houjin_df[\"法人種別\"].value_counts().sort_index()"
   ]
  },
  {
   "cell_type": "code",
   "execution_count": null,
   "metadata": {},
   "outputs": [],
   "source": [
    "kaisha_cond = houjin_df[\"法人種別\"].isin([301, 302, 303, 304, 305])\n",
    "kaisha_df = houjin_df[kaisha_cond]\n",
    "kaisha_df[\"国内所在地（市区町村）\"].value_counts().nlargest(20)"
   ]
  },
  {
   "cell_type": "markdown",
   "metadata": {},
   "source": [
    "### Web-APIでデータを取得する\n",
    "\n",
    "- [アプリケーションID 発行届出フォーム](https://www.houjin-bangou.nta.go.jp/webapi/#web-api02)\n"
   ]
  },
  {
   "cell_type": "code",
   "execution_count": null,
   "metadata": {},
   "outputs": [],
   "source": [
    "nta_appid = os.getenv(\"NTA_APP_ID\")  # 取得したアプリケーションIDを指定\n",
    "houjin_url = \"https://api.houjin-bangou.nta.go.jp/4/num\"  # バージョン4を利用\n",
    "houjn_params = {\n",
    "    \"id\": nta_appid,\n",
    "    \"number\": \"6011101063359\",\n",
    "    \"type\": \"02\",\n",
    "}\n",
    "houjin_res = requests.get(houjin_url, params=houjn_params)\n",
    "houjin_data_text = houjin_res.text\n",
    "houjin_data_text"
   ]
  },
  {
   "cell_type": "code",
   "execution_count": null,
   "metadata": {},
   "outputs": [],
   "source": [
    "nta_apidata = pd.read_csv(StringIO(houjin_data_text.split(\"\\n\")[1]), names=nta_cols)\n",
    "nta_apidata.T.head(10)"
   ]
  },
  {
   "cell_type": "markdown",
   "metadata": {},
   "source": [
    "## 経済産業省のgBizINFO\n",
    "\n",
    "- [gBizINFO](https://info.gbiz.go.jp/)\n",
    "- [gBizINFO の出典元](https://info.gbiz.go.jp/resource/index.html)\n",
    "- [特許情報プラットフォーム](https://www.j-platpat.inpit.go.jp/)\n",
    "- [職場情報総合サイト](https://shokuba.mhlw.go.jp/)\n",
    "- [法人活動情報 データダウンロード（情報種別）](https://info.gbiz.go.jp/hojin/DownloadTop)\n",
    "- [gBizINFO 情報提供REST API](https://info.gbiz.go.jp/api/index.html)\n",
    "- [次期gBizINFO に関する情報ページ](https://info.gbiz.go.jp/html/R7Infomation.html)\n",
    "\n",
    "### CSV形式でデータをダウンロードする\n"
   ]
  },
  {
   "cell_type": "code",
   "execution_count": null,
   "metadata": {},
   "outputs": [],
   "source": [
    "%%time\n",
    "gbiz_ymd = \"20250801\"  # ここを変更\n",
    "gbizdata = pd.read_csv(data_path / f\"Kihonjoho_SJIS_{gbiz_ymd}.zip\", encoding=\"shift-jis\")"
   ]
  },
  {
   "cell_type": "code",
   "execution_count": null,
   "metadata": {},
   "outputs": [],
   "source": [
    "gbizdata.columns"
   ]
  },
  {
   "cell_type": "code",
   "execution_count": null,
   "metadata": {},
   "outputs": [],
   "source": [
    "int((gbizdata[\"ステータス\"] != \"閉鎖\").sum())"
   ]
  },
  {
   "cell_type": "code",
   "execution_count": null,
   "metadata": {},
   "outputs": [],
   "source": [
    "gdf = gbizdata.merge(kaisha_df[[\"法人番号\", \"商号又は名称\"]], on=\"法人番号\", how=\"inner\")\n",
    "gdf.shape"
   ]
  },
  {
   "cell_type": "code",
   "execution_count": null,
   "metadata": {},
   "outputs": [],
   "source": [
    "int(gdf[\"従業員数\"].count())"
   ]
  },
  {
   "cell_type": "code",
   "execution_count": null,
   "metadata": {},
   "outputs": [],
   "source": [
    "gdf[[\"法人名\", \"商号又は名称\", \"本社所在地\", \"従業員数\"]].nlargest(5, \"従業員数\")"
   ]
  },
  {
   "cell_type": "code",
   "execution_count": null,
   "metadata": {},
   "outputs": [],
   "source": [
    "gbiz_fig = px.histogram(gdf[\"従業員数\"].apply(np.log10), x=\"従業員数\", nbins=50)\n",
    "gbiz_fig.update_layout(width=800, height=500, font={\"size\": 18},\n",
    "    xaxis_title=\"従業員数の対数 (log10)\",\n",
    "    yaxis={\n",
    "        \"tickformat\": \",.0f\",\n",
    "        \"title\": \"東京の会社数\"\n",
    "    }\n",
    ")\n",
    "gbiz_fig.show()"
   ]
  },
  {
   "cell_type": "markdown",
   "metadata": {},
   "source": [
    "### 【コードのみ】2章のサンプルデータ作成"
   ]
  },
  {
   "cell_type": "code",
   "execution_count": null,
   "metadata": {},
   "outputs": [],
   "source": [
    "sample_cols = ['法人番号', '法人名', '郵便番号', '本社所在地', '資本金', '従業員数', '設立年月日', '創業年', '最終更新日']\n",
    "gdf = gdf.assign(**{\n",
    "    '設立年月日': pd.to_datetime(gdf['設立年月日']),\n",
    "    '最終更新日': pd.to_datetime(gdf['最終更新日']),\n",
    "})\n",
    "cond = gdf['設立年月日'] >= \"2012-05-18\"\n",
    "cond &= gdf['設立年月日'] <= \"2017-09-29\"\n",
    "sample_data = gdf.loc[cond, sample_cols].sort_values(\"設立年月日\").reset_index(drop=True)\n",
    "#sample_data.to_csv((current_dir / \"data\" / \"ch02\").resolve() / \"法人データ.csv\", index=False, encoding=\"utf-8\")\n",
    "sample_data"
   ]
  },
  {
   "cell_type": "markdown",
   "metadata": {},
   "source": [
    "### 【コードのみ】12章のサンプルデータ作成"
   ]
  },
  {
   "cell_type": "code",
   "execution_count": null,
   "metadata": {},
   "outputs": [],
   "source": [
    "usecols = [\"法人番号\", \"法人名\", \"郵便番号\", \"本社所在地\",\"ステータス\", \"設立年月日\", \"創業年\", \"最終更新日\"]\n",
    "csv_df = gbizdata[usecols].assign(**{\n",
    "    \"設立年月日\": lambda df: pd.to_datetime(df[\"設立年月日\"]),\n",
    "    \"最終更新日\": lambda df: pd.to_datetime(df[\"最終更新日\"])\n",
    "})\n",
    "trans_map = {\n",
    "    \"法人番号\": \"corporate_number\", \"法人名\": \"name\",\n",
    "    \"本社所在地\": \"location\", \"郵便番号\": \"postal_code\",\n",
    "    \"ステータス\": \"status\", \"最終更新日\": \"update_date\"\n",
    "}\n",
    "required_cols = list(trans_map.keys()) + [\"founded_year\"]\n",
    "founded_year_combined = csv_df[\"設立年月日\"].dt.year.fillna(csv_df[\"創業年\"]).astype(\"Int64\")\n",
    "founded_from_2019 = (csv_df[\"設立年月日\"].dt.year >= 2019) | (csv_df[\"創業年\"] >= 2019)\n",
    "founded_until_2023 = (csv_df[\"設立年月日\"].dt.year < 2024) | (csv_df[\"創業年\"] < 2024)\n",
    "gbiz_merged_df = (gbizdata\n",
    "    .assign(**{\"founded_year\": founded_year_combined})\n",
    "    .loc[csv_df[\"法人名\"].notna() &\n",
    "        founded_from_2019 & founded_until_2023 &\n",
    "        (founded_year_combined.isna() | (founded_year_combined >= 2019)),\n",
    "        required_cols]\n",
    "    .rename(columns=trans_map)\n",
    ")\n",
    "#gbiz_merged_df.to_csv(data_path / \"gbiz_startup_df.csv\", index=False)\n",
    "gbiz_merged_df.shape"
   ]
  },
  {
   "cell_type": "markdown",
   "metadata": {},
   "source": [
    "### REST APIを利用する\n",
    "\n",
    "- [gBizINFO REST API 仕様書](https://info.gbiz.go.jp/hojin/swagger-ui/index.html#/gBizINFO%20REST%20API/searchInfo)\n"
   ]
  },
  {
   "cell_type": "code",
   "execution_count": null,
   "metadata": {},
   "outputs": [],
   "source": [
    "headers_gbiz = {\"Accept\": \"application/json\", \"X-hojinInfo-api-token\": api_token}\n",
    "url_hojin = \"https://info.gbiz.go.jp/hojin/v1/hojin\"\n",
    "params_hojin = {\n",
    "    \"corporate_type\": \"301\",  # 株式会社\n",
    "    \"prefecture\": \"13\",  # 東京\n",
    "    \"founded_year\": \",\".join(str(y) for y in range(2010, 2025)),  # 創業年\n",
    "    \"year\": \"2023\",  # 年度\n",
    "    \"limit\": \"5000\",  # デフォルトは1000\n",
    "}\n",
    "res_hojin = requests.get(url_hojin, params=params_hojin, headers=headers_gbiz)\n",
    "hojin_json = res_hojin.json()\n",
    "hojin_json.keys()"
   ]
  },
  {
   "cell_type": "code",
   "execution_count": null,
   "metadata": {},
   "outputs": [],
   "source": [
    "hojin_infos = pd.json_normalize(hojin_json, record_path=[\"hojin-infos\"])\n",
    "hojin_infos.columns"
   ]
  },
  {
   "cell_type": "code",
   "execution_count": null,
   "metadata": {},
   "outputs": [],
   "source": [
    "hojin_infos.head()"
   ]
  },
  {
   "cell_type": "markdown",
   "metadata": {},
   "source": []
  }
 ],
 "metadata": {
  "kernelspec": {
   "display_name": "Python 3 (ipykernel)",
   "language": "python",
   "name": "python3"
  },
  "language_info": {
   "codemirror_mode": {
    "name": "ipython",
    "version": 3
   },
   "file_extension": ".py",
   "mimetype": "text/x-python",
   "name": "python",
   "nbconvert_exporter": "python",
   "pygments_lexer": "ipython3",
   "version": "3.12.10"
  },
  "widgets": {
   "application/vnd.jupyter.widget-state+json": {
    "state": {},
    "version_major": 2,
    "version_minor": 0
   }
  }
 },
 "nbformat": 4,
 "nbformat_minor": 4
}
