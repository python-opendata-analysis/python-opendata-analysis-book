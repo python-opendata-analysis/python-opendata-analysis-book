{
 "cells": [
  {
   "cell_type": "markdown",
   "metadata": {},
   "source": [
    "# データの可視化とPlotly\n",
    "\n",
    "- [Matplotlib](https://matplotlib.org/)\n",
    "- [seaborn](https://seaborn.pydata.org/)\n",
    "- [Bokeh](https://bokeh.org/)\n",
    "- [Plotly.py](https://plotly.com/python/)\n",
    "- [Plotly Express](https://plotly.com/python/plotly-express/)\n",
    "\n",
    "## Plotly.pyとPlotly Express\n"
   ]
  },
  {
   "cell_type": "code",
   "execution_count": null,
   "metadata": {},
   "outputs": [],
   "source": [
    "import pandas as pd\n",
    "plot_df = pd.DataFrame(\n",
    "    data=[[4, 2], [1, 3]], \n",
    "    index=pd.Index([\"前期\", \"当期\"], name=\"期間\"), \n",
    "    columns=pd.Index([\"東京\", \"大阪\"], name=\"地域\")\n",
    ")\n",
    "plot_df"
   ]
  },
  {
   "cell_type": "code",
   "execution_count": null,
   "metadata": {},
   "outputs": [],
   "source": [
    "import plotly.graph_objects as go\n",
    "trace1 = go.Bar(x=plot_df.index, y=plot_df[\"東京\"], name=\"東京\")\n",
    "trace2 = go.Bar(x=plot_df.index, y=plot_df[\"大阪\"], name=\"大阪\")\n",
    "go_fig = go.Figure([trace1, trace2], layout=go.Layout(barmode=\"stack\"))\n",
    "go_fig.show()"
   ]
  },
  {
   "cell_type": "code",
   "execution_count": null,
   "metadata": {},
   "outputs": [],
   "source": [
    "tidy_df = pd.melt(\n",
    "    plot_df.reset_index(), \n",
    "    id_vars=[\"期間\"], \n",
    "    value_vars=[\"東京\", \"大阪\"], \n",
    "    value_name=\"金額\"\n",
    ")\n",
    "tidy_df"
   ]
  },
  {
   "cell_type": "code",
   "execution_count": null,
   "metadata": {},
   "outputs": [],
   "source": [
    "import plotly.express as px\n",
    "ex_fig = px.bar(tidy_df, x=\"期間\", y=\"金額\", color=\"地域\")\n",
    "ex_fig.show()"
   ]
  },
  {
   "cell_type": "code",
   "execution_count": null,
   "metadata": {},
   "outputs": [],
   "source": [
    "ex_fig.write_html(\"bar_graph.html\")"
   ]
  },
  {
   "cell_type": "code",
   "execution_count": null,
   "metadata": {},
   "outputs": [],
   "source": [
    "#!pip install kaleido==0.2.1"
   ]
  },
  {
   "cell_type": "code",
   "execution_count": null,
   "metadata": {},
   "outputs": [],
   "source": [
    "#ex_fig.write_image(\"bar_graph.png\")"
   ]
  },
  {
   "cell_type": "markdown",
   "metadata": {},
   "source": [
    "## 構成割合の可視化\n"
   ]
  },
  {
   "cell_type": "code",
   "execution_count": null,
   "metadata": {},
   "outputs": [],
   "source": [
    "composition_df = pd.DataFrame(\n",
    "    [\n",
    "        [\"必要生活費\", \"衣類\", 20],\n",
    "        [\"必要生活費\", \"食費\", 30],\n",
    "        [\"必要生活費\", \"住居費\", 40],\n",
    "        [\"教養娯楽費\", \"教養\", 15],\n",
    "        [\"教養娯楽費\", \"趣味娯楽\", 20],\n",
    "    ],\n",
    "    columns=[\"大分類\", \"中分類\", \"金額\"]\n",
    ")"
   ]
  },
  {
   "cell_type": "markdown",
   "metadata": {},
   "source": [
    "### 円グラフとサンバーストグラフ\n"
   ]
  },
  {
   "cell_type": "code",
   "execution_count": null,
   "metadata": {},
   "outputs": [],
   "source": [
    "pie_fig = px.pie(composition_df, names=\"中分類\", values=\"金額\")\n",
    "pie_fig.update_traces(textinfo=\"label+percent\", textfont_size=20, showlegend=False)\n",
    "pie_fig.show()"
   ]
  },
  {
   "cell_type": "code",
   "execution_count": null,
   "metadata": {},
   "outputs": [],
   "source": [
    "sunburst_fig = px.sunburst(composition_df, path=[\"大分類\", \"中分類\"], values=\"金額\")\n",
    "sunburst_fig.update_traces(textinfo=\"label+value\", textfont_size=20)\n",
    "sunburst_fig.show()"
   ]
  },
  {
   "cell_type": "markdown",
   "metadata": {},
   "source": [
    "### ツリーマップ\n"
   ]
  },
  {
   "cell_type": "code",
   "execution_count": null,
   "metadata": {},
   "outputs": [],
   "source": [
    "treemap_fig = px.treemap(composition_df, path=[\"大分類\", \"中分類\"], values=\"金額\")\n",
    "treemap_fig.update_traces(textinfo=\"label+value\", textfont_size=20)\n",
    "treemap_fig.show()"
   ]
  },
  {
   "cell_type": "markdown",
   "metadata": {},
   "source": [
    "## 量の比較と推移の可視化\n"
   ]
  },
  {
   "cell_type": "code",
   "execution_count": null,
   "metadata": {},
   "outputs": [],
   "source": [
    "ts_df = pd.DataFrame(\n",
    "    [\n",
    "        [2020, \"必要生活費\", \"衣類\", 20],\n",
    "        [2020, \"必要生活費\", \"食費\", 30],\n",
    "        [2020, \"必要生活費\", \"住居費\", 35],\n",
    "        [2020, \"教養娯楽費\", \"教養\", 15],\n",
    "        [2020, \"教養娯楽費\", \"趣味娯楽\", 15],\n",
    "        [2021, \"必要生活費\", \"衣類\", 20],\n",
    "        [2021, \"必要生活費\", \"食費\", 40],\n",
    "        [2021, \"必要生活費\", \"住居費\", 35],\n",
    "        [2021, \"教養娯楽費\", \"教養\", 10],\n",
    "        [2021, \"教養娯楽費\", \"趣味娯楽\", 25],\n",
    "        [2022, \"必要生活費\", \"衣類\", 15],\n",
    "        [2022, \"必要生活費\", \"食費\", 25],\n",
    "        [2022, \"必要生活費\", \"住居費\", 40],\n",
    "        [2022, \"教養娯楽費\", \"教養\", 15],\n",
    "        [2022, \"教養娯楽費\", \"趣味娯楽\", 30],\n",
    "    ],\n",
    "    columns=[\"年\", \"大分類\", \"中分類\", \"金額\"]\n",
    ").assign(**{\"日付\": lambda df: pd.to_datetime(df[\"年\"], format=\"%Y\")})"
   ]
  },
  {
   "cell_type": "markdown",
   "metadata": {},
   "source": [
    "### 棒グラフ\n"
   ]
  },
  {
   "cell_type": "code",
   "execution_count": null,
   "metadata": {},
   "outputs": [],
   "source": [
    "bar_fig = px.bar(ts_df, x=\"年\", y=\"金額\", color=\"中分類\")\n",
    "bar_fig.update_layout(xaxis={\"dtick\": 1})\n",
    "bar_fig.show()"
   ]
  },
  {
   "cell_type": "code",
   "execution_count": null,
   "metadata": {},
   "outputs": [],
   "source": [
    "groupbar_fig = px.bar(ts_df, x=\"日付\", y=\"金額\", color=\"大分類\", barmode=\"group\")\n",
    "groupbar_fig.update_layout(xaxis={\"dtick\": \"M12\", \"tickformat\": \"%Y\", \"ticksuffix\": \"年\"})\n",
    "groupbar_fig.show()"
   ]
  },
  {
   "cell_type": "markdown",
   "metadata": {},
   "source": [
    "### 折れ線グラフ\n"
   ]
  },
  {
   "cell_type": "code",
   "execution_count": null,
   "metadata": {},
   "outputs": [],
   "source": [
    "line_fig = px.line(ts_df, x=\"日付\", y=\"金額\", color=\"中分類\", markers=True)\n",
    "line_fig.show()"
   ]
  },
  {
   "cell_type": "markdown",
   "metadata": {},
   "source": [
    "## 構成割合の推移の可視化\n",
    "\n",
    "### エリアチャート\n"
   ]
  },
  {
   "cell_type": "code",
   "execution_count": null,
   "metadata": {},
   "outputs": [],
   "source": [
    "area_fig = px.area(ts_df, x=\"日付\", y=\"金額\", color=\"中分類\")\n",
    "area_fig.show()"
   ]
  },
  {
   "cell_type": "markdown",
   "metadata": {},
   "source": [
    "### その他の構成割合の推移の可視化\n",
    "\n",
    "## レイアウトとグラフの組み合わせ\n",
    "\n",
    "### Plotly Expressのカラースケール\n"
   ]
  },
  {
   "cell_type": "code",
   "execution_count": null,
   "metadata": {},
   "outputs": [],
   "source": [
    "px.colors.qualitative.Plotly"
   ]
  },
  {
   "cell_type": "code",
   "execution_count": null,
   "metadata": {},
   "outputs": [],
   "source": [
    "color_fig = px.colors.qualitative.swatches()\n",
    "color_fig.show()"
   ]
  },
  {
   "cell_type": "code",
   "execution_count": null,
   "metadata": {},
   "outputs": [],
   "source": [
    "px.colors.qualitative.Alphabet"
   ]
  },
  {
   "cell_type": "markdown",
   "metadata": {},
   "source": [
    "### グラフの組み合わせ\n"
   ]
  },
  {
   "cell_type": "code",
   "execution_count": null,
   "metadata": {},
   "outputs": [],
   "source": [
    "fig2 = go.Figure()\n",
    "for cat in ts_df[\"大分類\"].unique():\n",
    "    tmp_df = ts_df.loc[\n",
    "        ts_df[\"大分類\"]==cat, [\"日付\", \"金額\"]\n",
    "    ].groupby(\"日付\").sum().reset_index()\n",
    "    # add_traceメソッドで各大分類ごとに描画領域に折れ線グラフを追加\n",
    "    fig2.add_trace(go.Scatter(\n",
    "        x=tmp_df[\"日付\"], \n",
    "        y=tmp_df[\"金額\"], \n",
    "        name=cat, \n",
    "        mode=\"lines+markers\",  # 折れ線グラフにマーカー(点)を表示\n",
    "        line={\"width\": 4, \"dash\": \"dash\"},  # 線の幅と形状を設定\n",
    "        marker={\"size\": 15, \"symbol\": \"diamond\"},  # マーカーのサイズと形状を設定\n",
    "        yaxis=\"y1\",  # y軸(縦軸)の1軸目を使用\n",
    "    ))\n",
    "total_df = ts_df[[\"日付\", \"金額\"]].groupby(\"日付\").sum().reset_index()\n",
    "# 各年の総計を棒グラフとして追加\n",
    "fig2.add_trace(go.Bar(\n",
    "    x=total_df[\"日付\"], \n",
    "    y=total_df[\"金額\"], \n",
    "    name=\"総計\", \n",
    "    yaxis=\"y2\",  # y軸(縦軸)の2軸目を使用\n",
    "    opacity=0.6,  # 不透明度を0.6に設定\n",
    "))\n",
    "# レイアウトを更新\n",
    "fig2.update_layout(\n",
    "    width=1000,  # 描画領域の横幅を設定\n",
    "    height=500,  # 描画領域の縦幅を設定\n",
    "    font={\"size\": 14},  # フォントサイズを設定\n",
    "    xaxis={\n",
    "        \"dtick\": \"M12\",  # x軸(横軸)の目盛り間隔を12ヶ月に設定\n",
    "        \"tickformat\": \"%Y\",  # x軸(横軸)の目盛りの表示形式を設定\n",
    "        \"ticksuffix\": \"年\",  # x軸(横軸)の目盛りに単位を追加\n",
    "        \"title\": None,  # x軸(横軸)のタイトルを非表示\n",
    "    },\n",
    "    yaxis={\n",
    "        \"title\": \"大分類の金額\", \n",
    "        \"side\": \"left\",  # y軸(縦軸)の1軸目を左側に設定\n",
    "    },\n",
    "    yaxis2={\n",
    "        \"ticksuffix\": \"円\",  # y軸(縦軸)の2軸目の目盛りに単位を追加\n",
    "        \"title\": \"総計の金額\", \n",
    "        \"side\": \"right\",  # y軸(縦軸)の2軸目を右側に設定\n",
    "        \"overlaying\": \"y\",  # y軸(縦軸)の2軸目をy軸(縦軸)の1軸目に重ねて表示  \n",
    "    }, \n",
    "    legend={\"x\": 1.1},  # 凡例の位置を右寄りに設定\n",
    "    legend_title_text=\"支出\",  # 凡例のタイトルを設定\n",
    "    title={\n",
    "        \"text\": \"年ごとの支出\", \n",
    "        \"x\": 0.5,  # タイトルの位置を中央に設定\n",
    "    },\n",
    ") \n",
    "fig2.show()"
   ]
  },
  {
   "cell_type": "markdown",
   "metadata": {},
   "source": [
    "### サブプロット\n"
   ]
  },
  {
   "cell_type": "code",
   "execution_count": null,
   "metadata": {},
   "outputs": [],
   "source": [
    "from plotly.subplots import make_subplots\n",
    "# 1行2列の描画領域を用意\n",
    "subplot_fig = make_subplots(rows=1, cols=2, subplot_titles=(\"棒グラフ\", \"折れ線グラフ\"))\n",
    "# 棒グラフに設定するカラーと模様を用意\n",
    "colors_pattern = px.colors.qualitative.Pastel1\n",
    "shape_pattern = \"/.+x\\\\\"\n",
    "# 棒グラフの追加\n",
    "bar_data = ts_df.loc[ts_df[\"年\"] == 2022, [\"中分類\", \"金額\"]]\n",
    "for n, cat in enumerate(bar_data[\"中分類\"]):\n",
    "    tmp_df = bar_data[bar_data[\"中分類\"]==cat]\n",
    "    # add_traceメソッドで中分類ごとに色や模様の異なる棒グラフを追加\n",
    "    subplot_fig.add_trace(\n",
    "        go.Bar(\n",
    "            x=tmp_df[\"中分類\"], \n",
    "            y=tmp_df[\"金額\"], \n",
    "            name=cat, \n",
    "            texttemplate=\"%{y}万円\",  # texttemplateでy軸の金額を棒グラフ中に表示\n",
    "            textfont_size=15,  # フォントサイズを設定\n",
    "            textposition=\"inside\",  # 棒グラフの内側に表示\n",
    "            marker_color=colors_pattern[n],  # 棒グラフの色を設定\n",
    "            marker_pattern_shape=shape_pattern[n],  # 棒グラフの模様を設定\n",
    "        ), \n",
    "        row=1,  # 1行目の描画領域に表示\n",
    "        col=1,  # 1列目の描画領域に表示\n",
    "    )\n",
    "# 折れ線グラフの追加\n",
    "line_data = ts_df.pivot_table(index=\"日付\", columns=\"大分類\", values=\"金額\", aggfunc=\"sum\")\n",
    "for col in line_data:\n",
    "    # add_traceメソッドで大分類ごとに折れ線グラフを追加\n",
    "    subplot_fig.add_trace(\n",
    "        go.Scatter(\n",
    "            x=line_data.index,\n",
    "            y=line_data[col], \n",
    "            name=col,\n",
    "            mode=\"lines+markers\",  # 折れ線グラフにマーカー(点)を表示\n",
    "        ),\n",
    "        row=1,  # 1行目の描画領域に表示 \n",
    "        col=2,  # 2列目の描画領域に表示\n",
    "    )\n",
    "# グラフのレイアウトを更新\n",
    "subplot_fig.update_layout(\n",
    "    width=1000, \n",
    "    height=400,\n",
    "    legend={\n",
    "        \"orientation\": \"h\",  # \"h\" は水平（horizontal）を意味し、凡例の項目が水平方向に並ぶ\n",
    "        \"x\": 0.5,  # 0.5 はグラフの水平方向の中央\n",
    "        \"y\": -0.5,  # -0.5 は、グラフ領域外の下部（グラフの下端からさらに10%下）に凡例を配置\n",
    "        \"xanchor\": \"center\",  # 凡例の中央が x で指定された位置に配置\n",
    "        \"yanchor\": \"top\",  # 凡例の上端が y で指定された位置に配置\n",
    "    },\n",
    ")\n",
    "# x軸(横軸)の設定\n",
    "subplot_fig.update_xaxes(\n",
    "    tickformat=\"%Y/%m\",  # x軸(横軸)の目盛りの表示形式を設定\n",
    "    tickangle=45,  # x軸(横軸)の目盛りを45度傾けて表示\n",
    ")\n",
    "subplot_fig.show()"
   ]
  },
  {
   "cell_type": "markdown",
   "metadata": {},
   "source": [
    "## 分布の可視化\n"
   ]
  },
  {
   "cell_type": "code",
   "execution_count": null,
   "metadata": {},
   "outputs": [],
   "source": [
    "df = pd.DataFrame([\n",
    "    [\"いちごストア株式会社\", \"A4491\", \"上場\", \"小売業\", 50, 250],\n",
    "    [\"メガハード株式会社\", \"A3547\", \"上場\", \"製造業\", 50, 300],\n",
    "    [\"百聞半導体株式会社\", \"A2704\", \"上場\", \"製造業\", 20, 180],\n",
    "    [\"五十音サーチ株式会社\", \"A8008\", \"上場\", \"小売業\", 30, 200],\n",
    "    [\"利根川通販株式会社\", \"A4342\", \"上場\", \"小売業\", 100, 240],\n",
    "    [\"超手本株式会社\", \"A3674\", \"上場\", \"サービス業\", 20, 150],\n",
    "    [\"源内自動車株式会社\", \"A7514\", \"非上場\", \"製造業\", 10, 100],\n",
    "    [\"クローズサピエンス合同会社\", \"A0941\", \"非上場\", \"サービス業\", None, 120],\n",
    "    [\"富価自動車株式会社\", \"J7203\", \"上場\", \"製造業\", 60, 120],\n",
    "    [\"ハード通信株式会社\", \"J9984\", \"上場\", \"サービス業\", 15, 50],\n",
    "    [\"株式会社財前\", \"J3994\", \"非上場\", \"サービス業\", None, 30]\n",
    "    ], columns=[\"会社名\", \"会社コード\", \"上場区分\", \"業種\", \"従業員数\", \"資本金\"]\n",
    ")"
   ]
  },
  {
   "cell_type": "markdown",
   "metadata": {},
   "source": [
    "### ヒストグラム\n"
   ]
  },
  {
   "cell_type": "code",
   "execution_count": null,
   "metadata": {},
   "outputs": [],
   "source": [
    "hist_fig = px.histogram(df, x=\"資本金\")\n",
    "hist_fig.show()"
   ]
  },
  {
   "cell_type": "markdown",
   "metadata": {},
   "source": [
    "### 箱ひげ図とバイオリン図\n"
   ]
  },
  {
   "cell_type": "code",
   "execution_count": null,
   "metadata": {},
   "outputs": [],
   "source": [
    "box_fig = px.box(df, x=\"上場区分\", y=\"資本金\")\n",
    "box_fig.show()"
   ]
  },
  {
   "cell_type": "code",
   "execution_count": null,
   "metadata": {},
   "outputs": [],
   "source": [
    "violin_fig = px.violin(df, x=\"上場区分\", y=\"資本金\", box=True, points=\"all\")\n",
    "violin_fig.show()"
   ]
  },
  {
   "cell_type": "markdown",
   "metadata": {},
   "source": [
    "## 関係性の可視化\n",
    "\n",
    "### 散布図\n"
   ]
  },
  {
   "cell_type": "code",
   "execution_count": null,
   "metadata": {},
   "outputs": [],
   "source": [
    "scatter_fig = px.scatter(df, x=\"資本金\", y=\"従業員数\", color=\"上場区分\")\n",
    "scatter_fig.show()"
   ]
  },
  {
   "cell_type": "markdown",
   "metadata": {},
   "source": [
    "### ヒートマップ\n"
   ]
  },
  {
   "cell_type": "code",
   "execution_count": null,
   "metadata": {},
   "outputs": [],
   "source": [
    "# 等間隔離散化で区分を用意\n",
    "df = df.assign(**{\n",
    "    \"従業員数区分\": pd.cut(df[\"従業員数\"], bins=3),\n",
    "    \"資本金区分\": pd.cut(df[\"資本金\"], bins=3)\n",
    "})\n",
    "# 各区分の件数をクロス集計でカウント\n",
    "cols = [\"従業員数区分\", \"資本金区分\"]\n",
    "crosstab = df[cols].pivot_table(\n",
    "    index=\"従業員数区分\", \n",
    "    columns=\"資本金区分\", \n",
    "    aggfunc=\"size\", \n",
    "    observed=False\n",
    ").sort_index(ascending=False)\n",
    "crosstab"
   ]
  },
  {
   "cell_type": "code",
   "execution_count": null,
   "metadata": {},
   "outputs": [],
   "source": [
    "im_fig = px.imshow(\n",
    "    crosstab.values,\n",
    "    x=[str(i) for i in crosstab.columns],  # 従業員数区分を文字列型に変換\n",
    "    y=[str(i) for i in crosstab.index],  # 資本金区分を文字列型に変換\n",
    "    labels={\"x\": crosstab.columns.name, \"y\": crosstab.index.name},\n",
    "    text_auto=True  # 区分ごと件数の表示\n",
    ")\n",
    "im_fig.show()"
   ]
  },
  {
   "cell_type": "markdown",
   "metadata": {},
   "source": [
    "### バブルチャート\n"
   ]
  },
  {
   "cell_type": "code",
   "execution_count": null,
   "metadata": {},
   "outputs": [],
   "source": [
    "gapminder_data = px.data.gapminder()\n",
    "gapminder_df = gapminder_data[gapminder_data[\"year\"]==2007]\n",
    "gapminder_df.head()"
   ]
  },
  {
   "cell_type": "code",
   "execution_count": null,
   "metadata": {},
   "outputs": [],
   "source": [
    "bubble_fig = px.scatter(gapminder_df,\n",
    "    x=\"gdpPercap\",\n",
    "    y=\"lifeExp\",\n",
    "    size=\"pop\",\n",
    "    color=\"continent\",\n",
    "    log_x=True,\n",
    "    size_max=60\n",
    ")\n",
    "bubble_fig.show()"
   ]
  },
  {
   "cell_type": "markdown",
   "metadata": {},
   "source": [
    "## 地図・金融等の特定分野の可視化\n"
   ]
  },
  {
   "cell_type": "code",
   "execution_count": null,
   "metadata": {},
   "outputs": [],
   "source": []
  }
 ],
 "metadata": {
  "kernelspec": {
   "display_name": "Python 3 (ipykernel)",
   "language": "python",
   "name": "python3"
  },
  "language_info": {
   "codemirror_mode": {
    "name": "ipython",
    "version": 3
   },
   "file_extension": ".py",
   "mimetype": "text/x-python",
   "name": "python",
   "nbconvert_exporter": "python",
   "pygments_lexer": "ipython3",
   "version": "3.12.10"
  },
  "widgets": {
   "application/vnd.jupyter.widget-state+json": {
    "state": {},
    "version_major": 2,
    "version_minor": 0
   }
  }
 },
 "nbformat": 4,
 "nbformat_minor": 4
}
